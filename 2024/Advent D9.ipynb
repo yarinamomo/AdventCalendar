{
 "cells": [
  {
   "cell_type": "markdown",
   "id": "22f06383",
   "metadata": {},
   "source": [
    "### Jul AdventKalender D9\n",
    "\n",
    "https://adventofcode.com/2024/day/9"
   ]
  },
  {
   "cell_type": "markdown",
   "id": "f1695325",
   "metadata": {},
   "source": [
    "#### Part 1"
   ]
  },
  {
   "cell_type": "code",
   "execution_count": 1,
   "id": "1f9ab90c",
   "metadata": {},
   "outputs": [],
   "source": [
    "import numpy as np\n",
    "\n",
    "def read_input():\n",
    "    input_file_path = \"data/input9.txt\"\n",
    "    text_file = []\n",
    "    def process_line(line):\n",
    "        text_file.append(list(map(int,line.strip())))\n",
    "\n",
    "    with open(input_file_path, 'r') as file:\n",
    "        for line in file:\n",
    "            process_line(line)\n",
    "    return text_file[0]\n",
    "\n",
    "file_free_id = -1"
   ]
  },
  {
   "cell_type": "code",
   "execution_count": 2,
   "id": "decad278",
   "metadata": {},
   "outputs": [
    {
     "data": {
      "text/plain": [
       "6430446922192"
      ]
     },
     "execution_count": 2,
     "metadata": {},
     "output_type": "execute_result"
    }
   ],
   "source": [
    "def convert_to_blocks(file_id, repeat_times):\n",
    "    return [file_id]*repeat_times\n",
    "\n",
    "def convert(text_file):\n",
    "    global file_free_id\n",
    "    file_id = 0\n",
    "    block_or_free_id = 0\n",
    "    res = []\n",
    "    for repeat_times in text_file:\n",
    "        if block_or_free_id == 0: # 0 block, 1 free\n",
    "            file_id_cur = file_id\n",
    "            file_id += 1\n",
    "            block_or_free_id = 1\n",
    "        else:\n",
    "            file_id_cur = file_free_id\n",
    "            block_or_free_id = 0\n",
    "        res.extend(convert_to_blocks(file_id_cur, repeat_times))\n",
    "    return res\n",
    "\n",
    "def move(converted_blocks):\n",
    "    global file_free_id\n",
    "    \n",
    "    def if_move(file_pos):\n",
    "        for a in range(0, file_pos):\n",
    "            if converted_blocks[a] == file_free_id:\n",
    "                return True\n",
    "        return False\n",
    "            \n",
    "    def move_block(file_id, file_pos):\n",
    "        for j in range(len(converted_blocks)):\n",
    "            if converted_blocks[j] == file_free_id:\n",
    "                converted_blocks[j] = file_id\n",
    "                converted_blocks[file_pos] = file_free_id\n",
    "                return\n",
    "\n",
    "    for i in range(len(converted_blocks)-1, -1, -1):\n",
    "        if converted_blocks[i] != file_free_id:\n",
    "            if if_move(i):\n",
    "                move_block(converted_blocks[i], i)\n",
    "\n",
    "text_file = read_input()\n",
    "converted_blocks = convert(text_file)\n",
    "move(converted_blocks)\n",
    "total_count = 0\n",
    "for i in range(len(converted_blocks)):\n",
    "    if converted_blocks[i] != file_free_id:\n",
    "        total_count += i*converted_blocks[i]\n",
    "total_count"
   ]
  },
  {
   "cell_type": "markdown",
   "id": "f74d1f86",
   "metadata": {},
   "source": [
    "#### Part 2"
   ]
  },
  {
   "cell_type": "code",
   "execution_count": 3,
   "id": "719d4c45",
   "metadata": {},
   "outputs": [
    {
     "data": {
      "text/plain": [
       "6460170593016"
      ]
     },
     "execution_count": 3,
     "metadata": {},
     "output_type": "execute_result"
    }
   ],
   "source": [
    "disk_map = read_input()\n",
    "\n",
    "blocks = [] # similar to part 1 but keep tracking file_id (file blocks)\n",
    "file_id = 0\n",
    "i = 0\n",
    "\n",
    "while i < len(disk_map):\n",
    "    if i % 2 == 0:  # file blocks\n",
    "        blocks.extend([file_id] * disk_map[i])\n",
    "        file_id += 1\n",
    "    else:  # free space\n",
    "        blocks.extend([file_free_id] * disk_map[i])\n",
    "    i += 1\n",
    "\n",
    "def find_space(size):\n",
    "    free_start = -1\n",
    "    free_count = 0\n",
    "    for i, block in enumerate(blocks):\n",
    "        if block == file_free_id:\n",
    "            if free_start == -1:\n",
    "                free_start = i\n",
    "            free_count += 1\n",
    "            if free_count == size:\n",
    "                return free_start\n",
    "        else:\n",
    "            free_start = -1\n",
    "            free_count = 0\n",
    "    return -1\n",
    "\n",
    "for file_id in reversed(range(file_id)):\n",
    "    file_positions = [i for i, block in enumerate(blocks) if block == file_id]\n",
    "    if not file_positions:\n",
    "        continue\n",
    "    file_size = len(file_positions)\n",
    "\n",
    "    space_start = find_space(file_size)\n",
    "    if space_start != -1 and space_start < file_positions[0]:\n",
    "        for pos in file_positions:\n",
    "            blocks[pos] = file_free_id\n",
    "        for i in range(file_size):\n",
    "            blocks[space_start + i] = file_id\n",
    "\n",
    "checksum = 0\n",
    "for pos, block in enumerate(blocks):\n",
    "    if block != file_free_id:\n",
    "        checksum += pos * block\n",
    "checksum"
   ]
  },
  {
   "cell_type": "code",
   "execution_count": null,
   "id": "5a1cb46d",
   "metadata": {},
   "outputs": [],
   "source": []
  }
 ],
 "metadata": {
  "kernelspec": {
   "display_name": "Python 3 (ipykernel)",
   "language": "python",
   "name": "python3"
  },
  "language_info": {
   "codemirror_mode": {
    "name": "ipython",
    "version": 3
   },
   "file_extension": ".py",
   "mimetype": "text/x-python",
   "name": "python",
   "nbconvert_exporter": "python",
   "pygments_lexer": "ipython3",
   "version": "3.11.5"
  }
 },
 "nbformat": 4,
 "nbformat_minor": 5
}
