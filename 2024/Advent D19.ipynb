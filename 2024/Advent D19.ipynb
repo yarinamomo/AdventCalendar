{
 "cells": [
  {
   "cell_type": "markdown",
   "id": "22f06383",
   "metadata": {},
   "source": [
    "### Jul AdventKalender D19\n",
    "\n",
    "https://adventofcode.com/2024/day/19"
   ]
  },
  {
   "cell_type": "markdown",
   "id": "f1695325",
   "metadata": {},
   "source": [
    "#### Part 1"
   ]
  },
  {
   "cell_type": "code",
   "execution_count": 1,
   "id": "1f9ab90c",
   "metadata": {},
   "outputs": [],
   "source": [
    "import numpy as np\n",
    "\n",
    "def read_file():\n",
    "    input_file_path = \"data/input19.txt\"\n",
    "    substrings = []\n",
    "    patterns = []\n",
    "    def process_line(line, if_upper):\n",
    "        nonlocal substrings\n",
    "        if if_upper:\n",
    "            substrings = [i.strip() for i in line.strip().split(\",\")]\n",
    "        else:\n",
    "            patterns.append(line.strip())\n",
    "\n",
    "    with open(input_file_path, 'r') as file:\n",
    "        if_upper = True\n",
    "        for line in file:\n",
    "            if not line.strip():\n",
    "                if_upper = False\n",
    "                continue\n",
    "            if if_upper:\n",
    "                process_line(line, True)\n",
    "            else:\n",
    "                process_line(line, False)\n",
    "    return substrings, patterns\n",
    "substrings, patterns = read_file()"
   ]
  },
  {
   "cell_type": "code",
   "execution_count": 2,
   "id": "decad278",
   "metadata": {},
   "outputs": [],
   "source": [
    "def pattern_matching(pattern_remaining):\n",
    "    if not pattern_remaining:\n",
    "        return True\n",
    "    for sub in substrings:\n",
    "        if pattern_remaining.startswith(sub):\n",
    "            if pattern_matching(pattern_remaining[len(sub):]):\n",
    "                return True\n",
    "    return False"
   ]
  },
  {
   "cell_type": "code",
   "execution_count": 3,
   "id": "28bea74b",
   "metadata": {},
   "outputs": [
    {
     "data": {
      "text/plain": [
       "216"
      ]
     },
     "execution_count": 3,
     "metadata": {},
     "output_type": "execute_result"
    }
   ],
   "source": [
    "total_matched = 0\n",
    "for pattern in patterns:\n",
    "    total_matched += pattern_matching(pattern)\n",
    "total_matched"
   ]
  },
  {
   "cell_type": "markdown",
   "id": "f74d1f86",
   "metadata": {},
   "source": [
    "#### Part 2"
   ]
  },
  {
   "cell_type": "code",
   "execution_count": 5,
   "id": "ee943d76",
   "metadata": {},
   "outputs": [
    {
     "data": {
      "text/plain": [
       "603191454138773"
      ]
     },
     "execution_count": 5,
     "metadata": {},
     "output_type": "execute_result"
    }
   ],
   "source": [
    "from functools import cache\n",
    "\n",
    "@cache\n",
    "def pattern_matching_count(pattern_remaining):\n",
    "    if not pattern_remaining:\n",
    "        return 1\n",
    "    count = 0\n",
    "    for sub in substrings:\n",
    "        if pattern_remaining.startswith(sub):\n",
    "            count += pattern_matching_count(pattern_remaining[len(sub):])\n",
    "    return count\n",
    "\n",
    "total_patterns = 0\n",
    "for pattern in patterns:\n",
    "    total_patterns += pattern_matching_count(pattern)\n",
    "total_patterns"
   ]
  },
  {
   "cell_type": "code",
   "execution_count": null,
   "id": "6d7e330c",
   "metadata": {},
   "outputs": [],
   "source": []
  }
 ],
 "metadata": {
  "kernelspec": {
   "display_name": "Python 3 (ipykernel)",
   "language": "python",
   "name": "python3"
  },
  "language_info": {
   "codemirror_mode": {
    "name": "ipython",
    "version": 3
   },
   "file_extension": ".py",
   "mimetype": "text/x-python",
   "name": "python",
   "nbconvert_exporter": "python",
   "pygments_lexer": "ipython3",
   "version": "3.11.5"
  }
 },
 "nbformat": 4,
 "nbformat_minor": 5
}
