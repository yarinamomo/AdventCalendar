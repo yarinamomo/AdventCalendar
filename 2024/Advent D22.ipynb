{
 "cells": [
  {
   "cell_type": "markdown",
   "id": "22f06383",
   "metadata": {},
   "source": [
    "### Jul AdventKalender D22\n",
    "\n",
    "https://adventofcode.com/2024/day/22"
   ]
  },
  {
   "cell_type": "markdown",
   "id": "f1695325",
   "metadata": {},
   "source": [
    "#### Part 1"
   ]
  },
  {
   "cell_type": "code",
   "execution_count": 75,
   "id": "1f9ab90c",
   "metadata": {},
   "outputs": [],
   "source": [
    "import numpy as np\n",
    "\n",
    "def read_file():\n",
    "    input_file_path = \"data/input22.txt\"\n",
    "    nums = []\n",
    "    def process_line(line):\n",
    "        nums.append(int(line.strip()))\n",
    "\n",
    "    with open(input_file_path, 'r') as file:\n",
    "        for line in file:\n",
    "            process_line(line)\n",
    "            \n",
    "    return nums\n",
    "\n",
    "nums = read_file()"
   ]
  },
  {
   "cell_type": "code",
   "execution_count": 76,
   "id": "9f816b86-f710-4e83-9b7f-8f92c40401cf",
   "metadata": {},
   "outputs": [],
   "source": [
    "from functools import cache\n",
    "\n",
    "def mix(num1, num2):\n",
    "    return num1 ^ num2\n",
    "def prune(num):\n",
    "    return num%16777216\n",
    "\n",
    "def process1(num):\n",
    "    return prune(mix(num*64, num))\n",
    "def process2(num):\n",
    "    return prune(mix(num//32, num))\n",
    "def process3(num):\n",
    "    return prune(mix(num*2048, num))\n",
    "\n",
    "# @cache\n",
    "def process(num, steps=2000):\n",
    "    res = []\n",
    "    res_i = process3(process2(process1(num)))\n",
    "    res.append(res_i)\n",
    "    for i in range(1, steps, 1):\n",
    "        res_i = process3(process2(process1(res_i)))\n",
    "        res.append(res_i)\n",
    "    return res"
   ]
  },
  {
   "cell_type": "code",
   "execution_count": 77,
   "id": "76d7d1d4-dc12-4755-8a2c-d2dbd38559aa",
   "metadata": {},
   "outputs": [
    {
     "data": {
      "text/plain": [
       "18525593556"
      ]
     },
     "execution_count": 77,
     "metadata": {},
     "output_type": "execute_result"
    }
   ],
   "source": [
    "total = []\n",
    "for secret in nums:\n",
    "    total.append(process(secret))\n",
    "sum([i[-1] for i in total])"
   ]
  },
  {
   "cell_type": "markdown",
   "id": "f74d1f86",
   "metadata": {},
   "source": [
    "#### Part 2"
   ]
  },
  {
   "cell_type": "code",
   "execution_count": 78,
   "id": "c3374621-ff55-4b66-bb4b-ff3c6d98ab1d",
   "metadata": {},
   "outputs": [
    {
     "data": {
      "text/plain": [
       "2089"
      ]
     },
     "execution_count": 78,
     "metadata": {},
     "output_type": "execute_result"
    }
   ],
   "source": [
    "steps = 2000\n",
    "# prices = []\n",
    "# prices_changes = []\n",
    "secrects_changes_pattens = [] # [secrect: {first_show_patterns: price_secret}]\n",
    "for si, secret in enumerate(total):\n",
    "    prices_secret = []\n",
    "    prices_change_secret = []\n",
    "    changes_pattens = {}\n",
    "    for i in range(steps):\n",
    "        prices_secret.append(secret[i]%10)\n",
    "        change_tmp = None\n",
    "        if i > 0:\n",
    "            change_tmp = prices_secret[i]-prices_secret[i-1]\n",
    "        prices_change_secret.append(change_tmp)\n",
    "\n",
    "        if i > 3:\n",
    "            pattern = str(prices_change_secret[(i-3):(i+1)])\n",
    "            if pattern not in changes_pattens:\n",
    "                changes_pattens[pattern] = prices_secret[i]\n",
    "    # prices.append(prices_secret)\n",
    "    # prices_changes.append(prices_change_secret)\n",
    "    secrects_changes_pattens.append(changes_pattens)\n",
    "\n",
    "total_changes_pattens = {}\n",
    "for changes_pattens in secrects_changes_pattens:\n",
    "    for pattern, price in changes_pattens.items():\n",
    "        if pattern not in total_changes_pattens:\n",
    "            total_changes_pattens[pattern] = 0\n",
    "        total_changes_pattens[pattern] += price\n",
    "\n",
    "max(total_changes_pattens.values())"
   ]
  },
  {
   "cell_type": "code",
   "execution_count": null,
   "id": "9592c80b-7fcc-45b7-855c-ad6d41fd7764",
   "metadata": {},
   "outputs": [],
   "source": []
  }
 ],
 "metadata": {
  "kernelspec": {
   "display_name": "Python 3 (ipykernel)",
   "language": "python",
   "name": "python3"
  },
  "language_info": {
   "codemirror_mode": {
    "name": "ipython",
    "version": 3
   },
   "file_extension": ".py",
   "mimetype": "text/x-python",
   "name": "python",
   "nbconvert_exporter": "python",
   "pygments_lexer": "ipython3",
   "version": "3.10.14"
  }
 },
 "nbformat": 4,
 "nbformat_minor": 5
}
