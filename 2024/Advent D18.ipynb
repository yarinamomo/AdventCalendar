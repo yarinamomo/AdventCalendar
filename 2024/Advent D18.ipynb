{
 "cells": [
  {
   "cell_type": "markdown",
   "id": "22f06383",
   "metadata": {},
   "source": [
    "### Jul AdventKalender D18\n",
    "\n",
    "https://adventofcode.com/2024/day/18"
   ]
  },
  {
   "cell_type": "markdown",
   "id": "f1695325",
   "metadata": {},
   "source": [
    "#### Part 1"
   ]
  },
  {
   "cell_type": "code",
   "execution_count": 67,
   "id": "1f9ab90c",
   "metadata": {},
   "outputs": [],
   "source": [
    "def read_file():\n",
    "    input_file_path = \"data/input18.txt\"\n",
    "    pos_list = []\n",
    "    def process_line(line):\n",
    "        pos_list.append(tuple([int(i) for i in line.strip().split(\",\")])[::-1])\n",
    "\n",
    "    with open(input_file_path, 'r') as file:\n",
    "        for line in file:\n",
    "            process_line(line)\n",
    "    return pos_list"
   ]
  },
  {
   "cell_type": "code",
   "execution_count": 60,
   "id": "decad278",
   "metadata": {},
   "outputs": [],
   "source": [
    "import heapq\n",
    "move = [(0, 1), (1, 0), (0, -1), (-1, 0)] # [move right, down, left, up]\n",
    "\n",
    "def is_valid_move(x, y):\n",
    "    global bytes_n\n",
    "    return 0 <= x < grid_len and 0 <= y < grid_len and ((x, y) not in pos_list[:bytes_n])\n",
    "\n",
    "def is_found_goal(x, y):\n",
    "    return x == pos_end[0] and y == pos_end[1]\n",
    "\n",
    "def Dijkstra_find_path():\n",
    "    visited = set() # pos=(x, y), move_direction\n",
    "\n",
    "    todolist = []\n",
    "    for direction_init in [0,1,2,3]:\n",
    "        if is_valid_move(pos_start[0] + move[direction_init][0], pos_start[1] + move[direction_init][1]):\n",
    "            todolist.append((0, pos_start, direction_init)) # todolist: cost, pos=(x, y), move_direction\n",
    "    \n",
    "    while(todolist):\n",
    "        cost, pos, direction = heapq.heappop(todolist) # pop the smallest item(smallest cost)\n",
    "        if (pos, direction) in visited:\n",
    "            continue\n",
    "        visited.add((pos, direction))\n",
    "        \n",
    "        if is_found_goal(pos[0], pos[1]):\n",
    "            return cost\n",
    "            \n",
    "        nx, ny = pos[0] + move[direction][0], pos[1] + move[direction][1]\n",
    "        if is_valid_move(nx, ny):\n",
    "#             print(nx, ny)\n",
    "            new_cost = cost + 1 # for moving forward\n",
    "            for direction_prepare in [0,1,2,3]: # for todolist\n",
    "                if move[direction_prepare][0] == -move[direction][0] and move[direction_prepare][1] == -move[direction][1]:\n",
    "                    continue  # not go back\n",
    "                heapq.heappush(todolist, (new_cost, (nx, ny), direction_prepare))\n",
    "    return None"
   ]
  },
  {
   "cell_type": "code",
   "execution_count": 62,
   "id": "28bea74b",
   "metadata": {},
   "outputs": [
    {
     "data": {
      "text/plain": [
       "324"
      ]
     },
     "execution_count": 62,
     "metadata": {},
     "output_type": "execute_result"
    }
   ],
   "source": [
    "pos_list = read_file()\n",
    "bytes_n = 1024 \n",
    "grid_len = 71\n",
    "pos_start, pos_end = (0,0), (grid_len-1, grid_len-1)\n",
    "Dijkstra_find_path()"
   ]
  },
  {
   "cell_type": "markdown",
   "id": "f74d1f86",
   "metadata": {},
   "source": [
    "#### Part 2"
   ]
  },
  {
   "cell_type": "code",
   "execution_count": 68,
   "id": "ee943d76",
   "metadata": {},
   "outputs": [
    {
     "name": "stdout",
     "output_type": "stream",
     "text": [
      "2987 (46, 23)\n"
     ]
    }
   ],
   "source": [
    "pos_list = read_file()\n",
    "bytes_n = 1024\n",
    "grid_len = 71\n",
    "pos_start, pos_end = (0,0), (grid_len-1, grid_len-1)\n",
    "for i in range(bytes_n, len(pos_list)):\n",
    "    bytes_n = i \n",
    "    cost = Dijkstra_find_path()\n",
    "    if cost == None:\n",
    "        print(i, pos_list[i-1][::-1])\n",
    "        break"
   ]
  },
  {
   "cell_type": "code",
   "execution_count": null,
   "id": "6d7e330c",
   "metadata": {},
   "outputs": [],
   "source": []
  }
 ],
 "metadata": {
  "kernelspec": {
   "display_name": "Python 3 (ipykernel)",
   "language": "python",
   "name": "python3"
  },
  "language_info": {
   "codemirror_mode": {
    "name": "ipython",
    "version": 3
   },
   "file_extension": ".py",
   "mimetype": "text/x-python",
   "name": "python",
   "nbconvert_exporter": "python",
   "pygments_lexer": "ipython3",
   "version": "3.11.5"
  }
 },
 "nbformat": 4,
 "nbformat_minor": 5
}
