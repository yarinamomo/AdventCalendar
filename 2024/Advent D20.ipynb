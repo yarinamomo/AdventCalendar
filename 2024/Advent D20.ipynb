{
 "cells": [
  {
   "cell_type": "markdown",
   "id": "22f06383",
   "metadata": {},
   "source": [
    "### Jul AdventKalender D20\n",
    "\n",
    "https://adventofcode.com/2024/day/20"
   ]
  },
  {
   "cell_type": "markdown",
   "id": "f1695325",
   "metadata": {},
   "source": [
    "#### Part 1"
   ]
  },
  {
   "cell_type": "code",
   "execution_count": 86,
   "id": "1f9ab90c",
   "metadata": {},
   "outputs": [],
   "source": [
    "import numpy as np\n",
    "\n",
    "def read_file():\n",
    "    input_file_path = \"data/input20.txt\"\n",
    "    race_map = []\n",
    "    def process_line(line):\n",
    "        race_map.append(list(line.strip()))\n",
    "\n",
    "    with open(input_file_path, 'r') as file:\n",
    "        for line in file:\n",
    "            process_line(line)\n",
    "            \n",
    "    return np.array(race_map)\n",
    "\n",
    "race_map = read_file()\n",
    "pos_start, pos_end = tuple(i[0] for i in np.where(race_map==\"S\")), tuple(i[0] for i in np.where(race_map==\"E\"))"
   ]
  },
  {
   "cell_type": "code",
   "execution_count": 87,
   "id": "decad278",
   "metadata": {},
   "outputs": [],
   "source": [
    "import heapq\n",
    "move = [(0, 1), (1, 0), (0, -1), (-1, 0)] # [move right, down, left, up]\n",
    "rows, cols = race_map.shape\n",
    "\n",
    "def is_in_map(x, y):\n",
    "    return 0 <= x < rows and 0 <= y < cols\n",
    "\n",
    "def is_valid_move(x, y):\n",
    "    return is_in_map(x, y) and race_map[x, y]!=\"#\"\n",
    "\n",
    "def is_found_goal(x, y):\n",
    "    return x == pos_end[0] and y == pos_end[1]\n",
    "\n",
    "def Dijkstra_find_path():\n",
    "    visited = set() # pos=(x, y), move_direction\n",
    "    predecessors = {}  # to track paths: (pos, direction) -> [(previous_pos, previous_direction)]\n",
    "\n",
    "    todolist = []\n",
    "    for direction_init in [0,1,2,3]:\n",
    "        if is_valid_move(pos_start[0] + move[direction_init][0], pos_start[1] + move[direction_init][1]):\n",
    "            todolist.append((0, pos_start, direction_init)) # todolist: cost, pos=(x, y), move_direction\n",
    "    \n",
    "    while(todolist):\n",
    "        cost, pos, direction = heapq.heappop(todolist) # pop the smallest item(smallest cost)\n",
    "        if (pos, direction) in visited:\n",
    "            continue\n",
    "        visited.add((pos, direction))\n",
    "        \n",
    "        if is_found_goal(pos[0], pos[1]):\n",
    "            return cost, predecessors\n",
    "            \n",
    "        nx, ny = pos[0] + move[direction][0], pos[1] + move[direction][1]\n",
    "        if is_valid_move(nx, ny):\n",
    "#             print(nx, ny)\n",
    "            new_cost = cost + 1 # for moving forward\n",
    "            for direction_prepare in [0,1,2,3]: # for todolist\n",
    "                if move[direction_prepare][0] == -move[direction][0] and move[direction_prepare][1] == -move[direction][1]:\n",
    "                    continue  # not go back\n",
    "                heapq.heappush(todolist, (new_cost, (nx, ny), direction_prepare))\n",
    "                \n",
    "                # add predecessors\n",
    "                if ((nx, ny), direction_prepare, new_cost) not in predecessors:\n",
    "                    predecessors[((nx, ny), direction_prepare, new_cost)] = []\n",
    "                predecessors[((nx, ny), direction_prepare, new_cost)].append((pos, direction, cost))\n",
    "    return None, None"
   ]
  },
  {
   "cell_type": "code",
   "execution_count": 88,
   "id": "bccd7a47",
   "metadata": {},
   "outputs": [],
   "source": [
    "def reconstruct_paths(optimal_cost):\n",
    "    paths = []\n",
    "#     positions = set()\n",
    "    todolist = []\n",
    "    for direction in [0,1,2,3]:\n",
    "        px, py = pos_end[0] - move[direction][0], pos_end[1] - move[direction][1]\n",
    "        if is_valid_move(px, py):\n",
    "            todolist.append([(pos_end, direction, optimal_cost)]) # todolist: paths, each path is a state: pos=(x, y), dir, cost\n",
    "\n",
    "    def if_start(state):\n",
    "        if state[0] == pos_start and state[2] == 0:\n",
    "                return True\n",
    "        return False\n",
    "\n",
    "#     print(todolist)\n",
    "    while todolist:\n",
    "#         print(todolist)\n",
    "        path = todolist.pop()\n",
    "        current = path[-1]\n",
    "        \n",
    "        if if_start(current):\n",
    "#             for state in path:\n",
    "#                 positions.add(state[0])\n",
    "            paths.append(path[::-1])  # Reverse path for correct order\n",
    "#             print(paths)\n",
    "            continue\n",
    "\n",
    "        for parent in predecessors[current]:\n",
    "            if parent not in path and parent[-1] < current[-1]:\n",
    "                todolist.append(path + [parent])\n",
    "    return paths"
   ]
  },
  {
   "cell_type": "code",
   "execution_count": 89,
   "id": "2a427174",
   "metadata": {},
   "outputs": [],
   "source": [
    "cost, predecessors = Dijkstra_find_path()\n",
    "path_nocheat = reconstruct_paths(cost)\n",
    "path_nocheat = [state[0] for state in path_nocheat[0]]"
   ]
  },
  {
   "cell_type": "code",
   "execution_count": 90,
   "id": "6ebd349b",
   "metadata": {},
   "outputs": [
    {
     "data": {
      "text/plain": [
       "1490"
      ]
     },
     "execution_count": 90,
     "metadata": {},
     "output_type": "execute_result"
    }
   ],
   "source": [
    "total_cheats = 0\n",
    "for i in range(len(path_nocheat)):\n",
    "    for j in range(i, len(path_nocheat)):\n",
    "        node_left, node_right = path_nocheat[i], path_nocheat[j]\n",
    "        if abs(node_left[0]-node_right[0])+abs(node_left[1]-node_right[1]) == 2 and (j-i >= 2 + 100):\n",
    "            total_cheats += 1\n",
    "total_cheats"
   ]
  },
  {
   "cell_type": "markdown",
   "id": "f74d1f86",
   "metadata": {},
   "source": [
    "#### Part 2"
   ]
  },
  {
   "cell_type": "code",
   "execution_count": 92,
   "id": "8fe696b5",
   "metadata": {},
   "outputs": [
    {
     "data": {
      "text/plain": [
       "1011325"
      ]
     },
     "execution_count": 92,
     "metadata": {},
     "output_type": "execute_result"
    }
   ],
   "source": [
    "total_cheats = 0\n",
    "for i in range(len(path_nocheat)):\n",
    "    for j in range(i, len(path_nocheat)):\n",
    "        node_left, node_right = path_nocheat[i], path_nocheat[j]\n",
    "        distance = abs(node_left[0]-node_right[0])+abs(node_left[1]-node_right[1])\n",
    "        if 2 <= distance <= 20 and (j-i >= distance + 100):\n",
    "            total_cheats += 1\n",
    "total_cheats"
   ]
  }
 ],
 "metadata": {
  "kernelspec": {
   "display_name": "Python 3 (ipykernel)",
   "language": "python",
   "name": "python3"
  },
  "language_info": {
   "codemirror_mode": {
    "name": "ipython",
    "version": 3
   },
   "file_extension": ".py",
   "mimetype": "text/x-python",
   "name": "python",
   "nbconvert_exporter": "python",
   "pygments_lexer": "ipython3",
   "version": "3.11.5"
  }
 },
 "nbformat": 4,
 "nbformat_minor": 5
}
