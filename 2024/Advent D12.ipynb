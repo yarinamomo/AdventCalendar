{
 "cells": [
  {
   "cell_type": "markdown",
   "id": "22f06383",
   "metadata": {},
   "source": [
    "### Jul AdventKalender D12\n",
    "\n",
    "https://adventofcode.com/2024/day/12"
   ]
  },
  {
   "cell_type": "markdown",
   "id": "f1695325",
   "metadata": {},
   "source": [
    "#### Part 1"
   ]
  },
  {
   "cell_type": "code",
   "execution_count": 1,
   "id": "1f9ab90c",
   "metadata": {},
   "outputs": [],
   "source": [
    "import numpy as np\n",
    "\n",
    "def read_file():\n",
    "    input_file_path = \"data/input12.txt\"\n",
    "    matrix = []\n",
    "    def process_line(line):\n",
    "        matrix.append(list(line.strip()))\n",
    "\n",
    "    with open(input_file_path, 'r') as file:\n",
    "        for line in file:\n",
    "            process_line(line)\n",
    "    return matrix\n",
    "\n",
    "map_regions = read_file()\n",
    "map_regions = np.array(map_regions)"
   ]
  },
  {
   "cell_type": "code",
   "execution_count": 2,
   "id": "decad278",
   "metadata": {},
   "outputs": [],
   "source": [
    "from collections import deque\n",
    "\n",
    "rows, cols = map_regions.shape\n",
    "\n",
    "def is_valid(x, y, prev_value):\n",
    "    return 0 <= x < rows and 0 <= y < cols and map_regions[x][y] == prev_value\n",
    "\n",
    "def cal_perimeter(pos_list):\n",
    "    per = 0\n",
    "    for x, y in pos_list:\n",
    "        for dx, dy in [(-1, 0), (1, 0), (0, -1), (0, 1)]:\n",
    "            nx, ny = x + dx, y + dy\n",
    "            if (nx, ny) not in pos_list:\n",
    "                per += 1   \n",
    "    return per\n",
    "        \n",
    "def plants_bfs(start_x, start_y, value):\n",
    "    queue = deque([(start_x, start_y)])\n",
    "    visited = set()\n",
    "    visited.add((start_x, start_y))\n",
    "\n",
    "    while queue:\n",
    "        x, y = queue.popleft()\n",
    "        # neighbors\n",
    "        for dx, dy in [(-1, 0), (1, 0), (0, -1), (0, 1)]:\n",
    "            nx, ny = x + dx, y + dy\n",
    "\n",
    "            if is_valid(nx, ny, value) and ((nx, ny) not in visited):\n",
    "                visited.add((nx, ny))\n",
    "                queue.append((nx, ny))\n",
    "                \n",
    "    visited_global.update(visited)\n",
    "    return visited"
   ]
  },
  {
   "cell_type": "code",
   "execution_count": 3,
   "id": "83e84313",
   "metadata": {},
   "outputs": [
    {
     "data": {
      "text/plain": [
       "1304764"
      ]
     },
     "execution_count": 3,
     "metadata": {},
     "output_type": "execute_result"
    }
   ],
   "source": [
    "visited_global = set()\n",
    "total = 0\n",
    "for i in range(map_regions.shape[0]):\n",
    "    for j in range(map_regions.shape[1]):\n",
    "        if (i,j) not in visited_global:\n",
    "            tmp = plants_bfs(i, j, map_regions[i, j])\n",
    "            total += len(tmp) * cal_perimeter(tmp)\n",
    "total"
   ]
  },
  {
   "cell_type": "markdown",
   "id": "f74d1f86",
   "metadata": {},
   "source": [
    "#### Part 2"
   ]
  },
  {
   "cell_type": "code",
   "execution_count": 4,
   "id": "38140c9a",
   "metadata": {},
   "outputs": [],
   "source": [
    "def cal_sides(pos_list):\n",
    "    ed = 0\n",
    "    edges = [set(),set(),set(),set()] # edges_up, edges_down, edges_left, edges_right\n",
    "    directions = [(-1, 0), (1, 0), (0, -1), (0, 1)]\n",
    "    for x, y in pos_list:\n",
    "        for i in range(4):\n",
    "            dx, dy = directions[i]\n",
    "            nx, ny = x + dx, y + dy\n",
    "            if (nx, ny) not in pos_list:\n",
    "                ed += 1\n",
    "                for tx, ty in edges[i]:\n",
    "                    if (x, y) != (tx,ty):\n",
    "                        if (ty == y and abs(tx - x) == 1) or (tx == x and abs(ty - y) == 1):\n",
    "                            ed -= 1\n",
    "                edges[i].add((x,y))           \n",
    "    return ed"
   ]
  },
  {
   "cell_type": "code",
   "execution_count": 5,
   "id": "cfa68d28",
   "metadata": {},
   "outputs": [
    {
     "data": {
      "text/plain": [
       "811148"
      ]
     },
     "execution_count": 5,
     "metadata": {},
     "output_type": "execute_result"
    }
   ],
   "source": [
    "visited_global = set()\n",
    "total = 0\n",
    "for i in range(map_regions.shape[0]):\n",
    "    for j in range(map_regions.shape[1]):\n",
    "        if (i,j) not in visited_global:\n",
    "            tmp = plants_bfs(i, j, map_regions[i, j])\n",
    "#             print(len(tmp), cal_sides(tmp))\n",
    "            total += len(tmp) * cal_sides(tmp)\n",
    "total"
   ]
  }
 ],
 "metadata": {
  "kernelspec": {
   "display_name": "Python 3 (ipykernel)",
   "language": "python",
   "name": "python3"
  },
  "language_info": {
   "codemirror_mode": {
    "name": "ipython",
    "version": 3
   },
   "file_extension": ".py",
   "mimetype": "text/x-python",
   "name": "python",
   "nbconvert_exporter": "python",
   "pygments_lexer": "ipython3",
   "version": "3.11.5"
  }
 },
 "nbformat": 4,
 "nbformat_minor": 5
}
