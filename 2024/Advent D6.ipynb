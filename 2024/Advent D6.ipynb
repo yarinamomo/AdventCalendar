{
 "cells": [
  {
   "cell_type": "markdown",
   "id": "22f06383",
   "metadata": {},
   "source": [
    "### Jul AdventKalender D6\n",
    "\n",
    "https://adventofcode.com/2024/day/6"
   ]
  },
  {
   "cell_type": "markdown",
   "id": "f1695325",
   "metadata": {},
   "source": [
    "#### Part 1"
   ]
  },
  {
   "cell_type": "code",
   "execution_count": 34,
   "id": "1f9ab90c",
   "metadata": {},
   "outputs": [],
   "source": [
    "import numpy as np\n",
    "\n",
    "input_file_path = \"data/input6.txt\"\n",
    "text_map = []\n",
    "def process_line(line):\n",
    "    text_map.append(list(line.strip()))\n",
    "    \n",
    "with open(input_file_path, 'r') as file:\n",
    "    for line in file:\n",
    "        process_line(line)\n",
    "        \n",
    "text_map = np.array(text_map)\n",
    "start_pos = np.array([arr[0] for arr in np.where(text_map==\"^\")])"
   ]
  },
  {
   "cell_type": "code",
   "execution_count": 35,
   "id": "90ad91fc",
   "metadata": {},
   "outputs": [
    {
     "data": {
      "text/plain": [
       "5564"
      ]
     },
     "execution_count": 35,
     "metadata": {},
     "output_type": "execute_result"
    }
   ],
   "source": [
    "directions_pos = [\n",
    "    np.array([-1,0]),\n",
    "    np.array([0,1]),\n",
    "    np.array([1,0]),\n",
    "    np.array([0,-1])\n",
    "]\n",
    "\n",
    "\n",
    "def if_valid(pos):\n",
    "    return 0<=pos[0]<text_map.shape[0] and 0<=pos[1]<text_map.shape[1]\n",
    "\n",
    "visited_pos = []\n",
    "\n",
    "def walk(text_map_walk, lim=10000):\n",
    "    pos_current = start_pos\n",
    "    direction_current = 0\n",
    "    epoch = 0\n",
    "    while(if_valid(pos_current) and epoch<=lim):\n",
    "        visited_pos.append(pos_current)\n",
    "        pos_next = pos_current + directions_pos[direction_current]\n",
    "        if not if_valid(pos_next): break\n",
    "        if text_map_walk[pos_next[0]][pos_next[1]]==\"#\":\n",
    "            direction_current += 1\n",
    "            direction_current = direction_current%4\n",
    "            pos_next = pos_current + directions_pos[direction_current]\n",
    "        pos_current = pos_next\n",
    "        epoch += 1\n",
    "    return epoch<lim\n",
    "\n",
    "if walk(text_map):\n",
    "    visited_pos_unique = set([tuple(arr) for arr in visited_pos])\n",
    "len(visited_pos_unique)"
   ]
  },
  {
   "cell_type": "markdown",
   "id": "f74d1f86",
   "metadata": {},
   "source": [
    "#### Part 2"
   ]
  },
  {
   "cell_type": "code",
   "execution_count": 36,
   "id": "8c5e2b42",
   "metadata": {},
   "outputs": [
    {
     "data": {
      "text/plain": [
       "1934"
      ]
     },
     "execution_count": 36,
     "metadata": {},
     "output_type": "execute_result"
    }
   ],
   "source": [
    "count = 0\n",
    "for pos in visited_pos_unique:\n",
    "    text_map_tmp = text_map.copy()\n",
    "    text_map_tmp[pos[0]][pos[1]]=\"#\"\n",
    "    if not walk(text_map_tmp):\n",
    "        count+=1\n",
    "count"
   ]
  },
  {
   "cell_type": "code",
   "execution_count": null,
   "id": "18814b62",
   "metadata": {},
   "outputs": [],
   "source": []
  }
 ],
 "metadata": {
  "kernelspec": {
   "display_name": "Python 3 (ipykernel)",
   "language": "python",
   "name": "python3"
  },
  "language_info": {
   "codemirror_mode": {
    "name": "ipython",
    "version": 3
   },
   "file_extension": ".py",
   "mimetype": "text/x-python",
   "name": "python",
   "nbconvert_exporter": "python",
   "pygments_lexer": "ipython3",
   "version": "3.11.5"
  }
 },
 "nbformat": 4,
 "nbformat_minor": 5
}
