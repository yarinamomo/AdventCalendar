{
 "cells": [
  {
   "cell_type": "markdown",
   "id": "22f06383",
   "metadata": {},
   "source": [
    "### Jul AdventKalender D6\n",
    "\n",
    "https://adventofcode.com/2024/day/6"
   ]
  },
  {
   "cell_type": "markdown",
   "id": "f1695325",
   "metadata": {},
   "source": [
    "#### Part 1"
   ]
  },
  {
   "cell_type": "code",
   "execution_count": 33,
   "id": "1f9ab90c",
   "metadata": {},
   "outputs": [
    {
     "data": {
      "text/plain": [
       "array([43, 52], dtype=int64)"
      ]
     },
     "execution_count": 33,
     "metadata": {},
     "output_type": "execute_result"
    }
   ],
   "source": [
    "import numpy as np\n",
    "\n",
    "input_file_path = \"data/input6.txt\"\n",
    "text_map = []\n",
    "def process_line(line):\n",
    "    text_map.append(list(line.strip()))\n",
    "    \n",
    "with open(input_file_path, 'r') as file:\n",
    "    for line in file:\n",
    "        process_line(line)\n",
    "        \n",
    "text_map = np.array(text_map)\n",
    "start_pos = np.array([arr[0] for arr in np.where(text_map==\"^\")])\n",
    "start_pos"
   ]
  },
  {
   "cell_type": "code",
   "execution_count": 35,
   "id": "90ad91fc",
   "metadata": {},
   "outputs": [
    {
     "data": {
      "text/plain": [
       "5564"
      ]
     },
     "execution_count": 35,
     "metadata": {},
     "output_type": "execute_result"
    }
   ],
   "source": [
    "directions_pos = [\n",
    "    np.array([-1,0]),\n",
    "    np.array([0,1]),\n",
    "    np.array([1,0]),\n",
    "    np.array([0,-1])\n",
    "]\n",
    "\n",
    "def if_in_map(pos):\n",
    "    return 0<=pos[0]<text_map.shape[0] and 0<=pos[1]<text_map.shape[1]\n",
    "\n",
    "def get_next_step(pos_current, direction_current, text_map_walk):\n",
    "    pos_next = pos_current + directions_pos[direction_current]\n",
    "    while(if_in_map(pos_next)):\n",
    "        if text_map_walk[pos_next[0]][pos_next[1]]==\"#\":\n",
    "            direction_current += 1\n",
    "            direction_current = direction_current%4\n",
    "            pos_next = pos_current + directions_pos[direction_current]\n",
    "        else:\n",
    "            return True, pos_next, direction_current\n",
    "    return False, None, None\n",
    "\n",
    "def walk(text_map_walk, if_return_visited=False):\n",
    "    visited = {}\n",
    "    direction_current = 0\n",
    "    pos_next = start_pos\n",
    "    if_continue = True\n",
    "    while(if_continue):\n",
    "        pos_current = pos_next\n",
    "        \n",
    "        # if it is a loop\n",
    "        if (tuple(pos_current) in visited) and (visited[tuple(pos_current)]==direction_current):\n",
    "            return True\n",
    "        \n",
    "        visited[tuple(pos_current)] = direction_current\n",
    "        if_continue, pos_next, direction_current = get_next_step(pos_current, direction_current, text_map_walk)\n",
    "\n",
    "    if if_return_visited: return visited\n",
    "    return False\n",
    "\n",
    "visited_init = walk(text_map, if_return_visited=True)\n",
    "len(visited_init)"
   ]
  },
  {
   "cell_type": "markdown",
   "id": "f74d1f86",
   "metadata": {},
   "source": [
    "#### Part 2"
   ]
  },
  {
   "cell_type": "code",
   "execution_count": 36,
   "id": "8c5e2b42",
   "metadata": {},
   "outputs": [
    {
     "data": {
      "text/plain": [
       "1976"
      ]
     },
     "execution_count": 36,
     "metadata": {},
     "output_type": "execute_result"
    }
   ],
   "source": [
    "import copy\n",
    "\n",
    "count = 0\n",
    "for pos in visited_init:\n",
    "    text_map_tmp = copy.deepcopy(text_map)\n",
    "    if pos != tuple(start_pos):\n",
    "        text_map_tmp[pos[0]][pos[1]]=\"#\"\n",
    "        count+=walk(text_map_tmp)\n",
    "count"
   ]
  }
 ],
 "metadata": {
  "kernelspec": {
   "display_name": "Python 3 (ipykernel)",
   "language": "python",
   "name": "python3"
  },
  "language_info": {
   "codemirror_mode": {
    "name": "ipython",
    "version": 3
   },
   "file_extension": ".py",
   "mimetype": "text/x-python",
   "name": "python",
   "nbconvert_exporter": "python",
   "pygments_lexer": "ipython3",
   "version": "3.11.5"
  }
 },
 "nbformat": 4,
 "nbformat_minor": 5
}
