{
 "cells": [
  {
   "cell_type": "markdown",
   "id": "22f06383",
   "metadata": {},
   "source": [
    "### Jul AdventKalender D4\n",
    "\n",
    "https://adventofcode.com/2024/day/4"
   ]
  },
  {
   "cell_type": "markdown",
   "id": "f1695325",
   "metadata": {},
   "source": [
    "#### Part 1"
   ]
  },
  {
   "cell_type": "code",
   "execution_count": 1,
   "id": "1f9ab90c",
   "metadata": {},
   "outputs": [],
   "source": [
    "import numpy as np\n",
    "\n",
    "input_file_path = \"data/input4.txt\"\n",
    "text = []\n",
    "\n",
    "def process_line(line):\n",
    "    text.append(list(line.strip()))\n",
    "    \n",
    "with open(input_file_path, 'r') as file:\n",
    "    for line in file:\n",
    "        process_line(line)"
   ]
  },
  {
   "cell_type": "code",
   "execution_count": 2,
   "id": "6990a5e8",
   "metadata": {},
   "outputs": [
    {
     "data": {
      "text/plain": [
       "2642"
      ]
     },
     "execution_count": 2,
     "metadata": {},
     "output_type": "execute_result"
    }
   ],
   "source": [
    "rows = len(text)\n",
    "cols = len(text[0])\n",
    "\n",
    "def is_valid(x, y):\n",
    "    return 0 <= x < rows and 0 <= y < cols\n",
    "\n",
    "def count_word():\n",
    "    word = \"XMAS\"\n",
    "    word_len = len(word)\n",
    "    \n",
    "    directions = [\n",
    "        (0, 1),   # right\n",
    "        (1, 0),   # down\n",
    "        (0, -1),  # left\n",
    "        (-1, 0),  # up\n",
    "        (1, 1),   # down-right\n",
    "        (1, -1),  # down-left\n",
    "        (-1, 1),  # up-right\n",
    "        (-1, -1)  # up-left\n",
    "    ]\n",
    "    count = 0\n",
    "\n",
    "    for r in range(rows):\n",
    "        for c in range(cols):\n",
    "            for dr, dc in directions:\n",
    "                found = True\n",
    "                for i in range(word_len):\n",
    "                    nr, nc = r + dr * i, c + dc * i\n",
    "                    if not is_valid(nr, nc) or text[nr][nc] != word[i]:\n",
    "                        found = False\n",
    "                        break\n",
    "                if found:\n",
    "                    count += 1\n",
    "\n",
    "    return count\n",
    "\n",
    "count_word()"
   ]
  },
  {
   "cell_type": "markdown",
   "id": "f74d1f86",
   "metadata": {},
   "source": [
    "#### Part 2"
   ]
  },
  {
   "cell_type": "code",
   "execution_count": 3,
   "id": "8c5e2b42",
   "metadata": {},
   "outputs": [
    {
     "data": {
      "text/plain": [
       "1974"
      ]
     },
     "execution_count": 3,
     "metadata": {},
     "output_type": "execute_result"
    }
   ],
   "source": [
    "def count_word_x():\n",
    "#     M.S #     M.M #     S.S #     S.M\n",
    "#     .A. #     .A. #     .A. #     .A.\n",
    "#     M.S #     S.S #     M.M #     S.M\n",
    "# MSAMS, MMASS, SSAMM, SMASM\n",
    "    x_pattern = [\n",
    "        (-1, -1),\n",
    "        (-1, 1),\n",
    "        (0, 0),\n",
    "        (1, -1),\n",
    "        (1, 1)\n",
    "    ]\n",
    "    words = [\"MSAMS\", \"MMASS\", \"SSAMM\", \"SMASM\"]\n",
    "\n",
    "    def matches_pattern(r, c, word):\n",
    "        for (dr, dc), char in zip(x_pattern, word):\n",
    "            nr, nc = r + dr, c + dc\n",
    "            if not is_valid(nr, nc) or text[nr][nc] != char:\n",
    "                return False\n",
    "        return True\n",
    "\n",
    "    count = 0\n",
    "    for r in range(rows):\n",
    "        for c in range(cols):\n",
    "            for word in words:\n",
    "                if matches_pattern(r, c, word):\n",
    "                    count += 1\n",
    "                    break\n",
    "\n",
    "    return count\n",
    "\n",
    "count_word_x()"
   ]
  },
  {
   "cell_type": "code",
   "execution_count": null,
   "id": "fb5845be",
   "metadata": {},
   "outputs": [],
   "source": []
  }
 ],
 "metadata": {
  "kernelspec": {
   "display_name": "Python 3 (ipykernel)",
   "language": "python",
   "name": "python3"
  },
  "language_info": {
   "codemirror_mode": {
    "name": "ipython",
    "version": 3
   },
   "file_extension": ".py",
   "mimetype": "text/x-python",
   "name": "python",
   "nbconvert_exporter": "python",
   "pygments_lexer": "ipython3",
   "version": "3.11.5"
  }
 },
 "nbformat": 4,
 "nbformat_minor": 5
}
