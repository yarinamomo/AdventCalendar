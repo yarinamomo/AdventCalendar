{
 "cells": [
  {
   "cell_type": "markdown",
   "id": "22f06383",
   "metadata": {},
   "source": [
    "### Jul AdventKalender D3\n",
    "\n",
    "https://adventofcode.com/2024/day/3"
   ]
  },
  {
   "cell_type": "markdown",
   "id": "f1695325",
   "metadata": {},
   "source": [
    "#### Day 3.1 "
   ]
  },
  {
   "cell_type": "code",
   "execution_count": 1,
   "id": "1f9ab90c",
   "metadata": {},
   "outputs": [],
   "source": [
    "import numpy as np\n",
    "\n",
    "input_file_path = \"data/input3.txt\"\n",
    "text = \"\"\n",
    "pattern = r\"mul\\(\\s*(\\d+)\\s*,\\s*(\\d+)\\s*\\)\"\n",
    "\n",
    "def process_line(line):\n",
    "    global text\n",
    "    text += line\n",
    "    \n",
    "with open(input_file_path, 'r') as file:\n",
    "    for line in file:\n",
    "        process_line(line)"
   ]
  },
  {
   "cell_type": "code",
   "execution_count": 2,
   "id": "6990a5e8",
   "metadata": {},
   "outputs": [
    {
     "data": {
      "text/plain": [
       "173419328"
      ]
     },
     "execution_count": 2,
     "metadata": {},
     "output_type": "execute_result"
    }
   ],
   "source": [
    "import re\n",
    "\n",
    "def sum_muls(text):\n",
    "    \n",
    "    matches = re.findall(pattern, text)\n",
    "    total_sum = sum(int(x) * int(y) for x, y in matches)\n",
    "    return total_sum\n",
    "\n",
    "# text_exp = \"xmul(2,4)%&mul[3,7]!@^do_not_mul(5,5)+mul(32,64]then(mul(11,8)mul(8,5))\"\n",
    "sum_muls(text)"
   ]
  },
  {
   "cell_type": "markdown",
   "id": "f74d1f86",
   "metadata": {},
   "source": [
    "#### Day 3.2"
   ]
  },
  {
   "cell_type": "code",
   "execution_count": 3,
   "id": "8c5e2b42",
   "metadata": {},
   "outputs": [
    {
     "data": {
      "text/plain": [
       "[('2', '4', ''),\n",
       " ('', '', \"don't()\"),\n",
       " ('5', '5', ''),\n",
       " ('11', '8', ''),\n",
       " ('', '', 'do()'),\n",
       " ('8', '5', '')]"
      ]
     },
     "execution_count": 3,
     "metadata": {},
     "output_type": "execute_result"
    }
   ],
   "source": [
    "pattern_instruct = r\"(do\\(\\)|don't\\(\\))\"\n",
    "\n",
    "# example\n",
    "text_exp = \"xmul(2,4)&mul[3,7]!^don't()_mul(5,5)+mul(32,64](mul(11,8)undo()?mul(8,5))\"\n",
    "re.findall(f\"{pattern}|{pattern_instruct}\", text_exp)"
   ]
  },
  {
   "cell_type": "code",
   "execution_count": 4,
   "id": "50b52ed9",
   "metadata": {},
   "outputs": [
    {
     "data": {
      "text/plain": [
       "90669332"
      ]
     },
     "execution_count": 4,
     "metadata": {},
     "output_type": "execute_result"
    }
   ],
   "source": [
    "import re\n",
    "\n",
    "def sum_muls_instruct(text):\n",
    "    # ordered list of (\"num1\", \"num2\", \"do/dont\")\n",
    "    matches = re.findall(f\"{pattern}|{pattern_instruct}\", text)\n",
    "    \n",
    "    total_sum = 0\n",
    "    is_enabled = True\n",
    "\n",
    "    for match in matches:\n",
    "        if match[0] and match[1]:\n",
    "            if is_enabled:\n",
    "                total_sum += int(match[0]) * int(match[1])\n",
    "        elif match[2]:\n",
    "            if match[2] == \"do()\": is_enabled = True\n",
    "            elif match[2] == \"don't()\": is_enabled = False\n",
    "    \n",
    "    return total_sum\n",
    "\n",
    "sum_muls_instruct(text)"
   ]
  },
  {
   "cell_type": "code",
   "execution_count": null,
   "id": "fb5845be",
   "metadata": {},
   "outputs": [],
   "source": []
  }
 ],
 "metadata": {
  "kernelspec": {
   "display_name": "Python 3 (ipykernel)",
   "language": "python",
   "name": "python3"
  },
  "language_info": {
   "codemirror_mode": {
    "name": "ipython",
    "version": 3
   },
   "file_extension": ".py",
   "mimetype": "text/x-python",
   "name": "python",
   "nbconvert_exporter": "python",
   "pygments_lexer": "ipython3",
   "version": "3.11.5"
  }
 },
 "nbformat": 4,
 "nbformat_minor": 5
}
