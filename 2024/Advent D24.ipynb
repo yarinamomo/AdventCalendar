{
 "cells": [
  {
   "cell_type": "markdown",
   "id": "22f06383",
   "metadata": {},
   "source": [
    "### Jul AdventKalender D24\n",
    "\n",
    "https://adventofcode.com/2024/day/24"
   ]
  },
  {
   "cell_type": "markdown",
   "id": "f1695325",
   "metadata": {},
   "source": [
    "#### Part 1"
   ]
  },
  {
   "cell_type": "code",
   "execution_count": 1,
   "id": "1f9ab90c",
   "metadata": {},
   "outputs": [],
   "source": [
    "import re\n",
    "\n",
    "def read_file():\n",
    "    input_file_path = \"data/input24.txt\"\n",
    "    wires = {}\n",
    "    gates = []\n",
    "    def process_line(line, if_upper):\n",
    "        pattern = r\"(\\w{3}) (\\w+) (\\w{3}) -> (\\w{3})\"\n",
    "        if if_upper:\n",
    "            tmp = line.strip().split(\":\")\n",
    "            wires[tmp[0].strip()] = int(tmp[1].strip())\n",
    "        else:\n",
    "            match = re.match(pattern, line.strip()).groups()\n",
    "            gates.append(match)\n",
    "\n",
    "    with open(input_file_path, 'r') as file:\n",
    "        if_upper = True\n",
    "        for line in file:\n",
    "            if not line.strip():\n",
    "                if_upper = False\n",
    "                continue\n",
    "            if if_upper:\n",
    "                process_line(line, True)\n",
    "            else:\n",
    "                process_line(line, False)\n",
    "    return wires, gates\n",
    "wires, gates = read_file()"
   ]
  },
  {
   "cell_type": "code",
   "execution_count": 2,
   "id": "0dd3fb63-e764-404a-be80-fe39d7e1df56",
   "metadata": {},
   "outputs": [],
   "source": [
    "from functools import cache\n",
    "\n",
    "@cache\n",
    "def operation(match):\n",
    "    item1 = wires[match[0]]\n",
    "    item2 = wires[match[2]]\n",
    "    op = match[1]\n",
    "    if op == \"XOR\":\n",
    "        wires[match[3]] = item1^item2\n",
    "    if op == \"OR\":\n",
    "        wires[match[3]] = item1|item2\n",
    "    if op == \"AND\":\n",
    "        wires[match[3]] = item1&item2\n",
    "\n",
    "visiting = gates.copy()\n",
    "while True:\n",
    "    visitingcp = visiting.copy()\n",
    "    tobevisited = []\n",
    "    while visiting:\n",
    "        gate = visiting.pop(0)\n",
    "        if gate[0] in wires and gate[2] in wires:\n",
    "            operation(gate)\n",
    "        else:\n",
    "            tobevisited.append(gate)\n",
    "    if set(visitingcp)==set(tobevisited):\n",
    "        break\n",
    "    visiting = tobevisited.copy()\n",
    "# print(wires)"
   ]
  },
  {
   "cell_type": "code",
   "execution_count": 3,
   "id": "9865b344-7112-4fa3-8884-8d004af2e0ec",
   "metadata": {},
   "outputs": [
    {
     "data": {
      "text/plain": [
       "48806532300520"
      ]
     },
     "execution_count": 3,
     "metadata": {},
     "output_type": "execute_result"
    }
   ],
   "source": [
    "def get_decimal(wirestart=\"z\"):\n",
    "    binary_string =\"\".join(list(dict(sorted({key: str(value) for key, value in wires.items() if key.startswith(wirestart)}.items(), reverse=True)).values()))\n",
    "    if binary_string:\n",
    "        return int(binary_string, 2)\n",
    "    return 0\n",
    "get_decimal()"
   ]
  },
  {
   "cell_type": "markdown",
   "id": "f74d1f86",
   "metadata": {},
   "source": [
    "#### Part 2"
   ]
  },
  {
   "cell_type": "code",
   "execution_count": 34,
   "id": "b11a7db8-de34-4848-9b2f-c646b6d5d01b",
   "metadata": {
    "scrolled": true
   },
   "outputs": [],
   "source": [
    "wires, gates = read_file()\n",
    "z_counter = 0\n",
    "z_most = \"\"\n",
    "for _,_,_,res in gates:\n",
    "    if res[0] == \"z\" and int(res[1:]) > z_counter:\n",
    "        z_counter = int(res[1:])\n",
    "        z_most = res"
   ]
  },
  {
   "cell_type": "code",
   "execution_count": 36,
   "id": "0d7fa39e-94bf-4e7a-adcb-7c89887e8012",
   "metadata": {},
   "outputs": [
    {
     "data": {
      "text/plain": [
       "'ddn,kqh,nhs,nnf,wrc,z09,z20,z34'"
      ]
     },
     "execution_count": 36,
     "metadata": {},
     "output_type": "execute_result"
    }
   ],
   "source": [
    "# this is a collection of many people's ideas\n",
    "\n",
    "wrong = set()\n",
    "checkset = [\"x\", \"y\", \"z\"]\n",
    "for item1, op, item2, res in gates:\n",
    "    if op != \"XOR\" and res[0] == \"z\" and res != z_most:\n",
    "        wrong.add(res)\n",
    "    if (op == \"XOR\" and res[0] not in checkset\n",
    "        and item1[0] not in checkset and item2[0] not in checkset):\n",
    "        wrong.add(res)\n",
    "    if op == \"AND\" and \"x00\" not in [item1, item2]:\n",
    "        for subitem1, subop, subitem2, subres in gates:\n",
    "            if (res == subitem1 or res == subitem2) and subop != \"OR\":\n",
    "                wrong.add(res)\n",
    "    if op == \"XOR\":\n",
    "        for subitem1, subop, subitem2, subres in gates:\n",
    "            if (res == subitem1 or res == subitem2) and subop == \"OR\":\n",
    "                wrong.add(res)\n",
    "\n",
    "\",\".join(sorted(wrong))"
   ]
  },
  {
   "cell_type": "code",
   "execution_count": null,
   "id": "6e62cd33-7ac0-4d4f-ad94-5ae5e61cc0e6",
   "metadata": {},
   "outputs": [],
   "source": []
  }
 ],
 "metadata": {
  "kernelspec": {
   "display_name": "Python 3 (ipykernel)",
   "language": "python",
   "name": "python3"
  },
  "language_info": {
   "codemirror_mode": {
    "name": "ipython",
    "version": 3
   },
   "file_extension": ".py",
   "mimetype": "text/x-python",
   "name": "python",
   "nbconvert_exporter": "python",
   "pygments_lexer": "ipython3",
   "version": "3.10.14"
  }
 },
 "nbformat": 4,
 "nbformat_minor": 5
}
