{
 "cells": [
  {
   "cell_type": "markdown",
   "id": "22f06383",
   "metadata": {},
   "source": [
    "### Jul AdventKalender D10\n",
    "\n",
    "https://adventofcode.com/2024/day/10"
   ]
  },
  {
   "cell_type": "markdown",
   "id": "f1695325",
   "metadata": {},
   "source": [
    "#### Part 1"
   ]
  },
  {
   "cell_type": "code",
   "execution_count": 15,
   "id": "1f9ab90c",
   "metadata": {},
   "outputs": [],
   "source": [
    "import numpy as np\n",
    "\n",
    "input_file_path = \"data/input10.txt\"\n",
    "matrix = []\n",
    "def process_line(line):\n",
    "    matrix.append(list(map(int,line.strip())))\n",
    "\n",
    "with open(input_file_path, 'r') as file:\n",
    "    for line in file:\n",
    "        process_line(line)"
   ]
  },
  {
   "cell_type": "code",
   "execution_count": 17,
   "id": "decad278",
   "metadata": {},
   "outputs": [
    {
     "data": {
      "text/plain": [
       "629"
      ]
     },
     "execution_count": 17,
     "metadata": {},
     "output_type": "execute_result"
    }
   ],
   "source": [
    "from collections import deque\n",
    "\n",
    "rows, cols = len(matrix), len(matrix[0])\n",
    "\n",
    "def is_valid(x, y, prev_value):\n",
    "    return 0 <= x < rows and 0 <= y < cols and matrix[x][y] == prev_value + 1\n",
    "\n",
    "def bfs(start_x, start_y):\n",
    "    queue = deque([(start_x, start_y, 0)])\n",
    "    visited = set()\n",
    "    visited.add((start_x, start_y))\n",
    "    count = 0\n",
    "\n",
    "    while queue:\n",
    "        x, y, value = queue.popleft()\n",
    "\n",
    "        if matrix[x][y] == 9:\n",
    "            count += 1\n",
    "            continue\n",
    "\n",
    "        # neighbors\n",
    "        for dx, dy in [(-1, 0), (1, 0), (0, -1), (0, 1)]:\n",
    "            nx, ny = x + dx, y + dy\n",
    "            if is_valid(nx, ny, value) and ((nx, ny) not in visited):\n",
    "                visited.add((nx, ny))\n",
    "                queue.append((nx, ny, matrix[nx][ny]))\n",
    "\n",
    "#             print(queue)\n",
    "\n",
    "    return count\n",
    "\n",
    "def find_paths():\n",
    "    scores = [[0] * cols for _ in range(rows)]\n",
    "    for i in range(rows):\n",
    "        for j in range(cols):\n",
    "            if matrix[i][j] == 0:\n",
    "                scores[i][j] = bfs(i, j)\n",
    "    return scores\n",
    "\n",
    "scores = find_paths()\n",
    "sum([sum(scores_row) for scores_row in scores])"
   ]
  },
  {
   "cell_type": "markdown",
   "id": "f74d1f86",
   "metadata": {},
   "source": [
    "#### Part 2"
   ]
  },
  {
   "cell_type": "code",
   "execution_count": 18,
   "id": "83e84313",
   "metadata": {},
   "outputs": [
    {
     "data": {
      "text/plain": [
       "1242"
      ]
     },
     "execution_count": 18,
     "metadata": {},
     "output_type": "execute_result"
    }
   ],
   "source": [
    "def bfs_distinct_paths(start_x, start_y):\n",
    "    queue = deque([(start_x, start_y, [(start_x, start_y)])])  # (x, y, path)\n",
    "    paths_to_nine = set()\n",
    "\n",
    "    while queue:\n",
    "        x, y, path = queue.popleft()\n",
    "\n",
    "        if matrix[x][y] == 9:\n",
    "            paths_to_nine.add(tuple(path))\n",
    "            continue\n",
    "\n",
    "        # Explore neighbors\n",
    "        for dx, dy in [(-1, 0), (1, 0), (0, -1), (0, 1)]:\n",
    "            nx, ny = x + dx, y + dy\n",
    "            if is_valid(nx, ny, matrix[x][y]) and (nx, ny) not in path:\n",
    "                queue.append((nx, ny, path + [(nx, ny)]))\n",
    "\n",
    "    return len(paths_to_nine)\n",
    "\n",
    "def find_distinct_paths():\n",
    "    scores = [[0] * cols for _ in range(rows)]\n",
    "    for i in range(rows):\n",
    "        for j in range(cols):\n",
    "            if matrix[i][j] == 0:\n",
    "                scores[i][j] = bfs_distinct_paths(i, j)\n",
    "    return scores\n",
    "\n",
    "scores = find_distinct_paths()\n",
    "sum([sum(scores_row) for scores_row in scores])"
   ]
  }
 ],
 "metadata": {
  "kernelspec": {
   "display_name": "Python 3 (ipykernel)",
   "language": "python",
   "name": "python3"
  },
  "language_info": {
   "codemirror_mode": {
    "name": "ipython",
    "version": 3
   },
   "file_extension": ".py",
   "mimetype": "text/x-python",
   "name": "python",
   "nbconvert_exporter": "python",
   "pygments_lexer": "ipython3",
   "version": "3.11.5"
  }
 },
 "nbformat": 4,
 "nbformat_minor": 5
}
