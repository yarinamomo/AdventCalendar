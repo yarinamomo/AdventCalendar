{
 "cells": [
  {
   "cell_type": "markdown",
   "id": "22f06383",
   "metadata": {},
   "source": [
    "### Jul AdventKalender D8\n",
    "\n",
    "https://adventofcode.com/2024/day/8"
   ]
  },
  {
   "cell_type": "markdown",
   "id": "f1695325",
   "metadata": {},
   "source": [
    "#### Part 1"
   ]
  },
  {
   "cell_type": "code",
   "execution_count": 102,
   "id": "1f9ab90c",
   "metadata": {},
   "outputs": [],
   "source": [
    "import numpy as np\n",
    "\n",
    "input_file_path = \"data/input8.txt\"\n",
    "text_map = []\n",
    "def process_line(line):\n",
    "    text_map.append(list(line.strip()))\n",
    "\n",
    "with open(input_file_path, 'r') as file:\n",
    "    for line in file:\n",
    "        process_line(line)\n",
    "\n",
    "text_map = np.array(text_map)"
   ]
  },
  {
   "cell_type": "code",
   "execution_count": 103,
   "id": "decad278",
   "metadata": {},
   "outputs": [
    {
     "data": {
      "text/plain": [
       "379"
      ]
     },
     "execution_count": 103,
     "metadata": {},
     "output_type": "execute_result"
    }
   ],
   "source": [
    "def change_map(pos0, pos1):\n",
    "    if 0<=pos0<text_map_mark.shape[0] and 0<=pos1<text_map_mark.shape[1]:\n",
    "        text_map_mark[pos0][pos1] = 1\n",
    "        return True\n",
    "    return False\n",
    "\n",
    "def gen(upper_pos, tar, if_repeat=False):\n",
    "    for i in range(upper_pos[0], text_map.shape[0]):\n",
    "        res_ids = np.where(text_map[i]==tar)[0]\n",
    "        for j in res_ids:\n",
    "            if (i,j) != upper_pos:\n",
    "                if j > upper_pos[1]:\n",
    "                    if_continue = True\n",
    "                    r = 1\n",
    "                    while if_continue:\n",
    "                        if_continue = change_map(upper_pos[0]-r*(i-upper_pos[0]), upper_pos[1]-r*abs(j-upper_pos[1]))\n",
    "                        r += 1\n",
    "                        if if_repeat==False: if_continue = if_repeat\n",
    "                    if_continue = True\n",
    "                    r = 1\n",
    "                    while if_continue:\n",
    "                        if_continue = change_map(i+r*(i-upper_pos[0]), j + r*abs(j-upper_pos[1]))\n",
    "                        r += 1\n",
    "                        if if_repeat==False: if_continue = if_repeat \n",
    "                else:\n",
    "                    if_continue = True\n",
    "                    r = 1\n",
    "                    while if_continue:\n",
    "                        if_continue = change_map(upper_pos[0]-r*(i-upper_pos[0]), upper_pos[1]+r*abs(j-upper_pos[1]))\n",
    "                        r += 1\n",
    "                        if if_repeat==False: if_continue = if_repeat\n",
    "                    if_continue = True\n",
    "                    r = 1\n",
    "                    while if_continue:\n",
    "                        if_continue = change_map(i+r*(i-upper_pos[0]), j - r*abs(j-upper_pos[1]))\n",
    "                        r += 1\n",
    "                        if if_repeat==False: if_continue = if_repeat\n",
    "                        \n",
    "text_map_mark = np.zeros(text_map.shape, int)\n",
    "for i in range(text_map.shape[0]):\n",
    "    for j in range(text_map.shape[1]):\n",
    "        if not text_map[i][j] in [\".\", \"#\"]:\n",
    "            gen((i,j), text_map[i][j])\n",
    "sum(sum(text_map_mark))"
   ]
  },
  {
   "cell_type": "markdown",
   "id": "f74d1f86",
   "metadata": {},
   "source": [
    "#### Part 2"
   ]
  },
  {
   "cell_type": "code",
   "execution_count": 104,
   "id": "8c5e2b42",
   "metadata": {},
   "outputs": [
    {
     "data": {
      "text/plain": [
       "1339"
      ]
     },
     "execution_count": 104,
     "metadata": {},
     "output_type": "execute_result"
    }
   ],
   "source": [
    "text_map_mark = np.zeros(text_map.shape, int)\n",
    "for i in range(text_map.shape[0]):\n",
    "    for j in range(text_map.shape[1]):\n",
    "        if not text_map[i][j] in [\".\", \"#\"]:\n",
    "            gen((i,j), text_map[i][j], True)\n",
    "text_map_mark[text_map!=\".\"] = 1\n",
    "sum(sum(text_map_mark))"
   ]
  },
  {
   "cell_type": "code",
   "execution_count": null,
   "id": "1901c685",
   "metadata": {},
   "outputs": [],
   "source": []
  }
 ],
 "metadata": {
  "kernelspec": {
   "display_name": "Python 3 (ipykernel)",
   "language": "python",
   "name": "python3"
  },
  "language_info": {
   "codemirror_mode": {
    "name": "ipython",
    "version": 3
   },
   "file_extension": ".py",
   "mimetype": "text/x-python",
   "name": "python",
   "nbconvert_exporter": "python",
   "pygments_lexer": "ipython3",
   "version": "3.11.5"
  }
 },
 "nbformat": 4,
 "nbformat_minor": 5
}
