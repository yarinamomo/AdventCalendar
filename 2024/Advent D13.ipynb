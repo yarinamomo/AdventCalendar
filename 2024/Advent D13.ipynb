{
 "cells": [
  {
   "cell_type": "markdown",
   "id": "22f06383",
   "metadata": {},
   "source": [
    "### Jul AdventKalender D13\n",
    "\n",
    "https://adventofcode.com/2024/day/13"
   ]
  },
  {
   "cell_type": "markdown",
   "id": "f1695325",
   "metadata": {},
   "source": [
    "#### Part 1"
   ]
  },
  {
   "cell_type": "code",
   "execution_count": 1,
   "id": "1f9ab90c",
   "metadata": {},
   "outputs": [],
   "source": [
    "import re\n",
    "\n",
    "def read_file():\n",
    "    input_file_path = \"data/input13.txt\"\n",
    "    eqs = []\n",
    "    pattern = r'\\d+'\n",
    "    def process_chunk(chunk):\n",
    "        eq = []\n",
    "        for i in range(3):\n",
    "            matches = re.findall(pattern, chunk[i])\n",
    "            eq.append(tuple(int(x) for x in matches))\n",
    "        eqs.append(eq)\n",
    "\n",
    "    with open(input_file_path, 'r') as file:\n",
    "        tmp = []\n",
    "        for line in file:\n",
    "            if line.strip():\n",
    "                tmp.append(line)\n",
    "            else:\n",
    "                process_chunk(tmp)\n",
    "                tmp = []\n",
    "    return eqs\n",
    "\n",
    "eqs = read_file()"
   ]
  },
  {
   "cell_type": "code",
   "execution_count": 5,
   "id": "decad278",
   "metadata": {},
   "outputs": [],
   "source": [
    "from sympy import symbols, Eq, solve\n",
    "\n",
    "def solve_eq(eq_set, off_set = 0):\n",
    "    A, B = symbols('A B', integer=True)\n",
    "\n",
    "    eq_X = Eq(A * eq_set[0][0] + B * eq_set[1][0], eq_set[2][0] + off_set)\n",
    "    eq_Y = Eq(A * eq_set[0][1] + B * eq_set[1][1], eq_set[2][1] + off_set)\n",
    "\n",
    "    solution = solve((eq_X, eq_Y), (A, B), dict=True)\n",
    "    integer_solutions = [sol for sol in solution if sol[A].is_integer and sol[B].is_integer]\n",
    "    if integer_solutions:\n",
    "        return integer_solutions\n",
    "    return []\n",
    "\n",
    "def count_tokens(eq_set, press_lim = 100, off_set = 0):\n",
    "    A, B = symbols('A B', integer=True)\n",
    "    \n",
    "    res = solve_eq(eq_set, off_set)\n",
    "    total_token = []\n",
    "    if len(res) > 0:\n",
    "        for ele in res:\n",
    "            if not press_lim or (ele[A] <= press_lim and ele[B] <= press_lim):\n",
    "                total_token.append(ele[A]*3 + ele[B]*1)\n",
    "    return min(total_token) if len(total_token)>0 else 0"
   ]
  },
  {
   "cell_type": "code",
   "execution_count": 3,
   "id": "bccd7a47",
   "metadata": {},
   "outputs": [
    {
     "data": {
      "text/latex": [
       "$\\displaystyle 35997$"
      ],
      "text/plain": [
       "35997"
      ]
     },
     "execution_count": 3,
     "metadata": {},
     "output_type": "execute_result"
    }
   ],
   "source": [
    "total = 0\n",
    "for eq_set in eqs:\n",
    "    total += count_tokens(eq_set)\n",
    "total"
   ]
  },
  {
   "cell_type": "markdown",
   "id": "f74d1f86",
   "metadata": {},
   "source": [
    "#### Part 2"
   ]
  },
  {
   "cell_type": "code",
   "execution_count": 6,
   "id": "38140c9a",
   "metadata": {
    "scrolled": false
   },
   "outputs": [
    {
     "data": {
      "text/latex": [
       "$\\displaystyle 82510994362072$"
      ],
      "text/plain": [
       "82510994362072"
      ]
     },
     "execution_count": 6,
     "metadata": {},
     "output_type": "execute_result"
    }
   ],
   "source": [
    "total = 0\n",
    "for eq_set in eqs:\n",
    "    total += count_tokens(eq_set, press_lim = False, off_set = 10000000000000)\n",
    "total"
   ]
  },
  {
   "cell_type": "code",
   "execution_count": null,
   "id": "a13ef61d",
   "metadata": {},
   "outputs": [],
   "source": []
  }
 ],
 "metadata": {
  "kernelspec": {
   "display_name": "Python 3 (ipykernel)",
   "language": "python",
   "name": "python3"
  },
  "language_info": {
   "codemirror_mode": {
    "name": "ipython",
    "version": 3
   },
   "file_extension": ".py",
   "mimetype": "text/x-python",
   "name": "python",
   "nbconvert_exporter": "python",
   "pygments_lexer": "ipython3",
   "version": "3.11.5"
  }
 },
 "nbformat": 4,
 "nbformat_minor": 5
}
