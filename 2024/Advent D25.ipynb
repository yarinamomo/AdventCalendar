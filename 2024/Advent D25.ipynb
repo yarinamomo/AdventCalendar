{
 "cells": [
  {
   "cell_type": "markdown",
   "id": "22f06383",
   "metadata": {},
   "source": [
    "### Jul AdventKalender D25\n",
    "\n",
    "https://adventofcode.com/2024/day/25"
   ]
  },
  {
   "cell_type": "markdown",
   "id": "f1695325",
   "metadata": {},
   "source": [
    "#### Part 1"
   ]
  },
  {
   "cell_type": "code",
   "execution_count": 49,
   "id": "1f9ab90c",
   "metadata": {},
   "outputs": [],
   "source": [
    "LOCK_ROW = \"#####\"\n",
    "KEY_ROW = \".....\"\n",
    "\n",
    "def _parse_lines(locks_and_keys: dict[str, list[int]], line_list: list[str]):\n",
    "    if line_list[0] == LOCK_ROW:\n",
    "        item_type = \"locks\"\n",
    "        dirs = [0,6,1]\n",
    "    elif line_list[0] == KEY_ROW:\n",
    "        item_type = \"keys\"\n",
    "        dirs = [6,0,-1]\n",
    "    else:\n",
    "        print(line_list[0])\n",
    "        raise ValueError\n",
    "    heights = [0,0,0,0,0]\n",
    "    for i in range(*dirs):\n",
    "        for col, j in enumerate(line_list[i]):\n",
    "            if j == \"#\":\n",
    "                if item_type == \"locks\":\n",
    "                    heights[col] = i\n",
    "                else:\n",
    "                    heights[col] = 6-i\n",
    "    locks_and_keys[item_type].append(heights)\n",
    "    return locks_and_keys\n",
    "\n",
    "def read_file():\n",
    "    input_file_path = \"data/input25.txt\"\n",
    "    locks_and_keys = {\"locks\": [], \"keys\": []}\n",
    "\n",
    "    with open(input_file_path, 'r') as file:\n",
    "        line_list = []\n",
    "        for line in file:\n",
    "            if not line.strip():\n",
    "                locks_and_keys = _parse_lines(locks_and_keys, line_list)\n",
    "                line_list = []\n",
    "            else:\n",
    "                line_list.append(line.strip())\n",
    "        locks_and_keys = _parse_lines(locks_and_keys, line_list)\n",
    "    return locks_and_keys\n",
    "\n",
    "locks_and_keys = read_file()"
   ]
  },
  {
   "cell_type": "code",
   "execution_count": 50,
   "id": "decad278",
   "metadata": {},
   "outputs": [
    {
     "data": {
      "text/plain": [
       "2950"
      ]
     },
     "execution_count": 50,
     "metadata": {},
     "output_type": "execute_result"
    }
   ],
   "source": [
    "from itertools import product\n",
    "\n",
    "total = 0\n",
    "for p in product(locks_and_keys[\"locks\"], locks_and_keys[\"keys\"]): \n",
    "    if all([s <=5 for s in [a+b for a,b in zip(p[0],p[1])]]):\n",
    "        total +=1\n",
    "total"
   ]
  }
 ],
 "metadata": {
  "kernelspec": {
   "display_name": "Python 3 (ipykernel)",
   "language": "python",
   "name": "python3"
  },
  "language_info": {
   "codemirror_mode": {
    "name": "ipython",
    "version": 3
   },
   "file_extension": ".py",
   "mimetype": "text/x-python",
   "name": "python",
   "nbconvert_exporter": "python",
   "pygments_lexer": "ipython3",
   "version": "3.11.5"
  }
 },
 "nbformat": 4,
 "nbformat_minor": 5
}
