{
 "cells": [
  {
   "cell_type": "markdown",
   "id": "22f06383",
   "metadata": {},
   "source": [
    "### Jul AdventKalender D7\n",
    "\n",
    "https://adventofcode.com/2024/day/7"
   ]
  },
  {
   "cell_type": "markdown",
   "id": "f1695325",
   "metadata": {},
   "source": [
    "#### Part 1"
   ]
  },
  {
   "cell_type": "code",
   "execution_count": 1,
   "id": "1f9ab90c",
   "metadata": {},
   "outputs": [],
   "source": [
    "import numpy as np\n",
    "\n",
    "input_file_path = \"data/input7.txt\"\n",
    "text_ops = {}\n",
    "def process_line(line):\n",
    "    num, lst = line.strip().split(\":\")\n",
    "    text_ops[int(num)] = list(map(int, lst.split()))\n",
    "    \n",
    "with open(input_file_path, 'r') as file:\n",
    "    for line in file:\n",
    "        process_line(line)"
   ]
  },
  {
   "cell_type": "code",
   "execution_count": 2,
   "id": "decad278",
   "metadata": {},
   "outputs": [
    {
     "data": {
      "text/plain": [
       "3119088655389"
      ]
     },
     "execution_count": 2,
     "metadata": {},
     "output_type": "execute_result"
    }
   ],
   "source": [
    "import itertools\n",
    "import operator\n",
    "\n",
    "ops = {0:operator.add, 1:operator.mul}\n",
    "\n",
    "def eval_ops(ops):\n",
    "    count = 0\n",
    "    for key, item in text_ops.items():\n",
    "        for op_ids in itertools.product(ops.keys(),repeat=(len(item)-1)):\n",
    "            res_eq = item[0]\n",
    "            for i in range(len(op_ids)):\n",
    "                res_eq = ops[op_ids[i]](res_eq,item[i+1])\n",
    "            if res_eq == key:\n",
    "                count+=key\n",
    "                break\n",
    "    return count\n",
    "eval_ops(ops)"
   ]
  },
  {
   "cell_type": "markdown",
   "id": "f74d1f86",
   "metadata": {},
   "source": [
    "#### Part 2"
   ]
  },
  {
   "cell_type": "code",
   "execution_count": 3,
   "id": "8c5e2b42",
   "metadata": {},
   "outputs": [
    {
     "data": {
      "text/plain": [
       "264184041398847"
      ]
     },
     "execution_count": 3,
     "metadata": {},
     "output_type": "execute_result"
    }
   ],
   "source": [
    "def ops_conc(num1, num2):\n",
    "    return int(str(num1)+str(num2))\n",
    "\n",
    "ops_new = {0:operator.add, 1:operator.mul, 2:ops_conc}\n",
    "eval_ops(ops_new)"
   ]
  }
 ],
 "metadata": {
  "kernelspec": {
   "display_name": "Python 3 (ipykernel)",
   "language": "python",
   "name": "python3"
  },
  "language_info": {
   "codemirror_mode": {
    "name": "ipython",
    "version": 3
   },
   "file_extension": ".py",
   "mimetype": "text/x-python",
   "name": "python",
   "nbconvert_exporter": "python",
   "pygments_lexer": "ipython3",
   "version": "3.11.5"
  }
 },
 "nbformat": 4,
 "nbformat_minor": 5
}
