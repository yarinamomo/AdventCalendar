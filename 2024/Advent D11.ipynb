{
 "cells": [
  {
   "cell_type": "markdown",
   "id": "22f06383",
   "metadata": {},
   "source": [
    "### Jul AdventKalender D11\n",
    "\n",
    "https://adventofcode.com/2024/day/11"
   ]
  },
  {
   "cell_type": "markdown",
   "id": "f1695325",
   "metadata": {},
   "source": [
    "#### Part 1"
   ]
  },
  {
   "cell_type": "code",
   "execution_count": 1,
   "id": "1f9ab90c",
   "metadata": {},
   "outputs": [],
   "source": [
    "import numpy as np\n",
    "\n",
    "def read_file():\n",
    "    input_file_path = \"data/input11.txt\"\n",
    "    matrix = []\n",
    "    def process_line(line):\n",
    "        matrix.append(list(map(int,line.strip().split())))\n",
    "\n",
    "    with open(input_file_path, 'r') as file:\n",
    "        for line in file:\n",
    "            process_line(line)\n",
    "    return matrix[0]\n",
    "\n",
    "arrangements = read_file()"
   ]
  },
  {
   "cell_type": "code",
   "execution_count": 12,
   "id": "decad278",
   "metadata": {},
   "outputs": [
    {
     "data": {
      "text/plain": [
       "209412"
      ]
     },
     "execution_count": 12,
     "metadata": {},
     "output_type": "execute_result"
    }
   ],
   "source": [
    "def change(element):\n",
    "    if element == 0:\n",
    "        return [1]\n",
    "    ele_str = str(element)\n",
    "    if len(ele_str)%2 == 0:\n",
    "        return [int(ele_str[:len(ele_str)//2]), int(ele_str[len(ele_str)//2:])]\n",
    "    return [element * 2024]\n",
    "\n",
    "def blink(epoch):\n",
    "    target_arr = arrangements.copy()\n",
    "    for i in range(epoch):\n",
    "        res_arr = []\n",
    "        for element in target_arr:\n",
    "            res_arr.extend(change(element))\n",
    "        target_arr = res_arr.copy()\n",
    "    return target_arr\n",
    "\n",
    "len(blink(25))"
   ]
  },
  {
   "cell_type": "markdown",
   "id": "f74d1f86",
   "metadata": {},
   "source": [
    "#### Part 2"
   ]
  },
  {
   "cell_type": "code",
   "execution_count": 7,
   "id": "83e84313",
   "metadata": {},
   "outputs": [
    {
     "data": {
      "text/plain": [
       "248967696501656"
      ]
     },
     "execution_count": 7,
     "metadata": {},
     "output_type": "execute_result"
    }
   ],
   "source": [
    "from functools import cache\n",
    "\n",
    "@cache\n",
    "def change_optimal(element, epoch_id, max_epoch):\n",
    "    if epoch_id == max_epoch:\n",
    "        return 1\n",
    "    if element == 0:\n",
    "        return change_optimal(1, epoch_id+1, max_epoch)\n",
    "    ele_str = str(element)\n",
    "    if len(ele_str)%2 == 0:\n",
    "        return change_optimal(int(ele_str[:len(ele_str)//2]), epoch_id+1, max_epoch) + change_optimal(int(ele_str[len(ele_str)//2:]), epoch_id+1, max_epoch)\n",
    "    return change_optimal(element * 2024, epoch_id+1, max_epoch)\n",
    "\n",
    "def blink_optimal(epoch):\n",
    "    total = 0\n",
    "    for element in arrangements:\n",
    "        total += change_optimal(element, 0, epoch)\n",
    "    return total\n",
    "\n",
    "blink_optimal(75)"
   ]
  },
  {
   "cell_type": "code",
   "execution_count": null,
   "id": "38140c9a",
   "metadata": {},
   "outputs": [],
   "source": []
  }
 ],
 "metadata": {
  "kernelspec": {
   "display_name": "Python 3 (ipykernel)",
   "language": "python",
   "name": "python3"
  },
  "language_info": {
   "codemirror_mode": {
    "name": "ipython",
    "version": 3
   },
   "file_extension": ".py",
   "mimetype": "text/x-python",
   "name": "python",
   "nbconvert_exporter": "python",
   "pygments_lexer": "ipython3",
   "version": "3.11.5"
  }
 },
 "nbformat": 4,
 "nbformat_minor": 5
}
