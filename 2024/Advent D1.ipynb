{
 "cells": [
  {
   "cell_type": "markdown",
   "id": "22f06383",
   "metadata": {},
   "source": [
    "### Jul AdventKalender D1\n",
    "\n",
    "https://adventofcode.com/2024/day/1"
   ]
  },
  {
   "cell_type": "markdown",
   "id": "f1695325",
   "metadata": {},
   "source": [
    "#### Day 1.1 "
   ]
  },
  {
   "cell_type": "code",
   "execution_count": 11,
   "id": "1f9ab90c",
   "metadata": {},
   "outputs": [
    {
     "data": {
      "text/plain": [
       "2580760"
      ]
     },
     "execution_count": 11,
     "metadata": {},
     "output_type": "execute_result"
    }
   ],
   "source": [
    "import numpy as np\n",
    "\n",
    "input_file_path = \"data/input1.txt\"\n",
    "\n",
    "left_list = []\n",
    "right_list = []\n",
    "\n",
    "def process_line(line):\n",
    "    num1, num2 = line.split()\n",
    "    left_list.append(int(num1))\n",
    "    right_list.append(int(num2))\n",
    "\n",
    "\n",
    "with open(input_file_path, 'r') as file:\n",
    "    for line in file:\n",
    "        process_line(line)\n",
    "\n",
    "sum(abs(np.subtract(sorted(left_list),sorted(right_list))))"
   ]
  },
  {
   "cell_type": "markdown",
   "id": "f74d1f86",
   "metadata": {},
   "source": [
    "#### Day 1.2"
   ]
  },
  {
   "cell_type": "code",
   "execution_count": 12,
   "id": "50b52ed9",
   "metadata": {},
   "outputs": [
    {
     "data": {
      "text/plain": [
       "25358365"
      ]
     },
     "execution_count": 12,
     "metadata": {},
     "output_type": "execute_result"
    }
   ],
   "source": [
    "from collections import Counter\n",
    "\n",
    "right_count = Counter(right_list)\n",
    "sum([i * right_count[i] for i in left_list])"
   ]
  },
  {
   "cell_type": "code",
   "execution_count": null,
   "id": "fb5845be",
   "metadata": {},
   "outputs": [],
   "source": []
  }
 ],
 "metadata": {
  "kernelspec": {
   "display_name": "Python 3 (ipykernel)",
   "language": "python",
   "name": "python3"
  },
  "language_info": {
   "codemirror_mode": {
    "name": "ipython",
    "version": 3
   },
   "file_extension": ".py",
   "mimetype": "text/x-python",
   "name": "python",
   "nbconvert_exporter": "python",
   "pygments_lexer": "ipython3",
   "version": "3.11.5"
  }
 },
 "nbformat": 4,
 "nbformat_minor": 5
}
