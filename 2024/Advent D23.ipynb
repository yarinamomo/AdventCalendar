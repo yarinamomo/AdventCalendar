{
 "cells": [
  {
   "cell_type": "markdown",
   "id": "22f06383",
   "metadata": {},
   "source": [
    "### Jul AdventKalender D23\n",
    "\n",
    "https://adventofcode.com/2024/day/23"
   ]
  },
  {
   "cell_type": "markdown",
   "id": "f1695325",
   "metadata": {},
   "source": [
    "#### Part 1"
   ]
  },
  {
   "cell_type": "code",
   "execution_count": 39,
   "id": "1f9ab90c",
   "metadata": {},
   "outputs": [],
   "source": [
    "def read_file():\n",
    "    input_file_path = \"data/input23.txt\"\n",
    "    coms = []\n",
    "    def process_line(line):\n",
    "        coms.append(list(line.strip().split(\"-\")))\n",
    "\n",
    "    with open(input_file_path, 'r') as file:\n",
    "        for line in file:\n",
    "            process_line(line)\n",
    "            \n",
    "    return coms\n",
    "\n",
    "coms = read_file()"
   ]
  },
  {
   "cell_type": "code",
   "execution_count": 31,
   "id": "cdccca81-4027-4c69-b61a-43167e486f25",
   "metadata": {},
   "outputs": [
    {
     "data": {
      "text/plain": [
       "1378"
      ]
     },
     "execution_count": 31,
     "metadata": {},
     "output_type": "execute_result"
    }
   ],
   "source": [
    "import networkx as nx\n",
    "import itertools\n",
    "\n",
    "G = nx.Graph()\n",
    "G.add_edges_from(coms)\n",
    "\n",
    "all_connected_subgraphs = [s for s in nx.enumerate_all_cliques(G) if len(s) == 3]\n",
    "total = 0\n",
    "for nodes in all_connected_subgraphs:\n",
    "    if_chief = False\n",
    "    for node in nodes:\n",
    "        if node.startswith(\"t\"):\n",
    "            if_chief = True\n",
    "    total += if_chief\n",
    "total"
   ]
  },
  {
   "cell_type": "markdown",
   "id": "f74d1f86",
   "metadata": {},
   "source": [
    "#### Part 2"
   ]
  },
  {
   "cell_type": "code",
   "execution_count": 40,
   "id": "9592c80b-7fcc-45b7-855c-ad6d41fd7764",
   "metadata": {},
   "outputs": [
    {
     "data": {
      "text/plain": [
       "'bs,ey,fq,fy,he,ii,lh,ol,tc,uu,wl,xq,xv'"
      ]
     },
     "execution_count": 40,
     "metadata": {},
     "output_type": "execute_result"
    }
   ],
   "source": [
    "import networkx as nx\n",
    "import itertools\n",
    "\n",
    "G = nx.Graph()\n",
    "G.add_edges_from(coms)\n",
    "\n",
    "all_connected_subgraphs = [s for s in nx.enumerate_all_cliques(G) if len(s) > 3]\n",
    "all_connected_subgraphs_lens = [len(nodes) for nodes in all_connected_subgraphs]\n",
    "\",\".join(sorted(all_connected_subgraphs[all_connected_subgraphs_lens.index(max(all_connected_subgraphs_lens))]))"
   ]
  },
  {
   "cell_type": "code",
   "execution_count": null,
   "id": "e8789d15-6c52-49c8-951a-cebf770e39c5",
   "metadata": {},
   "outputs": [],
   "source": []
  }
 ],
 "metadata": {
  "kernelspec": {
   "display_name": "Python 3 (ipykernel)",
   "language": "python",
   "name": "python3"
  },
  "language_info": {
   "codemirror_mode": {
    "name": "ipython",
    "version": 3
   },
   "file_extension": ".py",
   "mimetype": "text/x-python",
   "name": "python",
   "nbconvert_exporter": "python",
   "pygments_lexer": "ipython3",
   "version": "3.10.14"
  }
 },
 "nbformat": 4,
 "nbformat_minor": 5
}
