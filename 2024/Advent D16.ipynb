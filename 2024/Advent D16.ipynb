{
 "cells": [
  {
   "cell_type": "markdown",
   "id": "22f06383",
   "metadata": {},
   "source": [
    "### Jul AdventKalender D16\n",
    "\n",
    "https://adventofcode.com/2024/day/16"
   ]
  },
  {
   "cell_type": "markdown",
   "id": "f1695325",
   "metadata": {},
   "source": [
    "#### Part 1"
   ]
  },
  {
   "cell_type": "code",
   "execution_count": 1,
   "id": "1f9ab90c",
   "metadata": {},
   "outputs": [],
   "source": [
    "import numpy as np\n",
    "np.set_printoptions(linewidth=np.inf)\n",
    "\n",
    "def read_file():\n",
    "    input_file_path = \"data/input16.txt\"\n",
    "    map_maze = []\n",
    "    def process_line(line, if_upper):\n",
    "        map_maze.append(list(line.strip()))\n",
    "\n",
    "    with open(input_file_path, 'r') as file:\n",
    "        for line in file:\n",
    "            process_line(line, True)            \n",
    "    return np.array(map_maze)\n",
    "\n",
    "map_maze = read_file()\n",
    "start_pos = tuple(i[0] for i in np.where(map_maze==\"S\"))\n",
    "end_pos = tuple(i[0] for i in np.where(map_maze==\"E\"))"
   ]
  },
  {
   "cell_type": "code",
   "execution_count": 2,
   "id": "decad278",
   "metadata": {},
   "outputs": [],
   "source": [
    "import heapq\n",
    "\n",
    "rows, cols = map_maze.shape\n",
    "\n",
    "actions = [0, 1, -1] # move, turn right, turn left\n",
    "\n",
    "move = [(0, 1), (1, 0), (0, -1), (-1, 0)] # [move right, down, left, up]\n",
    "faces = [0, 1, 2, 3] # facing directions\n",
    "\n",
    "def is_valid_move(x, y):\n",
    "#     global rows, cols\n",
    "    return 0 <= x < rows and 0 <= y < cols and map_maze[x, y] != \"#\"\n",
    "\n",
    "def is_found_goal(x, y):\n",
    "    return x == end_pos[0] and y == end_pos[1]\n",
    "\n",
    "def Dijkstra_find_path():\n",
    "    visited = set() # pos=(x, y), (face, action_next)\n",
    "    predecessors = {}  # to track paths: (pos, face, action_next) -> [(previous_pos, previous_face, previous_action)]\n",
    "\n",
    "    todolist = []\n",
    "    for action in actions:\n",
    "        todolist.append((0, start_pos, (faces[0], action))) # todolist: cost, pos=(x, y), face, action_next\n",
    "    \n",
    "    while(todolist):\n",
    "        cost, pos, (face, action_next) = heapq.heappop(todolist) # pop the smallest item(smallest cost)\n",
    "        if (pos, (face, action_next)) in visited:\n",
    "            continue\n",
    "        visited.add((pos, (face, action_next)))\n",
    "        \n",
    "        if is_found_goal(pos[0], pos[1]):\n",
    "            return cost, visited, predecessors\n",
    "            \n",
    "        if_actioned = False\n",
    "        if action_next != 0:\n",
    "            nface = (face + action_next)%len(faces)\n",
    "            nx, ny = pos\n",
    "            \n",
    "            new_cost = cost + 1000 # for turning\n",
    "            if_actioned = True\n",
    "        else:\n",
    "            nface = face\n",
    "            nx, ny = pos[0] + move[face][0], pos[1] + move[face][1]\n",
    "            \n",
    "            if is_valid_move(nx, ny):\n",
    "                new_cost = cost + 1 # for moving forward\n",
    "                if_actioned = True\n",
    "                \n",
    "        if if_actioned: # otherwise deadend\n",
    "            for action_prepare in actions: # for todolist\n",
    "                if ((action_prepare == 0 and action_next == 0 and \n",
    "                     move[nface][0] == -move[face][0] and move[nface][1] == -move[face][1]) \n",
    "                    or (action_prepare != 0 and action_next != 0 and nface == -face)): # not go back\n",
    "                    continue\n",
    "                heapq.heappush(todolist, (new_cost, (nx, ny), (nface, action_prepare)))\n",
    "                \n",
    "                # add predecessors\n",
    "                if ((nx, ny), nface, action_prepare, new_cost) not in predecessors:\n",
    "                    predecessors[((nx, ny), nface, action_prepare, new_cost)] = []\n",
    "                predecessors[((nx, ny), nface, action_prepare, new_cost)].append((pos, face, action_next, cost))\n",
    "    return None, visited, predecessors"
   ]
  },
  {
   "cell_type": "code",
   "execution_count": 3,
   "id": "bccd7a47",
   "metadata": {},
   "outputs": [
    {
     "name": "stdout",
     "output_type": "stream",
     "text": [
      "102460\n"
     ]
    }
   ],
   "source": [
    "cost, visited, predecessors = Dijkstra_find_path()\n",
    "print(cost)"
   ]
  },
  {
   "cell_type": "markdown",
   "id": "f74d1f86",
   "metadata": {},
   "source": [
    "#### Part 2"
   ]
  },
  {
   "cell_type": "code",
   "execution_count": 4,
   "id": "6da62d47",
   "metadata": {},
   "outputs": [
    {
     "data": {
      "text/plain": [
       "527"
      ]
     },
     "execution_count": 4,
     "metadata": {},
     "output_type": "execute_result"
    }
   ],
   "source": [
    "def reconstruct_paths(optimal_cost):\n",
    "#     paths = []\n",
    "    positions = set()\n",
    "    todolist = []\n",
    "    for face in faces:\n",
    "        px, py = end_pos[0] - move[face][0], end_pos[1] - move[face][1]\n",
    "        if is_valid_move(px, py):\n",
    "            todolist.append([(end_pos, face, 0, optimal_cost)]) # todolist: paths, each path is a state: pos=(x, y), face, action, cost\n",
    "\n",
    "    def if_start(state):\n",
    "        for action in actions:\n",
    "            if state == (start_pos, faces[0], action, 0):\n",
    "                return True\n",
    "        return False\n",
    "\n",
    "#     print(todolist)\n",
    "    while todolist:\n",
    "#         print(todolist)\n",
    "        path = todolist.pop()\n",
    "        current = path[-1]\n",
    "        \n",
    "        if if_start(current):\n",
    "            for state in path:\n",
    "                positions.add(state[0])\n",
    "#             paths.append(path[::-1])  # Reverse path for correct order\n",
    "#             print(paths)\n",
    "            continue\n",
    "\n",
    "        for parent in predecessors[current]:\n",
    "            if parent not in path and parent[-1] < current[-1]:\n",
    "                todolist.append(path + [parent])\n",
    "    return len(positions) # paths\n",
    "\n",
    "# optimal_paths = reconstruct_paths(cost)\n",
    "reconstruct_paths(cost)"
   ]
  },
  {
   "cell_type": "code",
   "execution_count": 5,
   "id": "af7890df",
   "metadata": {},
   "outputs": [],
   "source": [
    "# positions = set()\n",
    "# for path in optimal_paths:\n",
    "#     for state in path:\n",
    "#         positions.add(state[0])\n",
    "# len(positions)"
   ]
  },
  {
   "cell_type": "code",
   "execution_count": null,
   "id": "ce316b92",
   "metadata": {},
   "outputs": [],
   "source": []
  }
 ],
 "metadata": {
  "kernelspec": {
   "display_name": "Python 3 (ipykernel)",
   "language": "python",
   "name": "python3"
  },
  "language_info": {
   "codemirror_mode": {
    "name": "ipython",
    "version": 3
   },
   "file_extension": ".py",
   "mimetype": "text/x-python",
   "name": "python",
   "nbconvert_exporter": "python",
   "pygments_lexer": "ipython3",
   "version": "3.11.5"
  }
 },
 "nbformat": 4,
 "nbformat_minor": 5
}
