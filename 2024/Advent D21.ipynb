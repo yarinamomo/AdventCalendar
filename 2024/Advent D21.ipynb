{
 "cells": [
  {
   "cell_type": "markdown",
   "id": "22f06383",
   "metadata": {},
   "source": [
    "### Jul AdventKalender D21\n",
    "\n",
    "https://adventofcode.com/2024/day/21"
   ]
  },
  {
   "cell_type": "markdown",
   "id": "f1695325",
   "metadata": {},
   "source": [
    "#### Part 1"
   ]
  },
  {
   "cell_type": "code",
   "execution_count": 34,
   "id": "1f9ab90c",
   "metadata": {},
   "outputs": [],
   "source": [
    "import numpy as np\n",
    "\n",
    "def read_file():\n",
    "    input_file_path = \"data/input21.txt\"\n",
    "    codes = []\n",
    "    def process_line(line):\n",
    "        codes.append(list(line.strip()))\n",
    "\n",
    "    with open(input_file_path, 'r') as file:\n",
    "        for line in file:\n",
    "            process_line(line)\n",
    "            \n",
    "    return np.array(codes)\n",
    "\n",
    "codes = read_file()"
   ]
  },
  {
   "cell_type": "code",
   "execution_count": 37,
   "id": "decad278",
   "metadata": {},
   "outputs": [],
   "source": [
    "translate = {\n",
    "    (0, 1): \">\", \n",
    "    (0, -1): \"<\",\n",
    "    (1, 0): \"v\", \n",
    "    (-1, 0): \"^\"\n",
    "}\n",
    "\n",
    "hori_priority_poses_1 = [(0,0), (1,0), (2,0)] # 1,4,7, go left-right first, then up down\n",
    "vert_priority_poses_1 = [(3,1), (3,2)] # 0, A, go up down first, then left-right\n",
    "\n",
    "hori_priority_poses_2 = [(1,0)]\n",
    "vert_priority_poses_2 = [(0,1), (0,2)] # ^, A\n",
    "\n",
    "dict_1 = {\n",
    "    \"7\": (0,0), \"8\": (0,1), \"9\": (0,2),\n",
    "    \"4\": (1,0), \"5\": (1,1), \"6\": (1,2),\n",
    "    \"1\": (2,0), \"2\": (2,1), \"3\": (2,2),\n",
    "    \"0\": (3,1), \"A\": (3,2)\n",
    "}\n",
    "dict_2 = {\n",
    "    \"^\": (0,1), \"A\": (0,2),\n",
    "    \"<\": (1,0), \"v\": (1,1), \">\": (1,2)\n",
    "}\n",
    "\n",
    "def sort_instruct(instruct, priori = \"updown\"): # leftright\n",
    "    pattern = \"^v<>\"\n",
    "    if priori == \"leftright\":\n",
    "        pattern = \"<>^v\"\n",
    "    return sorted(\n",
    "        instruct, \n",
    "        key=lambda l: pattern.find(l) \n",
    "        )\n",
    "            \n",
    "\n",
    "def out_instruct(pos, dest, pad_id):\n",
    "    res = \"\"\n",
    "    priori = \"leftright\"\n",
    "    dist = tuple(p2 - p1 for p1,p2 in zip(pos, dest))\n",
    "    for rule, rule_inst in translate.items():\n",
    "        if dist[0]!=0 and rule[0]!=0 and dist[0]/rule[0]>0:\n",
    "            res += rule_inst * (dist[0]//rule[0])\n",
    "        if dist[1]!=0 and rule[1]!=0 and dist[1]/rule[1]>0:\n",
    "            res += rule_inst * (dist[1]//rule[1])\n",
    "    if dist[1] > 0: # to right -> updown > leftright; to left: leftright > updown\n",
    "        priori = \"updown\"\n",
    "    if pad_id == 1:\n",
    "        if (pos in vert_priority_poses_1) and (dest in hori_priority_poses_1):\n",
    "            # bottom to left, up down first\n",
    "            priori = \"updown\"\n",
    "        if (pos in hori_priority_poses_1) and (dest in vert_priority_poses_1):\n",
    "            # left to bottom, left right first\n",
    "            priori = \"leftright\"\n",
    "    if pad_id == 2:\n",
    "        if (pos in vert_priority_poses_2) and (dest in hori_priority_poses_2):\n",
    "            # up down first\n",
    "            priori = \"updown\"\n",
    "        if (pos in hori_priority_poses_2) and (dest in vert_priority_poses_2):\n",
    "            # left right first\n",
    "            priori = \"leftright\"\n",
    "    return \"\".join(sort_instruct(res, priori))\n",
    "\n",
    "def move_pad(code, pad_id = 1):\n",
    "    dict_target = dict_1\n",
    "    if pad_id == 2: dict_target = dict_2\n",
    "        \n",
    "    current = dict_target[\"A\"]\n",
    "    res_inst = \"\"\n",
    "    for c in code:\n",
    "        res_inst += out_instruct(current, dict_target[c], pad_id)\n",
    "        res_inst += \"A\"\n",
    "        current = dict_target[c]\n",
    "    # print(res_inst)\n",
    "    return res_inst"
   ]
  },
  {
   "cell_type": "code",
   "execution_count": 38,
   "id": "884abc5e-7f7a-4c2b-9c86-5a703fb3a519",
   "metadata": {},
   "outputs": [
    {
     "data": {
      "text/plain": [
       "206798"
      ]
     },
     "execution_count": 38,
     "metadata": {},
     "output_type": "execute_result"
    }
   ],
   "source": [
    "total = 0\n",
    "for code in codes:\n",
    "    robot1 = move_pad(code, 1)\n",
    "    robot2 = move_pad(robot1, 2)\n",
    "    robot3 = move_pad(robot2, 2)\n",
    "    total += int(\"\".join(code[:-1])) * len(robot3)\n",
    "    # print(len(robot3), int(\"\".join(code[:-1])), int(\"\".join(code[:-1])) * len(robot3))\n",
    "total"
   ]
  },
  {
   "cell_type": "markdown",
   "id": "f74d1f86",
   "metadata": {},
   "source": [
    "#### Part 2"
   ]
  },
  {
   "cell_type": "code",
   "execution_count": 40,
   "id": "c9305634-e1f1-4442-bd7f-94b4ea0b9771",
   "metadata": {},
   "outputs": [
    {
     "data": {
      "text/plain": [
       "251508572750680"
      ]
     },
     "execution_count": 40,
     "metadata": {},
     "output_type": "execute_result"
    }
   ],
   "source": [
    "total = 0\n",
    "for code in codes:\n",
    "    roboti = move_pad(code, 1)\n",
    "    for i in range(25):\n",
    "        roboti = move_pad(roboti, 2)\n",
    "    total += int(\"\".join(code[:-1])) * len(roboti)\n",
    "total"
   ]
  }
 ],
 "metadata": {
  "kernelspec": {
   "display_name": "Python 3 (ipykernel)",
   "language": "python",
   "name": "python3"
  },
  "language_info": {
   "codemirror_mode": {
    "name": "ipython",
    "version": 3
   },
   "file_extension": ".py",
   "mimetype": "text/x-python",
   "name": "python",
   "nbconvert_exporter": "python",
   "pygments_lexer": "ipython3",
   "version": "3.10.14"
  }
 },
 "nbformat": 4,
 "nbformat_minor": 5
}
