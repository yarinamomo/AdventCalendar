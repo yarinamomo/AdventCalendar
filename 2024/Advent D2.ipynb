{
 "cells": [
  {
   "cell_type": "markdown",
   "id": "22f06383",
   "metadata": {},
   "source": [
    "### Jul AdventKalender D2\n",
    "\n",
    "https://adventofcode.com/2024/day/2"
   ]
  },
  {
   "cell_type": "markdown",
   "id": "f1695325",
   "metadata": {},
   "source": [
    "#### Day 2.1 "
   ]
  },
  {
   "cell_type": "code",
   "execution_count": 1,
   "id": "1f9ab90c",
   "metadata": {},
   "outputs": [],
   "source": [
    "import numpy as np\n",
    "\n",
    "input_file_path = \"data/input2.txt\"\n",
    "\n",
    "level_list = []\n",
    "\n",
    "def process_line(line):\n",
    "    levels = line.split()\n",
    "    level_list.append(np.array(levels, dtype = int))\n",
    "\n",
    "with open(input_file_path, 'r') as file:\n",
    "    for line in file:\n",
    "        process_line(line)"
   ]
  },
  {
   "cell_type": "code",
   "execution_count": 2,
   "id": "6990a5e8",
   "metadata": {},
   "outputs": [
    {
     "data": {
      "text/plain": [
       "371"
      ]
     },
     "execution_count": 2,
     "metadata": {},
     "output_type": "execute_result"
    }
   ],
   "source": [
    "def validate_safety(arr):\n",
    "    diff = np.ediff1d(arr)\n",
    "    diff_abs = np.absolute(diff)\n",
    "    return ((np.all(diff>0) or np.all(diff<0)) and np.all(np.where((diff_abs <= 3) & (diff_abs >= 1), True, False)))\n",
    "    \n",
    "sum([validate_safety(arr) for arr in level_list])"
   ]
  },
  {
   "cell_type": "markdown",
   "id": "f74d1f86",
   "metadata": {},
   "source": [
    "#### Day 2.2"
   ]
  },
  {
   "cell_type": "code",
   "execution_count": 3,
   "id": "50b52ed9",
   "metadata": {},
   "outputs": [],
   "source": [
    "def validate_safety_soft(arr):\n",
    "    if validate_safety(arr):\n",
    "        return True\n",
    "    \n",
    "    for i in range(len(arr)):\n",
    "        temp = np.concatenate((arr[:i], arr[(i+1):]), axis=None)\n",
    "        if validate_safety(temp):\n",
    "            return True\n",
    "    \n",
    "#     diff = np.ediff1d(arr)\n",
    "#     for i in range(1, len(arr)):\n",
    "#         if (not (1 <= abs(arr[i] - arr[i-1]) <= 3)) or (diff[i]*diff[i-1] < 0):\n",
    "#             candidate1 = np.concatenate((arr[:(i-1)], arr[i:]), axis=None)\n",
    "#             candidate2 = np.concatenate((arr[:i], arr[(i+1):]), axis=None)\n",
    "#             return validate_safety(candidate1) or validate_safety(candidate2)\n",
    "    return False"
   ]
  },
  {
   "cell_type": "code",
   "execution_count": 4,
   "id": "176f198f",
   "metadata": {},
   "outputs": [
    {
     "data": {
      "text/plain": [
       "426"
      ]
     },
     "execution_count": 4,
     "metadata": {},
     "output_type": "execute_result"
    }
   ],
   "source": [
    "sum([validate_safety_soft(arr) for arr in level_list])"
   ]
  },
  {
   "cell_type": "code",
   "execution_count": null,
   "id": "fb5845be",
   "metadata": {},
   "outputs": [],
   "source": []
  }
 ],
 "metadata": {
  "kernelspec": {
   "display_name": "Python 3 (ipykernel)",
   "language": "python",
   "name": "python3"
  },
  "language_info": {
   "codemirror_mode": {
    "name": "ipython",
    "version": 3
   },
   "file_extension": ".py",
   "mimetype": "text/x-python",
   "name": "python",
   "nbconvert_exporter": "python",
   "pygments_lexer": "ipython3",
   "version": "3.11.5"
  }
 },
 "nbformat": 4,
 "nbformat_minor": 5
}
