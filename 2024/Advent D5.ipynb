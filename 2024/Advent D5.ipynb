{
 "cells": [
  {
   "cell_type": "markdown",
   "id": "22f06383",
   "metadata": {},
   "source": [
    "### Jul AdventKalender D5\n",
    "\n",
    "https://adventofcode.com/2024/day/5"
   ]
  },
  {
   "cell_type": "markdown",
   "id": "f1695325",
   "metadata": {},
   "source": [
    "#### Part 1"
   ]
  },
  {
   "cell_type": "code",
   "execution_count": 1,
   "id": "1f9ab90c",
   "metadata": {},
   "outputs": [],
   "source": [
    "input_file_path = \"data/input5.txt\"\n",
    "text_ordering = []\n",
    "text_update = []\n",
    "\n",
    "def process_line(line, is_first):\n",
    "    if is_first:\n",
    "        text_ordering.append(list(map(int, line.strip().split(\"|\"))))\n",
    "    else:\n",
    "        text_update.append(list(map(int,line.strip().split(\",\"))))\n",
    "    \n",
    "with open(input_file_path, 'r') as file:\n",
    "    is_first = True\n",
    "    for line in file:\n",
    "        if line.strip() == \"\":\n",
    "            is_first = False\n",
    "            continue\n",
    "        process_line(line, is_first)"
   ]
  },
  {
   "cell_type": "code",
   "execution_count": 2,
   "id": "90ad91fc",
   "metadata": {},
   "outputs": [
    {
     "data": {
      "text/plain": [
       "6498"
      ]
     },
     "execution_count": 2,
     "metadata": {},
     "output_type": "execute_result"
    }
   ],
   "source": [
    "def check_ordering(check_list):\n",
    "    position = {num: i for i, num in enumerate(check_list)}\n",
    "\n",
    "    for left, right in text_ordering:\n",
    "        if left in position and right in position:\n",
    "            if position[left] > position[right]:\n",
    "                return False\n",
    "    return True\n",
    "\n",
    "total_mid = 0\n",
    "for check_list in text_update:\n",
    "    if check_ordering(check_list):\n",
    "        total_mid += check_list[len(check_list)//2]\n",
    "total_mid"
   ]
  },
  {
   "cell_type": "markdown",
   "id": "f74d1f86",
   "metadata": {},
   "source": [
    "#### Part 2"
   ]
  },
  {
   "cell_type": "code",
   "execution_count": 3,
   "id": "8c5e2b42",
   "metadata": {},
   "outputs": [
    {
     "ename": "NetworkXUnfeasible",
     "evalue": "Graph contains a cycle or graph changed during iteration",
     "output_type": "error",
     "traceback": [
      "\u001b[1;31m---------------------------------------------------------------------------\u001b[0m",
      "\u001b[1;31mNetworkXUnfeasible\u001b[0m                        Traceback (most recent call last)",
      "Cell \u001b[1;32mIn[3], line 6\u001b[0m\n\u001b[0;32m      3\u001b[0m graph_ordering \u001b[38;5;241m=\u001b[39m netx\u001b[38;5;241m.\u001b[39mDiGraph()\n\u001b[0;32m      4\u001b[0m graph_ordering\u001b[38;5;241m.\u001b[39madd_edges_from(text_ordering)\n\u001b[1;32m----> 6\u001b[0m sorted_order \u001b[38;5;241m=\u001b[39m \u001b[38;5;28mlist\u001b[39m(netx\u001b[38;5;241m.\u001b[39mtopological_sort(graph_ordering))\n",
      "File \u001b[1;32m~\\AppData\\Local\\anaconda3\\envs\\chatgpt\\Lib\\site-packages\\networkx\\algorithms\\dag.py:309\u001b[0m, in \u001b[0;36mtopological_sort\u001b[1;34m(G)\u001b[0m\n\u001b[0;32m    244\u001b[0m \u001b[38;5;129m@nx\u001b[39m\u001b[38;5;241m.\u001b[39m_dispatch\n\u001b[0;32m    245\u001b[0m \u001b[38;5;28;01mdef\u001b[39;00m \u001b[38;5;21mtopological_sort\u001b[39m(G):\n\u001b[0;32m    246\u001b[0m \u001b[38;5;250m    \u001b[39m\u001b[38;5;124;03m\"\"\"Returns a generator of nodes in topologically sorted order.\u001b[39;00m\n\u001b[0;32m    247\u001b[0m \n\u001b[0;32m    248\u001b[0m \u001b[38;5;124;03m    A topological sort is a nonunique permutation of the nodes of a\u001b[39;00m\n\u001b[1;32m   (...)\u001b[0m\n\u001b[0;32m    307\u001b[0m \u001b[38;5;124;03m       *Introduction to Algorithms - A Creative Approach.* Addison-Wesley.\u001b[39;00m\n\u001b[0;32m    308\u001b[0m \u001b[38;5;124;03m    \"\"\"\u001b[39;00m\n\u001b[1;32m--> 309\u001b[0m     \u001b[38;5;28;01mfor\u001b[39;00m generation \u001b[38;5;129;01min\u001b[39;00m nx\u001b[38;5;241m.\u001b[39mtopological_generations(G):\n\u001b[0;32m    310\u001b[0m         \u001b[38;5;28;01myield from\u001b[39;00m generation\n",
      "File \u001b[1;32m~\\AppData\\Local\\anaconda3\\envs\\chatgpt\\Lib\\site-packages\\networkx\\algorithms\\dag.py:239\u001b[0m, in \u001b[0;36mtopological_generations\u001b[1;34m(G)\u001b[0m\n\u001b[0;32m    236\u001b[0m     \u001b[38;5;28;01myield\u001b[39;00m this_generation\n\u001b[0;32m    238\u001b[0m \u001b[38;5;28;01mif\u001b[39;00m indegree_map:\n\u001b[1;32m--> 239\u001b[0m     \u001b[38;5;28;01mraise\u001b[39;00m nx\u001b[38;5;241m.\u001b[39mNetworkXUnfeasible(\n\u001b[0;32m    240\u001b[0m         \u001b[38;5;124m\"\u001b[39m\u001b[38;5;124mGraph contains a cycle or graph changed during iteration\u001b[39m\u001b[38;5;124m\"\u001b[39m\n\u001b[0;32m    241\u001b[0m     )\n",
      "\u001b[1;31mNetworkXUnfeasible\u001b[0m: Graph contains a cycle or graph changed during iteration"
     ]
    }
   ],
   "source": [
    "import networkx as netx\n",
    "\n",
    "graph_ordering = netx.DiGraph()\n",
    "graph_ordering.add_edges_from(text_ordering)\n",
    "\n",
    "sorted_order = list(netx.topological_sort(graph_ordering))"
   ]
  },
  {
   "cell_type": "code",
   "execution_count": null,
   "id": "4ff66701",
   "metadata": {},
   "outputs": [],
   "source": [
    "total_mid_fixed = 0\n",
    "for check_list in text_update:\n",
    "    if not check_ordering(check_list):\n",
    "        check_list_fixed = [num for num in sorted_order if num in check_list]\n",
    "        total_mid_fixed += check_list_fixed[len(check_list_fixed)//2]\n",
    "total_mid_fixed"
   ]
  },
  {
   "cell_type": "code",
   "execution_count": 5,
   "id": "6ab405e6",
   "metadata": {},
   "outputs": [
    {
     "data": {
      "text/plain": [
       "[(15, 42), (42, 69), (69, 15)]"
      ]
     },
     "execution_count": 5,
     "metadata": {},
     "output_type": "execute_result"
    }
   ],
   "source": [
    "netx.find_cycle(graph_ordering)"
   ]
  },
  {
   "cell_type": "code",
   "execution_count": null,
   "id": "fb5845be",
   "metadata": {},
   "outputs": [],
   "source": [
    "# https://networkx.org/nx-guides/content/algorithms/dag/index.html#directed-acyclic-graph\n",
    "\n",
    "# import matplotlib.pyplot as plt\n",
    "\n",
    "# netx.draw(graph_ordering, with_labels=True, font_weight='bold')\n",
    "# plt.show()"
   ]
  }
 ],
 "metadata": {
  "kernelspec": {
   "display_name": "Python 3 (ipykernel)",
   "language": "python",
   "name": "python3"
  },
  "language_info": {
   "codemirror_mode": {
    "name": "ipython",
    "version": 3
   },
   "file_extension": ".py",
   "mimetype": "text/x-python",
   "name": "python",
   "nbconvert_exporter": "python",
   "pygments_lexer": "ipython3",
   "version": "3.11.5"
  }
 },
 "nbformat": 4,
 "nbformat_minor": 5
}
