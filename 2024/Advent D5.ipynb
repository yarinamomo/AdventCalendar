{
 "cells": [
  {
   "cell_type": "markdown",
   "id": "22f06383",
   "metadata": {},
   "source": [
    "### Jul AdventKalender D5\n",
    "\n",
    "https://adventofcode.com/2024/day/5"
   ]
  },
  {
   "cell_type": "markdown",
   "id": "f1695325",
   "metadata": {},
   "source": [
    "#### Part 1"
   ]
  },
  {
   "cell_type": "code",
   "execution_count": 1,
   "id": "1f9ab90c",
   "metadata": {},
   "outputs": [],
   "source": [
    "input_file_path = \"data/input5.txt\"\n",
    "text_ordering = []\n",
    "text_update = []\n",
    "\n",
    "def process_line(line, is_first):\n",
    "    if is_first:\n",
    "        text_ordering.append(list(map(int, line.strip().split(\"|\"))))\n",
    "    else:\n",
    "        text_update.append(list(map(int,line.strip().split(\",\"))))\n",
    "    \n",
    "with open(input_file_path, 'r') as file:\n",
    "    is_first = True\n",
    "    for line in file:\n",
    "        if line.strip() == \"\":\n",
    "            is_first = False\n",
    "            continue\n",
    "        process_line(line, is_first)"
   ]
  },
  {
   "cell_type": "code",
   "execution_count": 2,
   "id": "90ad91fc",
   "metadata": {},
   "outputs": [
    {
     "data": {
      "text/plain": [
       "6498"
      ]
     },
     "execution_count": 2,
     "metadata": {},
     "output_type": "execute_result"
    }
   ],
   "source": [
    "def check_ordering(check_list):\n",
    "    check_list_dict = {num: i for i, num in enumerate(check_list)}\n",
    "\n",
    "    for left, right in text_ordering:\n",
    "        if left in check_list_dict and right in check_list_dict:\n",
    "            if check_list_dict[left] > check_list_dict[right]:\n",
    "                return False\n",
    "    return True\n",
    "\n",
    "total_mid = 0\n",
    "for check_list in text_update:\n",
    "    if check_ordering(check_list):\n",
    "        total_mid += check_list[len(check_list)//2]\n",
    "total_mid"
   ]
  },
  {
   "cell_type": "markdown",
   "id": "f74d1f86",
   "metadata": {},
   "source": [
    "#### Part 2"
   ]
  },
  {
   "cell_type": "code",
   "execution_count": 3,
   "id": "b3abd8f3-1233-4298-af4d-81701cfe60ec",
   "metadata": {},
   "outputs": [
    {
     "data": {
      "text/plain": [
       "5017"
      ]
     },
     "execution_count": 3,
     "metadata": {},
     "output_type": "execute_result"
    }
   ],
   "source": [
    "ordering_dict = {}\n",
    "for left, right in text_ordering:\n",
    "    ordering_dict[str(right)+str(left)]=-1\n",
    "    ordering_dict[str(left)+str(right)]=1\n",
    "\n",
    "def check_ordering_pair(num1, num2):\n",
    "    if ordering_dict[str(num1)+str(num2)]==-1:\n",
    "        return False\n",
    "    return True\n",
    "\n",
    "def bubble_sort(arr):\n",
    "    if_swap = False\n",
    "    for n in range(len(arr) - 1, 0, -1):\n",
    "        swapped = False  \n",
    "        for i in range(n):\n",
    "            if check_ordering_pair(arr[i], arr[i + 1])==False:\n",
    "                arr[i], arr[i + 1] = arr[i + 1], arr[i]\n",
    "                swapped = True\n",
    "                if_swap = True\n",
    "                \n",
    "        if not swapped:\n",
    "            break\n",
    "    return if_swap\n",
    "\n",
    "total_mid = 0\n",
    "for check_list in text_update:\n",
    "    if bubble_sort(check_list):\n",
    "        total_mid += check_list[len(check_list)//2]\n",
    "total_mid"
   ]
  },
  {
   "cell_type": "code",
   "execution_count": 4,
   "id": "8c5e2b42",
   "metadata": {},
   "outputs": [],
   "source": [
    "# I thought there is connectivity in the rules - - but there is not\n",
    "# This elegant and smart way does not work because the ordering rules are not perfect (cycle - [(15, 42), (42, 69), (69, 15)])\n",
    "\n",
    "# import networkx as netx\n",
    "\n",
    "# graph_ordering = netx.DiGraph()\n",
    "# graph_ordering.add_edges_from(text_ordering)\n",
    "\n",
    "# sorted_order = list(netx.topological_sort(graph_ordering))\n",
    "\n",
    "# total_mid_fixed = 0\n",
    "# for check_list in text_update:\n",
    "#     if not check_ordering(check_list):\n",
    "#         check_list_fixed = [num for num in sorted_order if num in check_list]\n",
    "#         total_mid_fixed += check_list_fixed[len(check_list_fixed)//2]\n",
    "# total_mid_fixed"
   ]
  }
 ],
 "metadata": {
  "kernelspec": {
   "display_name": "Python 3 (ipykernel)",
   "language": "python",
   "name": "python3"
  },
  "language_info": {
   "codemirror_mode": {
    "name": "ipython",
    "version": 3
   },
   "file_extension": ".py",
   "mimetype": "text/x-python",
   "name": "python",
   "nbconvert_exporter": "python",
   "pygments_lexer": "ipython3",
   "version": "3.9.19"
  }
 },
 "nbformat": 4,
 "nbformat_minor": 5
}
