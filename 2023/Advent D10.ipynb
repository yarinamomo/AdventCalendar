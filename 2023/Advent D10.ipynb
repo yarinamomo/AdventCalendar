{
 "cells": [
  {
   "cell_type": "markdown",
   "id": "22f06383",
   "metadata": {},
   "source": [
    "### Jul AdventKalender D10\n",
    "\n",
    "https://adventofcode.com/2023/day/10"
   ]
  },
  {
   "cell_type": "markdown",
   "id": "f1695325",
   "metadata": {},
   "source": [
    "#### Part 1 "
   ]
  },
  {
   "cell_type": "code",
   "execution_count": 1,
   "id": "1f9ab90c",
   "metadata": {},
   "outputs": [],
   "source": [
    "dirs = {\n",
    "      'u': (-1,0),\n",
    "      'd': (1,0),\n",
    "      'l': (0,-1),\n",
    "      'r': (0,1)\n",
    "}\n",
    "\n",
    "symbol_dir = {\n",
    "    'S': ['u', 'd', 'r', 'l'],\n",
    "    '|': ['u', 'd'],\n",
    "    '7': ['l', 'd'],\n",
    "    'F': ['r', 'd'],\n",
    "    'J': ['l', 'u'],\n",
    "    'L': ['r', 'u'],\n",
    "    '-': ['l', 'r']\n",
    "}\n",
    "\n",
    "dir_symbol = {\n",
    "    'u': ['|', '7', 'F', 'S'], # go \"up\" CAN go to\n",
    "    'd': ['|', 'L', 'J', 'S'],\n",
    "    'l': ['L', 'F', '-', 'S'],\n",
    "    'r': ['J', '7', '-', 'S'],\n",
    "}\n",
    "\n",
    "\n",
    "input_tiles = []\n",
    "with open(\"data/input10.txt\", 'r') as file:\n",
    "    for line in file:\n",
    "        input_tiles.append(list(line.strip()))  \n",
    "\n",
    "def start_pos():\n",
    "    for i in range(len(input_tiles)):\n",
    "        for j in range(len(input_tiles[0])):\n",
    "            if input_tiles[i][j] == 'S':\n",
    "                return [i,j]\n",
    "            \n",
    "start = start_pos()"
   ]
  },
  {
   "cell_type": "code",
   "execution_count": 2,
   "id": "8b1dedaa",
   "metadata": {},
   "outputs": [
    {
     "data": {
      "text/plain": [
       "6882.0"
      ]
     },
     "execution_count": 2,
     "metadata": {},
     "output_type": "execute_result"
    }
   ],
   "source": [
    "def if_move(dir_f, pos_t):\n",
    "    symbol_next = input_tiles[pos_t[0]][pos_t[1]]\n",
    "    if symbol_next in dir_symbol[dir_f]:\n",
    "        return True\n",
    "    return False\n",
    "\n",
    "def move_forward(last_pos, current_pos):\n",
    "    for key in symbol_dir[input_tiles[current_pos[0]][current_pos[1]]]:\n",
    "        item = dirs[key]\n",
    "        pos_surr = [x + y for x, y in zip(item, current_pos)]\n",
    "        if all(p >= 0 and p < len(input_tiles[0]) for p in pos_surr) and last_pos != pos_surr and if_move(key, pos_surr):\n",
    "            current = pos_surr\n",
    "            #print(\"Go\", key, \"from\", current_pos, \"to\", pos_surr)\n",
    "            return True, pos_surr\n",
    "        #print(\"Not Go\", key, \"from\", current_pos, \"to\", pos_surr)\n",
    "    return False, current_pos\n",
    "\n",
    "current = start\n",
    "last_pos = start\n",
    "res = True\n",
    "steps = 0\n",
    "loop = [start]\n",
    "while(input_tiles[current[0]][current[1]] != 'S' or steps == 0):\n",
    "    res, pos_t = move_forward(last_pos, current)\n",
    "    if res:\n",
    "        last_pos = current\n",
    "        current = pos_t\n",
    "        steps += 1\n",
    "        loop.append(pos_t)\n",
    "    else:\n",
    "        print(\"No where to go\", pos_t)\n",
    "\n",
    "steps/2"
   ]
  },
  {
   "cell_type": "markdown",
   "id": "f74d1f86",
   "metadata": {},
   "source": [
    "#### Part 2\n",
    "\n",
    "Ray-cast"
   ]
  },
  {
   "cell_type": "code",
   "execution_count": 3,
   "id": "50b52ed9",
   "metadata": {
    "scrolled": false
   },
   "outputs": [],
   "source": [
    "def identify_start_symbol(loop_data):\n",
    "    neighbours = [loop_data[1],loop_data[-1]]\n",
    "    if neighbours[0][0] == neighbours[1][0]:\n",
    "        return '-'\n",
    "    elif neighbours[0][1] == neighbours[1][1]:\n",
    "        return '|'\n",
    "    else:\n",
    "        start = loop_data[0]\n",
    "        if [start[0]-1,start[1]] in neighbours:\n",
    "            if[start[0],start[1]-1] in neighbours:\n",
    "                return 'J'\n",
    "            else:\n",
    "                return 'L'\n",
    "        elif [start[0]+1,start[1]] in neighbours:\n",
    "            if [start[0],start[1]-1] in neighbours:\n",
    "                return '7'\n",
    "            else:\n",
    "                return 'F'\n",
    "loop = loop[:-1]\n",
    "start_symbol = identify_start_symbol(loop)\n",
    "input_tiles[loop[0][0]][loop[0][1]] = start_symbol"
   ]
  },
  {
   "cell_type": "code",
   "execution_count": 4,
   "id": "e9423c2c",
   "metadata": {},
   "outputs": [
    {
     "data": {
      "text/plain": [
       "491"
      ]
     },
     "execution_count": 4,
     "metadata": {},
     "output_type": "execute_result"
    }
   ],
   "source": [
    "tile_count = 0\n",
    "for i in range(len(input_tiles)):\n",
    "    for j in range(len(input_tiles[0])):\n",
    "        if (i != 0) and (j != 0) and (i != len(input_tiles)-1) and (j != len(input_tiles[0])-1):\n",
    "            if [i,j] not in loop:\n",
    "                l = 0\n",
    "                c = 0\n",
    "                while l < j:\n",
    "                    if [i,l] in loop:\n",
    "                        if input_tiles[i][l] == 'L':\n",
    "                            while input_tiles[i][l+1] == '-':\n",
    "                                l += 1\n",
    "                            if input_tiles[i][l+1] == 'J':\n",
    "                                c += 1\n",
    "                            l += 1\n",
    "                        elif input_tiles[i][l] == 'F':\n",
    "                            while input_tiles[i][l+1] == '-':\n",
    "                                l += 1\n",
    "                            if input_tiles[i][l+1] == '7':\n",
    "                                c += 1\n",
    "                            l += 1\n",
    "                        else:\n",
    "                            c += 1\n",
    "                            l += 1\n",
    "                    else:\n",
    "                        l += 1\n",
    "                if c%2 != 0:\n",
    "                    tile_count += 1\n",
    "\n",
    "tile_count"
   ]
  },
  {
   "cell_type": "code",
   "execution_count": null,
   "id": "a29d4c04",
   "metadata": {},
   "outputs": [],
   "source": []
  }
 ],
 "metadata": {
  "kernelspec": {
   "display_name": "Python 3 (ipykernel)",
   "language": "python",
   "name": "python3"
  },
  "language_info": {
   "codemirror_mode": {
    "name": "ipython",
    "version": 3
   },
   "file_extension": ".py",
   "mimetype": "text/x-python",
   "name": "python",
   "nbconvert_exporter": "python",
   "pygments_lexer": "ipython3",
   "version": "3.10.11"
  }
 },
 "nbformat": 4,
 "nbformat_minor": 5
}
