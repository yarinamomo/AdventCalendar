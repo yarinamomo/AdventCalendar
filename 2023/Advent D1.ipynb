{
 "cells": [
  {
   "cell_type": "markdown",
   "id": "22f06383",
   "metadata": {},
   "source": [
    "### Jul AdventKalender D1\n",
    "\n",
    "https://adventofcode.com/2023/day/1"
   ]
  },
  {
   "cell_type": "markdown",
   "id": "f1695325",
   "metadata": {},
   "source": [
    "#### Day 1.1 \n",
    "\n",
    "Prompt to GPT-3.5\n",
    "\n",
    "Can you write Python code to fulfill the following requirements:\n",
    "for each line of an input text file, find the first digit and last digit to form a two-digit number (by concatenating the two digits as strings, not adding). Give a final output by adding them together. \n",
    "\n",
    "For example:\n",
    "\n",
    "    1abc2\n",
    "    pqr3stu8vwx\n",
    "    a1b2c3d4e5f\n",
    "    treb7uchet\n",
    "\n",
    "In this example, the output values of these four lines are 12, 38, 15, and 77. Adding these together produces 142.\n",
    "\n",
    "ChatGPT did it!"
   ]
  },
  {
   "cell_type": "code",
   "execution_count": 4,
   "id": "1f9ab90c",
   "metadata": {},
   "outputs": [
    {
     "name": "stdout",
     "output_type": "stream",
     "text": [
      "Final Output: 55017\n"
     ]
    }
   ],
   "source": [
    "def process_line(line):\n",
    "    # Extract the first and last digits from the line\n",
    "    first_digit = next((char for char in line if char.isdigit()), None)\n",
    "    last_digit = next((char for char in reversed(line) if char.isdigit()), None)\n",
    "\n",
    "    # Check if both digits are found\n",
    "    if first_digit is not None and last_digit is not None:\n",
    "        # Concatenate the digits as strings and return the result\n",
    "        return int(first_digit + last_digit)\n",
    "    else:\n",
    "        # Return 0 if either of the digits is not found\n",
    "        return 0\n",
    "\n",
    "def main(input_file_path):\n",
    "    total_sum = 0\n",
    "\n",
    "    # Open and read the input file\n",
    "    with open(input_file_path, 'r') as file:\n",
    "        # Process each line in the file\n",
    "        for line in file:\n",
    "            # Add the result of each line to the total sum\n",
    "            total_sum += process_line(line)\n",
    "\n",
    "    # Print the final output\n",
    "    print(\"Final Output:\", total_sum)\n",
    "\n",
    "# Example usage with the given input\n",
    "input_file_path = \"data/input1.txt\"  # Replace with the actual path to your input file\n",
    "main(input_file_path)"
   ]
  },
  {
   "cell_type": "markdown",
   "id": "f74d1f86",
   "metadata": {},
   "source": [
    "#### Day 1.2\n",
    "prompt:\n",
    "\n",
    "following the previous requirement, this time you need also consider digits that are in the form of letters such as one, two, three, four, five, six, seven, eight, and nine. What is your answer now?\n",
    "\n",
    "Took much time asking again and debugging. Did not worth it. Did myself."
   ]
  },
  {
   "cell_type": "code",
   "execution_count": 17,
   "id": "50b52ed9",
   "metadata": {},
   "outputs": [
    {
     "name": "stdout",
     "output_type": "stream",
     "text": [
      "Final Output: 53539\n"
     ]
    }
   ],
   "source": [
    "import re\n",
    "\n",
    "def process_line(line):\n",
    "    # Define a dictionary to map spelled-out digits to their corresponding numeric values\n",
    "    digit_mapping = {\n",
    "        'one': '1',\n",
    "        'two': '2',\n",
    "        'three': '3',\n",
    "        'four': '4',\n",
    "        'five': '5',\n",
    "        'six': '6',\n",
    "        'seven': '7',\n",
    "        'eight': '8',\n",
    "        'nine': '9'\n",
    "    }\n",
    "\n",
    "    # Find all sequences of digits (whether spelled out or numeric)\n",
    "    digit_sequences = re.findall(r'(?=(\\d+|one|two|three|four|five|six|seven|eight|nine|\\d))', line.lower()) # ?=(..)) does not consume\n",
    "    #print(line)\n",
    "    #print(digit_sequences)\n",
    "    # Initialize an empty list to store the first and last digits of each sequence\n",
    "    digits = []\n",
    "\n",
    "    # Extract the first and last digit from each sequence\n",
    "    for sequence in digit_sequences:\n",
    "        # Use isdigit() to check if the sequence is numeric\n",
    "        if sequence.isdigit():\n",
    "            digits.append(sequence)\n",
    "        else:\n",
    "            # If the sequence is spelled out, map it to numeric values using the dictionary\n",
    "            mapped_digits = digit_mapping[sequence]\n",
    "            digits.append(mapped_digits)\n",
    "            \n",
    "    #print(digits)\n",
    "    # Check if at least two digits are found\n",
    "    if len(digits) >= 1:\n",
    "        # Concatenate the first and last digits as strings and return the result\n",
    "        res = int(''.join([digits[0][0],digits[-1][-1]]))\n",
    "    else:\n",
    "        res = 0\n",
    "    \n",
    "    #print(res)\n",
    "    return res\n",
    "\n",
    "def main(input_file_path):\n",
    "    total_sum = 0\n",
    "\n",
    "    # Open and read the input file\n",
    "    with open(input_file_path, 'r') as file:\n",
    "        # Process each line in the file\n",
    "        for line in file:\n",
    "            # Add the result of each line to the total sum\n",
    "            total_sum += process_line(line)\n",
    "\n",
    "    # Print the final output\n",
    "    print(\"Final Output:\", total_sum)\n",
    "\n",
    "# Example usage with the given input\n",
    "input_file_path = \"data/input1.txt\"  # Replace with the actual path to your input file\n",
    "main(input_file_path)\n"
   ]
  }
 ],
 "metadata": {
  "kernelspec": {
   "display_name": "Python 3 (ipykernel)",
   "language": "python",
   "name": "python3"
  },
  "language_info": {
   "codemirror_mode": {
    "name": "ipython",
    "version": 3
   },
   "file_extension": ".py",
   "mimetype": "text/x-python",
   "name": "python",
   "nbconvert_exporter": "python",
   "pygments_lexer": "ipython3",
   "version": "3.10.11"
  }
 },
 "nbformat": 4,
 "nbformat_minor": 5
}
