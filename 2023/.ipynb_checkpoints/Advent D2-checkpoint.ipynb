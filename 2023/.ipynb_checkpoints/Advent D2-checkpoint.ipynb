{
 "cells": [
  {
   "cell_type": "markdown",
   "id": "22f06383",
   "metadata": {},
   "source": [
    "### Jul AdventKalender D2\n",
    "\n",
    "https://adventofcode.com/2023/day/2"
   ]
  },
  {
   "cell_type": "markdown",
   "id": "f1695325",
   "metadata": {},
   "source": [
    "#### Part 1 \n",
    "\n",
    "Prompt to GPT-3.5\n",
    "\n",
    "The whole question basically.\n",
    "\n",
    "It requires much debugging and modifying. I gave up trying to ask ChatGPT to fix it, and I feel it took less time that I debug it myself.\n"
   ]
  },
  {
   "cell_type": "code",
   "execution_count": 39,
   "id": "1f9ab90c",
   "metadata": {},
   "outputs": [
    {
     "name": "stdout",
     "output_type": "stream",
     "text": [
      "Possible game IDs: [1, 5, 6, 7, 8, 10, 11, 13, 14, 17, 18, 21, 22, 24, 26, 28, 31, 39, 40, 45, 46, 49, 53, 55, 56, 62, 63, 64, 65, 66, 68, 69, 71, 72, 74, 76, 77, 78, 84, 87, 88, 91, 93, 94, 95, 96, 99]\n",
      "Sum of possible game IDs: 2377\n"
     ]
    }
   ],
   "source": [
    "import re\n",
    "\n",
    "def is_possible(game, target_counts):\n",
    "    cube_counts = {'red': 0, 'green': 0, 'blue': 0}\n",
    "    for subset in game.split(';'):\n",
    "        for item in subset.split(','):\n",
    "            count, color = item.split()\n",
    "            cube_counts[color] = int(count)\n",
    "        if any(cube_counts[color] > target_counts[color] for color in target_counts):\n",
    "            return False\n",
    "    return True\n",
    "\n",
    "if __name__ == \"__main__\":\n",
    "    target_counts = {'red': 12, 'green': 13, 'blue': 14}\n",
    "\n",
    "    possible_game_ids = []\n",
    "      \n",
    "    with open(\"data/input2.txt\", 'r') as file:\n",
    "        for line in file:\n",
    "            game_id, game = line.split(\":\")\n",
    "            if is_possible(game, target_counts):\n",
    "                possible_game_ids.append(int(re.findall(r'\\d+', game_id)[0]))\n",
    "    \n",
    "    print(\"Possible game IDs:\", possible_game_ids)\n",
    "    print(\"Sum of possible game IDs:\", sum(possible_game_ids))"
   ]
  },
  {
   "cell_type": "markdown",
   "id": "f74d1f86",
   "metadata": {},
   "source": [
    "#### Part 2\n",
    "I did this myself. It went much smoother than using ChatGPT."
   ]
  },
  {
   "cell_type": "code",
   "execution_count": 43,
   "id": "50b52ed9",
   "metadata": {},
   "outputs": [
    {
     "name": "stdout",
     "output_type": "stream",
     "text": [
      "Sum of powers of minimum sets: 71220\n"
     ]
    }
   ],
   "source": [
    "import re\n",
    "\n",
    "def calculate_min_cubes(game, target_counts):\n",
    "    cube_counts = {'red': 0, 'green': 0, 'blue': 0}\n",
    "    mul = 1\n",
    "    for subset in game.split(';'):\n",
    "        for item in subset.split(','):\n",
    "            count, color = item.split()\n",
    "            if int(count) > cube_counts[color]:\n",
    "                cube_counts[color] = int(count)\n",
    "    for i in cube_counts:\n",
    "        mul = mul*cube_counts[i]\n",
    "    return mul\n",
    "\n",
    "if __name__ == \"__main__\":\n",
    "    target_counts = {'red': 12, 'green': 13, 'blue': 14}\n",
    "\n",
    "    total_power = 0\n",
    "      \n",
    "    with open(\"data/input2.txt\", 'r') as file:\n",
    "        for line in file:\n",
    "            game_id, game = line.split(\":\")\n",
    "            total_power += calculate_min_cubes(game, target_counts)\n",
    "    \n",
    "    print(\"Sum of powers of minimum sets:\", total_power)"
   ]
  }
 ],
 "metadata": {
  "kernelspec": {
   "display_name": "Python 3 (ipykernel)",
   "language": "python",
   "name": "python3"
  },
  "language_info": {
   "codemirror_mode": {
    "name": "ipython",
    "version": 3
   },
   "file_extension": ".py",
   "mimetype": "text/x-python",
   "name": "python",
   "nbconvert_exporter": "python",
   "pygments_lexer": "ipython3",
   "version": "3.11.5"
  }
 },
 "nbformat": 4,
 "nbformat_minor": 5
}
