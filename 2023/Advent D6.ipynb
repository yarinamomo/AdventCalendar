{
 "cells": [
  {
   "cell_type": "markdown",
   "id": "22f06383",
   "metadata": {},
   "source": [
    "### Jul AdventKalender D6\n",
    "\n",
    "https://adventofcode.com/2023/day/6"
   ]
  },
  {
   "cell_type": "markdown",
   "id": "f1695325",
   "metadata": {},
   "source": [
    "#### Part 1 \n",
    "\n",
    "There is a boat race, where the boats are toy boats with a button on it.\n",
    "\n",
    "Holding down the button charges the boat, and releasing the button allows the boat to move. Boats move faster if their button was held longer, but time spent holding the button counts against the total race time. You can only hold the button at the start of the race, and boats don't move until the button is released.\n",
    "Your toy boat has a starting speed of 0 mm/ms. For each millisecond holding down the button, the boat's speed increases by 1 mm/ms.\n",
    "\n",
    "Given a fixed ms time and mm distance, how many ways can a boat go further than the given distance?"
   ]
  },
  {
   "cell_type": "code",
   "execution_count": 1,
   "id": "1f9ab90c",
   "metadata": {},
   "outputs": [
    {
     "name": "stdout",
     "output_type": "stream",
     "text": [
      "Final Output: 1155175\n"
     ]
    }
   ],
   "source": [
    "from functools import reduce\n",
    "from operator import mul\n",
    "\n",
    "def count_ways_to_reach_distance(time, distance):\n",
    "    ways = 0\n",
    "    for holding_time in range(time + 1):  # iterate over all possible holding times\n",
    "        speed = holding_time  # speed increases by 1 mm/ms for each millisecond held down\n",
    "        covered_distance = speed * (time - holding_time)  # distance = speed * time\n",
    "\n",
    "        if covered_distance > distance:\n",
    "            ways += 1\n",
    "\n",
    "    return ways\n",
    "\n",
    "times = []\n",
    "diss = []\n",
    "ress = []\n",
    "\n",
    "with open(\"data/input6.txt\", 'r') as file:\n",
    "    for line in file:\n",
    "        if line.startswith(\"Time\"):\n",
    "            times = list(map(int, line.split(\":\")[1].split()))\n",
    "        if line.startswith(\"Distance\"):\n",
    "            diss = list(map(int, line.split(\":\")[1].split()))\n",
    "\n",
    "for i in range(len(times)):\n",
    "    result = count_ways_to_reach_distance(times[i], diss[i])\n",
    "    ress.append(result)\n",
    "\n",
    "print(\"Final Output:\", reduce(mul, ress))"
   ]
  },
  {
   "cell_type": "markdown",
   "id": "f74d1f86",
   "metadata": {},
   "source": [
    "#### Part 2\n"
   ]
  },
  {
   "cell_type": "code",
   "execution_count": 2,
   "id": "50b52ed9",
   "metadata": {},
   "outputs": [
    {
     "name": "stdout",
     "output_type": "stream",
     "text": [
      "Final Output: 35961505\n"
     ]
    }
   ],
   "source": [
    "with open(\"data/input6.txt\", 'r') as file:\n",
    "    for line in file:\n",
    "        if line.startswith(\"Time\"):\n",
    "            time = int(line.split(\":\")[1].replace(\" \",\"\"))\n",
    "        if line.startswith(\"Distance\"):\n",
    "            dis = int(line.split(\":\")[1].replace(\" \",\"\"))\n",
    "\n",
    "result = count_ways_to_reach_distance(time, dis)\n",
    "\n",
    "print(\"Final Output:\", result)"
   ]
  },
  {
   "cell_type": "code",
   "execution_count": null,
   "id": "4e2c0727",
   "metadata": {},
   "outputs": [],
   "source": []
  }
 ],
 "metadata": {
  "kernelspec": {
   "display_name": "Python 3 (ipykernel)",
   "language": "python",
   "name": "python3"
  },
  "language_info": {
   "codemirror_mode": {
    "name": "ipython",
    "version": 3
   },
   "file_extension": ".py",
   "mimetype": "text/x-python",
   "name": "python",
   "nbconvert_exporter": "python",
   "pygments_lexer": "ipython3",
   "version": "3.10.11"
  }
 },
 "nbformat": 4,
 "nbformat_minor": 5
}
