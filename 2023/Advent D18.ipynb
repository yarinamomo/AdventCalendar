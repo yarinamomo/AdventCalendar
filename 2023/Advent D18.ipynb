{
 "cells": [
  {
   "cell_type": "markdown",
   "id": "22f06383",
   "metadata": {},
   "source": [
    "### Jul AdventKalender D18\n",
    "\n",
    "https://adventofcode.com/2023/day/18"
   ]
  },
  {
   "cell_type": "markdown",
   "id": "f1695325",
   "metadata": {},
   "source": [
    "#### Part 1 "
   ]
  },
  {
   "cell_type": "code",
   "execution_count": 25,
   "id": "1f9ab90c",
   "metadata": {},
   "outputs": [],
   "source": [
    "instructions = []\n",
    "\n",
    "with open(\"data/input18.txt\",\"r\") as file:\n",
    "    for line in file.readlines():\n",
    "        direction, steps, _ = line.strip().split()\n",
    "        instructions.append((direction, int(steps)))"
   ]
  },
  {
   "cell_type": "code",
   "execution_count": 26,
   "id": "8b1dedaa",
   "metadata": {
    "scrolled": false
   },
   "outputs": [],
   "source": [
    "directions={\n",
    "    'U':(-1,0),\n",
    "    'D':(1,0),\n",
    "    'L':(0,-1),\n",
    "    'R':(0,1)\n",
    "}\n",
    "def count_area(instructions):\n",
    "    global directions\n",
    "    x_pos = y_pos = 0\n",
    "    area = length = 0\n",
    "    for ins,steps in instructions:\n",
    "        dx,dy = directions[ins]\n",
    "        x_pos,y_pos = x_pos+dx*steps, y_pos+dy*steps\n",
    "        length += steps\n",
    "        area += x_pos*(dy*steps)\n",
    "    return abs(area)+length//2+1"
   ]
  },
  {
   "cell_type": "code",
   "execution_count": 27,
   "id": "e2238c15",
   "metadata": {
    "scrolled": true
   },
   "outputs": [
    {
     "data": {
      "text/plain": [
       "48652"
      ]
     },
     "execution_count": 27,
     "metadata": {},
     "output_type": "execute_result"
    }
   ],
   "source": [
    "count_area(instructions)"
   ]
  },
  {
   "cell_type": "markdown",
   "id": "f74d1f86",
   "metadata": {},
   "source": [
    "#### Part 2"
   ]
  },
  {
   "cell_type": "code",
   "execution_count": 30,
   "id": "b2986275",
   "metadata": {},
   "outputs": [],
   "source": [
    "instructions = []\n",
    "\n",
    "with open(\"data/input18.txt\",\"r\") as file:\n",
    "    for line in file.readlines():\n",
    "        _, _, ins = line.strip().split()\n",
    "        instructions.append((ins[-2], int(ins[2:-2],16)))"
   ]
  },
  {
   "cell_type": "code",
   "execution_count": 31,
   "id": "25b727f3",
   "metadata": {},
   "outputs": [
    {
     "data": {
      "text/plain": [
       "45757884535661"
      ]
     },
     "execution_count": 31,
     "metadata": {},
     "output_type": "execute_result"
    }
   ],
   "source": [
    "# 0 means R, 1 means D, 2 means L, and 3 means U.\n",
    "directions={\n",
    "    '3':(-1,0),\n",
    "    '1':(1,0),\n",
    "    '2':(0,-1),\n",
    "    '0':(0,1)\n",
    "}\n",
    "count_area(instructions)"
   ]
  },
  {
   "cell_type": "code",
   "execution_count": null,
   "id": "33a9bdff",
   "metadata": {},
   "outputs": [],
   "source": []
  }
 ],
 "metadata": {
  "kernelspec": {
   "display_name": "Python 3 (ipykernel)",
   "language": "python",
   "name": "python3"
  },
  "language_info": {
   "codemirror_mode": {
    "name": "ipython",
    "version": 3
   },
   "file_extension": ".py",
   "mimetype": "text/x-python",
   "name": "python",
   "nbconvert_exporter": "python",
   "pygments_lexer": "ipython3",
   "version": "3.11.5"
  }
 },
 "nbformat": 4,
 "nbformat_minor": 5
}
