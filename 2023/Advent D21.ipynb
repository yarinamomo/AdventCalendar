{
 "cells": [
  {
   "cell_type": "markdown",
   "id": "22f06383",
   "metadata": {},
   "source": [
    "### Jul AdventKalender D21\n",
    "\n",
    "https://adventofcode.com/2023/day/21"
   ]
  },
  {
   "cell_type": "markdown",
   "id": "f1695325",
   "metadata": {},
   "source": [
    "#### Part 1 "
   ]
  },
  {
   "cell_type": "code",
   "execution_count": 117,
   "id": "1f9ab90c",
   "metadata": {},
   "outputs": [],
   "source": [
    "input_patterns = []\n",
    "with open(\"data/input21.txt\",\"r\") as file:\n",
    "    for line in file.readlines():\n",
    "        if line.strip().find('S') >= 0:\n",
    "            start_pos = (len(input_patterns), line.strip().find('S')) # start position\n",
    "            line = line.replace('S','.')\n",
    "        input_patterns.append(list(line.strip()))"
   ]
  },
  {
   "cell_type": "code",
   "execution_count": 118,
   "id": "8b1dedaa",
   "metadata": {
    "scrolled": false
   },
   "outputs": [
    {
     "data": {
      "text/plain": [
       "3689"
      ]
     },
     "execution_count": 118,
     "metadata": {},
     "output_type": "execute_result"
    }
   ],
   "source": [
    "directions = [(0, 1), (1, 0), (0, -1), (-1, 0)] # right, down, left, up\n",
    "\n",
    "def get_neighbors(cur_pos):\n",
    "    global input_patterns\n",
    "    res = []\n",
    "    for dir_next in directions:\n",
    "        nx, ny = cur_pos[0] + dir_next[0], cur_pos[1] + dir_next[1]\n",
    "        if 0 <= nx < len(input_patterns) and 0 <= ny < len(input_patterns[0]):\n",
    "            if input_patterns[nx][ny] == '.':\n",
    "                res.append((nx, ny))\n",
    "    return res\n",
    "\n",
    "def find_visit_pos(n_steps, cur_pos):\n",
    "    global directions, input_patterns\n",
    "    to_visit = set([cur_pos])\n",
    "    for i in range(n_steps):\n",
    "        can_visit = set()\n",
    "        for to in to_visit:\n",
    "            neighbors = get_neighbors(to)\n",
    "            for neighbor in neighbors:\n",
    "                can_visit.add(neighbor)\n",
    "        to_visit = can_visit.copy()\n",
    "    return len(can_visit)\n",
    "            \n",
    "find_visit_pos(64, start_pos)    "
   ]
  },
  {
   "cell_type": "markdown",
   "id": "f74d1f86",
   "metadata": {},
   "source": [
    "#### Part 2"
   ]
  },
  {
   "cell_type": "code",
   "execution_count": 119,
   "id": "33a9bdff",
   "metadata": {},
   "outputs": [],
   "source": [
    "def get_neighbors(cur_pos):\n",
    "    global input_patterns\n",
    "    n_row, n_col = len(input_patterns), len(input_patterns[0])\n",
    "    res = []\n",
    "    for dir_next in directions:\n",
    "        nx, ny = cur_pos[0] + dir_next[0], cur_pos[1] + dir_next[1]\n",
    "        if input_patterns[nx%n_row][ny%n_col] == '.': # extend map\n",
    "            res.append((nx, ny))\n",
    "    return res"
   ]
  },
  {
   "cell_type": "code",
   "execution_count": 123,
   "id": "8f15564b",
   "metadata": {},
   "outputs": [],
   "source": [
    "import numpy as np\n",
    "\n",
    "# polynomial, ax2 + bx + c = y\n",
    "n_steps = 26501365\n",
    "length = len(input_patterns) # square map\n",
    "y0 = find_visit_pos(n_steps%length, start_pos)             #x=0\n",
    "y1 = find_visit_pos(n_steps%length + length, start_pos)    #x=1\n",
    "y2 = find_visit_pos(n_steps%length + length*2, start_pos)  #x=2\n",
    "\n",
    "p = np.polyfit([0,1,2],[y0,y1,y2],2)"
   ]
  },
  {
   "cell_type": "code",
   "execution_count": 143,
   "id": "dbe12664",
   "metadata": {},
   "outputs": [
    {
     "data": {
      "text/plain": [
       "610158187362102"
      ]
     },
     "execution_count": 143,
     "metadata": {},
     "output_type": "execute_result"
    }
   ],
   "source": [
    "round(np.poly1d(p)(n_steps//length))"
   ]
  }
 ],
 "metadata": {
  "kernelspec": {
   "display_name": "Python 3 (ipykernel)",
   "language": "python",
   "name": "python3"
  },
  "language_info": {
   "codemirror_mode": {
    "name": "ipython",
    "version": 3
   },
   "file_extension": ".py",
   "mimetype": "text/x-python",
   "name": "python",
   "nbconvert_exporter": "python",
   "pygments_lexer": "ipython3",
   "version": "3.10.11"
  }
 },
 "nbformat": 4,
 "nbformat_minor": 5
}
