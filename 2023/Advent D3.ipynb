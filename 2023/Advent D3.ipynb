{
 "cells": [
  {
   "cell_type": "markdown",
   "id": "22f06383",
   "metadata": {},
   "source": [
    "### Jul AdventKalender D3\n",
    "\n",
    "https://adventofcode.com/2023/day/3"
   ]
  },
  {
   "cell_type": "markdown",
   "id": "f1695325",
   "metadata": {},
   "source": [
    "#### Part 1 \n",
    "\n",
    "Prompt to GPT-3.5\n",
    "\n",
    "Find all the numbers that are adjacent (up, down, left, right, and diagonal) to a symbol (except .), and sum them up together.\n",
    "\n",
    "For example:\n",
    "\n",
    "    467..114..\n",
    "    ...*......\n",
    "    ..35..633.\n",
    "    ......#...\n",
    "    617*......\n",
    "    .....+.58.\n",
    "    ..592.....\n",
    "    ......755.\n",
    "    ...$.*....\n",
    "    .664.598..\n",
    "    \n",
    "In this example, two numbers are not adjacent to a symbol: 114 (top right) and 58 (middle right). Every other number is adjacent to a symbol, their sum is 4361.\n",
    "\n",
    "I cannot get ChatGPT to understand 467 is a number instead of only single digits. It also only consider one specific symbol (*). Gave up on this."
   ]
  },
  {
   "cell_type": "code",
   "execution_count": 64,
   "id": "1f9ab90c",
   "metadata": {},
   "outputs": [
    {
     "name": "stdout",
     "output_type": "stream",
     "text": [
      "Sum of numbers: 535351\n"
     ]
    }
   ],
   "source": [
    "import re\n",
    "\n",
    "def is_valid(row, col, rows, cols):\n",
    "    return 0 <= row < rows and 0 <= col < cols\n",
    "\n",
    "def sum_adjacent_numbers(matrix):\n",
    "    rows, cols = len(matrix), len(matrix[0])\n",
    "    total_sum = 0\n",
    "\n",
    "    for row in range(rows):\n",
    "        #print(row, matrix[row])\n",
    "        for m in re.finditer(r'\\d+', matrix[row]):\n",
    "            col_left = m.start(0)\n",
    "            col_right = m.end(0)\n",
    "            is_part = False\n",
    "            for r in range(row-1, row+2):\n",
    "                for c in range(col_left-1, col_right+1):\n",
    "                    if (is_valid(r, c, rows, cols) and matrix[r][c].isdigit() == False):\n",
    "                        if matrix[r][c] != '.':\n",
    "                            is_part = True\n",
    "                            break\n",
    "            if is_part:\n",
    "                total_sum += int(matrix[row][col_left:col_right])\n",
    "                #print(int(matrix[row][col_left:col_right]))\n",
    "    return total_sum\n",
    "\n",
    "\n",
    "input_file_path = \"data/input3.txt\"\n",
    "# Open and read the input file\n",
    "with open(input_file_path, 'r') as file:\n",
    "    data = file.read().split(\"\\n\")\n",
    "result = sum_adjacent_numbers(data)\n",
    "print(\"Sum of numbers:\", result)"
   ]
  },
  {
   "cell_type": "markdown",
   "id": "f74d1f86",
   "metadata": {},
   "source": [
    "#### Part 2\n",
    "I did this myself."
   ]
  },
  {
   "cell_type": "code",
   "execution_count": 82,
   "id": "50b52ed9",
   "metadata": {},
   "outputs": [
    {
     "name": "stdout",
     "output_type": "stream",
     "text": [
      "Sum of gear ratio: 87287096\n"
     ]
    }
   ],
   "source": [
    "import re\n",
    "\n",
    "def find(s, ch):\n",
    "    return [i for i, ltr in enumerate(s) if ltr == ch]\n",
    "\n",
    "def is_valid(row, col, rows, cols):\n",
    "    return 0 <= row < rows and 0 <= col < cols\n",
    "\n",
    "def gear_ratio(matrix):\n",
    "    rows, cols = len(matrix), len(matrix[0])\n",
    "    gear_ratio = 0\n",
    "\n",
    "    for row in range(rows):\n",
    "        col_ids = find(matrix[row],\"*\")\n",
    "        for col_id in col_ids:\n",
    "            if col_id == -1: \n",
    "                continue\n",
    "            #print (matrix[row])\n",
    "            aj_number = []\n",
    "            for r in range(row-1, row+2):\n",
    "                searched_c = []\n",
    "                for c in range(col_id-1, col_id+2):\n",
    "                    if c in searched_c: continue\n",
    "                    if (is_valid(r, c, rows, cols) and matrix[r][c].isdigit()):\n",
    "                        for m in re.finditer(r'\\d+', matrix[r]):\n",
    "                            if m.start(0)<=c<m.end(0):\n",
    "                                searched_c += list(range(m.start(0),m.end(0)))\n",
    "                                nb = matrix[r][m.start(0):m.end(0)]\n",
    "                                aj_number.append(int(nb))\n",
    "            #print (\"++++++++++++++++++++++++++++\",aj_number)\n",
    "            if len(aj_number) == 2:\n",
    "                gear_ratio += aj_number[0] * aj_number[1]\n",
    "    return gear_ratio\n",
    "\n",
    "\n",
    "input_file_path = \"data/input3.txt\"\n",
    "# Open and read the input file\n",
    "with open(input_file_path, 'r') as file:\n",
    "    data = file.read().split(\"\\n\")\n",
    "result = gear_ratio(data)\n",
    "print(\"Sum of gear ratio:\", result)\n"
   ]
  }
 ],
 "metadata": {
  "kernelspec": {
   "display_name": "Python 3 (ipykernel)",
   "language": "python",
   "name": "python3"
  },
  "language_info": {
   "codemirror_mode": {
    "name": "ipython",
    "version": 3
   },
   "file_extension": ".py",
   "mimetype": "text/x-python",
   "name": "python",
   "nbconvert_exporter": "python",
   "pygments_lexer": "ipython3",
   "version": "3.11.5"
  }
 },
 "nbformat": 4,
 "nbformat_minor": 5
}
