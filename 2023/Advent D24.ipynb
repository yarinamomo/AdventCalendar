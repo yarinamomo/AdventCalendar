{
 "cells": [
  {
   "cell_type": "markdown",
   "id": "22f06383",
   "metadata": {},
   "source": [
    "### Jul AdventKalender D24\n",
    "\n",
    "https://adventofcode.com/2023/day/24"
   ]
  },
  {
   "cell_type": "markdown",
   "id": "f1695325",
   "metadata": {},
   "source": [
    "#### Part 1 "
   ]
  },
  {
   "cell_type": "code",
   "execution_count": 17,
   "id": "1f9ab90c",
   "metadata": {},
   "outputs": [],
   "source": [
    "map_input = []\n",
    "with open(\"data/input24.txt\",\"r\") as file:\n",
    "    for line in file.readlines():\n",
    "        pos, vel = line.strip().split('@')\n",
    "        pos = tuple([int(i) for i in pos.split(',')])\n",
    "        vel = tuple([int(i) for i in vel.split(',')])\n",
    "        map_input.append((pos, vel))"
   ]
  },
  {
   "cell_type": "markdown",
   "id": "8e810e05",
   "metadata": {},
   "source": [
    "\n",
    "Given two points on each line segment: [wikipedia](https://en.wikipedia.org/wiki/Line%E2%80%93line_intersection)\n",
    "\n",
    "pos\\_final=pos+t\\*vel => t\n",
    "\n",
    "intersection if 0 (we only look forward) <= t <= 1 (or other time, in our case, it doesn't matter, but we consider area constraints) for both lines"
   ]
  },
  {
   "cell_type": "code",
   "execution_count": 18,
   "id": "8b1dedaa",
   "metadata": {
    "scrolled": true
   },
   "outputs": [],
   "source": [
    "def is_intersect(line1, line2, area_min, area_max):\n",
    "    divided_by = line1[1][0]*line2[1][1]-line1[1][1]*line2[1][0]\n",
    "    if divided_by == 0:\n",
    "        return False\n",
    "    t1 = ((line2[0][0]-line1[0][0])*line2[1][1]-(line2[0][1]-line1[0][1])*line2[1][0])/divided_by\n",
    "    t2 = ((line2[0][0]-line1[0][0])*line1[1][1]-(line2[0][1]-line1[0][1])*line1[1][0])/divided_by\n",
    "    if t1>=0 and t2>=0: # intersect\n",
    "        pos_inter_x = line1[0][0]+t1*line1[1][0]\n",
    "        pos_inter_y = line1[0][1]+t1*line1[1][1]\n",
    "        if area_min<=pos_inter_x<=area_max and area_min<=pos_inter_y<=area_max:\n",
    "            return True\n",
    "    return False"
   ]
  },
  {
   "cell_type": "code",
   "execution_count": 19,
   "id": "f943680e",
   "metadata": {},
   "outputs": [
    {
     "data": {
      "text/plain": [
       "13149"
      ]
     },
     "execution_count": 19,
     "metadata": {},
     "output_type": "execute_result"
    }
   ],
   "source": [
    "from itertools import combinations\n",
    "\n",
    "area_min, area_max = 200000000000000, 400000000000000\n",
    "n_intersect = 0\n",
    "for path1, path2 in combinations(map_input, 2):\n",
    "    n_intersect += is_intersect(path1, path2, area_min, area_max)\n",
    "n_intersect"
   ]
  },
  {
   "cell_type": "markdown",
   "id": "f74d1f86",
   "metadata": {},
   "source": [
    "#### Part 2"
   ]
  },
  {
   "cell_type": "code",
   "execution_count": 1,
   "id": "e9f2035f",
   "metadata": {},
   "outputs": [
    {
     "ename": "AttributeError",
     "evalue": "module 'z3' has no attribute 'Solver'",
     "output_type": "error",
     "traceback": [
      "\u001b[0;31m---------------------------------------------------------------------------\u001b[0m",
      "\u001b[0;31mAttributeError\u001b[0m                            Traceback (most recent call last)",
      "Cell \u001b[0;32mIn[1], line 2\u001b[0m\n\u001b[1;32m      1\u001b[0m \u001b[38;5;28;01mimport\u001b[39;00m \u001b[38;5;21;01mz3\u001b[39;00m\n\u001b[0;32m----> 2\u001b[0m s \u001b[38;5;241m=\u001b[39m \u001b[43mz3\u001b[49m\u001b[38;5;241;43m.\u001b[39;49m\u001b[43mSolver\u001b[49m()\n",
      "\u001b[0;31mAttributeError\u001b[0m: module 'z3' has no attribute 'Solver'"
     ]
    }
   ],
   "source": [
    "import z3\n",
    "s = z3.Solver()"
   ]
  },
  {
   "cell_type": "code",
   "execution_count": null,
   "id": "586bc505",
   "metadata": {},
   "outputs": [],
   "source": []
  }
 ],
 "metadata": {
  "kernelspec": {
   "display_name": "Python 3 (ipykernel)",
   "language": "python",
   "name": "python3"
  },
  "language_info": {
   "codemirror_mode": {
    "name": "ipython",
    "version": 3
   },
   "file_extension": ".py",
   "mimetype": "text/x-python",
   "name": "python",
   "nbconvert_exporter": "python",
   "pygments_lexer": "ipython3",
   "version": "3.10.11"
  }
 },
 "nbformat": 4,
 "nbformat_minor": 5
}
