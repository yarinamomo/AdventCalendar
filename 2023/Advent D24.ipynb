{
 "cells": [
  {
   "cell_type": "markdown",
   "id": "22f06383",
   "metadata": {},
   "source": [
    "### Jul AdventKalender D24\n",
    "\n",
    "https://adventofcode.com/2023/day/24"
   ]
  },
  {
   "cell_type": "markdown",
   "id": "f1695325",
   "metadata": {},
   "source": [
    "#### Part 1 "
   ]
  },
  {
   "cell_type": "code",
   "execution_count": 15,
   "id": "1f9ab90c",
   "metadata": {},
   "outputs": [],
   "source": [
    "map_input = []\n",
    "with open(\"data/input24.txt\",\"r\") as file:\n",
    "    for line in file.readlines():\n",
    "        pos, vel = line.strip().split('@')\n",
    "        pos = tuple([int(i) for i in pos.split(',')])\n",
    "        vel = tuple([int(i) for i in vel.split(',')])\n",
    "        map_input.append((pos, vel))"
   ]
  },
  {
   "cell_type": "markdown",
   "id": "8e810e05",
   "metadata": {},
   "source": [
    "\n",
    "Given two points on each line segment: [wikipedia](https://en.wikipedia.org/wiki/Line%E2%80%93line_intersection)\n",
    "\n",
    "pos\\_final=pos+t\\*vel => t\n",
    "\n",
    "intersection if 0 (we only look forward) <= t <= 1 (or other time, in our case, it doesn't matter, but we consider area constraints) for both lines"
   ]
  },
  {
   "cell_type": "code",
   "execution_count": 16,
   "id": "8b1dedaa",
   "metadata": {
    "scrolled": true
   },
   "outputs": [],
   "source": [
    "def is_intersect(line1, line2, area_min, area_max):\n",
    "    divided_by = line1[1][0]*line2[1][1]-line1[1][1]*line2[1][0]\n",
    "    if divided_by == 0:\n",
    "        return False\n",
    "    t1 = ((line2[0][0]-line1[0][0])*line2[1][1]-(line2[0][1]-line1[0][1])*line2[1][0])/divided_by\n",
    "    t2 = ((line2[0][0]-line1[0][0])*line1[1][1]-(line2[0][1]-line1[0][1])*line1[1][0])/divided_by\n",
    "    if t1>=0 and t2>=0: # intersect\n",
    "        pos_inter_x = line1[0][0]+t1*line1[1][0]\n",
    "        pos_inter_y = line1[0][1]+t1*line1[1][1]\n",
    "        if area_min<=pos_inter_x<=area_max and area_min<=pos_inter_y<=area_max:\n",
    "            return True\n",
    "    return False"
   ]
  },
  {
   "cell_type": "code",
   "execution_count": 17,
   "id": "f943680e",
   "metadata": {},
   "outputs": [
    {
     "data": {
      "text/plain": [
       "13149"
      ]
     },
     "execution_count": 17,
     "metadata": {},
     "output_type": "execute_result"
    }
   ],
   "source": [
    "from itertools import combinations\n",
    "\n",
    "area_min, area_max = 200000000000000, 400000000000000\n",
    "n_intersect = 0\n",
    "for path1, path2 in combinations(map_input, 2):\n",
    "    n_intersect += is_intersect(path1, path2, area_min, area_max)\n",
    "n_intersect"
   ]
  },
  {
   "cell_type": "markdown",
   "id": "f74d1f86",
   "metadata": {},
   "source": [
    "#### Part 2"
   ]
  },
  {
   "cell_type": "code",
   "execution_count": 18,
   "id": "e9f2035f",
   "metadata": {},
   "outputs": [
    {
     "name": "stdout",
     "output_type": "stream",
     "text": [
      "1033770143421619\n"
     ]
    }
   ],
   "source": [
    "import z3\n",
    "\n",
    "x, y, z, vx, vy, vz = z3.Ints('x y z vx vy vz')\n",
    "ts = []\n",
    "solver = z3.Solver()\n",
    "for i in range(len(map_input)):\n",
    "    p,v = map_input[i]\n",
    "    ts.append(z3.Int('t'+str(i)))\n",
    "    solver.add( x+ts[i]*vx==p[0]+ts[i]*v[0], y+ts[i]*vy==p[1]+ts[i]*v[1], z+ts[i]*vz==p[2]+ts[i]*v[2] )\n",
    "solver.check()\n",
    "m = solver.model()\n",
    "print(m.evaluate(x+y+z))"
   ]
  },
  {
   "cell_type": "code",
   "execution_count": null,
   "id": "6d9b2e84",
   "metadata": {},
   "outputs": [],
   "source": []
  }
 ],
 "metadata": {
  "kernelspec": {
   "display_name": "Python 3 (ipykernel)",
   "language": "python",
   "name": "python3"
  },
  "language_info": {
   "codemirror_mode": {
    "name": "ipython",
    "version": 3
   },
   "file_extension": ".py",
   "mimetype": "text/x-python",
   "name": "python",
   "nbconvert_exporter": "python",
   "pygments_lexer": "ipython3",
   "version": "3.11.5"
  }
 },
 "nbformat": 4,
 "nbformat_minor": 5
}
