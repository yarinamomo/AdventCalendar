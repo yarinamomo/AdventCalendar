{
 "cells": [
  {
   "cell_type": "markdown",
   "id": "22f06383",
   "metadata": {},
   "source": [
    "### Jul AdventKalender D23\n",
    "\n",
    "https://adventofcode.com/2023/day/23"
   ]
  },
  {
   "cell_type": "markdown",
   "id": "f1695325",
   "metadata": {},
   "source": [
    "#### Part 1 "
   ]
  },
  {
   "cell_type": "code",
   "execution_count": 1,
   "id": "1f9ab90c",
   "metadata": {},
   "outputs": [],
   "source": [
    "with open(\"data/input23.txt\",\"r\") as file:\n",
    "    map_input = [list(line.strip()) for line in file.readlines()]"
   ]
  },
  {
   "cell_type": "code",
   "execution_count": 2,
   "id": "8b1dedaa",
   "metadata": {
    "scrolled": true
   },
   "outputs": [
    {
     "data": {
      "text/plain": [
       "2202"
      ]
     },
     "execution_count": 2,
     "metadata": {},
     "output_type": "execute_result"
    }
   ],
   "source": [
    "directions = [(0, 1), (1, 0), (0, -1), (-1, 0)] # right, down, left, up\n",
    "slide_directions = {'>':0, 'v':1, '<':2, '^':3}\n",
    "\n",
    "def is_valid_move(pos):\n",
    "    global map_input\n",
    "    n_rows, n_cols = len(map_input), len(map_input[0])\n",
    "    return (0 <= pos[0] < n_rows) and (0 <= pos[1] < n_cols) and (map_input[pos[0]][pos[1]] != '#')\n",
    "\n",
    "def get_neighbors(pos):\n",
    "    global directions, map_input\n",
    "    res = []\n",
    "    if map_input[pos[0]][pos[1]] in slide_directions:\n",
    "        dir_must = directions[slide_directions[map_input[pos[0]][pos[1]]]]\n",
    "        res.append((pos[0] + dir_must[0], pos[1] + dir_must[1]))\n",
    "    else:\n",
    "        for direction in directions:\n",
    "            next_pos = (pos[0] + direction[0], pos[1] + direction[1])\n",
    "            if is_valid_move(next_pos):\n",
    "                res.append(next_pos)\n",
    "    return res\n",
    "\n",
    "def get_longest_path(start_pos, end_pos):\n",
    "    global map_input\n",
    "    todolist = [(start_pos, set())] # reached pos, path took to reach here\n",
    "    visited = {start_pos:0} # reached pos: longest steps took to reach here\n",
    "    while todolist:\n",
    "        cur_pos, path = todolist.pop(0)\n",
    "        if cur_pos != end_pos:\n",
    "            neighbors = get_neighbors(cur_pos)\n",
    "            for neighbor in neighbors:\n",
    "                n_steps = visited[cur_pos] + 1\n",
    "                if (neighbor not in path) and ((neighbor not in visited) or (n_steps > visited[neighbor])):\n",
    "                    visited[neighbor] = n_steps\n",
    "                    next_path = path.copy()\n",
    "                    next_path.add(neighbor)\n",
    "                    todolist.append((neighbor, next_path))\n",
    "\n",
    "    return visited[end_pos]\n",
    "get_longest_path((0,1), (len(map_input)-1,len(map_input[0])-2))"
   ]
  },
  {
   "cell_type": "markdown",
   "id": "f74d1f86",
   "metadata": {},
   "source": [
    "#### Part 2"
   ]
  },
  {
   "cell_type": "code",
   "execution_count": 3,
   "id": "e9f2035f",
   "metadata": {},
   "outputs": [],
   "source": [
    "map_input = []\n",
    "with open(\"data/input23.txt\",\"r\") as file:\n",
    "    for line in file.readlines():\n",
    "        line = line.strip().replace('>','.').replace('v','.').replace('<','.').replace('^','.')\n",
    "        map_input.append(list(line))"
   ]
  },
  {
   "cell_type": "markdown",
   "id": "a2b63765",
   "metadata": {},
   "source": [
    "[collections vs. list](https://stackoverflow.com/questions/23487307/python-deque-vs-list-performance-comparison)"
   ]
  },
  {
   "cell_type": "code",
   "execution_count": 5,
   "id": "3d13c7ed",
   "metadata": {},
   "outputs": [],
   "source": [
    "import collections # for faster running, compared to normal list pop(0) and append\n",
    "\n",
    "def get_path_splits(start_pos, end_pos): # find path between splits. no going back and no splits in between -> bfs\n",
    "    global map_input, splits\n",
    "    todolist = [start_pos]\n",
    "    visited = {start_pos:0}\n",
    "    while todolist:\n",
    "        cur_pos = todolist.pop(0)\n",
    "        if cur_pos == end_pos:\n",
    "            break\n",
    "        if cur_pos != start_pos and (cur_pos in splits): # come across a split, discard\n",
    "            continue\n",
    "        neighbors = get_neighbors(cur_pos)\n",
    "        for neighbor in neighbors:\n",
    "            if neighbor not in visited:\n",
    "                visited[neighbor] = visited[cur_pos] + 1\n",
    "                todolist.append(neighbor)\n",
    "\n",
    "    return visited.get(end_pos) # sometimes cannot find path (when there are absolut other splits in between)\n",
    "\n",
    "def get_path_regions(start_split, end_split): # find longest path between regions\n",
    "    global splits_steps\n",
    "    todolist = collections.deque([(start_split, 0, set())])\n",
    "    res = 0\n",
    "    while todolist:\n",
    "        cur_split, n_steps, path = todolist.pop()\n",
    "        if cur_split == end_split:\n",
    "            res = max(res, n_steps)\n",
    "            continue\n",
    "        next_path = path.copy()\n",
    "        next_path.add(cur_split)\n",
    "        for next_split,next_split_steps in splits_steps[cur_split].items(): # all splits the current split connect\n",
    "            if (next_split not in path):\n",
    "                todolist.appendleft((next_split, n_steps+next_split_steps, next_path))\n",
    "    return res"
   ]
  },
  {
   "cell_type": "code",
   "execution_count": 6,
   "id": "ccb41bc9",
   "metadata": {},
   "outputs": [
    {
     "data": {
      "text/plain": [
       "6226"
      ]
     },
     "execution_count": 6,
     "metadata": {},
     "output_type": "execute_result"
    }
   ],
   "source": [
    "start_pos, end_pos = (0,1), (len(map_input)-1,len(map_input[0])-2)\n",
    "\n",
    "splits = [] # positions that brach to more than 1 path\n",
    "splits_steps={start_pos:{}, end_pos:{}} # steps from a split to another split, including start and end\n",
    "for i in range(len(map_input)):\n",
    "    for j in range(len(map_input[0])):\n",
    "        if map_input[i][j] != '#':\n",
    "            neighbors = get_neighbors((i,j))\n",
    "            if len(neighbors)>2:\n",
    "                splits.append((i,j))\n",
    "                splits_steps[(i,j)] = {}\n",
    "                \n",
    "for split_from in splits_steps.keys():\n",
    "    for split_end in splits:\n",
    "        if split_from != split_end:\n",
    "            # get path from the two splits\n",
    "            n_steps = get_path_splits(split_from, split_end)\n",
    "            if n_steps is not None:\n",
    "                splits_steps[split_from][split_end] = splits_steps[split_end][split_from] = n_steps\n",
    "\n",
    "get_path_regions(start_pos, end_pos)"
   ]
  },
  {
   "cell_type": "code",
   "execution_count": null,
   "id": "586bc505",
   "metadata": {},
   "outputs": [],
   "source": []
  }
 ],
 "metadata": {
  "kernelspec": {
   "display_name": "Python 3 (ipykernel)",
   "language": "python",
   "name": "python3"
  },
  "language_info": {
   "codemirror_mode": {
    "name": "ipython",
    "version": 3
   },
   "file_extension": ".py",
   "mimetype": "text/x-python",
   "name": "python",
   "nbconvert_exporter": "python",
   "pygments_lexer": "ipython3",
   "version": "3.10.11"
  }
 },
 "nbformat": 4,
 "nbformat_minor": 5
}
