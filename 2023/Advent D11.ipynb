{
 "cells": [
  {
   "cell_type": "markdown",
   "id": "22f06383",
   "metadata": {},
   "source": [
    "### Jul AdventKalender D11\n",
    "\n",
    "https://adventofcode.com/2023/day/11"
   ]
  },
  {
   "cell_type": "markdown",
   "id": "f1695325",
   "metadata": {},
   "source": [
    "#### Part 1 "
   ]
  },
  {
   "cell_type": "code",
   "execution_count": 1,
   "id": "1f9ab90c",
   "metadata": {},
   "outputs": [],
   "source": [
    "import numpy as np\n",
    "\n",
    "input_obs = None\n",
    "with open(\"data/input11.txt\",\"r\") as file:\n",
    "    input_obs =  np.array([list(line.strip()) for line in file.readlines()])"
   ]
  },
  {
   "cell_type": "code",
   "execution_count": 2,
   "id": "7652e10f",
   "metadata": {},
   "outputs": [],
   "source": [
    "expended_obs = input_obs.copy()\n",
    "n_expend = 0\n",
    "for r in range(input_obs.shape[0]):\n",
    "    if '#' not in input_obs[r,:]:\n",
    "        #print(r)\n",
    "        expended_obs = np.insert(expended_obs, r+1+n_expend, input_obs[r, :], axis=0)\n",
    "        #print(expended_obs)\n",
    "        n_expend += 1\n",
    "n_expend = 0\n",
    "input_obs = expended_obs.copy()\n",
    "for c in range(input_obs.shape[1]):\n",
    "    if '#' not in input_obs[:,c]:\n",
    "        #print(c)\n",
    "        expended_obs = np.insert(expended_obs, c+1+n_expend, input_obs[:, c], axis=1)\n",
    "        #print(expended_obs)\n",
    "        n_expend += 1"
   ]
  },
  {
   "cell_type": "code",
   "execution_count": 3,
   "id": "8b1dedaa",
   "metadata": {},
   "outputs": [],
   "source": [
    "def shortest_manhattan_distances():\n",
    "    # Find the coordinates of all 1s in the binary matrix\n",
    "    coordinates = np.column_stack(np.where(expended_obs == '#'))\n",
    "\n",
    "    num_ones = coordinates.shape[0]\n",
    "    distances = np.zeros((num_ones, num_ones), dtype=int)\n",
    "\n",
    "    # Calculate pairwise Manhattan distances\n",
    "    for i in range(num_ones):\n",
    "        for j in range(num_ones):\n",
    "            if i > j:\n",
    "                continue\n",
    "            distances[i, j] = np.abs(coordinates[i, 0] - coordinates[j, 0]) + np.abs(coordinates[i, 1] - coordinates[j, 1])\n",
    "\n",
    "    return distances"
   ]
  },
  {
   "cell_type": "code",
   "execution_count": 4,
   "id": "928fdc85",
   "metadata": {},
   "outputs": [
    {
     "data": {
      "text/plain": [
       "9686930"
      ]
     },
     "execution_count": 4,
     "metadata": {},
     "output_type": "execute_result"
    }
   ],
   "source": [
    "diss = shortest_manhattan_distances()\n",
    "np.triu(diss).sum()"
   ]
  },
  {
   "cell_type": "markdown",
   "id": "f74d1f86",
   "metadata": {},
   "source": [
    "#### Part 2"
   ]
  },
  {
   "cell_type": "code",
   "execution_count": 9,
   "id": "c22fb17d",
   "metadata": {},
   "outputs": [],
   "source": [
    "input_obs = None\n",
    "with open(\"data/input11.txt\",\"r\") as file:\n",
    "    input_obs =  np.array([list(line.strip()) for line in file.readlines()])"
   ]
  },
  {
   "cell_type": "code",
   "execution_count": 10,
   "id": "d84bef50",
   "metadata": {},
   "outputs": [],
   "source": [
    "row_ids_ng = np.where(np.all(input_obs != '#', axis=1))[0]\n",
    "col_ids_ng = np.where(np.all(input_obs != '#', axis=0))[0]"
   ]
  },
  {
   "cell_type": "code",
   "execution_count": 11,
   "id": "50b52ed9",
   "metadata": {
    "scrolled": false
   },
   "outputs": [],
   "source": [
    "def shortest_manhattan_distances_expansion_configable(exp_size):\n",
    "    # Find the coordinates of all 1s in the binary matrix\n",
    "    coordinates = np.column_stack(np.where(input_obs == '#'))\n",
    "\n",
    "    num_ones = coordinates.shape[0]\n",
    "    distances = np.zeros((num_ones, num_ones), dtype=int)\n",
    "\n",
    "    # Calculate pairwise Manhattan distances\n",
    "    for i in range(num_ones):\n",
    "        for j in range(num_ones):\n",
    "            if i > j:\n",
    "                continue\n",
    "            distances[i, j] = np.abs(coordinates[i, 0] - coordinates[j, 0]) + np.abs(coordinates[i, 1] - coordinates[j, 1])\n",
    "            for r in row_ids_ng:\n",
    "                if min(coordinates[i, 0],coordinates[j, 0]) < r < max(coordinates[i, 0],coordinates[j, 0]):\n",
    "                    distances[i, j] += (exp_size-1)\n",
    "            for c in col_ids_ng:\n",
    "                if min(coordinates[i, 1],coordinates[j, 1]) < c < max(coordinates[i, 1],coordinates[j, 1]):\n",
    "                    distances[i, j] += (exp_size-1)\n",
    "    return distances"
   ]
  },
  {
   "cell_type": "code",
   "execution_count": 14,
   "id": "e9423c2c",
   "metadata": {},
   "outputs": [
    {
     "data": {
      "text/plain": [
       "630728425490"
      ]
     },
     "execution_count": 14,
     "metadata": {},
     "output_type": "execute_result"
    }
   ],
   "source": [
    "diss = shortest_manhattan_distances_expansion_configable(1000000)\n",
    "np.triu(diss).sum()"
   ]
  },
  {
   "cell_type": "code",
   "execution_count": null,
   "id": "c37fbb89",
   "metadata": {},
   "outputs": [],
   "source": []
  }
 ],
 "metadata": {
  "kernelspec": {
   "display_name": "Python 3 (ipykernel)",
   "language": "python",
   "name": "python3"
  },
  "language_info": {
   "codemirror_mode": {
    "name": "ipython",
    "version": 3
   },
   "file_extension": ".py",
   "mimetype": "text/x-python",
   "name": "python",
   "nbconvert_exporter": "python",
   "pygments_lexer": "ipython3",
   "version": "3.10.11"
  }
 },
 "nbformat": 4,
 "nbformat_minor": 5
}
