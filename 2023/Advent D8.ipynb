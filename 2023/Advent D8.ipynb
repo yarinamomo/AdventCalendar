{
 "cells": [
  {
   "cell_type": "markdown",
   "id": "22f06383",
   "metadata": {},
   "source": [
    "### Jul AdventKalender D8\n",
    "\n",
    "https://adventofcode.com/2023/day/8"
   ]
  },
  {
   "cell_type": "markdown",
   "id": "f1695325",
   "metadata": {},
   "source": [
    "#### Part 1 \n",
    "\n",
    "given a map:\n",
    "\n",
    "    AAA = (BBB, CCC)\n",
    "    BBB = (DDD, EEE)\n",
    "    CCC = (ZZZ, GGG)\n",
    "    DDD = (DDD, DDD)\n",
    "    EEE = (EEE, EEE)\n",
    "    GGG = (GGG, GGG)\n",
    "    ZZZ = (ZZZ, ZZZ)\n",
    "\n",
    "Starting with AAA, you need to look up the next element based on the next left/right instruction in your input, until you find ZZZ. take the left or right element on the right side is based on a given instruction, for example RL.\n",
    "\n",
    "In this example, start with AAA and go right (R) by choosing the right element of AAA, CCC. Then, L means to choose the left element of CCC, ZZZ. By following the left/right instructions, you reach ZZZ in 2 steps.\n",
    "\n",
    "Starting at AAA, follow the left/right instructions repeatly. How many steps are required to reach ZZZ?"
   ]
  },
  {
   "cell_type": "code",
   "execution_count": 10,
   "id": "1f9ab90c",
   "metadata": {},
   "outputs": [
    {
     "data": {
      "text/plain": [
       "19199"
      ]
     },
     "execution_count": 10,
     "metadata": {},
     "output_type": "execute_result"
    }
   ],
   "source": [
    "import re\n",
    "\n",
    "def steps_to_ZZZ(starting_point, instructions, positions):\n",
    "    current_element = starting_point\n",
    "    steps = 0\n",
    "    while current_element != 'ZZZ':\n",
    "        direction = instructions[steps%len(instructions)]\n",
    "        if direction == 'L':\n",
    "            current_element = positions[current_element][0]  # Choose the left element\n",
    "        elif direction == 'R':\n",
    "            current_element = positions[current_element][1]  # Choose the right element\n",
    "        steps += 1\n",
    "\n",
    "    return steps\n",
    "\n",
    "instructions = \"\"\n",
    "positions = dict()\n",
    "\n",
    "pattern = r'(\\w+) = \\((\\w+), (\\w+)\\)'\n",
    "\n",
    "with open(\"data/input8.txt\", 'r') as file:\n",
    "    for line in file:\n",
    "        if \"=\" in line:\n",
    "            left,right1,right2 = re.match(pattern, line).groups()\n",
    "            positions[left] = [right1, right2]\n",
    "        elif len(line.strip())>0:\n",
    "            instructions = line.strip()\n",
    "\n",
    "steps_to_ZZZ('AAA', instructions, positions)"
   ]
  },
  {
   "cell_type": "markdown",
   "id": "f74d1f86",
   "metadata": {},
   "source": [
    "#### Part 2\n",
    "\n",
    "Given map like:\n",
    "\n",
    "    11A = (11B, XXX)\n",
    "    11B = (XXX, 11Z)\n",
    "    11Z = (11B, XXX)\n",
    "    22A = (22B, XXX)\n",
    "    22B = (22C, 22C)\n",
    "    22C = (22Z, 22Z)\n",
    "    22Z = (22B, 22B)\n",
    "    XXX = (XXX, XXX)\n",
    "\n",
    "Start with all nodes ending with A, so there are two starting nodes, 11A and 22A. Simultaneously follow each left/right instruction repeatly, until all of the nodes you're currently on end with Z. (If only some of the nodes you're on end with Z, they act like any other node and you continue as normal.) How many steps does it take before you're only on nodes that end with Z?"
   ]
  },
  {
   "cell_type": "code",
   "execution_count": 22,
   "id": "50b52ed9",
   "metadata": {
    "scrolled": false
   },
   "outputs": [
    {
     "data": {
      "text/plain": [
       "13663968099527"
      ]
     },
     "execution_count": 22,
     "metadata": {},
     "output_type": "execute_result"
    }
   ],
   "source": [
    "import math\n",
    "\n",
    "def steps_to_Z(starting_point, instructions, positions):\n",
    "    current_element = starting_point\n",
    "    steps = 0\n",
    "    while not current_element.endswith('Z'):\n",
    "        direction = instructions[steps%len(instructions)]\n",
    "        if direction == 'L':\n",
    "            current_element = positions[current_element][0]  # Choose the left element\n",
    "        elif direction == 'R':\n",
    "            current_element = positions[current_element][1]  # Choose the right element\n",
    "        steps += 1\n",
    "\n",
    "    return steps\n",
    "\n",
    "instructions = \"\"\n",
    "positions = dict()\n",
    "starts = []\n",
    "steps = []\n",
    "pattern = r'(\\w+) = \\((\\w+), (\\w+)\\)'\n",
    "pattern_starts = r'(\\b\\w+A)\\s*=\\s*\\(\\w+,\\s*\\w+\\)'\n",
    "\n",
    "with open(\"data/input8.txt\", 'r') as file:\n",
    "    for line in file:\n",
    "        if \"=\" in line:\n",
    "            left,right1,right2 = re.match(pattern, line).groups()\n",
    "            positions[left] = [right1, right2]\n",
    "            match_start = re.search(pattern_starts, line)\n",
    "            if match_start:\n",
    "                starts.append(re.findall(r'\\w+A', match_start.group(1))[0])\n",
    "        elif len(line.strip())>0:\n",
    "            instructions = line.strip()\n",
    "\n",
    "for start in starts:\n",
    "    steps.append(steps_to_Z(start, instructions, positions)) \n",
    "\n",
    "math.lcm(*steps)"
   ]
  },
  {
   "cell_type": "code",
   "execution_count": null,
   "id": "c8399568",
   "metadata": {},
   "outputs": [],
   "source": []
  }
 ],
 "metadata": {
  "kernelspec": {
   "display_name": "Python 3 (ipykernel)",
   "language": "python",
   "name": "python3"
  },
  "language_info": {
   "codemirror_mode": {
    "name": "ipython",
    "version": 3
   },
   "file_extension": ".py",
   "mimetype": "text/x-python",
   "name": "python",
   "nbconvert_exporter": "python",
   "pygments_lexer": "ipython3",
   "version": "3.10.11"
  }
 },
 "nbformat": 4,
 "nbformat_minor": 5
}
