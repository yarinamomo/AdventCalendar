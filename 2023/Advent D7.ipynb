{
 "cells": [
  {
   "cell_type": "markdown",
   "id": "22f06383",
   "metadata": {},
   "source": [
    "### Jul AdventKalender D7\n",
    "\n",
    "https://adventofcode.com/2023/day/7"
   ]
  },
  {
   "cell_type": "markdown",
   "id": "f1695325",
   "metadata": {},
   "source": [
    "#### Part 1 \n",
    "\n",
    "for a poker game, determine which hand wins based on the following rules:\n",
    "1. the rank has the higher priority in winning. From strongest to weakest, they are:\n",
    "\n",
    "    1. Five of a kind, where all five cards have the same label: AAAAA\n",
    "    2. Four of a kind, where four cards have the same label and one card has a different label: AA8AA\n",
    "    3. Full house, where three cards have the same label, and the remaining two cards share a different label: 23332\n",
    "    4. Three of a kind, where three cards have the same label, and the remaining two cards are each different from any other card in the hand: TTT98\n",
    "    5. Two pair, where two cards share one label, two other cards share a second label, and the remaining card has a third label: 23432\n",
    "    6. One pair, where two cards share one label, and the other three cards have a different label from the pair and each other: A23A4\n",
    "    7. High card, where all cards' labels are distinct: 23456\n",
    "\n",
    "2. if the ranks of two hands are the same, compare the cards from first to the last. If the first card of a hand is higher than the first card of another hand, the higher hand wins. Otherwise, compare the next card (second, third, fourth, fifth). The cards consist of A, K, Q, J, T, 9, 8, 7, 6, 5, 4, 3, or 2,  where A is the highest and 2 is the lowest.\n",
    "\n",
    "Compare a list of hands (more than 2) and order them from top down"
   ]
  },
  {
   "cell_type": "code",
   "execution_count": 4,
   "id": "1f9ab90c",
   "metadata": {},
   "outputs": [
    {
     "name": "stdout",
     "output_type": "stream",
     "text": [
      "Final Output: 252656917\n"
     ]
    }
   ],
   "source": [
    "def rank(hand):\n",
    "    # Create a dictionary to count the occurrences of each card\n",
    "    card_count = {}\n",
    "    for card in hand:\n",
    "        card_count[card] = card_count.get(card, 0) + 1\n",
    "\n",
    "    # Check for Five of a kind\n",
    "    if 5 in card_count.values():\n",
    "        return 7, hand\n",
    "\n",
    "    # Check for Four of a kind\n",
    "    if 4 in card_count.values():\n",
    "        return 6, hand\n",
    "\n",
    "    # Check for Full house\n",
    "    if 3 in card_count.values() and 2 in card_count.values():\n",
    "        return 5, hand\n",
    "\n",
    "    # Check for Three of a kind\n",
    "    if 3 in card_count.values():\n",
    "        return 4, hand\n",
    "\n",
    "    # Check for Two pair\n",
    "    if list(card_count.values()).count(2) == 2:\n",
    "        return 3, hand\n",
    "\n",
    "    # Check for One pair\n",
    "    if 2 in card_count.values():\n",
    "        return 2, hand\n",
    "\n",
    "    # High card\n",
    "    return 1, hand\n",
    "\n",
    "def card_value(card):\n",
    "    # Assign values to cards for comparison\n",
    "    values = {'A': 14, 'K': 13, 'Q': 12, 'J': 11, 'T': 10, '9': 9, '8': 8, '7': 7, '6': 6, '5': 5, '4': 4, '3': 3, '2': 2}\n",
    "    return values[card]\n",
    "\n",
    "def order_hands(hands, rank_def):\n",
    "    sorted_hands = sorted(hands, key=lambda x: (rank_def(x)[0], [card_value(card) for card in x]), reverse=True)\n",
    "    return sorted_hands\n",
    "\n",
    "hands = dict()\n",
    "bids = []\n",
    "\n",
    "with open(\"data/input7.txt\", 'r') as file:\n",
    "    for line in file:\n",
    "        hand, bid = line.split()\n",
    "        hands[hand] = int(bid)\n",
    "\n",
    "sorted_hands = order_hands(hands, rank)\n",
    "result = 0\n",
    "for idx, hand in enumerate(sorted_hands):\n",
    "    #print(f\"Hand {idx}: {hand}\")\n",
    "    result += (len(hands)-idx) * hands[hand]\n",
    "\n",
    "print(\"Final Output:\", result)"
   ]
  },
  {
   "cell_type": "markdown",
   "id": "f74d1f86",
   "metadata": {},
   "source": [
    "#### Part 2\n",
    "\n",
    "J card changed function - it is now a wildcard that can act like whatever card would make the hand the strongest rank possible.\n",
    "\n",
    "J cards now are the weakest individual cards, weaker than 2. The other cards stay in the same order: A, K, Q, T, 9, 8, 7, 6, 5, 4, 3, 2, J."
   ]
  },
  {
   "cell_type": "code",
   "execution_count": 48,
   "id": "50b52ed9",
   "metadata": {
    "scrolled": false
   },
   "outputs": [
    {
     "name": "stdout",
     "output_type": "stream",
     "text": [
      "Final Output: 253499763\n"
     ]
    }
   ],
   "source": [
    "from collections import Counter\n",
    "\n",
    "def card_value(card):\n",
    "    # Adjusted card values to consider J as the weakest individual card\n",
    "    values = {'A': 14, 'K': 13, 'Q': 12, 'T': 10, '9': 9, '8': 8, '7': 7, '6': 6, '5': 5, '4': 4, '3': 3, '2': 2, 'J': 1}\n",
    "    return values[card]\n",
    "\n",
    "def rank_J(hand):\n",
    "    new_hand = \"\"\n",
    "    sorted_counts = Counter(hand)\n",
    "    sorted_cards = sorted(sorted_counts, key=sorted_counts.get)\n",
    "    replace_card = sorted_cards[-1]\n",
    "    if len(sorted_cards) > 1:\n",
    "        if (sorted_counts[sorted_cards[-1]]==sorted_counts[sorted_cards[-2]]):\n",
    "            replace_card = max([sorted_cards[-1], sorted_cards[-2]], key = lambda p: card_value(p))\n",
    "        elif sorted_cards[-1]==\"J\":\n",
    "            replace_card = sorted_cards[-2]\n",
    "    for i in range(len(hand)):\n",
    "        card = hand[i]\n",
    "        if card == \"J\":\n",
    "            new_hand += replace_card\n",
    "        else:\n",
    "            new_hand += card\n",
    "    #print(\"----\", new_hand)\n",
    "    return rank(new_hand)\n",
    "\n",
    "hands = dict()\n",
    "bids = []\n",
    "\n",
    "with open(\"data/input7.txt\", 'r') as file:\n",
    "    for line in file:\n",
    "        hand, bid = line.split()\n",
    "        hands[hand] = int(bid)\n",
    "\n",
    "sorted_hands = order_hands(hands, rank_J)\n",
    "result = 0\n",
    "for idx, hand in enumerate(sorted_hands):\n",
    "    #print(f\"Hand {idx}: {hand}\")\n",
    "    result += (len(hands)-idx) * hands[hand]\n",
    "\n",
    "print(\"Final Output:\", result)"
   ]
  },
  {
   "cell_type": "code",
   "execution_count": null,
   "id": "ace500d1",
   "metadata": {},
   "outputs": [],
   "source": []
  }
 ],
 "metadata": {
  "kernelspec": {
   "display_name": "Python 3 (ipykernel)",
   "language": "python",
   "name": "python3"
  },
  "language_info": {
   "codemirror_mode": {
    "name": "ipython",
    "version": 3
   },
   "file_extension": ".py",
   "mimetype": "text/x-python",
   "name": "python",
   "nbconvert_exporter": "python",
   "pygments_lexer": "ipython3",
   "version": "3.10.11"
  }
 },
 "nbformat": 4,
 "nbformat_minor": 5
}
