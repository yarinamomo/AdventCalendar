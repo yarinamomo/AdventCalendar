{
 "cells": [
  {
   "cell_type": "markdown",
   "id": "22f06383",
   "metadata": {},
   "source": [
    "### Jul AdventKalender D15\n",
    "\n",
    "https://adventofcode.com/2023/day/15"
   ]
  },
  {
   "cell_type": "markdown",
   "id": "f1695325",
   "metadata": {},
   "source": [
    "#### Part 1 "
   ]
  },
  {
   "cell_type": "code",
   "execution_count": 1,
   "id": "1f9ab90c",
   "metadata": {},
   "outputs": [],
   "source": [
    "with open(\"data/input15.txt\",\"r\") as file:\n",
    "    for line in file.readlines():\n",
    "        input_seqs = line.split(\",\") "
   ]
  },
  {
   "cell_type": "code",
   "execution_count": 2,
   "id": "8b1dedaa",
   "metadata": {
    "scrolled": false
   },
   "outputs": [],
   "source": [
    "def HASH(input_str):\n",
    "    current_value=0\n",
    "    for s in input_str:\n",
    "        current_value = (current_value+ord(s))*17%256\n",
    "    return current_value"
   ]
  },
  {
   "cell_type": "code",
   "execution_count": 3,
   "id": "e2238c15",
   "metadata": {
    "scrolled": true
   },
   "outputs": [
    {
     "data": {
      "text/plain": [
       "511343"
      ]
     },
     "execution_count": 3,
     "metadata": {},
     "output_type": "execute_result"
    }
   ],
   "source": [
    "load_sum=0\n",
    "for input_s in input_seqs:\n",
    "    load_sum += HASH(input_s)\n",
    "load_sum"
   ]
  },
  {
   "cell_type": "markdown",
   "id": "f74d1f86",
   "metadata": {},
   "source": [
    "#### Part 2"
   ]
  },
  {
   "cell_type": "code",
   "execution_count": 4,
   "id": "50b52ed9",
   "metadata": {
    "scrolled": false
   },
   "outputs": [],
   "source": [
    "def is_in_box(input_label, box_num):\n",
    "    global seq_lens\n",
    "    for i in range(len(seq_lens[str(box_num)])):\n",
    "        if seq_lens[str(box_num)][i][0]==input_label:\n",
    "            return i \n",
    "    return -1\n",
    "    \n",
    "def HASHMAP(input_str):\n",
    "    global seq_lens\n",
    "    if \"=\" in input_str:\n",
    "        label, num = input_str.split(\"=\")\n",
    "        box_num = HASH(label)\n",
    "        if str(box_num) not in seq_lens: seq_lens[str(box_num)]=list()\n",
    "        replaced = False\n",
    "        if len(seq_lens[str(box_num)])>0:\n",
    "            label_id = is_in_box(label, box_num)\n",
    "            if label_id > -1:\n",
    "                seq_lens[str(box_num)][label_id][1]=num\n",
    "                replaced = True\n",
    "        if not replaced: seq_lens[str(box_num)].append([label, num])\n",
    "    if \"-\" in input_str:\n",
    "        label = input_str[:-1]\n",
    "        box_num = HASH(label)\n",
    "        if str(box_num) in seq_lens and len(seq_lens[str(box_num)])>0:\n",
    "            label_id = is_in_box(label, box_num)\n",
    "            if label_id > -1:\n",
    "                del seq_lens[str(box_num)][label_id]"
   ]
  },
  {
   "cell_type": "code",
   "execution_count": 5,
   "id": "39770df2",
   "metadata": {},
   "outputs": [
    {
     "data": {
      "text/plain": [
       "294474"
      ]
     },
     "execution_count": 5,
     "metadata": {},
     "output_type": "execute_result"
    }
   ],
   "source": [
    "seq_lens = {}\n",
    "for input_s in input_seqs:\n",
    "    HASHMAP(input_s)\n",
    "load_sum=0\n",
    "for box_num, item in seq_lens.items():\n",
    "    load_sum += (int(box_num)+1) * sum([(i+1)*int(item[i][1]) for i in range(len(item))])\n",
    "load_sum"
   ]
  },
  {
   "cell_type": "code",
   "execution_count": null,
   "id": "57692d59",
   "metadata": {},
   "outputs": [],
   "source": []
  }
 ],
 "metadata": {
  "kernelspec": {
   "display_name": "Python 3 (ipykernel)",
   "language": "python",
   "name": "python3"
  },
  "language_info": {
   "codemirror_mode": {
    "name": "ipython",
    "version": 3
   },
   "file_extension": ".py",
   "mimetype": "text/x-python",
   "name": "python",
   "nbconvert_exporter": "python",
   "pygments_lexer": "ipython3",
   "version": "3.10.11"
  }
 },
 "nbformat": 4,
 "nbformat_minor": 5
}
