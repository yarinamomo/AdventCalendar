{
 "cells": [
  {
   "cell_type": "markdown",
   "id": "22f06383",
   "metadata": {},
   "source": [
    "### Jul AdventKalender D19\n",
    "\n",
    "https://adventofcode.com/2023/day/19"
   ]
  },
  {
   "cell_type": "markdown",
   "id": "f1695325",
   "metadata": {},
   "source": [
    "#### Part 1 "
   ]
  },
  {
   "cell_type": "code",
   "execution_count": 3,
   "id": "1f9ab90c",
   "metadata": {},
   "outputs": [],
   "source": [
    "import re\n",
    "\n",
    "rule_pattern = r'(\\w+)\\s*([<>]=?|==)\\s*([0-9]+):([^\\s,]+)'\n",
    "part_pattern = r'(\\w+)\\s*=\\s*([0-9]+)'\n",
    "workflows = {}\n",
    "parts = []\n",
    "\n",
    "with open(\"data/input19.txt\",\"r\") as file:\n",
    "    is_workflow=True\n",
    "    for line in file.readlines():\n",
    "        line = line.strip()\n",
    "        if len(line)==0:\n",
    "            is_workflow=False\n",
    "            continue\n",
    "        if is_workflow:\n",
    "            key, values = line.split('{')\n",
    "            workflows[key] = re.findall(rule_pattern, values)\n",
    "            workflows[key].append(values[:-1].split(',')[-1]) # last rule\n",
    "        else:\n",
    "            sub_parts = re.findall(part_pattern, line)\n",
    "            part = {}\n",
    "            for sub_part in sub_parts:\n",
    "                part[sub_part[0]]=sub_part[1] \n",
    "            parts.append(part)"
   ]
  },
  {
   "cell_type": "code",
   "execution_count": 4,
   "id": "8b1dedaa",
   "metadata": {
    "scrolled": false
   },
   "outputs": [],
   "source": [
    "import operator\n",
    "op_dict = {\n",
    "    '>': operator.gt,\n",
    "    '<': operator.lt\n",
    "}\n",
    "\n",
    "def workflow_rule_checker(part, workflow_name):\n",
    "    rules = workflows[workflow_name]\n",
    "    for rule in rules[:-1]: #('a', '<', '2006', 'qkq')\n",
    "        if op_dict.get(rule[1])(int(part[rule[0]]), int(rule[2])):\n",
    "            return rule[3]\n",
    "    return rules[-1]\n",
    "\n",
    "def workflow_end(part, workflow_name):\n",
    "    if workflow_name in ['A','R']:\n",
    "        res=0\n",
    "        if workflow_name == 'A': # accept\n",
    "            res = sum(map(int,part.values()))\n",
    "        return True, res\n",
    "    return False, 0\n",
    "\n",
    "def validate_part(part):\n",
    "    next_workflow = 'in'\n",
    "    while (True):\n",
    "        is_end, res = workflow_end(part, next_workflow)\n",
    "        if is_end:\n",
    "            break\n",
    "        next_workflow = workflow_rule_checker(part, next_workflow)\n",
    "    return res"
   ]
  },
  {
   "cell_type": "code",
   "execution_count": 5,
   "id": "1d5c23cd",
   "metadata": {},
   "outputs": [
    {
     "data": {
      "text/plain": [
       "389114"
      ]
     },
     "execution_count": 5,
     "metadata": {},
     "output_type": "execute_result"
    }
   ],
   "source": [
    "sum_total = 0\n",
    "for part in parts:\n",
    "    sum_total+=validate_part(part)\n",
    "sum_total"
   ]
  },
  {
   "cell_type": "markdown",
   "id": "f74d1f86",
   "metadata": {},
   "source": [
    "#### Part 2"
   ]
  },
  {
   "cell_type": "code",
   "execution_count": 22,
   "id": "33a9bdff",
   "metadata": {},
   "outputs": [
    {
     "data": {
      "text/plain": [
       "125051049836302"
      ]
     },
     "execution_count": 22,
     "metadata": {},
     "output_type": "execute_result"
    }
   ],
   "source": [
    "from functools import reduce\n",
    "from operator import mul\n",
    "\n",
    "def workflow_validate(workflow_name, candidates):\n",
    "    if workflow_name == 'A':\n",
    "        return reduce(mul, [len(sub_part_values) for sub_part_name, sub_part_values in candidates.items()])\n",
    "    if workflow_name == 'R':\n",
    "        return 0\n",
    "    res = 0\n",
    "    workflow_rules = workflows[workflow_name]\n",
    "    for rule in workflow_rules[:-1]: #('a', '<', '2006', 'qkq')\n",
    "        candidates_fulfilled = candidates.copy()\n",
    "        filter_fun = (lambda x: x < int(rule[2])) if rule[1] == '<' else (lambda x: x > int(rule[2]))\n",
    "        \n",
    "        candidates_fulfilled[rule[0]] = list(filter(filter_fun, candidates_fulfilled[rule[0]])) # fulfilled candidates\n",
    "        candidates[rule[0]] = list(filter(lambda x: not filter_fun(x), candidates[rule[0]])) # not fulfilled, go to next rule\n",
    "        res += workflow_validate(rule[3], candidates_fulfilled)\n",
    "    return res + workflow_validate(workflow_rules[-1], candidates) # last rule\n",
    "\n",
    "candidates_original = {'x':[i for i in range(1, 4001)],\n",
    "                       'm':[i for i in range(1, 4001)],\n",
    "                       'a':[i for i in range(1, 4001)],\n",
    "                       's':[i for i in range(1, 4001)]}\n",
    "workflow_validate('in', candidates_original)"
   ]
  }
 ],
 "metadata": {
  "kernelspec": {
   "display_name": "Python 3 (ipykernel)",
   "language": "python",
   "name": "python3"
  },
  "language_info": {
   "codemirror_mode": {
    "name": "ipython",
    "version": 3
   },
   "file_extension": ".py",
   "mimetype": "text/x-python",
   "name": "python",
   "nbconvert_exporter": "python",
   "pygments_lexer": "ipython3",
   "version": "3.11.5"
  }
 },
 "nbformat": 4,
 "nbformat_minor": 5
}
