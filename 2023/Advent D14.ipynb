{
 "cells": [
  {
   "cell_type": "markdown",
   "id": "22f06383",
   "metadata": {},
   "source": [
    "### Jul AdventKalender D14\n",
    "\n",
    "https://adventofcode.com/2023/day/14"
   ]
  },
  {
   "cell_type": "markdown",
   "id": "f1695325",
   "metadata": {},
   "source": [
    "#### Part 1 "
   ]
  },
  {
   "cell_type": "code",
   "execution_count": 98,
   "id": "1f9ab90c",
   "metadata": {},
   "outputs": [],
   "source": [
    "import numpy as np\n",
    "\n",
    "with open(\"data/input14.txt\",\"r\") as file:\n",
    "    input_patterns =  np.array([list(line.strip()) for line in file.readlines()])"
   ]
  },
  {
   "cell_type": "code",
   "execution_count": 59,
   "id": "8b1dedaa",
   "metadata": {
    "scrolled": false
   },
   "outputs": [],
   "source": [
    "def rollup(in_pattern):\n",
    "    r_pattern = in_pattern.copy()\n",
    "    for i in range(1,r_pattern.shape[0]):\n",
    "        for j in range(r_pattern.shape[1]):\n",
    "            if r_pattern[i,j]=='O':\n",
    "                for i_past in range(i-1,-1,-1):\n",
    "                    #print(i,j,i_past)\n",
    "                    if r_pattern[i_past,j]=='.':\n",
    "                        #print(\"move\")\n",
    "                        r_pattern[i_past,j]='O'\n",
    "                        r_pattern[i_past+1,j]='.'\n",
    "                    else:\n",
    "                        break\n",
    "                #print(r_pattern)\n",
    "    return r_pattern\n",
    "res_pattern = rollup(input_patterns)"
   ]
  },
  {
   "cell_type": "code",
   "execution_count": 60,
   "id": "e2238c15",
   "metadata": {
    "scrolled": true
   },
   "outputs": [
    {
     "data": {
      "text/plain": [
       "110090"
      ]
     },
     "execution_count": 60,
     "metadata": {},
     "output_type": "execute_result"
    }
   ],
   "source": [
    "load_sum=0\n",
    "for l in range(res_pattern.shape[0],0,-1):\n",
    "    load_sum += sum(res_pattern[res_pattern.shape[0]-l]=='O')*l\n",
    "load_sum"
   ]
  },
  {
   "cell_type": "markdown",
   "id": "f74d1f86",
   "metadata": {},
   "source": [
    "#### Part 2"
   ]
  },
  {
   "cell_type": "code",
   "execution_count": 61,
   "id": "50b52ed9",
   "metadata": {
    "scrolled": false
   },
   "outputs": [],
   "source": [
    "def spin(in_pattern):\n",
    "    roll_pattern = rollup(in_pattern) # north\n",
    "    for i in range(3):\n",
    "        roll_pattern = np.rot90(roll_pattern, axes=(1,0))\n",
    "        roll_pattern = rollup(roll_pattern) # 'west','south','east'\n",
    "    return np.rot90(roll_pattern, axes=(1,0))\n",
    "def find_pattern(tar_pattern):\n",
    "    global spin_patterns\n",
    "    for p_id in range(len(spin_patterns)):\n",
    "        if sum(sum(1-(spin_patterns[p_id]==tar_pattern)))==0:\n",
    "            return p_id\n",
    "    return -1"
   ]
  },
  {
   "cell_type": "code",
   "execution_count": 106,
   "id": "39770df2",
   "metadata": {},
   "outputs": [],
   "source": [
    "def spin_cycles(n_cycle, in_pattern):\n",
    "    global spin_patterns\n",
    "    for i in range(n_cycle):\n",
    "        \n",
    "        in_pattern = spin(in_pattern)\n",
    "        \n",
    "        if len(spin_patterns)>0:\n",
    "            res = find_pattern(in_pattern)\n",
    "            if res>-1: # found loop pattern\n",
    "                print(\"found pattern loop\", i, res)\n",
    "                return spin_patterns[((n_cycle-res)%(len(spin_patterns)-res))+res]\n",
    "        \n",
    "        spin_patterns.append(in_pattern)\n",
    "    print(\"no pattern loop found\")\n",
    "    return in_pattern"
   ]
  },
  {
   "cell_type": "code",
   "execution_count": 107,
   "id": "f6ef23ed",
   "metadata": {},
   "outputs": [
    {
     "name": "stdout",
     "output_type": "stream",
     "text": [
      "found pattern loop 156 115\n"
     ]
    },
    {
     "data": {
      "text/plain": [
       "95254"
      ]
     },
     "execution_count": 107,
     "metadata": {},
     "output_type": "execute_result"
    }
   ],
   "source": [
    "spin_patterns=[input_patterns]\n",
    "res_pattern = spin_cycles(1000000000, input_patterns)\n",
    "load_sum=0\n",
    "for l in range(res_pattern.shape[0],0,-1):\n",
    "    load_sum += sum(res_pattern[res_pattern.shape[0]-l]=='O')*l\n",
    "load_sum"
   ]
  },
  {
   "cell_type": "code",
   "execution_count": null,
   "id": "57692d59",
   "metadata": {},
   "outputs": [],
   "source": []
  }
 ],
 "metadata": {
  "kernelspec": {
   "display_name": "Python 3 (ipykernel)",
   "language": "python",
   "name": "python3"
  },
  "language_info": {
   "codemirror_mode": {
    "name": "ipython",
    "version": 3
   },
   "file_extension": ".py",
   "mimetype": "text/x-python",
   "name": "python",
   "nbconvert_exporter": "python",
   "pygments_lexer": "ipython3",
   "version": "3.10.11"
  }
 },
 "nbformat": 4,
 "nbformat_minor": 5
}
