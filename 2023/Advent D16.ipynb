{
 "cells": [
  {
   "cell_type": "code",
   "execution_count": null,
   "id": "770d25f7",
   "metadata": {},
   "outputs": [],
   "source": [
    "import sys\n",
    "#sys.getrecursionlimit()\n",
    "sys.setrecursionlimit(10000)"
   ]
  },
  {
   "cell_type": "markdown",
   "id": "22f06383",
   "metadata": {},
   "source": [
    "### Jul AdventKalender D16\n",
    "\n",
    "https://adventofcode.com/2023/day/16"
   ]
  },
  {
   "cell_type": "markdown",
   "id": "f1695325",
   "metadata": {},
   "source": [
    "#### Part 1 "
   ]
  },
  {
   "cell_type": "code",
   "execution_count": 76,
   "id": "1f9ab90c",
   "metadata": {},
   "outputs": [],
   "source": [
    "import numpy as np\n",
    "\n",
    "with open(\"data/input16.txt\",\"r\") as file:\n",
    "    input_seqs = np.array([list(line.strip()) for line in file.readlines()])"
   ]
  },
  {
   "cell_type": "code",
   "execution_count": 77,
   "id": "8b1dedaa",
   "metadata": {
    "scrolled": false
   },
   "outputs": [],
   "source": [
    "directions={\n",
    "    'up':(-1,0),\n",
    "    'down':(1,0),\n",
    "    'left':(0,-1),\n",
    "    'right':(0,1)\n",
    "}\n",
    "directions_by_symbol={\n",
    "    \".\":{\"right\":\"right\",\n",
    "         \"left\":\"left\",\n",
    "         \"up\":\"up\",\n",
    "         \"down\":\"down\"\n",
    "        },\n",
    "    \"/\":{\"right\":\"up\",\n",
    "         \"left\":\"down\",\n",
    "         \"up\":\"right\",\n",
    "         \"down\":\"left\"\n",
    "        },\n",
    "    \"\\\\\":{\"right\":\"down\",\n",
    "          \"left\":\"up\",\n",
    "          \"up\":\"left\",\n",
    "          \"down\":\"right\",\n",
    "         },\n",
    "    \"|\":{\"up\":\"up\",\n",
    "         \"down\":\"down\",\n",
    "         \"left\":[\"up\",\"down\"],\n",
    "         \"right\":[\"up\",\"down\"],\n",
    "        },\n",
    "    \"-\":{\"up\":[\"left\",\"right\"],\n",
    "         \"down\":[\"left\",\"right\"],\n",
    "         \"left\":\"left\",\n",
    "         \"right\":\"right\",\n",
    "        }\n",
    "}\n",
    "\n",
    "def light_travel(start_pos, start_dir):\n",
    "    global input_seqs, input_enegized, visited\n",
    "    if (start_pos,start_dir) in visited:\n",
    "        return\n",
    "    input_enegized[start_pos] = 1\n",
    "    visited.append((start_pos,start_dir))\n",
    "    cur_sym = input_seqs[start_pos]\n",
    "    next_dir = directions_by_symbol[cur_sym][start_dir]\n",
    "    if isinstance(next_dir, list):\n",
    "        for item in next_dir:\n",
    "            tar_pos = (start_pos[0]+directions[item][0],start_pos[1]+directions[item][1]) # next start pos\n",
    "            if -1<tar_pos[0]<input_seqs.shape[0] and -1<tar_pos[1]<input_seqs.shape[1]:\n",
    "                light_travel(tar_pos, item)\n",
    "    else:\n",
    "        tar_pos = (start_pos[0]+directions[next_dir][0],start_pos[1]+directions[next_dir][1]) # next start pos\n",
    "        if -1<tar_pos[0]<input_seqs.shape[0] and -1<tar_pos[1]<input_seqs.shape[1]:\n",
    "            light_travel(tar_pos, next_dir)"
   ]
  },
  {
   "cell_type": "code",
   "execution_count": 78,
   "id": "e2238c15",
   "metadata": {
    "scrolled": true
   },
   "outputs": [
    {
     "data": {
      "text/plain": [
       "8389.0"
      ]
     },
     "execution_count": 78,
     "metadata": {},
     "output_type": "execute_result"
    }
   ],
   "source": [
    "def output_max(start_pos, start_dir):\n",
    "    global input_seqs, input_enegized, visited\n",
    "    visited=[]\n",
    "    input_enegized = np.zeros(input_seqs.shape)\n",
    "    light_travel(start_pos, start_dir)\n",
    "    return sum(sum(input_enegized))\n",
    "\n",
    "output_max((0,0), 'right')"
   ]
  },
  {
   "cell_type": "markdown",
   "id": "f74d1f86",
   "metadata": {},
   "source": [
    "#### Part 2"
   ]
  },
  {
   "cell_type": "code",
   "execution_count": 79,
   "id": "50b52ed9",
   "metadata": {
    "scrolled": false
   },
   "outputs": [],
   "source": [
    "max_sum=0\n",
    "for i in range(input_seqs.shape[0]):\n",
    "    max_sum = max(output_max((i,0), 'right'), max_sum)\n",
    "    max_sum = max(output_max((i,input_seqs.shape[0]-1), 'left'), max_sum)\n",
    "for j in range(input_seqs.shape[1]):\n",
    "    max_sum = max(output_max((0,j), 'down'), max_sum)\n",
    "    max_sum = max(output_max((input_seqs.shape[0]-1,j), 'up'), max_sum)"
   ]
  },
  {
   "cell_type": "code",
   "execution_count": 80,
   "id": "57692d59",
   "metadata": {},
   "outputs": [
    {
     "data": {
      "text/plain": [
       "8564.0"
      ]
     },
     "execution_count": 80,
     "metadata": {},
     "output_type": "execute_result"
    }
   ],
   "source": [
    "max_sum"
   ]
  },
  {
   "cell_type": "code",
   "execution_count": null,
   "id": "21c85f86",
   "metadata": {},
   "outputs": [],
   "source": []
  }
 ],
 "metadata": {
  "kernelspec": {
   "display_name": "Python 3 (ipykernel)",
   "language": "python",
   "name": "python3"
  },
  "language_info": {
   "codemirror_mode": {
    "name": "ipython",
    "version": 3
   },
   "file_extension": ".py",
   "mimetype": "text/x-python",
   "name": "python",
   "nbconvert_exporter": "python",
   "pygments_lexer": "ipython3",
   "version": "3.10.11"
  }
 },
 "nbformat": 4,
 "nbformat_minor": 5
}
