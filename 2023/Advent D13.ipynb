{
 "cells": [
  {
   "cell_type": "markdown",
   "id": "22f06383",
   "metadata": {},
   "source": [
    "### Jul AdventKalender D13\n",
    "\n",
    "https://adventofcode.com/2023/day/13"
   ]
  },
  {
   "cell_type": "markdown",
   "id": "f1695325",
   "metadata": {},
   "source": [
    "#### Part 1 "
   ]
  },
  {
   "cell_type": "code",
   "execution_count": 1,
   "id": "1f9ab90c",
   "metadata": {},
   "outputs": [],
   "source": [
    "import numpy as np\n",
    "\n",
    "input_patterns = []\n",
    "with open(\"data/input13.txt\",\"r\") as file:\n",
    "    pattern = []\n",
    "    for line in file.readlines():\n",
    "        if len(line.strip())>0:\n",
    "            pattern.append(list(line.strip()))\n",
    "        else:\n",
    "            input_patterns.append(np.array(pattern))\n",
    "            pattern=[]\n",
    "    input_patterns.append(np.array(pattern))"
   ]
  },
  {
   "cell_type": "code",
   "execution_count": 2,
   "id": "8b1dedaa",
   "metadata": {},
   "outputs": [],
   "source": [
    "def find_reflection_indices(pattern_arr, error=0):\n",
    "    ref_len_row, ref_len_col = 0,0\n",
    "    for i in range(1,pattern_arr.shape[0]//2+1): #row\n",
    "        if sum(sum(1- (pattern_arr[:i,:][::-1] == pattern_arr[i:2*i,:])))==error:\n",
    "            ref_len_row = i\n",
    "    for i in range(1,pattern_arr.shape[1]//2+1): #col\n",
    "        if sum(sum(1- (pattern_arr[:,:i][:,::-1] == pattern_arr[:,i:2*i])))==error:\n",
    "            ref_len_col = i\n",
    "    return ref_len_row, ref_len_col"
   ]
  },
  {
   "cell_type": "code",
   "execution_count": 3,
   "id": "e2238c15",
   "metadata": {
    "scrolled": true
   },
   "outputs": [
    {
     "data": {
      "text/plain": [
       "33728"
      ]
     },
     "execution_count": 3,
     "metadata": {},
     "output_type": "execute_result"
    }
   ],
   "source": [
    "note_sum=0\n",
    "for p in input_patterns:\n",
    "    ref_len_row=ref_len_row_f=ref_len_col=ref_len_col_f=0\n",
    "    ref_len_row, ref_len_col = find_reflection_indices(p)\n",
    "    if ref_len_row + ref_len_col == 0:\n",
    "        _, ref_len_col_f = find_reflection_indices(p[:,::-1])\n",
    "        if ref_len_col_f == 0:\n",
    "            ref_len_row_f,_ = find_reflection_indices(p[::-1])\n",
    "        ref_len_col_f = p.shape[1]-ref_len_col_f if ref_len_col_f!=0 else 0\n",
    "        ref_len_row_f = p.shape[0]-ref_len_row_f if ref_len_row_f!=0 else 0\n",
    "    #print(\"match====\",ref_len_row,ref_len_row_f,ref_len_col,ref_len_col_f)\n",
    "    note_sum += (ref_len_row+ref_len_row_f)*100 + (ref_len_col+ref_len_col_f)\n",
    "note_sum"
   ]
  },
  {
   "cell_type": "markdown",
   "id": "f74d1f86",
   "metadata": {},
   "source": [
    "#### Part 2"
   ]
  },
  {
   "cell_type": "code",
   "execution_count": 4,
   "id": "50b52ed9",
   "metadata": {
    "scrolled": false
   },
   "outputs": [
    {
     "data": {
      "text/plain": [
       "28235"
      ]
     },
     "execution_count": 4,
     "metadata": {},
     "output_type": "execute_result"
    }
   ],
   "source": [
    "note_sum=0\n",
    "for p in input_patterns:\n",
    "    ref_len_row=ref_len_row_f=ref_len_col=ref_len_col_f=0\n",
    "    ref_len_row, ref_len_col = find_reflection_indices(p, error=1)\n",
    "    if ref_len_row + ref_len_col == 0:\n",
    "        _, ref_len_col_f = find_reflection_indices(p[:,::-1], error=1)\n",
    "        if ref_len_col_f == 0:\n",
    "            ref_len_row_f,_ = find_reflection_indices(p[::-1], error=1)\n",
    "        ref_len_col_f = p.shape[1]-ref_len_col_f if ref_len_col_f!=0 else 0\n",
    "        ref_len_row_f = p.shape[0]-ref_len_row_f if ref_len_row_f!=0 else 0\n",
    "    #print(\"match====\",ref_len_row,ref_len_row_f,ref_len_col,ref_len_col_f)\n",
    "    note_sum += (ref_len_row+ref_len_row_f)*100 + (ref_len_col+ref_len_col_f)\n",
    "note_sum"
   ]
  },
  {
   "cell_type": "code",
   "execution_count": null,
   "id": "39770df2",
   "metadata": {},
   "outputs": [],
   "source": []
  }
 ],
 "metadata": {
  "kernelspec": {
   "display_name": "Python 3 (ipykernel)",
   "language": "python",
   "name": "python3"
  },
  "language_info": {
   "codemirror_mode": {
    "name": "ipython",
    "version": 3
   },
   "file_extension": ".py",
   "mimetype": "text/x-python",
   "name": "python",
   "nbconvert_exporter": "python",
   "pygments_lexer": "ipython3",
   "version": "3.10.11"
  }
 },
 "nbformat": 4,
 "nbformat_minor": 5
}
