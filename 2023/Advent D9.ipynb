{
 "cells": [
  {
   "cell_type": "markdown",
   "id": "22f06383",
   "metadata": {},
   "source": [
    "### Jul AdventKalender D9\n",
    "\n",
    "https://adventofcode.com/2023/day/9"
   ]
  },
  {
   "cell_type": "markdown",
   "id": "f1695325",
   "metadata": {},
   "source": [
    "#### Part 1 "
   ]
  },
  {
   "cell_type": "code",
   "execution_count": 1,
   "id": "1f9ab90c",
   "metadata": {},
   "outputs": [
    {
     "data": {
      "text/plain": [
       "1868368343"
      ]
     },
     "execution_count": 1,
     "metadata": {},
     "output_type": "execute_result"
    }
   ],
   "source": [
    "report = []\n",
    "\n",
    "with open(\"data/input9.txt\", 'r') as file:\n",
    "    for line in file:\n",
    "        report.append(list(map(int, line.strip().split())))\n",
    "        \n",
    "        \n",
    "def next_list(diff):\n",
    "    if len(set(diff)) == 1 and diff[0] == 0:\n",
    "        return False, None\n",
    "    diff_next = [j-i for i, j in zip(diff[:-1], diff[1:])]\n",
    "    return True, diff_next\n",
    "\n",
    "def next_number(initial_list):\n",
    "    next_lists = [initial_list]\n",
    "    while (True):\n",
    "        res, ls = next_list(next_lists[-1])\n",
    "        if res == False:\n",
    "            break\n",
    "        next_lists.append(ls)\n",
    "\n",
    "    for i in range(len(next_lists)-1,-1,-1):\n",
    "        if i == len(next_lists)-1:\n",
    "            sub = 0\n",
    "        else:\n",
    "            sub = next_lists[i+1][-1]\n",
    "        next_lists[i].append(next_lists[i][-1]+sub)\n",
    "    return next_lists[0][-1]\n",
    "\n",
    "sum(map(next_number, report))"
   ]
  },
  {
   "cell_type": "markdown",
   "id": "f74d1f86",
   "metadata": {},
   "source": [
    "#### Part 2"
   ]
  },
  {
   "cell_type": "code",
   "execution_count": 2,
   "id": "50b52ed9",
   "metadata": {
    "scrolled": false
   },
   "outputs": [
    {
     "data": {
      "text/plain": [
       "1022"
      ]
     },
     "execution_count": 2,
     "metadata": {},
     "output_type": "execute_result"
    }
   ],
   "source": [
    "def next_number(initial_list):\n",
    "    next_lists = [initial_list]\n",
    "    while (True):\n",
    "        res, ls = next_list(next_lists[-1])\n",
    "        if res == False:\n",
    "            break\n",
    "        next_lists.append(ls)\n",
    "\n",
    "    for i in range(len(next_lists)-1,-1,-1):\n",
    "        if i == len(next_lists)-1:\n",
    "            sub = 0\n",
    "        else:\n",
    "            sub = next_lists[i+1][-1]\n",
    "        next_lists[i].append(next_lists[i][0]-sub)\n",
    "    #print(next_lists)\n",
    "    return next_lists[0][-1]\n",
    "\n",
    "sum(map(next_number, report))"
   ]
  },
  {
   "cell_type": "code",
   "execution_count": null,
   "id": "e9423c2c",
   "metadata": {},
   "outputs": [],
   "source": []
  }
 ],
 "metadata": {
  "kernelspec": {
   "display_name": "Python 3 (ipykernel)",
   "language": "python",
   "name": "python3"
  },
  "language_info": {
   "codemirror_mode": {
    "name": "ipython",
    "version": 3
   },
   "file_extension": ".py",
   "mimetype": "text/x-python",
   "name": "python",
   "nbconvert_exporter": "python",
   "pygments_lexer": "ipython3",
   "version": "3.10.11"
  }
 },
 "nbformat": 4,
 "nbformat_minor": 5
}
