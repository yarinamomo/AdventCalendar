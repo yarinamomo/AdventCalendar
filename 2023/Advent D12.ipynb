{
 "cells": [
  {
   "cell_type": "markdown",
   "id": "22f06383",
   "metadata": {},
   "source": [
    "### Jul AdventKalender D12\n",
    "\n",
    "https://adventofcode.com/2023/day/12"
   ]
  },
  {
   "cell_type": "markdown",
   "id": "f1695325",
   "metadata": {},
   "source": [
    "#### Part 1 "
   ]
  },
  {
   "cell_type": "code",
   "execution_count": 48,
   "id": "1f9ab90c",
   "metadata": {},
   "outputs": [],
   "source": [
    "patterns = []\n",
    "numbers = []\n",
    "with open(\"data/input12.txt\",\"r\") as file:\n",
    "    for line in file:\n",
    "        pattern, number = line.split()\n",
    "        patterns.append(pattern)\n",
    "        numbers.append(list(map(int, number.split(','))))"
   ]
  },
  {
   "cell_type": "code",
   "execution_count": 49,
   "id": "8b1dedaa",
   "metadata": {},
   "outputs": [],
   "source": [
    "from functools import cache\n",
    "\n",
    "@cache\n",
    "def count_arrangements(pattern, number, n_springs=0): # n_springs is recorded number of springs\n",
    "    if not pattern:\n",
    "        if not number and n_springs==0:\n",
    "            return True\n",
    "        else:\n",
    "            return False\n",
    "    n = 0\n",
    "    if pattern[0] in (\"#\",\"?\"): # for #, ? can be #\n",
    "        #print('call==#=',pattern[1:], number, n_springs+1)\n",
    "        n += count_arrangements(pattern[1:], number, n_springs+1)\n",
    "    if pattern[0] in (\".\", \"?\"): # for ., ? can be .\n",
    "        if number and number[0] == n_springs:\n",
    "            #print('call==.=',pattern[1:], number[1:], 0)\n",
    "            n += count_arrangements(pattern[1:], number[1:]) # matched => |# x n_springs + .|\n",
    "        elif n_springs==0:\n",
    "            #print('call==.=0=',pattern[1:], number, 0)\n",
    "            n += count_arrangements(pattern[1:], number)\n",
    "    #print(\"return==\", n)\n",
    "    return n"
   ]
  },
  {
   "cell_type": "code",
   "execution_count": 51,
   "id": "928fdc85",
   "metadata": {},
   "outputs": [
    {
     "data": {
      "text/plain": [
       "7622"
      ]
     },
     "execution_count": 51,
     "metadata": {},
     "output_type": "execute_result"
    }
   ],
   "source": [
    "all_arrangements = 0\n",
    "for i in range(len(numbers)):\n",
    "    all_arrangements += count_arrangements(patterns[i]+'.', tuple(numbers[i]))\n",
    "    #print(all_arrangements)\n",
    "all_arrangements"
   ]
  },
  {
   "cell_type": "markdown",
   "id": "f74d1f86",
   "metadata": {},
   "source": [
    "#### Part 2"
   ]
  },
  {
   "cell_type": "code",
   "execution_count": 52,
   "id": "c22fb17d",
   "metadata": {},
   "outputs": [],
   "source": [
    "patterns = []\n",
    "numbers = []\n",
    "with open(\"data/input12.txt\",\"r\") as file:\n",
    "    for line in file:\n",
    "        pattern, number = line.split()\n",
    "        patterns.append(((pattern+'?')*5)[:-1])\n",
    "        numbers.append(list(map(int, number.split(',')))*5)"
   ]
  },
  {
   "cell_type": "code",
   "execution_count": 53,
   "id": "d84bef50",
   "metadata": {},
   "outputs": [
    {
     "data": {
      "text/plain": [
       "4964259839627"
      ]
     },
     "execution_count": 53,
     "metadata": {},
     "output_type": "execute_result"
    }
   ],
   "source": [
    "all_arrangements = 0\n",
    "for i in range(len(numbers)):\n",
    "    all_arrangements += count_arrangements(patterns[i]+'.', tuple(numbers[i]))\n",
    "    #print(all_arrangements)\n",
    "all_arrangements"
   ]
  },
  {
   "cell_type": "code",
   "execution_count": null,
   "id": "c37fbb89",
   "metadata": {},
   "outputs": [],
   "source": []
  }
 ],
 "metadata": {
  "kernelspec": {
   "display_name": "Python 3 (ipykernel)",
   "language": "python",
   "name": "python3"
  },
  "language_info": {
   "codemirror_mode": {
    "name": "ipython",
    "version": 3
   },
   "file_extension": ".py",
   "mimetype": "text/x-python",
   "name": "python",
   "nbconvert_exporter": "python",
   "pygments_lexer": "ipython3",
   "version": "3.11.5"
  }
 },
 "nbformat": 4,
 "nbformat_minor": 5
}
