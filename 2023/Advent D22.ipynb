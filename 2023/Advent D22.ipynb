{
 "cells": [
  {
   "cell_type": "markdown",
   "id": "22f06383",
   "metadata": {},
   "source": [
    "### Jul AdventKalender D22\n",
    "\n",
    "https://adventofcode.com/2023/day/22"
   ]
  },
  {
   "cell_type": "markdown",
   "id": "f1695325",
   "metadata": {},
   "source": [
    "#### Part 1 "
   ]
  },
  {
   "cell_type": "code",
   "execution_count": 1,
   "id": "1f9ab90c",
   "metadata": {},
   "outputs": [],
   "source": [
    "blocks = []\n",
    "with open(\"data/input22.txt\",\"r\") as file:\n",
    "    for line in file.readlines():\n",
    "        s,e = line.strip().split('~')\n",
    "        blocks.append([[int(i) for i in s.split(',')],[int(i) for i in e.split(',')]])\n",
    "blocks = sorted(blocks, key = lambda x: x[0][2]) # by z in the start pos"
   ]
  },
  {
   "cell_type": "code",
   "execution_count": 2,
   "id": "8b1dedaa",
   "metadata": {
    "scrolled": false
   },
   "outputs": [],
   "source": [
    "import copy\n",
    "\n",
    "def if_disjoint(check_block, block):\n",
    "    return (check_block[1][0] < block[0][0] or block[1][0] < check_block[0][0]) or (check_block[1][1] < block[0][1] or block[1][1] < check_block[0][1])\n",
    "\n",
    "def can_fall(block, previous_fall):\n",
    "    if len(previous_fall)==0:\n",
    "        return 1\n",
    "    fall_h = -1\n",
    "    # check each level below\n",
    "    for i in range(block[0][2]-1, 0, -1):\n",
    "        if str(i) in previous_fall:\n",
    "            check_blocks = previous_fall[str(i)]\n",
    "            is_any_block = False\n",
    "            for check_block in check_blocks:\n",
    "                if not if_disjoint(check_block, block):\n",
    "                    is_any_block = True\n",
    "                    break\n",
    "            if is_any_block == False:\n",
    "                fall_h = i\n",
    "                continue\n",
    "            else:\n",
    "                break\n",
    "        else:\n",
    "            fall_h = i\n",
    "            continue\n",
    "    return fall_h\n",
    "\n",
    "def fall(blocks):\n",
    "    res = []\n",
    "    level_blocks = {}\n",
    "    for block in blocks:\n",
    "        hight = block[1][2] - block[0][2]\n",
    "        fall_h = can_fall(block, level_blocks)\n",
    "        block_new = copy.deepcopy(block)\n",
    "        if fall_h > 0: # can fall\n",
    "            block_new[0][2] = fall_h\n",
    "            block_new[1][2] = block_new[0][2] + hight\n",
    "        for i in range(block_new[0][2], block_new[1][2]+1):\n",
    "            level_blocks[str(i)] = level_blocks.get(str(i), []) + [block_new]\n",
    "        #print(\"fall==\", block_new)\n",
    "        res.append(block_new)\n",
    "    return res, level_blocks"
   ]
  },
  {
   "cell_type": "code",
   "execution_count": 3,
   "id": "93b572f0",
   "metadata": {},
   "outputs": [
    {
     "data": {
      "text/plain": [
       "443"
      ]
     },
     "execution_count": 3,
     "metadata": {},
     "output_type": "execute_result"
    }
   ],
   "source": [
    "def disintegrate_no_fall(tar_blocks, level_blocks):\n",
    "    res = set()\n",
    "    block_supports_by = {}\n",
    "    for cur_level, cur_blocks in level_blocks.items():\n",
    "        if cur_level == list(level_blocks.keys())[-1]:\n",
    "            for v in cur_blocks:\n",
    "                res.add(str(v))\n",
    "        up_blocks = level_blocks.get(str(int(cur_level)+1))\n",
    "        if up_blocks:\n",
    "            for cur_block in cur_blocks:\n",
    "                if cur_block[1][2]!=int(cur_level):\n",
    "                    continue\n",
    "                n_disjoint = 0\n",
    "                for up_block in up_blocks:\n",
    "                    if up_block[0][2]!=int(cur_level)+1:\n",
    "                        n_disjoint += 1\n",
    "                        continue\n",
    "                    if not if_disjoint(cur_block, up_block):\n",
    "                        block_supports_by[str(up_block)] = block_supports_by.get(str(up_block), []) + [str(cur_block)]\n",
    "                    else:\n",
    "                        n_disjoint += 1\n",
    "                if n_disjoint == len(up_blocks):\n",
    "                    #print(cur_block)\n",
    "                    res.add(str(cur_block))\n",
    "        for k, vs in block_supports_by.items():\n",
    "            if len(vs) > 1:\n",
    "                for v in vs:\n",
    "                    res.add(v)\n",
    "        for k, vs in block_supports_by.items():\n",
    "            if len(vs) <= 1:\n",
    "                res.discard(vs[0])\n",
    "    return res, block_supports_by\n",
    "\n",
    "fall_blocks, level_blocks = fall(blocks)\n",
    "safe_disintegrate_blocks, block_supports_by = disintegrate_no_fall(fall_blocks, level_blocks)\n",
    "len(safe_disintegrate_blocks)"
   ]
  },
  {
   "cell_type": "markdown",
   "id": "f74d1f86",
   "metadata": {},
   "source": [
    "#### Part 2"
   ]
  },
  {
   "cell_type": "code",
   "execution_count": 4,
   "id": "e9f2035f",
   "metadata": {},
   "outputs": [
    {
     "data": {
      "text/plain": [
       "69915"
      ]
     },
     "execution_count": 4,
     "metadata": {},
     "output_type": "execute_result"
    }
   ],
   "source": [
    "# next checks: check next time, all above being supported by the tar_blocks\n",
    "# for the ones that being supported but higher (top z) than the next checking level, \n",
    "# save for when the next checking level is the same => save_checks\n",
    "def n_chain(tar_blocks, block_supports_by, level, n=0, save_checks=[]):\n",
    "    next_checks = []\n",
    "    for up_block, supprt_blocks in block_supports_by.items():\n",
    "        if set(supprt_blocks).issubset(tar_blocks): # chain of effects\n",
    "            if int(up_block.replace('[','').replace(']','').split(',')[5]) <= level+1:\n",
    "                next_checks.append(up_block)\n",
    "            else:\n",
    "                save_checks.append(up_block)\n",
    "    for i in range(len(save_checks)-1,-1,-1):\n",
    "        save_check = save_checks[i]\n",
    "        if int(save_check.replace('[','').replace(']','').split(',')[5]) <= level+1:\n",
    "            next_checks.append(save_check)\n",
    "            del save_checks[i]\n",
    "    if next_checks or save_checks: \n",
    "        return n_chain(next_checks, block_supports_by, level+1, n+len(next_checks), save_checks)\n",
    "    return n\n",
    "\n",
    "total = 0\n",
    "for level, blocks in level_blocks.items():\n",
    "    for block in blocks:\n",
    "        # only check when the top z is the save level as current level\n",
    "        if block[1][2] == int(level) and not set(str(block)).issubset(safe_disintegrate_blocks):\n",
    "            n = n_chain([str(block)], block_supports_by, int(level))\n",
    "            #print(block, n)\n",
    "            total += n\n",
    "            \n",
    "total"
   ]
  },
  {
   "cell_type": "code",
   "execution_count": null,
   "id": "a87991df",
   "metadata": {},
   "outputs": [],
   "source": []
  }
 ],
 "metadata": {
  "kernelspec": {
   "display_name": "Python 3 (ipykernel)",
   "language": "python",
   "name": "python3"
  },
  "language_info": {
   "codemirror_mode": {
    "name": "ipython",
    "version": 3
   },
   "file_extension": ".py",
   "mimetype": "text/x-python",
   "name": "python",
   "nbconvert_exporter": "python",
   "pygments_lexer": "ipython3",
   "version": "3.10.11"
  }
 },
 "nbformat": 4,
 "nbformat_minor": 5
}
