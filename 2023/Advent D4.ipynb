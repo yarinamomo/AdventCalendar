{
 "cells": [
  {
   "cell_type": "markdown",
   "id": "22f06383",
   "metadata": {},
   "source": [
    "### Jul AdventKalender D4\n",
    "\n",
    "https://adventofcode.com/2023/day/4"
   ]
  },
  {
   "cell_type": "markdown",
   "id": "f1695325",
   "metadata": {},
   "source": [
    "#### Part 1 \n",
    "\n",
    "Given several lines of numbers, each line is called a card. it can look like the following:\n",
    "\n",
    "    Card 1: 41 48 83 86 17 | 83 86  6 31 17  9 48 53\n",
    "    Card 2: 13 32 20 16 61 | 61 30 68 82 17 32 24 19\n",
    "\n",
    "For each card, the numbers are separated into two parts by \"|\". you need to find the total amount of numbers appearing in both the second part and the first part. the score for each card is 2\\*\\*n where n is the total amount of found numbers. If nothing is the same, then the score is 0. Lastly, add the scores for each card together."
   ]
  },
  {
   "cell_type": "code",
   "execution_count": 1,
   "id": "1f9ab90c",
   "metadata": {},
   "outputs": [
    {
     "name": "stdout",
     "output_type": "stream",
     "text": [
      "Total Score: 20855\n"
     ]
    }
   ],
   "source": [
    "def calculate_score(card):\n",
    "    parts = card.split(\"|\")\n",
    "    first_part = set(map(int, parts[0].split()))\n",
    "    second_part = set(map(int, parts[1].split()))\n",
    "    \n",
    "    common_numbers = first_part.intersection(second_part)\n",
    "    \n",
    "    score = 2 ** (len(common_numbers)-1) if len(common_numbers)>0 else 0\n",
    "    #print(common_numbers, score)\n",
    "    return score\n",
    "\n",
    "def main(input_file_path):\n",
    "    total_score = 0\n",
    "\n",
    "    with open(input_file_path, 'r') as file:\n",
    "        for line in file:\n",
    "            card_score = calculate_score(line.split(\":\")[1])\n",
    "            total_score += card_score\n",
    "\n",
    "    print(\"Total Score:\", total_score)\n",
    "\n",
    "input_file_path = \"data/input4.txt\"  # Replace with the actual path to your input file\n",
    "main(input_file_path)\n"
   ]
  },
  {
   "cell_type": "markdown",
   "id": "f74d1f86",
   "metadata": {},
   "source": [
    "#### Part 2\n"
   ]
  },
  {
   "cell_type": "code",
   "execution_count": 2,
   "id": "50b52ed9",
   "metadata": {},
   "outputs": [
    {
     "name": "stdout",
     "output_type": "stream",
     "text": [
      "Total Number of Cards: 5489600\n"
     ]
    }
   ],
   "source": [
    "def count_matches(card):\n",
    "    parts = card.split(\"|\")\n",
    "    first_part = set(map(int, parts[0].split()))\n",
    "    second_part = set(map(int, parts[1].split()))\n",
    "    \n",
    "    common_numbers = first_part.intersection(second_part)\n",
    "    \n",
    "    return len(common_numbers)\n",
    "\n",
    "def add_cards(card_no, num_copies):\n",
    "    if card_no > len(cards_count):\n",
    "        cards_count.append(num_copies)\n",
    "    else:\n",
    "        cards_count[card_no-1] += num_copies\n",
    "\n",
    "cards_count = []\n",
    "input_file_path = \"data/input4.txt\"\n",
    "with open(input_file_path, 'r') as file:\n",
    "    for line in file:\n",
    "        card_no, card = int(line.split(\":\")[0].split()[1]),line.split(\":\")[1]\n",
    "        add_cards(card_no, 1)\n",
    "        n = count_matches(card)\n",
    "        #print(card_no, ':::', n)\n",
    "        for i in range(card_no+1,n+card_no+1):\n",
    "            add_cards(i, 1*cards_count[card_no-1])\n",
    "        #print(':::', cards_count)\n",
    "\n",
    "print(\"Total Number of Cards:\", sum(cards_count))"
   ]
  },
  {
   "cell_type": "code",
   "execution_count": null,
   "id": "ace500d1",
   "metadata": {},
   "outputs": [],
   "source": []
  }
 ],
 "metadata": {
  "kernelspec": {
   "display_name": "Python 3 (ipykernel)",
   "language": "python",
   "name": "python3"
  },
  "language_info": {
   "codemirror_mode": {
    "name": "ipython",
    "version": 3
   },
   "file_extension": ".py",
   "mimetype": "text/x-python",
   "name": "python",
   "nbconvert_exporter": "python",
   "pygments_lexer": "ipython3",
   "version": "3.10.11"
  }
 },
 "nbformat": 4,
 "nbformat_minor": 5
}
