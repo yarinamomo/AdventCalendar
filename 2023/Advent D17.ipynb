{
 "cells": [
  {
   "cell_type": "markdown",
   "id": "22f06383",
   "metadata": {},
   "source": [
    "### Jul AdventKalender D17\n",
    "\n",
    "https://adventofcode.com/2023/day/17"
   ]
  },
  {
   "cell_type": "markdown",
   "id": "f1695325",
   "metadata": {},
   "source": [
    "#### Part 1 "
   ]
  },
  {
   "cell_type": "code",
   "execution_count": 1,
   "id": "1f9ab90c",
   "metadata": {},
   "outputs": [],
   "source": [
    "with open(\"data/input17.txt\",\"r\") as file:\n",
    "    input_patterns = [list(line.strip()) for line in file.readlines()]"
   ]
  },
  {
   "cell_type": "code",
   "execution_count": 2,
   "id": "8b1dedaa",
   "metadata": {
    "scrolled": false
   },
   "outputs": [],
   "source": [
    "import heapq\n",
    "\n",
    "directions = [(0, 1), (1, 0), (0, -1), (-1, 0)] # right, down, left, up\n",
    "\n",
    "def is_valid_move(x, y):\n",
    "    global input_patterns\n",
    "    rows, cols = len(input_patterns), len(input_patterns[0])\n",
    "    return 0 <= x < rows and 0 <= y < cols\n",
    "\n",
    "def is_found_goal(x, y):\n",
    "    global input_patterns\n",
    "    rows, cols = len(input_patterns), len(input_patterns[0])\n",
    "    return x == rows - 1 and y == cols - 1\n",
    "\n",
    "def Dijkstra_find_path(min_steps, max_steps):\n",
    "    global directions, input_patterns\n",
    "    rows, cols = len(input_patterns), len(input_patterns[0])\n",
    "    visited = set() # pos=(x, y), dir=(dir, steps_taken)\n",
    "    todolist = [(0, (0, 0), (directions[0], 1)), (0, (0, 0), (directions[1], 1))] \n",
    "    # todolist: cost(for popping the smallest cost), pos=(x, y), dir=(dir, steps_taken)\n",
    "    \n",
    "    while(todolist):\n",
    "        cost, pos, (dir_next, steps_taken) = heapq.heappop(todolist) # pop the smallest item(smallest cost)\n",
    "        if (pos, (dir_next, steps_taken)) in visited:\n",
    "            continue\n",
    "        visited.add((pos, (dir_next, steps_taken)))\n",
    "        \n",
    "        nx, ny = pos[0] + dir_next[0], pos[1] + dir_next[1]\n",
    "        if is_valid_move(nx, ny):\n",
    "            new_cost = cost + int(input_patterns[nx][ny])\n",
    "            if min_steps <= steps_taken <= max_steps and is_found_goal(nx, ny):\n",
    "                return new_cost\n",
    "            for dir_prepare in directions: # for todolist\n",
    "                if dir_prepare == (-dir_next[0], -dir_next[1]): # not go back\n",
    "                    continue\n",
    "                new_steps_taken = steps_taken + 1 if dir_prepare == dir_next else 1\n",
    "                if (dir_prepare != dir_next and steps_taken < min_steps) or new_steps_taken > max_steps:\n",
    "                    continue\n",
    "                heapq.heappush(todolist, (new_cost, (nx, ny), (dir_prepare, new_steps_taken)))"
   ]
  },
  {
   "cell_type": "code",
   "execution_count": 3,
   "id": "e2238c15",
   "metadata": {
    "scrolled": true
   },
   "outputs": [
    {
     "data": {
      "text/plain": [
       "1246"
      ]
     },
     "execution_count": 3,
     "metadata": {},
     "output_type": "execute_result"
    }
   ],
   "source": [
    "result = Dijkstra_find_path(1,3)\n",
    "result"
   ]
  },
  {
   "cell_type": "markdown",
   "id": "f74d1f86",
   "metadata": {},
   "source": [
    "#### Part 2"
   ]
  },
  {
   "cell_type": "code",
   "execution_count": 4,
   "id": "b2986275",
   "metadata": {},
   "outputs": [
    {
     "data": {
      "text/plain": [
       "1389"
      ]
     },
     "execution_count": 4,
     "metadata": {},
     "output_type": "execute_result"
    }
   ],
   "source": [
    "result = Dijkstra_find_path(4,10)\n",
    "result"
   ]
  },
  {
   "cell_type": "code",
   "execution_count": null,
   "id": "25b727f3",
   "metadata": {},
   "outputs": [],
   "source": []
  }
 ],
 "metadata": {
  "kernelspec": {
   "display_name": "Python 3 (ipykernel)",
   "language": "python",
   "name": "python3"
  },
  "language_info": {
   "codemirror_mode": {
    "name": "ipython",
    "version": 3
   },
   "file_extension": ".py",
   "mimetype": "text/x-python",
   "name": "python",
   "nbconvert_exporter": "python",
   "pygments_lexer": "ipython3",
   "version": "3.10.11"
  }
 },
 "nbformat": 4,
 "nbformat_minor": 5
}
