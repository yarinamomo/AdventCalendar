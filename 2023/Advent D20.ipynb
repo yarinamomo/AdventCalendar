{
 "cells": [
  {
   "cell_type": "markdown",
   "id": "22f06383",
   "metadata": {},
   "source": [
    "### Jul AdventKalender D20\n",
    "\n",
    "https://adventofcode.com/2023/day/20"
   ]
  },
  {
   "cell_type": "markdown",
   "id": "f1695325",
   "metadata": {},
   "source": [
    "#### Part 1 "
   ]
  },
  {
   "cell_type": "code",
   "execution_count": 1,
   "id": "1f9ab90c",
   "metadata": {},
   "outputs": [],
   "source": [
    "def construct_modules(path = \"data/input20_test1.txt\"):\n",
    "    modules = {}\n",
    "    modules['button']={'type':'button', 'next': ['broadcaster']}\n",
    "    with open(path,\"r\") as file:\n",
    "        for line in file.readlines():\n",
    "            line = line.strip()\n",
    "            key, values = line.split(' -> ')\n",
    "            connected_modules = values.split(', ')\n",
    "            if key.startswith('%'):\n",
    "                modules[key[1:]] = {'type':'flip-flop', 'next': connected_modules, 'switch': 0} # switch: current status, 0 - 'off', 1 - 'on'\n",
    "            elif key.startswith('&'):\n",
    "                modules[key[1:]] = {'type':'conjunction', 'next': connected_modules, 'pulses':{}} # pulses: default all low\n",
    "            else: # broadcaster\n",
    "                modules[key] = {'type':'broadcast', 'next': connected_modules}\n",
    "    return modules\n",
    "\n",
    "def parse_conjunctions_pulses(modules):\n",
    "    con_names = []\n",
    "    connected = {}\n",
    "    for key, value in modules.items():\n",
    "        if value['type'] == 'conjunction':\n",
    "            con_names.append(key)\n",
    "            connected[key] = set()\n",
    "    for key, value in modules.items():\n",
    "        if value['type'] != 'conjunction':\n",
    "            for con in con_names:\n",
    "                if con in value['next']:\n",
    "                    connected[con].add(key)\n",
    "    for key, value in modules.items():\n",
    "        if value['type'] == 'conjunction':\n",
    "            modules[key]['pulses'] = { ck: 'low' for ck in connected[key]}\n",
    "    return modules"
   ]
  },
  {
   "cell_type": "code",
   "execution_count": 2,
   "id": "8b1dedaa",
   "metadata": {
    "scrolled": false
   },
   "outputs": [],
   "source": [
    "def module_process(from_module_name, module, pulse):\n",
    "    if module['type'] == 'button':\n",
    "        return 'low', module['next']\n",
    "    if module['type'] == 'broadcast':\n",
    "        return pulse, module['next']\n",
    "    if module['type'] == 'flip-flop':\n",
    "        if pulse == 'high':\n",
    "            return None, None\n",
    "        if module['switch'] == 0:\n",
    "            module['switch'] = 1\n",
    "            return 'high', module['next']\n",
    "        module['switch'] = 0\n",
    "        return 'low', module['next']\n",
    "    if module['type'] == 'conjunction':\n",
    "        if from_module_name is not None:\n",
    "            module['pulses'][from_module_name] = pulse\n",
    "            if set(module['pulses'].values())==set([\"high\"]):\n",
    "                return 'low', module['next']\n",
    "        return 'high', module['next']\n",
    "\n",
    "def process_round(modules):\n",
    "    n = [0,0] #n_low, n_high\n",
    "    cur_module_name = 'button'\n",
    "    res_pulse, res_dst = module_process(None, modules[cur_module_name], 'low')\n",
    "    todolist = [(cur_module_name, res_pulse, dst) for dst in res_dst]\n",
    "    while (todolist):\n",
    "        (from_module_name, pulse, dst) = todolist.pop(0)\n",
    "        #print(from_module_name , '-', pulse, '-> ', dst)\n",
    "        if pulse=='low': n[0]+=1\n",
    "        else: n[1]+=1\n",
    "        if dst not in modules:\n",
    "            continue\n",
    "        res_pulse, res_dst = module_process(from_module_name, modules[dst], pulse)\n",
    "        if res_pulse is not None:\n",
    "            todolist.extend([(dst, res_pulse, next_dst) for next_dst in res_dst])\n",
    "    return n"
   ]
  },
  {
   "cell_type": "code",
   "execution_count": 3,
   "id": "7ee618bf",
   "metadata": {},
   "outputs": [
    {
     "data": {
      "text/plain": [
       "839775244"
      ]
     },
     "execution_count": 3,
     "metadata": {},
     "output_type": "execute_result"
    }
   ],
   "source": [
    "import copy\n",
    "\n",
    "modules = construct_modules(\"data/input20.txt\")\n",
    "modules = parse_conjunctions_pulses(modules)\n",
    "n_button = 1000\n",
    "res = 0\n",
    "nl, nh = 0,0\n",
    "for i in range(n_button):\n",
    "    n = process_round(modules)\n",
    "    nl += n[0]\n",
    "    nh += n[1]\n",
    "nl*nh"
   ]
  },
  {
   "cell_type": "markdown",
   "id": "f74d1f86",
   "metadata": {},
   "source": [
    "#### Part 2"
   ]
  },
  {
   "cell_type": "code",
   "execution_count": 4,
   "id": "33a9bdff",
   "metadata": {},
   "outputs": [],
   "source": [
    "def process_round_rx(tracking_name, target_module_name, modules):\n",
    "    cur_module_name = 'button'\n",
    "    res_pulse, res_dst = module_process(None, modules[cur_module_name], 'low')\n",
    "    todolist = [(cur_module_name, res_pulse, dst) for dst in res_dst]\n",
    "    n_high=0\n",
    "    while (todolist):\n",
    "        (from_module_name, pulse, dst) = todolist.pop(0)\n",
    "        #print(from_module_name , '-', pulse, '-> ', dst)\n",
    "        if dst not in modules:\n",
    "            continue\n",
    "        if target_module_name==dst and from_module_name==tracking_name:\n",
    "            #print(from_module_name, pulse, dst)\n",
    "            if pulse == 'high':\n",
    "                n_high += 1\n",
    "        res_pulse, res_dst = module_process(from_module_name, modules[dst], pulse)\n",
    "        if res_pulse is not None:\n",
    "            todolist.extend([(dst, res_pulse, next_dst) for next_dst in res_dst])\n",
    "    return n_high>0\n",
    "\n",
    "modules = construct_modules(\"data/input20.txt\")\n",
    "modules = parse_conjunctions_pulses(modules)\n",
    "target_module_name = None\n",
    "for key, value in modules.items():\n",
    "    if 'rx' in value['next']:\n",
    "        target_module_name = key\n",
    "        break\n",
    "target_module_tracking_names = []\n",
    "for key, value in modules.items():\n",
    "    if target_module_name in value['next']:\n",
    "        target_module_tracking_names.append(key)\n",
    "n_buttons = []\n",
    "for tracking_name in target_module_tracking_names:\n",
    "    input_modules = copy.deepcopy(modules)\n",
    "    n_button = 0\n",
    "    while (True):\n",
    "        n_button += 1\n",
    "        res = process_round_rx(tracking_name, target_module_name, input_modules)\n",
    "        if res == True:\n",
    "            n_buttons.append(n_button)\n",
    "            break"
   ]
  },
  {
   "cell_type": "code",
   "execution_count": 5,
   "id": "f42073ad",
   "metadata": {},
   "outputs": [
    {
     "data": {
      "text/plain": [
       "207787533680413"
      ]
     },
     "execution_count": 5,
     "metadata": {},
     "output_type": "execute_result"
    }
   ],
   "source": [
    "import math\n",
    "\n",
    "math.lcm(*n_buttons)"
   ]
  },
  {
   "cell_type": "code",
   "execution_count": null,
   "id": "8f15564b",
   "metadata": {},
   "outputs": [],
   "source": []
  }
 ],
 "metadata": {
  "kernelspec": {
   "display_name": "Python 3 (ipykernel)",
   "language": "python",
   "name": "python3"
  },
  "language_info": {
   "codemirror_mode": {
    "name": "ipython",
    "version": 3
   },
   "file_extension": ".py",
   "mimetype": "text/x-python",
   "name": "python",
   "nbconvert_exporter": "python",
   "pygments_lexer": "ipython3",
   "version": "3.11.5"
  }
 },
 "nbformat": 4,
 "nbformat_minor": 5
}
