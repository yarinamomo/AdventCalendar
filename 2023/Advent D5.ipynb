{
 "cells": [
  {
   "cell_type": "markdown",
   "id": "22f06383",
   "metadata": {},
   "source": [
    "### Jul AdventKalender D5\n",
    "\n",
    "https://adventofcode.com/2023/day/5"
   ]
  },
  {
   "cell_type": "markdown",
   "id": "f1695325",
   "metadata": {},
   "source": [
    "#### Part 1 "
   ]
  },
  {
   "cell_type": "code",
   "execution_count": 1,
   "id": "1f9ab90c",
   "metadata": {},
   "outputs": [
    {
     "name": "stdout",
     "output_type": "stream",
     "text": [
      "Lowest location number: 178159714\n"
     ]
    }
   ],
   "source": [
    "def read_seeds_and_maps_from_file(file_path):\n",
    "    seeds = None\n",
    "    maps = []\n",
    "    init_map = list()\n",
    "    with open(file_path, 'r') as file:\n",
    "        for line in file:\n",
    "            line = line.strip()\n",
    "            if line.startswith(\"seeds:\"):\n",
    "                seeds = list(map(int, line.split()[1:]))\n",
    "            elif line.endswith(\"map:\"):\n",
    "                if len(init_map) > 0:\n",
    "                    maps.append(init_map)\n",
    "                init_map = list()\n",
    "            elif line and len(line) > 0 and line[0].isdigit():\n",
    "                init_map.append(tuple(map(int, line.split())))\n",
    "        if len(init_map) > 0:\n",
    "            maps.append(init_map)\n",
    "    return seeds, maps\n",
    "\n",
    "def convert_number(initial_number, maps):\n",
    "    current_number = initial_number\n",
    "    for map_item in maps:\n",
    "        for dest_start, source_start, range_length in map_item:\n",
    "            if current_number >= source_start and current_number < source_start + range_length:\n",
    "                current_number = dest_start + (current_number - source_start)\n",
    "                #print(current_number)\n",
    "                break\n",
    "    #print(\"-----------\", current_number)\n",
    "    return current_number\n",
    "\n",
    "def find_lowest_location(seeds, maps):\n",
    "    lowest_location = float('inf')\n",
    "\n",
    "    for seed in seeds:\n",
    "        current_location = convert_number(seed, maps)\n",
    "        lowest_location = min(lowest_location, current_location)\n",
    "\n",
    "    return lowest_location\n",
    "\n",
    "# Example usage\n",
    "maps_file_path = 'data/input5.txt'\n",
    "\n",
    "seeds, maps = read_seeds_and_maps_from_file(maps_file_path)\n",
    "\n",
    "result = find_lowest_location(seeds, maps)\n",
    "print(\"Lowest location number:\", result)\n"
   ]
  },
  {
   "cell_type": "markdown",
   "id": "f74d1f86",
   "metadata": {},
   "source": [
    "#### Part 2\n",
    "\n",
    "Borrowed idea from [Reddit](https://topaz.github.io/paste/#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)"
   ]
  },
  {
   "cell_type": "code",
   "execution_count": 44,
   "id": "f4aec7ce",
   "metadata": {},
   "outputs": [
    {
     "data": {
      "text/plain": [
       "100165128"
      ]
     },
     "execution_count": 44,
     "metadata": {},
     "output_type": "execute_result"
    }
   ],
   "source": [
    "import more_itertools\n",
    "import re\n",
    "import math\n",
    "\n",
    "def intersection(src, dst):\n",
    "    res = {\"inter\": [], \"left\": [], \"right\": []}\n",
    "\n",
    "    if src == dst:\n",
    "        res[\"inter\"] = [src]\n",
    "    # no intersection\n",
    "    elif src[0] >= dst[1] or src[1] <= dst[0]:\n",
    "        res[\"left\"] = [src]\n",
    "        res[\"right\"] = [dst]\n",
    "    # src >> dst\n",
    "    elif src[0] <= dst[0] and dst[1] < src[1]:\n",
    "        res[\"inter\"] = [dst]\n",
    "    # src << dst\n",
    "    elif src[0] >= dst[0] and src[1] < dst[1]:\n",
    "        res[\"inter\"] = [src]\n",
    "        res[\"right\"] = [(dst[0], src[0]), (src[1], dst[1])]\n",
    "    # intersection\n",
    "    elif src[0] < dst[0] < src[1] < dst[1]:\n",
    "        res[\"inter\"] = [(dst[0], src[1])]\n",
    "        res[\"left\"] = [(src[0], dst[0])]\n",
    "        res[\"right\"] = [(src[1], dst[1])]\n",
    "    elif dst[0] < src[0] < dst[1] < src[1]:\n",
    "        res[\"inter\"] = [(src[0], dst[1])]\n",
    "        res[\"left\"] = [(dst[1], src[1])]\n",
    "        res[\"right\"] = [(dst[0], src[0])]\n",
    "    return res\n",
    "\n",
    "seed_ranges = sorted([(x, x + y) for x, y in more_itertools.batched(seeds, 2)])\n",
    "\n",
    "for sub_map in maps:\n",
    "    new_ranges = []\n",
    "    min_source = math.inf\n",
    "    max_source = -math.inf\n",
    "\n",
    "    for _, src, steps in sorted(sub_map, key=lambda mapping: mapping[1]): # sort by source\n",
    "        source = (src, src + steps)\n",
    "        min_source = min(min_source, source[0])\n",
    "        max_source = max(max_source, source[1])\n",
    "    source_range = (min_source, max_source) # source range overall for each sub map\n",
    "\n",
    "    for seed_range in seed_ranges:\n",
    "        intersection_res = intersection(seed_range, source_range)\n",
    "        new_ranges.extend(intersection_res[\"left\"])\n",
    "\n",
    "        for dst, src, steps in sorted(sub_map, key=lambda mapping: mapping[1]):\n",
    "            source = (src, src + steps)\n",
    "            for inter_l, inter_r in intersection_res[\"inter\"]:\n",
    "                intersection_res_inner = intersection(source, (inter_l, inter_r))\n",
    "                for inter_i_l, inter_i_r in intersection_res_inner[\"inter\"]:\n",
    "                    new_ranges.append((inter_i_l + dst - src, inter_i_r + dst - src))\n",
    "    seed_ranges = list(set(new_ranges))\n",
    "\n",
    "sorted(seed_ranges)[0][0]"
   ]
  },
  {
   "cell_type": "code",
   "execution_count": null,
   "id": "f5d25a82",
   "metadata": {},
   "outputs": [],
   "source": []
  }
 ],
 "metadata": {
  "kernelspec": {
   "display_name": "Python 3 (ipykernel)",
   "language": "python",
   "name": "python3"
  },
  "language_info": {
   "codemirror_mode": {
    "name": "ipython",
    "version": 3
   },
   "file_extension": ".py",
   "mimetype": "text/x-python",
   "name": "python",
   "nbconvert_exporter": "python",
   "pygments_lexer": "ipython3",
   "version": "3.11.5"
  }
 },
 "nbformat": 4,
 "nbformat_minor": 5
}
