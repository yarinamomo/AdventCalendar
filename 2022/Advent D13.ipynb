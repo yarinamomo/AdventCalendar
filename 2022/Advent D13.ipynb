{
 "cells": [
  {
   "cell_type": "markdown",
   "id": "22f06383",
   "metadata": {},
   "source": [
    "### Jul AdventKalender D13\n",
    "\n",
    "https://adventofcode.com/2022/day/13"
   ]
  },
  {
   "cell_type": "markdown",
   "id": "8e30a121",
   "metadata": {},
   "source": [
    "#### Day 13.1 \n",
    "\n",
    "Compare if two pairs of packets are in the right order based on the following rules:\n",
    "\n",
    "* If both values are **integers** and if the left integer is **lower** than the right integer, the inputs are in the right order. If it is smaller, then it is not in the right order. If the inputs are the same, continue checking the next part of the input.\n",
    "* If both values are **lists**, compare the first value of each list, then the second value, and so on. If the left list **runs out of items** first, the inputs are in the right order. If the right list runs out of items first, then it is not in the right order. If the lists are the same length and no comparison makes a decision about the order, continue checking the next part of the input.\n",
    "* If exactly one value is an integer, convert the integer to a list which contains that integer as its only value, then retry the comparison. For example, if comparing [0,0,0] and 2, convert the right value to [2] (a list containing 2); the result is then found by instead comparing [0,0,0] and [2].\n",
    "\n",
    "Determine what are the **indices** of the pairs of packets are already in the **right order**. What is the **sum** of the indices of those pairs?"
   ]
  },
  {
   "cell_type": "code",
   "execution_count": 1,
   "id": "ac49b4ac",
   "metadata": {
    "scrolled": true
   },
   "outputs": [
    {
     "data": {
      "text/plain": [
       "[['[[[[],[7,10,6,5],[],[8]],0,1,[[8,10]],4],[[[4,0,3,2,0]],7],[[],3,[[0,2],8,5],[],[[2,10,4,6]]],[3],[5,[1,[8,0],10,1,[4,3,9,9]],1]]',\n",
       "  '[[0,2,7],[],[10,[[0,7,3,6]]],[2,[8],3]]'],\n",
       " ['[[],[[0,8,[],[0,8,6,7,10]],4,10,[[],9,[1],4,10],3],[[7,1,0],10,[[1,10,7,8],[3,7],[3,6],5],1,0],[9],[2,9,[[0,6,3]],[[7]],2]]',\n",
       "  '[[[],0,[[4,5,10],8]],[0,5],[[[1,8,8,8],2],0,[7,9],3]]']]"
      ]
     },
     "execution_count": 1,
     "metadata": {},
     "output_type": "execute_result"
    }
   ],
   "source": [
    "def readMap(file_name):\n",
    "    data_packets = [[]]\n",
    "    f = open(file_name, \"r\")\n",
    "    while True:\n",
    "        line = f.readline()\n",
    "        if not line:\n",
    "            break\n",
    "        if line.strip() == '':\n",
    "            data_packets.append([])\n",
    "            continue\n",
    "        data_packets[len(data_packets)-1].append(line.strip())\n",
    "    f.close()\n",
    "    return data_packets\n",
    "data_packets = readMap(\"data/input13.txt\")\n",
    "data_packets[:2]"
   ]
  },
  {
   "cell_type": "code",
   "execution_count": 2,
   "id": "5bd6b4d5",
   "metadata": {},
   "outputs": [],
   "source": [
    "import json\n",
    "\n",
    "def comparePairs(packet1, packet2):\n",
    "    if not isinstance(packet1, list):\n",
    "        packet1 = [packet1]\n",
    "    if not isinstance(packet2, list):\n",
    "        packet2 = [packet2]\n",
    "    for i in range(max(len(packet1),len(packet2))):\n",
    "        if i >= len(packet1): return True\n",
    "        if i >= len(packet2): return False\n",
    "        if isinstance(packet1[i], list) or isinstance(packet2[i], list):\n",
    "            res_tmp = comparePairs(packet1[i], packet2[i])\n",
    "            if res_tmp != None:\n",
    "                return res_tmp\n",
    "            continue\n",
    "        if packet1[i] != packet2[i]:\n",
    "            return packet1[i] < packet2[i]\n",
    "    return None\n",
    "\n",
    "def _unpackList(value):\n",
    "    return json.loads(value)"
   ]
  },
  {
   "cell_type": "code",
   "execution_count": 3,
   "id": "0d2d8c35",
   "metadata": {
    "scrolled": true
   },
   "outputs": [
    {
     "name": "stdout",
     "output_type": "stream",
     "text": [
      "The pairs with the right order are: [1, 2, 4, 5, 7, 10, 12, 18, 19, 23, 24, 26, 27, 30, 33, 40, 41, 45, 48, 49, 52, 53, 54, 55, 56, 58, 61, 65, 66, 67, 68, 70, 71, 74, 77, 78, 83, 85, 86, 89, 90, 91, 92, 93, 94, 98, 99, 100, 102, 104, 105, 106, 108, 109, 116, 117, 118, 119, 120, 124, 127, 128, 130, 133, 134, 138, 140, 141, 142, 143, 145, 147, 148, 149]\n",
      "The sum of the indices are: 5882\n"
     ]
    }
   ],
   "source": [
    "indices_rightorder = []\n",
    "for i in range(len(data_packets)):\n",
    "    packet1 = _unpackList(data_packets[i][0])\n",
    "    packet2 = _unpackList(data_packets[i][1])\n",
    "    if comparePairs(packet1, packet2):\n",
    "        indices_rightorder.append(i+1)\n",
    "print('The pairs with the right order are:', indices_rightorder)\n",
    "print('The sum of the indices are:', sum(indices_rightorder))"
   ]
  },
  {
   "cell_type": "markdown",
   "id": "3ba1e959",
   "metadata": {},
   "source": [
    "#### Day 13.2\n",
    "\n",
    "Order the pairs with the same rule as above, with two additiional divider packets: \n",
    "\n",
    "    [[2]]\n",
    "    [[6]]\n",
    "    \n",
    "Find the indices of the two divider packets and multiply them together."
   ]
  },
  {
   "cell_type": "code",
   "execution_count": 4,
   "id": "ed70e141",
   "metadata": {},
   "outputs": [],
   "source": [
    "def bubbleSort(packets):\n",
    "    for i in range(len(packets)):\n",
    "        for j in range(len(packets)-i-1):\n",
    "            packet1 = _unpackList(packets[j])\n",
    "            packet2 = _unpackList(packets[j+1])\n",
    "            if not comparePairs(packet1, packet2):\n",
    "                packets[j], packets[j+1] = packets[j+1], packets[j]"
   ]
  },
  {
   "cell_type": "code",
   "execution_count": 5,
   "id": "8a66e473",
   "metadata": {},
   "outputs": [],
   "source": [
    "packets = [packet for pair in data_packets for packet in pair]\n",
    "\n",
    "divider1 = '[[2]]'\n",
    "divider2 = '[[6]]'\n",
    "packets.append(divider1)\n",
    "packets.append(divider2)\n",
    "\n",
    "# bubble sort\n",
    "bubbleSort(packets)"
   ]
  },
  {
   "cell_type": "code",
   "execution_count": 6,
   "id": "956430dc",
   "metadata": {},
   "outputs": [
    {
     "data": {
      "text/plain": [
       "24948"
      ]
     },
     "execution_count": 6,
     "metadata": {},
     "output_type": "execute_result"
    }
   ],
   "source": [
    "(packets.index(divider1)+1) * (packets.index(divider2)+1)"
   ]
  },
  {
   "cell_type": "code",
   "execution_count": null,
   "id": "d1259578",
   "metadata": {},
   "outputs": [],
   "source": []
  }
 ],
 "metadata": {
  "kernelspec": {
   "display_name": "Python 3 (ipykernel)",
   "language": "python",
   "name": "python3"
  },
  "language_info": {
   "codemirror_mode": {
    "name": "ipython",
    "version": 3
   },
   "file_extension": ".py",
   "mimetype": "text/x-python",
   "name": "python",
   "nbconvert_exporter": "python",
   "pygments_lexer": "ipython3",
   "version": "3.7.11"
  }
 },
 "nbformat": 4,
 "nbformat_minor": 5
}
