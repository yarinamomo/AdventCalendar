{
 "cells": [
  {
   "cell_type": "markdown",
   "id": "22f06383",
   "metadata": {},
   "source": [
    "### Jul AdventKalender D15\n",
    "\n",
    "https://adventofcode.com/2022/day/15"
   ]
  },
  {
   "cell_type": "code",
   "execution_count": 1,
   "id": "9f43b9e6",
   "metadata": {},
   "outputs": [],
   "source": [
    "import numpy as np"
   ]
  },
  {
   "cell_type": "markdown",
   "id": "8e30a121",
   "metadata": {},
   "source": [
    "#### Day 15.1 \n",
    "\n",
    "There are a few sensors that can detect the **closest** beacon (measured by the **Manhattan distance**). There is never a tie where two beacons are the same distance to a sensor. Given the output of the sensors, for example:\n",
    "\n",
    "    Sensor at x=2, y=18: closest beacon is at x=-2, y=15\n",
    "    Sensor at x=9, y=16: closest beacon is at x=10, y=16\n",
    "    Sensor at x=13, y=2: closest beacon is at x=15, y=3\n",
    "    ......\n",
    "\n",
    "Because each sensor only identifies its closest beacon, if a sensor detects a beacon, you know there are no other beacons that close or closer to that sensor.\n",
    "\n",
    "In the row where y=2000000, how many positions cannot contain a beacon?"
   ]
  },
  {
   "cell_type": "code",
   "execution_count": 2,
   "id": "ac49b4ac",
   "metadata": {
    "scrolled": true
   },
   "outputs": [],
   "source": [
    "def _parsePos(item):\n",
    "    pos_x = item[(item.find('x=')+2) : (item.find(','))]\n",
    "    pos_y = item[(item.find('y=')+2) :]\n",
    "    return (int(pos_x), int(pos_y))\n",
    "\n",
    "def readOutput(file_name):\n",
    "    data_sensors = {}\n",
    "    f = open(file_name, \"r\")\n",
    "    while True:\n",
    "        line = f.readline()\n",
    "        if not line:\n",
    "            break\n",
    "        s_b = line.strip().split(':')\n",
    "        data_sensors[_parsePos(s_b[0])] = [_parsePos(s_b[1])]\n",
    "    f.close()\n",
    "    return data_sensors"
   ]
  },
  {
   "cell_type": "code",
   "execution_count": 3,
   "id": "d2631a13",
   "metadata": {},
   "outputs": [],
   "source": [
    "def mhDistance(pos_s, pos_b):\n",
    "    return sum(abs(a-b) for a,b in zip(pos_s, pos_b))"
   ]
  },
  {
   "cell_type": "code",
   "execution_count": 4,
   "id": "10f81e24",
   "metadata": {},
   "outputs": [],
   "source": [
    "def getMapWidth(data_sensors):\n",
    "    width = 0\n",
    "    start = 0\n",
    "    for s,b in data_sensors.items():\n",
    "        start_tmp = min(s[0],b[0][0])\n",
    "        width = max(max(s[0],b[0][0]) - start, width)\n",
    "        if start_tmp < start:\n",
    "            start = start_tmp\n",
    "            width -= (start-start_tmp)\n",
    "    return width, start"
   ]
  },
  {
   "cell_type": "code",
   "execution_count": 5,
   "id": "1f575af9",
   "metadata": {},
   "outputs": [],
   "source": [
    "def countNoneB(pos_y, map_width, map_left, data_sensors):\n",
    "    res_count = 0\n",
    "    for w in range(map_width+1):\n",
    "        pos_x = w + map_left\n",
    "        is_not_detected = True\n",
    "        for s,bd in data_sensors.items():\n",
    "            if mhDistance(s, (pos_x,pos_y)) <= bd[1] and (pos_x,pos_y)!=bd[0]:\n",
    "                is_not_detected = False\n",
    "                break\n",
    "        if not is_not_detected:\n",
    "            res_count += 1\n",
    "    return res_count"
   ]
  },
  {
   "cell_type": "code",
   "execution_count": 6,
   "id": "6097176c",
   "metadata": {},
   "outputs": [
    {
     "data": {
      "text/plain": [
       "5878678"
      ]
     },
     "execution_count": 6,
     "metadata": {},
     "output_type": "execute_result"
    }
   ],
   "source": [
    "# read data file to a dict with {sensor position: [beacon position, manhattan distance]}\n",
    "data_sensors = readOutput(\"data/input15.txt\")\n",
    "\n",
    "# calculate and add distance between sensor and beacon to each item in the list\n",
    "for s,bd in data_sensors.items():\n",
    "    data_sensors[s].append(mhDistance(s,bd[0]))\n",
    "\n",
    "# estimate the map size\n",
    "map_width, map_left = getMapWidth(data_sensors)\n",
    "\n",
    "y = 2000000 # target y\n",
    "extend_width = 2000000 # estimated extend width of the map\n",
    "\n",
    "# count the number of positions that are not possible beason positions at the target row y\n",
    "countNoneB(y, map_width+extend_width, map_left-extend_width/2, data_sensors)"
   ]
  },
  {
   "cell_type": "markdown",
   "id": "3ba1e959",
   "metadata": {},
   "source": [
    "#### Day 15.2\n",
    "\n",
    "Find one distress beacon which is not detected by any sensor. The distress beacon must have x and y coordinates each no lower than 0 and no larger than 4000000.\n",
    "\n",
    "What is its tuning frequency, which can be found by multiplying its x coordinate by 4000000 and then adding its y coordinate."
   ]
  },
  {
   "cell_type": "code",
   "execution_count": 7,
   "id": "c20a3213",
   "metadata": {},
   "outputs": [],
   "source": [
    "# Now it is definitely not working to iterate every point like part 1 (where I can be a bit lazy)\n",
    "# It is way too slow to check 4000000 x 4000000 points, and it is given that there is ONLY ONE target point\n",
    "# So the ONE target point can only locate on the points where two border lines INTERSECT\n",
    "# In fact, it can only locate on the intersections where FOUR lines intersect\n",
    "# the border lines are the closest positions that can NOT be detected by the sensors\n",
    "\n",
    "# find the boundaries for each sensor by using y = x + b (45 degree); y = -x + b (-45 degree)\n",
    "# with considering the distance which each sensor can detect: y = (x +/- d) + b; y = -(x +/- d) + b\n",
    "# then the bias terms: b = y - (x +/- d); b = y + (x +/- d)\n",
    "def findBoundaries(data_sensors):\n",
    "    bs_p, bs_n = [], []\n",
    "    for s,bd in data_sensors.items():\n",
    "        bs_p.append(s[1]-s[0]+(bd[1]+1))\n",
    "        bs_p.append(s[1]-s[0]-(bd[1]+1))\n",
    "        bs_n.append(s[0]+s[1]+(bd[1]+1))\n",
    "        bs_n.append(s[0]+s[1]-(bd[1]+1))\n",
    "    bs_p = [b for b in bs_p if bs_p.count(b) >= 2]\n",
    "    bs_n = [b for b in bs_n if bs_n.count(b) >= 2]\n",
    "    return bs_p, bs_n\n",
    "\n",
    "# the intersect points between the 45 degree boundries and the -45 degress boundaries are:\n",
    "# y = x + b_p;\n",
    "# y = -x + b_n\n",
    "# 2y = b_p + b_n => y = (b_p + b_n)/2\n",
    "# 0 = 2x + b_p - b_n => x = (b_n - b_p)/2\n",
    "# with the shape of the region that all the sensors covers\n",
    "def findPossibleB(search_size, data_sensors, bs_p, bs_n):\n",
    "    for b_p in bs_p:\n",
    "        for b_n in bs_n:\n",
    "            b_inter = ((b_n - b_p)//2, (b_p + b_n)//2)\n",
    "            # if intersection is in the search area\n",
    "            if all(search_size[0] < x_y < search_size[1] for x_y in b_inter):\n",
    "                # further check if it fulfill the condition that it was not detected by any sensors\n",
    "                is_detected = False\n",
    "                for s,bd in data_sensors.items():\n",
    "                    if mhDistance(b_inter, s) <= bd[1]:\n",
    "                        is_detected = True\n",
    "                        break\n",
    "                if not is_detected:\n",
    "                    return b_inter"
   ]
  },
  {
   "cell_type": "code",
   "execution_count": 8,
   "id": "ae6a359c",
   "metadata": {},
   "outputs": [
    {
     "data": {
      "text/plain": [
       "11796491041245"
      ]
     },
     "execution_count": 8,
     "metadata": {},
     "output_type": "execute_result"
    }
   ],
   "source": [
    "data_sensors = readOutput(\"data/input15.txt\")\n",
    "\n",
    "for s,bd in data_sensors.items():\n",
    "    data_sensors[s].append(mhDistance(s,bd[0]))\n",
    "    \n",
    "bs_p, bs_n = findBoundaries(data_sensors)\n",
    "\n",
    "search_size = (0,4000000) # search size for both x and y\n",
    "pos_target_b = findPossibleB(search_size, data_sensors, bs_p, bs_n)\n",
    "pos_target_b[0] * 4000000 + pos_target_b[1]"
   ]
  },
  {
   "cell_type": "code",
   "execution_count": null,
   "id": "74f4b0e7",
   "metadata": {},
   "outputs": [],
   "source": []
  }
 ],
 "metadata": {
  "kernelspec": {
   "display_name": "Python 3 (ipykernel)",
   "language": "python",
   "name": "python3"
  },
  "language_info": {
   "codemirror_mode": {
    "name": "ipython",
    "version": 3
   },
   "file_extension": ".py",
   "mimetype": "text/x-python",
   "name": "python",
   "nbconvert_exporter": "python",
   "pygments_lexer": "ipython3",
   "version": "3.7.11"
  }
 },
 "nbformat": 4,
 "nbformat_minor": 5
}
