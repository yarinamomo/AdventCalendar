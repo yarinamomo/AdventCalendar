{
 "cells": [
  {
   "cell_type": "markdown",
   "id": "22f06383",
   "metadata": {},
   "source": [
    "### Jul AdventKalender D9\n",
    "\n",
    "https://adventofcode.com/2022/day/9"
   ]
  },
  {
   "cell_type": "code",
   "execution_count": 1,
   "id": "c62cf960",
   "metadata": {},
   "outputs": [],
   "source": [
    "import pandas as pd\n",
    "import numpy as np"
   ]
  },
  {
   "cell_type": "markdown",
   "id": "8e30a121",
   "metadata": {},
   "source": [
    "#### Day 9.1  \n",
    "\n",
    "There is a bridge which one can simulate its stability by measuring the movements of the rope (where H is the Head of the rope, T is the Tail). Given a set  of movements of H (in the data file). It looks like for example (where R, U, L, D means moving right, up, left, down, the number means steps. So R 4 means H moves 4 steps to the right):\n",
    "\n",
    "    R 4\n",
    "    U 4\n",
    "    L 3\n",
    "    D 1\n",
    "    R 4\n",
    "    D 1\n",
    "    L 5\n",
    "    R 2\n",
    "\n",
    "There is also a rule for how T moves with H:\n",
    "\n",
    "* If the head is ever two steps **directly** up, down, left, or right from the tail, the tail must also move one step in that direction so it remains close enough:\n",
    "        .....    .....    .....\n",
    "        .TH.. -> .T.H. -> ..TH.\n",
    "        .....    .....    .....\n",
    "\n",
    "* Otherwise, if the head and tail aren't touching and aren't in the same row or column, the tail always moves one step diagonally to keep up:\n",
    "        .....    .....    .....\n",
    "        .....    ..H..    ..H..\n",
    "        ..H.. -> ..... -> ..T..\n",
    "        .T...    .T...    .....\n",
    "        .....    .....    .....\n",
    "\n",
    "By following the movements of H according to the data file, and executing and movements of T following the above rules, one can simulate how the rope moves. Specifically, one wants to count up **all of the positions the tail visited at least once** (including the start position s). For example, if the initial state is \n",
    "\n",
    "    == Initial State ==\n",
    "\n",
    "    ......\n",
    "    ......\n",
    "    ......\n",
    "    ......\n",
    "    H.....  (H covers T, s)\n",
    "\n",
    "The above example of movements of H, the positions that T has visited is:\n",
    "\n",
    "    ..##..\n",
    "    ...##.\n",
    "    .####.\n",
    "    ....#.\n",
    "    s###..\n",
    "\n",
    "which gives a total number of positions of 13.\n",
    "\n",
    "Calculate how many positions does the tail of the rope visit at least once according to the given full data file."
   ]
  },
  {
   "cell_type": "code",
   "execution_count": 2,
   "id": "ac49b4ac",
   "metadata": {
    "scrolled": true
   },
   "outputs": [
    {
     "data": {
      "text/plain": [
       "array([['L', 1],\n",
       "       ['D', 2],\n",
       "       ['R', 2],\n",
       "       ...,\n",
       "       ['U', 2],\n",
       "       ['R', 11],\n",
       "       ['U', 5]], dtype=object)"
      ]
     },
     "execution_count": 2,
     "metadata": {},
     "output_type": "execute_result"
    }
   ],
   "source": [
    "data_moves = pd.read_table('data/input9.txt', sep=\" \", header=None).to_numpy()\n",
    "data_moves"
   ]
  },
  {
   "cell_type": "code",
   "execution_count": 3,
   "id": "7cac1164",
   "metadata": {},
   "outputs": [],
   "source": [
    "def _checkEdges(pos_to):\n",
    "    global nrow, ncol\n",
    "    #pos_to[0] = max(0, min(pos_to[0], nrow - 1))\n",
    "    #pos_to[1] = max(0, min(pos_to[1], ncol - 1))\n",
    "    if pos_to[0] < 0 or pos_to[0] > nrow - 1 or pos_to[1] < 0 or pos_to[1] > ncol - 1:\n",
    "        print('Map too small!',pos_to)\n",
    "    return pos_to\n",
    "def _markPosT(pos_T):\n",
    "    global state\n",
    "    state[pos_T[0],pos_T[1]] = 1\n",
    "def _isTouching(pos_H, pos_T):\n",
    "    return pos_T == pos_H or (abs(pos_T[0]-pos_H[0]) <= 1 and abs(pos_T[1]-pos_H[1]) <= 1)\n",
    "def moveH(pos_from, direction):\n",
    "    if direction in ['L','R']:\n",
    "        pos_to = [pos_from[0], pos_from[1]-1 if direction == 'L' else pos_from[1]+1]\n",
    "    else: # ['U','D']\n",
    "        pos_to = [pos_from[0]-1 if direction == 'U' else pos_from[0]+1, pos_from[1]]\n",
    "    pos_to = _checkEdges(pos_to)\n",
    "    return pos_to\n",
    "def moveT(pos_from, pos_H, if_track=True):\n",
    "    if _isTouching(pos_from, pos_H):\n",
    "        pos_to = pos_from\n",
    "    else:\n",
    "        if pos_H[1] != pos_from[1] and pos_H[0] != pos_from[0]: # move diagonally\n",
    "            pos_to = [pos_from[0], pos_from[1]+1] if pos_H[1] > pos_from[1] else [pos_from[0], pos_from[1]-1]\n",
    "            pos_to = [pos_to[0]+1, pos_to[1]] if pos_H[0] > pos_to[0] else [pos_to[0]-1, pos_to[1]]\n",
    "            pos_to = _checkEdges(pos_to)\n",
    "            if if_track: _markPosT(pos_to)\n",
    "        elif pos_H[1] != pos_from[1]: # move directly up/down\n",
    "            pos_to = [pos_from[0], pos_from[1]+1] if pos_H[1] > pos_from[1] else [pos_from[0], pos_from[1]-1]\n",
    "            pos_to = _checkEdges(pos_to)\n",
    "            if if_track: _markPosT(pos_to)\n",
    "        else: # move directly left/right\n",
    "            pos_to = [pos_from[0]+1, pos_from[1]] if pos_H[0] > pos_from[0] else [pos_from[0]-1, pos_from[1]]\n",
    "            pos_to = _checkEdges(pos_to)\n",
    "            if if_track: _markPosT(pos_to)\n",
    "    return pos_to"
   ]
  },
  {
   "cell_type": "code",
   "execution_count": 4,
   "id": "8753dee1",
   "metadata": {},
   "outputs": [
    {
     "data": {
      "text/plain": [
       "array([[0, 0, 0, ..., 0, 0, 0],\n",
       "       [0, 0, 0, ..., 0, 0, 0],\n",
       "       [0, 0, 0, ..., 0, 0, 0],\n",
       "       ...,\n",
       "       [0, 0, 0, ..., 0, 0, 0],\n",
       "       [0, 0, 0, ..., 0, 0, 0],\n",
       "       [0, 0, 0, ..., 0, 0, 0]])"
      ]
     },
     "execution_count": 4,
     "metadata": {},
     "output_type": "execute_result"
    }
   ],
   "source": [
    "nrow = 600\n",
    "ncol = 600\n",
    "pos_s = [300,300] # start position\n",
    "pos_H = pos_s\n",
    "pos_T = pos_s\n",
    "state = np.zeros((nrow, ncol), dtype=int)\n",
    "state[pos_T[0],pos_T[1]] = 1 # T has visited\n",
    "state"
   ]
  },
  {
   "cell_type": "code",
   "execution_count": 5,
   "id": "05e4676b",
   "metadata": {},
   "outputs": [
    {
     "name": "stdout",
     "output_type": "stream",
     "text": [
      "Current position of H [532, 506]\n",
      "Current position of T [533, 506]\n",
      "All positions of T has visited 5619\n"
     ]
    }
   ],
   "source": [
    "for move_H in data_moves:\n",
    "    for i in range(move_H[1]):\n",
    "        pos_H = moveH(pos_H, move_H[0])\n",
    "        pos_T = moveT(pos_T, pos_H)\n",
    "print('Current position of H', pos_H)\n",
    "print('Current position of T', pos_T)\n",
    "print('All positions of T has visited', sum(sum(state)))"
   ]
  },
  {
   "cell_type": "markdown",
   "id": "3ba1e959",
   "metadata": {},
   "source": [
    "#### Day 9.2\n",
    "\n",
    "Rather than two knots (H and T), one now must simulate a rope consisting of **10** knots. One knot is still the head of the rope and moves according to the series of motions (the data file). Each knot further down the rope follows the knot in front of it using the same rules as before. And now, only the positions visited by the **last knot (9)** need to be tracked.\n",
    "\n",
    "For a second example:\n",
    "\n",
    "    R 5\n",
    "    U 8\n",
    "    L 8\n",
    "    D 3\n",
    "    R 17\n",
    "    D 10\n",
    "    L 25\n",
    "    U 20\n",
    "        \n",
    "The state after the movements now become:\n",
    "\n",
    "    ..........................\n",
    "    ..........................\n",
    "    ..........................\n",
    "    ..........................\n",
    "    ..........................\n",
    "    ..........................\n",
    "    ..........................\n",
    "    ..........................\n",
    "    ..........................\n",
    "    #.........................\n",
    "    #.............###.........\n",
    "    #............#...#........\n",
    "    .#..........#.....#.......\n",
    "    ..#..........#.....#......\n",
    "    ...#........#.......#.....\n",
    "    ....#......s.........#....\n",
    "    .....#..............#.....\n",
    "    ......#............#......\n",
    "    .......#..........#.......\n",
    "    ........#........#........\n",
    "    .........########.........\n",
    "    \n",
    "Now, the tail (9) visits 36 positions (including s) at least once."
   ]
  },
  {
   "cell_type": "code",
   "execution_count": 8,
   "id": "3d2a4ac9",
   "metadata": {},
   "outputs": [],
   "source": [
    "nrow = 600\n",
    "ncol = 600\n",
    "pos_s = [300,300] # start position\n",
    "pos_H = pos_s\n",
    "pos_Ts=[]\n",
    "for i in range(9):\n",
    "    pos_Ts.append(pos_s)\n",
    "state = np.zeros((nrow, ncol), dtype=int)\n",
    "state[pos_Ts[0][0],pos_Ts[0][1]] = 1 # any T has visited"
   ]
  },
  {
   "cell_type": "code",
   "execution_count": 9,
   "id": "391ead78",
   "metadata": {},
   "outputs": [
    {
     "name": "stdout",
     "output_type": "stream",
     "text": [
      "Current position of H [532, 506]\n",
      "Current position of T [[533, 506], [534, 506], [535, 505], [535, 504], [535, 503], [536, 502], [537, 502], [538, 502], [538, 503]]\n",
      "All positions of T has visited 2376\n"
     ]
    }
   ],
   "source": [
    "for move_H in data_moves:\n",
    "    for i in range(move_H[1]):\n",
    "        pos_H = moveH(pos_H, move_H[0])\n",
    "        for i in range(9):\n",
    "            pos_from = pos_H if i == 0 else pos_Ts[i-1]\n",
    "            iftrack = i == 8\n",
    "            pos_Ts[i] = moveT(pos_Ts[i], pos_from, iftrack)\n",
    "print('Current position of H', pos_H)\n",
    "print('Current position of T', pos_Ts)\n",
    "print('All positions of T has visited', sum(sum(state)))"
   ]
  },
  {
   "cell_type": "code",
   "execution_count": null,
   "id": "a6229fad",
   "metadata": {},
   "outputs": [],
   "source": []
  }
 ],
 "metadata": {
  "kernelspec": {
   "display_name": "Python 3 (ipykernel)",
   "language": "python",
   "name": "python3"
  },
  "language_info": {
   "codemirror_mode": {
    "name": "ipython",
    "version": 3
   },
   "file_extension": ".py",
   "mimetype": "text/x-python",
   "name": "python",
   "nbconvert_exporter": "python",
   "pygments_lexer": "ipython3",
   "version": "3.9.7"
  }
 },
 "nbformat": 4,
 "nbformat_minor": 5
}
