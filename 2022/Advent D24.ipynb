{
 "cells": [
  {
   "cell_type": "markdown",
   "id": "22f06383",
   "metadata": {},
   "source": [
    "## Jul AdventKalender D24\n",
    "\n",
    "https://adventofcode.com/2022/day/24"
   ]
  },
  {
   "cell_type": "code",
   "execution_count": 1,
   "id": "c4b29325",
   "metadata": {},
   "outputs": [],
   "source": [
    "import heapq"
   ]
  },
  {
   "cell_type": "markdown",
   "id": "8e30a121",
   "metadata": {},
   "source": [
    "#### Day 24.1 \n",
    "\n",
    "Given a map of a valley (# is the walls) and blizzards with four directions (< left, > right, ^ up, v down). \n",
    "\n",
    "* In one minute, each blizzard moves **one position** in the **direction** it is pointing.\n",
    "* As a blizzard **reaches the wall** of the valley, a **new** blizzard forms on the **opposite side** of the valley moving in the **same direction**.\n",
    "* Expedition begins in the only non-wall position in the top row and needs to reach the only non-wall position in the bottom row. \n",
    "* On each minute, you can move **up**, **down**, **left**, or **right**, or you can **wait** in place. \n",
    "* You and the blizzards act **simultaneously**, and you cannot share a position with a blizzard. But blizzard can share position with another blizzard.\n",
    "\n",
    "For example:\n",
    "\n",
    "    #S######\n",
    "    #>>.<^<#\n",
    "    #.<..<<#\n",
    "    #>v.><>#\n",
    "    #<^v^^>#\n",
    "    ######E#\n",
    "\n",
    "What is the fewest number of minutes required to avoid the blizzards and reach the goal?"
   ]
  },
  {
   "cell_type": "code",
   "execution_count": 2,
   "id": "ac49b4ac",
   "metadata": {
    "scrolled": true
   },
   "outputs": [],
   "source": [
    "def readMap(file_name):\n",
    "    data_map = []\n",
    "    f = open(file_name, \"r\")\n",
    "    while True:\n",
    "        line = f.readline()\n",
    "        if not line:\n",
    "            break\n",
    "        data_map.append(line.strip()[1:-1])\n",
    "    f.close()\n",
    "    del data_map[0]\n",
    "    del data_map[-1]\n",
    "    return data_map"
   ]
  },
  {
   "cell_type": "code",
   "execution_count": 3,
   "id": "a568b98d",
   "metadata": {},
   "outputs": [],
   "source": [
    "def _noBlizzardComing(pos, step_id):\n",
    "    global blizzard_map, num_rows, num_cols\n",
    "    x, y = pos\n",
    "    step_id += 1\n",
    "    directions = [\n",
    "        blizzard_map[(x-step_id)%num_rows][y] == 'v',    # up comes blizzard\n",
    "        blizzard_map[(x+step_id)%num_rows][y] == '^',    # down \n",
    "        blizzard_map[x][(y-step_id)%num_cols] == '>',    # left \n",
    "        blizzard_map[x][(y+step_id)%num_cols] == '<',    # right\n",
    "    ]\n",
    "    return sum(directions) == 0\n",
    "\n",
    "def _isInBounds(pos):\n",
    "    global num_rows, num_cols\n",
    "    x, y = pos\n",
    "    return 0 <= x < num_rows and 0 <= y < num_cols\n",
    "\n",
    "def _getNeighbors(pos_c, step_id):\n",
    "    global pos_s, pos_e\n",
    "    x, y = pos_c\n",
    "    neighbors = [\n",
    "        (x, y),   # stay\n",
    "        (x-1, y), # up   \n",
    "        (x+1, y), # down \n",
    "        (x, y-1), # left\n",
    "        (x, y+1), # right\n",
    "    ]\n",
    "    neighbors_valid = []\n",
    "    for n in neighbors:\n",
    "        if (_isInBounds(n) and _noBlizzardComing(n, step_id)) or n == pos_s or n == pos_e:\n",
    "            neighbors_valid.append(n)\n",
    "    return neighbors_valid\n",
    "\n",
    "def _heuristic(a, b):\n",
    "    (x1, y1) = a\n",
    "    (x2, y2) = b\n",
    "    return abs(x1 - x2) + abs(y1 - y2)\n",
    "                \n",
    "def findShortestPath(pos_s, pos_e, step_id_s = 0): # a*\n",
    "    visited = set()\n",
    "    queue = []\n",
    "    heapq.heappush(queue, (0, pos_s, step_id_s)) # priority, position, step_id\n",
    "    while queue:\n",
    "        _, node, step_id = heapq.heappop(queue)\n",
    "        if node == pos_e:\n",
    "            return step_id\n",
    "        if (node, step_id) in visited:\n",
    "            continue\n",
    "        visited.add((node, step_id))\n",
    "        neighbors = _getNeighbors(node, step_id)\n",
    "        #print('current pos:', node, 'step_id:', step_id, 'valid neighbors:', neighbors)\n",
    "        for neighbor in neighbors:\n",
    "            priority = step_id + _heuristic(pos_e, neighbor)\n",
    "            heapq.heappush(queue, (priority, neighbor, step_id+1))\n",
    "    return None"
   ]
  },
  {
   "cell_type": "code",
   "execution_count": 4,
   "id": "38acdfb0",
   "metadata": {},
   "outputs": [
    {
     "name": "stdout",
     "output_type": "stream",
     "text": [
      "Fewest steps required to reach the goal: 314\n"
     ]
    }
   ],
   "source": [
    "blizzard_map = readMap(\"data/input24.txt\")\n",
    "num_rows = len(blizzard_map)\n",
    "num_cols = len(blizzard_map[0])\n",
    "pos_s, pos_e = (-1,0), (num_rows,num_cols-1)\n",
    "\n",
    "n_steps_1 = findShortestPath(pos_s, pos_e)\n",
    "print('Fewest steps required to reach the goal:', n_steps_1)"
   ]
  },
  {
   "cell_type": "markdown",
   "id": "4d5fa3c5",
   "metadata": {},
   "source": [
    "#### Day 24.2\n",
    "\n",
    "What is the fewest number of minutes required to reach the goal, go back to the start, then reach the goal again?"
   ]
  },
  {
   "cell_type": "code",
   "execution_count": 5,
   "id": "5d6a7594",
   "metadata": {},
   "outputs": [
    {
     "name": "stdout",
     "output_type": "stream",
     "text": [
      "Fewest steps required to reach the goal, go back to start, and reach the goal again: 896\n"
     ]
    }
   ],
   "source": [
    "n_steps_back = findShortestPath(pos_e, pos_s, n_steps_1)\n",
    "n_steps_2 = findShortestPath(pos_s, pos_e, n_steps_back)\n",
    "print('Fewest steps required to reach the goal, go back to start, and reach the goal again:', n_steps_2)"
   ]
  },
  {
   "cell_type": "code",
   "execution_count": null,
   "id": "68cb0d2c",
   "metadata": {},
   "outputs": [],
   "source": []
  }
 ],
 "metadata": {
  "kernelspec": {
   "display_name": "Python 3 (ipykernel)",
   "language": "python",
   "name": "python3"
  },
  "language_info": {
   "codemirror_mode": {
    "name": "ipython",
    "version": 3
   },
   "file_extension": ".py",
   "mimetype": "text/x-python",
   "name": "python",
   "nbconvert_exporter": "python",
   "pygments_lexer": "ipython3",
   "version": "3.7.11"
  }
 },
 "nbformat": 4,
 "nbformat_minor": 5
}
