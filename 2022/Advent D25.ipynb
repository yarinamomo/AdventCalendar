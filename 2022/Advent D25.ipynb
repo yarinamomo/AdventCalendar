{
 "cells": [
  {
   "cell_type": "markdown",
   "id": "22f06383",
   "metadata": {},
   "source": [
    "## Jul AdventKalender D25\n",
    "\n",
    "https://adventofcode.com/2022/day/25"
   ]
  },
  {
   "cell_type": "markdown",
   "id": "8e30a121",
   "metadata": {},
   "source": [
    "#### Day 25.1 \n",
    "\n",
    "Special Numeral-Analogue Fuel Units - SNAFU for short - are like normal numbers, but it uses powers of **five** instead of ten. Starting from the right, you have a ones place, a fives place, a twenty-fives place, a one-hundred-and-twenty-fives place, and so on.\n",
    "\n",
    "The digits are 2, 1, 0, minus (written -), and double-minus (written =). Minus is worth -1, and double-minus is worth -2. For example, 10 (in normal numbers) is two fives and no ones, in SNAFU it is written 20. Since 8 (in normal numbers) is two fives minus two ones, it is written 2=...\n",
    "\n",
    "    Decimal          SNAFU\n",
    "            1              1\n",
    "            2              2\n",
    "            3             1=\n",
    "            4             1-\n",
    "            5             10\n",
    "            6             11\n",
    "            7             12\n",
    "            8             2=\n",
    "            9             2-\n",
    "           10             20\n",
    "           15            1=0\n",
    "           20            1-0\n",
    "         2022         1=11-2\n",
    "        12345        1-0---0\n",
    "    314159265  1121-1110-1=0\n",
    "    \n",
    "Convert all the SNAFU numbers in the given input file to decimals and sum them up, and then convert the sum back to SNAFU."
   ]
  },
  {
   "cell_type": "code",
   "execution_count": 1,
   "id": "ac49b4ac",
   "metadata": {
    "scrolled": true
   },
   "outputs": [],
   "source": [
    "def readSNAFU(file_name):\n",
    "    data_SNAFU = []\n",
    "    f = open(file_name, \"r\")\n",
    "    while True:\n",
    "        line = f.readline()\n",
    "        if not line:\n",
    "            break\n",
    "        data_SNAFU.append(line.strip())\n",
    "    f.close()\n",
    "    return data_SNAFU"
   ]
  },
  {
   "cell_type": "code",
   "execution_count": 2,
   "id": "f742d1d4",
   "metadata": {},
   "outputs": [],
   "source": [
    "def SNAFU2Decimal(snafu):\n",
    "    snafu_dict = {'2':2, '1':1, '0':0, '-':-1, '=':-2}\n",
    "    dec = 0\n",
    "    for s in snafu:\n",
    "        dec = 5*dec + snafu_dict[s]\n",
    "    return dec\n",
    "\n",
    "def decimal2SNAFU(decimal):\n",
    "    div, mod = divmod(decimal, 5)\n",
    "    s = '=-012'[mod-5+2]\n",
    "    div = div+1 if mod>2 else div\n",
    "    if div > 0:\n",
    "        s += decimal2SNAFU(div)\n",
    "    return s"
   ]
  },
  {
   "cell_type": "code",
   "execution_count": 3,
   "id": "e42a80c6",
   "metadata": {},
   "outputs": [
    {
     "data": {
      "text/plain": [
       "'2=--00--0220-0-21==1'"
      ]
     },
     "execution_count": 3,
     "metadata": {},
     "output_type": "execute_result"
    }
   ],
   "source": [
    "data_SNAFU = readSNAFU('data/input25.txt')\n",
    "decimal2SNAFU(sum(list(map(SNAFU2Decimal, data_SNAFU))))[::-1]"
   ]
  },
  {
   "cell_type": "markdown",
   "id": "9b1a1b15",
   "metadata": {},
   "source": [
    "#### Day 25.2\n",
    "\n",
    "Merry Chrismas!"
   ]
  }
 ],
 "metadata": {
  "kernelspec": {
   "display_name": "Python 3 (ipykernel)",
   "language": "python",
   "name": "python3"
  },
  "language_info": {
   "codemirror_mode": {
    "name": "ipython",
    "version": 3
   },
   "file_extension": ".py",
   "mimetype": "text/x-python",
   "name": "python",
   "nbconvert_exporter": "python",
   "pygments_lexer": "ipython3",
   "version": "3.7.11"
  }
 },
 "nbformat": 4,
 "nbformat_minor": 5
}
