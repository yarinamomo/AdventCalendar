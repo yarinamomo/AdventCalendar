{
 "cells": [
  {
   "cell_type": "markdown",
   "id": "22f06383",
   "metadata": {},
   "source": [
    "### Jul AdventKalender D18\n",
    "\n",
    "https://adventofcode.com/2022/day/18"
   ]
  },
  {
   "cell_type": "code",
   "execution_count": 1,
   "id": "9f43b9e6",
   "metadata": {},
   "outputs": [],
   "source": [
    "import numpy as np"
   ]
  },
  {
   "cell_type": "markdown",
   "id": "8e30a121",
   "metadata": {},
   "source": [
    "#### Day 18.1 \n",
    "\n",
    "Given a set of positions (x,y,z) of cube (of size 1x1x1), calculate the surface area (number of sides that are not connected to another cube)."
   ]
  },
  {
   "cell_type": "code",
   "execution_count": 2,
   "id": "ac49b4ac",
   "metadata": {
    "scrolled": true
   },
   "outputs": [],
   "source": [
    "def readFile(file_name):\n",
    "    data_pos = []\n",
    "    f = open(file_name, \"r\")\n",
    "    while True:\n",
    "        line = f.readline()\n",
    "        if not line:\n",
    "            break\n",
    "        pos = tuple(map(int,line.strip().split(',')))\n",
    "        data_pos.append(pos)\n",
    "    f.close()\n",
    "    return data_pos"
   ]
  },
  {
   "cell_type": "code",
   "execution_count": 3,
   "id": "a568b98d",
   "metadata": {},
   "outputs": [],
   "source": [
    "def _neighbors(pos_cur, inner_pos=None, outer_pos=None):\n",
    "    nb_shifts = [(1,0,0),(-1,0,0),(0,1,0),(0,-1,0),(0,0,1),(0,0,-1)]\n",
    "    nbs = [tuple(map(sum, zip(pos_cur, s))) for s in nb_shifts]\n",
    "    if inner_pos and outer_pos:\n",
    "        nbs_valid = []\n",
    "        for nb in nbs:\n",
    "            if _isBound(nb, inner_pos, outer_pos):\n",
    "                nbs_valid.append(nb) \n",
    "        return nbs_valid\n",
    "    else:\n",
    "        return nbs\n",
    "\n",
    "def countSurfaces(data_pos):\n",
    "    cubes_surfaces = len(data_pos)*6\n",
    "    for cube_pos in data_pos:\n",
    "        nbs = _neighbors(cube_pos)\n",
    "        for nb in nbs:\n",
    "            if nb in data_pos:\n",
    "                cubes_surfaces -= 1\n",
    "    return cubes_surfaces"
   ]
  },
  {
   "cell_type": "code",
   "execution_count": 4,
   "id": "15c247c4",
   "metadata": {},
   "outputs": [
    {
     "data": {
      "text/plain": [
       "4604"
      ]
     },
     "execution_count": 4,
     "metadata": {},
     "output_type": "execute_result"
    }
   ],
   "source": [
    "data_pos = readFile('data/input18.txt')\n",
    "countSurfaces(data_pos)"
   ]
  },
  {
   "cell_type": "markdown",
   "id": "4d5fa3c5",
   "metadata": {},
   "source": [
    "#### Day 18.2\n",
    "\n",
    "Count only the outer surfaces (do not include the cubes that are trapped inside but without neighbors)"
   ]
  },
  {
   "cell_type": "code",
   "execution_count": 5,
   "id": "b18001bf",
   "metadata": {},
   "outputs": [
    {
     "data": {
      "text/plain": [
       "2604"
      ]
     },
     "execution_count": 5,
     "metadata": {},
     "output_type": "execute_result"
    }
   ],
   "source": [
    "def _getBoundCoords(data_pos):\n",
    "    inner = (np.inf,np.inf,np.inf)\n",
    "    outer = (0,0,0)\n",
    "    for cube in data_pos:\n",
    "        inner = tuple(map(min,zip(cube,inner)))\n",
    "        outer = tuple(map(max,zip(cube,outer)))\n",
    "    return inner, outer\n",
    "\n",
    "def _isBound(cube_pos, inner_pos, outer_pos):\n",
    "    for i in range(3): # x,y,z\n",
    "        if cube_pos[i] > outer_pos[i]+1 or cube_pos[i] < inner_pos[i]-1:\n",
    "            return False\n",
    "    return True\n",
    "\n",
    "def countOuterSurfaces(data_pos):\n",
    "    # from left bottom (the smallest coords on all three axis) search till the outer surface(within the boundary)\n",
    "    # similar to A* search in D12\n",
    "    visited = set()\n",
    "    queue = [] # to be checked\n",
    "    cubes_surfaces = 0\n",
    "    inner_pos, outer_pos = _getBoundCoords(data_pos)\n",
    "    queue.append(inner_pos)\n",
    "    while len(queue) > 0:\n",
    "        node = queue.pop(0)\n",
    "        if node in visited:\n",
    "            continue\n",
    "        visited.add(node)\n",
    "        neighbors = _neighbors(node, inner_pos, outer_pos)\n",
    "        for nb in neighbors:\n",
    "            if nb in visited:\n",
    "                continue\n",
    "            if nb in data_pos:\n",
    "                cubes_surfaces += 1\n",
    "            else:\n",
    "                queue.append(nb)\n",
    "    return cubes_surfaces\n",
    "\n",
    "countOuterSurfaces(data_pos)"
   ]
  },
  {
   "cell_type": "code",
   "execution_count": null,
   "id": "d3a87936",
   "metadata": {},
   "outputs": [],
   "source": []
  }
 ],
 "metadata": {
  "kernelspec": {
   "display_name": "Python 3 (ipykernel)",
   "language": "python",
   "name": "python3"
  },
  "language_info": {
   "codemirror_mode": {
    "name": "ipython",
    "version": 3
   },
   "file_extension": ".py",
   "mimetype": "text/x-python",
   "name": "python",
   "nbconvert_exporter": "python",
   "pygments_lexer": "ipython3",
   "version": "3.7.11"
  }
 },
 "nbformat": 4,
 "nbformat_minor": 5
}
