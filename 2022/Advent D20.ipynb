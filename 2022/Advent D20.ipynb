{
 "cells": [
  {
   "cell_type": "markdown",
   "id": "22f06383",
   "metadata": {},
   "source": [
    "### Jul AdventKalender D20\n",
    "\n",
    "https://adventofcode.com/2022/day/20"
   ]
  },
  {
   "cell_type": "markdown",
   "id": "8e30a121",
   "metadata": {},
   "source": [
    "#### Day 20.1 \n",
    "\n",
    "Decrypting the encrypted data list (a list of numbers) by using mixing:\n",
    "\n",
    "* Move each number **forward or backward** in the file a **number of positions equal to the value of the number** being moved.\n",
    "* The list is **circular**, so moving a number off one end of the list wraps back around to the other end as if the ends were connected.\n",
    "* The numbers should be moved in the **order they originally appear** in the encrypted file.\n",
    "\n",
    "For example:\n",
    "\n",
    "        Initial arrangement:      1, 2,-3, 3, -2, 0, 4\n",
    "         1 moves 1-step forward:  2, 1,-3, 3, -2, 0, 4  (between  2 and -3)\n",
    "         2 moves 2-step forward:  1,-3, 2, 3, -2, 0, 4  (between -3 and  3)\n",
    "        -3 moves 3-step backward: 1, 2, 3,-2, -3, 0, 4  (between -2 and  0)\n",
    "\n",
    "Mix the encrypted file **exactly once**. Find the 1000th, 2000th, and 3000th numbers after the value 0, wrapping around the list as necessary. What is the sum of the three numbers?"
   ]
  },
  {
   "cell_type": "code",
   "execution_count": 1,
   "id": "ac49b4ac",
   "metadata": {
    "scrolled": true
   },
   "outputs": [],
   "source": [
    "# parse the numbers as 'id_value', so that each one is unique (even though the values are repeated)\n",
    "# because we want to index to the same value with the same index, and move it around\n",
    "def readFile(file_name, key=None):\n",
    "    data_en = []\n",
    "    f = open(file_name, \"r\")\n",
    "    i = 0\n",
    "    while True:\n",
    "        line = f.readline()\n",
    "        if not line:\n",
    "            break\n",
    "        value = line.strip()\n",
    "        if key:\n",
    "            value = str(int(value)*key)\n",
    "        id_value = '_'.join([str(i), value])\n",
    "        if value == '0':\n",
    "            start = id_value\n",
    "        data_en.append(id_value)\n",
    "        i += 1\n",
    "    f.close()\n",
    "    return data_en, start"
   ]
  },
  {
   "cell_type": "code",
   "execution_count": 2,
   "id": "a568b98d",
   "metadata": {},
   "outputs": [],
   "source": [
    "def mix(target):\n",
    "    global data_en\n",
    "    id_to_remove = data_en.index(target)\n",
    "    item_to_remove = data_en.pop(id_to_remove)\n",
    "    id_to_insert = int(target.split('_')[1]) + id_to_remove\n",
    "    id_to_insert %= len(data_en)\n",
    "    #print('before', data_en)\n",
    "    data_en.insert(id_to_insert, item_to_remove)\n",
    "    #print('after', data_en)\n",
    "    \n",
    "def getCoords(start,x,y,z):\n",
    "    global data_en\n",
    "    n = len(data_en)\n",
    "    id_start = data_en.index(start)\n",
    "    #print(id_start)\n",
    "    res_x,res_y,res_z = data_en[(id_start+x)%(n)],data_en[(id_start+y)%(n)],data_en[(id_start+z)%(n)]\n",
    "    return [int(res_x.split('_')[1]),int(res_y.split('_')[1]),int(res_z.split('_')[1])]"
   ]
  },
  {
   "cell_type": "code",
   "execution_count": 3,
   "id": "7509007e",
   "metadata": {},
   "outputs": [
    {
     "name": "stdout",
     "output_type": "stream",
     "text": [
      "[-3330, 5782, 8379] 10831\n"
     ]
    }
   ],
   "source": [
    "data_en, start = readFile('data/input20.txt')\n",
    "data_ref = data_en.copy()\n",
    "for number in data_ref:\n",
    "    #print(number)\n",
    "    mix(number)\n",
    "coords = getCoords(start,1000,2000,3000)\n",
    "print(coords, sum(coords))"
   ]
  },
  {
   "cell_type": "markdown",
   "id": "4d5fa3c5",
   "metadata": {},
   "source": [
    "#### Day 20.2\n",
    "\n",
    "Apply the decryption key, 811589153 first by multiplying each number by the decryption key. Then mix the resulting list of numbers 10 times, all based on the order in the original list. What is the sum of the three numbers?"
   ]
  },
  {
   "cell_type": "code",
   "execution_count": 4,
   "id": "70b668ab",
   "metadata": {},
   "outputs": [],
   "source": [
    "data_en, start = readFile('data/input20.txt', key = 811589153)\n",
    "data_ref = data_en.copy()\n",
    "for i in range(10):\n",
    "    for number in data_ref:\n",
    "        #print(number)\n",
    "        mix(number)"
   ]
  },
  {
   "cell_type": "code",
   "execution_count": 5,
   "id": "706a202e",
   "metadata": {},
   "outputs": [
    {
     "name": "stdout",
     "output_type": "stream",
     "text": [
      "[6329583804247, 7175259701673, -7084361716537] 6420481789383\n"
     ]
    }
   ],
   "source": [
    "coords = getCoords(start,1000,2000,3000)\n",
    "print(coords, sum(coords))"
   ]
  },
  {
   "cell_type": "code",
   "execution_count": null,
   "id": "5e96a4e3",
   "metadata": {},
   "outputs": [],
   "source": []
  }
 ],
 "metadata": {
  "kernelspec": {
   "display_name": "Python 3 (ipykernel)",
   "language": "python",
   "name": "python3"
  },
  "language_info": {
   "codemirror_mode": {
    "name": "ipython",
    "version": 3
   },
   "file_extension": ".py",
   "mimetype": "text/x-python",
   "name": "python",
   "nbconvert_exporter": "python",
   "pygments_lexer": "ipython3",
   "version": "3.7.11"
  }
 },
 "nbformat": 4,
 "nbformat_minor": 5
}
