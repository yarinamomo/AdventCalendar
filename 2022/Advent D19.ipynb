{
 "cells": [
  {
   "cell_type": "markdown",
   "id": "22f06383",
   "metadata": {},
   "source": [
    "### Jul AdventKalender D19\n",
    "\n",
    "https://adventofcode.com/2022/day/19"
   ]
  },
  {
   "cell_type": "code",
   "execution_count": 11,
   "id": "9f43b9e6",
   "metadata": {},
   "outputs": [],
   "source": [
    "from mip import Model, xsum, maximize, BINARY\n",
    "import re"
   ]
  },
  {
   "cell_type": "code",
   "execution_count": 16,
   "id": "540e1b76",
   "metadata": {},
   "outputs": [
    {
     "data": {
      "text/plain": [
       "'1.14.1'"
      ]
     },
     "execution_count": 16,
     "metadata": {},
     "output_type": "execute_result"
    }
   ],
   "source": [
    "mip.__version__"
   ]
  },
  {
   "cell_type": "markdown",
   "id": "8e30a121",
   "metadata": {},
   "source": [
    "#### Day 19.1 \n",
    "\n",
    "Given a set of blueprints that show the costs for building 4 types of robots:\n",
    "\n",
    "    Blueprint 1:\n",
    "      Each ore robot costs 4 ore.\n",
    "      Each clay robot costs 2 ore.\n",
    "      Each obsidian robot costs 3 ore and 14 clay.\n",
    "      Each geode robot costs 2 ore and 7 obsidian.\n",
    "   \n",
    "Each robot can collect **1** of its resource type **per minute**. It also takes **one minute** to **construct** any type of robot, although it consumes the necessary resources available when construction **begins**. At the begining, there is exactly **one ore robot** uprunning. \n",
    "\n",
    "For each blueprint, figure out the **maximum** number of collected **geodes** after **24 minutes** by figuring out which robots to build and when to build them. Calculate the quality level of each blueprint by multiplying that blueprint's ID number with the largest number of geodes, and report the total quality level of all blueprints."
   ]
  },
  {
   "cell_type": "code",
   "execution_count": 23,
   "id": "ac49b4ac",
   "metadata": {
    "scrolled": true
   },
   "outputs": [],
   "source": [
    "# ore robot: ore0; clay robot: ore1; obsidian robot: ore2,clay3; geode robot: ore4,obsidian5\n",
    "def readFile(file_name):\n",
    "    data_bp = []\n",
    "    f = open(file_name, \"r\")\n",
    "    while True:\n",
    "        line = f.readline()\n",
    "        if not line:\n",
    "            break\n",
    "        costs = list(map(int, re.findall('[0-9]+', line)[1:]))\n",
    "        data_bp.append(costs)\n",
    "    f.close()\n",
    "    return data_bp"
   ]
  },
  {
   "cell_type": "code",
   "execution_count": 24,
   "id": "a568b98d",
   "metadata": {},
   "outputs": [],
   "source": [
    "def optimizer(mins, r_costs):\n",
    "    n_robots = 4\n",
    "    I = range(mins)\n",
    "    m = Model(\"geode\")\n",
    "\n",
    "# optimize variables x:\n",
    "# robot  min1  min2  min3  min4  ... min24\n",
    "#   r1    1   binary, 0:not build 1:build\n",
    "#   r2    0   binary, 0:not build 1:build\n",
    "#   r3    0   binary, 0:not build 1:build\n",
    "#   r4    0   binary, 0:not build 1:build\n",
    "\n",
    "    x = [[m.add_var(var_type=BINARY) for i in I] for j in range(n_robots)] \n",
    "    m.objective = maximize(xsum((mins-i-1) * x[3][i] for i in I)) # goal, r4 produce geode\n",
    "    \n",
    "    # add constraints\n",
    "    m += x[0][0] == 1 # start with 1 r1\n",
    "    for i in I:\n",
    "        m += (x[0][i]+x[1][i]+x[2][i]+x[3][i]) <=1 # can only build 1 robot per minute (building cost 1 minute)\n",
    "    for i in range(1,mins-1):\n",
    "        # for ore, clay and obsidian: the profit(until last minute) - the current build cost >= 0\n",
    "        m += -xsum(x[0][j]*r_costs[0] for j in range(1,i+1)) - xsum(x[1][j]*r_costs[1] for j in range(i+1)) - xsum(x[2][j]*r_costs[2] for j in range(i+1)) - xsum(x[3][j]*r_costs[4] for j in range(i+1)) + xsum((i-j-1)*x[0][j] for j in range(i))+1 >= 0\n",
    "        m += -xsum(x[2][j]*r_costs[3] for j in range(i+1)) + xsum((i-j-1)*x[1][j] for j in range(i)) >= 0\n",
    "        m += -xsum(x[3][j]*r_costs[5] for j in range(i+1)) + xsum((i-j-1)*x[2][j] for j in range(i)) >= 0\n",
    "    m.verbose = 0\n",
    "    m.optimize()\n",
    "    return sum((mins-1-i) * x[3][i].x for i in I)"
   ]
  },
  {
   "cell_type": "code",
   "execution_count": 26,
   "id": "15aae9cd",
   "metadata": {},
   "outputs": [
    {
     "data": {
      "text/plain": [
       "1147.0"
      ]
     },
     "execution_count": 26,
     "metadata": {},
     "output_type": "execute_result"
    }
   ],
   "source": [
    "data_bp = readFile('data/input19.txt')\n",
    "minutes = 24\n",
    "quality_level = 0\n",
    "for i in range(len(data_bp)):\n",
    "    max_geo = optimizer(minutes, data_bp[i])\n",
    "    #print(i+1, data_bp[i], max_geo)\n",
    "    quality_level += (i+1)*max_geo\n",
    "quality_level"
   ]
  },
  {
   "cell_type": "markdown",
   "id": "4d5fa3c5",
   "metadata": {},
   "source": [
    "#### Day 19.2\n",
    "\n",
    "Given **32 minutes**, what are the maximum numbers of geodes for the **first 3 blueprints**? Calculate the multiplication of them."
   ]
  },
  {
   "cell_type": "code",
   "execution_count": 27,
   "id": "d3a87936",
   "metadata": {},
   "outputs": [
    {
     "data": {
      "text/plain": [
       "3080.0"
      ]
     },
     "execution_count": 27,
     "metadata": {},
     "output_type": "execute_result"
    }
   ],
   "source": [
    "minutes = 32\n",
    "geo_mul = 1\n",
    "for i in range(3):\n",
    "    max_geo = optimizer(minutes, data_bp[i])\n",
    "    geo_mul *= max_geo\n",
    "geo_mul"
   ]
  },
  {
   "cell_type": "code",
   "execution_count": null,
   "id": "38186aaa",
   "metadata": {},
   "outputs": [],
   "source": []
  }
 ],
 "metadata": {
  "kernelspec": {
   "display_name": "Python 3 (ipykernel)",
   "language": "python",
   "name": "python3"
  },
  "language_info": {
   "codemirror_mode": {
    "name": "ipython",
    "version": 3
   },
   "file_extension": ".py",
   "mimetype": "text/x-python",
   "name": "python",
   "nbconvert_exporter": "python",
   "pygments_lexer": "ipython3",
   "version": "3.7.11"
  }
 },
 "nbformat": 4,
 "nbformat_minor": 5
}
