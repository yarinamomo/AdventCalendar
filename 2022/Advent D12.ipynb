{
 "cells": [
  {
   "cell_type": "markdown",
   "id": "22f06383",
   "metadata": {},
   "source": [
    "### Jul AdventKalender D12\n",
    "\n",
    "https://adventofcode.com/2022/day/12"
   ]
  },
  {
   "cell_type": "markdown",
   "id": "8e30a121",
   "metadata": {},
   "source": [
    "#### Day 12.1 \n",
    "\n",
    "Hill Climbing Algorithm\n",
    "\n",
    "Given a heightmap with letters. \n",
    "\n",
    "* The elevation is given by a single lowercase letter: a-z is the lowest to the highest.\n",
    "* Other marks: **current** position (S) which has elevation a, the **destination** with the best signal (E) has elevation z.\n",
    "\n",
    "The elevation of the next location can be at most **one** higher than the current location: a can go to b but not c.\n",
    "\n",
    "What is the fewest steps required to move from S to E?"
   ]
  },
  {
   "cell_type": "code",
   "execution_count": 1,
   "id": "ac49b4ac",
   "metadata": {
    "scrolled": true
   },
   "outputs": [],
   "source": [
    "def readMap(file_name):\n",
    "    data_map = []\n",
    "    f = open(file_name, \"r\")\n",
    "    while True:\n",
    "        line = f.readline()\n",
    "        if not line:\n",
    "            break\n",
    "        data_map.append(line.strip())\n",
    "    f.close()\n",
    "    return data_map\n",
    "heightmap = readMap(\"data/input12.txt\")"
   ]
  },
  {
   "cell_type": "code",
   "execution_count": 2,
   "id": "5bd6b4d5",
   "metadata": {},
   "outputs": [],
   "source": [
    "def _isInBounds(pos):\n",
    "    x, y = pos\n",
    "    num_rows = len(heightmap)\n",
    "    num_cols = len(heightmap[0])\n",
    "    return 0 <= x < num_rows and 0 <= y < num_cols\n",
    "\n",
    "def _getNeighbors(pos_c):\n",
    "    x, y = pos_c\n",
    "    neighbors = [\n",
    "        (x-1, y),\n",
    "        (x+1, y),\n",
    "        (x, y-1),\n",
    "        (x, y+1),\n",
    "    ]\n",
    "    neighbors = [n for n in neighbors if _isInBounds(n) and (getElevation(n)-getElevation(pos_c)<=1)]\n",
    "    return neighbors\n",
    "\n",
    "def _buildPath(came_from, pos_s, pos_e):\n",
    "    reverse_path = [pos_e]\n",
    "    while pos_e != pos_s:\n",
    "        pos_e = came_from[pos_e]\n",
    "        reverse_path.append(pos_e)\n",
    "    return list(reversed(reverse_path))\n",
    "\n",
    "def getElevation(pos):\n",
    "    x, y = pos\n",
    "    letter = heightmap[x][y]\n",
    "    if letter == 'S':\n",
    "        letter = 'a'\n",
    "    elif letter == 'E':\n",
    "        letter = 'z'\n",
    "    elevation = ord(letter) - ord('a')\n",
    "    return elevation\n",
    "\n",
    "def findShortestPath(pos_s, pos_e):\n",
    "    visited = set()\n",
    "    came_from = dict()\n",
    "    distance = {pos_s:0}\n",
    "    queue = [] # to be checked\n",
    "    queue.append(pos_s)\n",
    "    while len(queue)>0:\n",
    "        node = queue.pop(0)\n",
    "        if node in visited:\n",
    "            continue\n",
    "        if node == pos_e:\n",
    "            return _buildPath(came_from, pos_s, node)\n",
    "        visited.add(node)\n",
    "        neighbors = _getNeighbors(node)\n",
    "        for neighbor in neighbors:\n",
    "            queue.append(neighbor)\n",
    "            if (neighbor not in distance) or (distance[node] + 1 < distance[neighbor]):\n",
    "                distance[neighbor] = distance[node] + 1\n",
    "                came_from[neighbor] = node\n",
    "    return None\n",
    "\n",
    "def getStartEndpos():\n",
    "    pos_s = None\n",
    "    pos_e = None\n",
    "    for i in range(len(heightmap)):\n",
    "        for j in range(len(heightmap[0])):\n",
    "            if heightmap[i][j] == 'S':\n",
    "                pos_s = (i,j)\n",
    "            if heightmap[i][j] == 'E':\n",
    "                pos_e = (i,j)\n",
    "    return pos_s, pos_e"
   ]
  },
  {
   "cell_type": "code",
   "execution_count": 3,
   "id": "0d2d8c35",
   "metadata": {
    "scrolled": true
   },
   "outputs": [
    {
     "data": {
      "text/plain": [
       "440"
      ]
     },
     "execution_count": 3,
     "metadata": {},
     "output_type": "execute_result"
    }
   ],
   "source": [
    "pos_s,pos_e = getStartEndpos()\n",
    "path = findShortestPath(pos_s,pos_e)\n",
    "if path != None:\n",
    "    shortest_steps = len(path)-1\n",
    "shortest_steps"
   ]
  },
  {
   "cell_type": "markdown",
   "id": "3ba1e959",
   "metadata": {},
   "source": [
    "#### Day 12.2\n",
    "\n",
    "Now the start position is not fixed with position S. Instead, it can be any location in the area that has the same elevation as the S position (a). What is the fewest steps required to move starting from any square with elevation a to the location that should get the best signal?"
   ]
  },
  {
   "cell_type": "code",
   "execution_count": 4,
   "id": "8a66e473",
   "metadata": {},
   "outputs": [
    {
     "data": {
      "text/plain": [
       "439"
      ]
     },
     "execution_count": 4,
     "metadata": {},
     "output_type": "execute_result"
    }
   ],
   "source": [
    "saved_steps = 0\n",
    "for pos in path:\n",
    "    if getElevation(pos) == getElevation(pos_s):\n",
    "        saved_steps += 1\n",
    "    else:\n",
    "        break\n",
    "shortest_steps - saved_steps"
   ]
  },
  {
   "cell_type": "code",
   "execution_count": null,
   "id": "d73e69e6",
   "metadata": {},
   "outputs": [],
   "source": []
  }
 ],
 "metadata": {
  "kernelspec": {
   "display_name": "Python 3 (ipykernel)",
   "language": "python",
   "name": "python3"
  },
  "language_info": {
   "codemirror_mode": {
    "name": "ipython",
    "version": 3
   },
   "file_extension": ".py",
   "mimetype": "text/x-python",
   "name": "python",
   "nbconvert_exporter": "python",
   "pygments_lexer": "ipython3",
   "version": "3.7.11"
  }
 },
 "nbformat": 4,
 "nbformat_minor": 5
}
