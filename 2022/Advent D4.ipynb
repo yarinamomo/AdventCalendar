{
 "cells": [
  {
   "cell_type": "markdown",
   "id": "22f06383",
   "metadata": {},
   "source": [
    "### Jul AdventKalender D4\n",
    "\n",
    "https://adventofcode.com/2022/day/4"
   ]
  },
  {
   "cell_type": "code",
   "execution_count": 1,
   "id": "c62cf960",
   "metadata": {},
   "outputs": [],
   "source": [
    "import pandas as pd"
   ]
  },
  {
   "cell_type": "markdown",
   "id": "8e30a121",
   "metadata": {},
   "source": [
    "#### Day 4.1  \n",
    "\n",
    "Each row represent assignments for a group of two.\n",
    "\n",
    "In how many assignment pairs does one range fully contain the other?"
   ]
  },
  {
   "cell_type": "code",
   "execution_count": 2,
   "id": "72be7af9",
   "metadata": {},
   "outputs": [
    {
     "data": {
      "text/html": [
       "<div>\n",
       "<style scoped>\n",
       "    .dataframe tbody tr th:only-of-type {\n",
       "        vertical-align: middle;\n",
       "    }\n",
       "\n",
       "    .dataframe tbody tr th {\n",
       "        vertical-align: top;\n",
       "    }\n",
       "\n",
       "    .dataframe thead th {\n",
       "        text-align: right;\n",
       "    }\n",
       "</style>\n",
       "<table border=\"1\" class=\"dataframe\">\n",
       "  <thead>\n",
       "    <tr style=\"text-align: right;\">\n",
       "      <th></th>\n",
       "      <th>0</th>\n",
       "      <th>1</th>\n",
       "    </tr>\n",
       "  </thead>\n",
       "  <tbody>\n",
       "    <tr>\n",
       "      <th>0</th>\n",
       "      <td>14-28</td>\n",
       "      <td>13-28</td>\n",
       "    </tr>\n",
       "    <tr>\n",
       "      <th>1</th>\n",
       "      <td>72-81</td>\n",
       "      <td>82-91</td>\n",
       "    </tr>\n",
       "    <tr>\n",
       "      <th>2</th>\n",
       "      <td>4-4</td>\n",
       "      <td>6-95</td>\n",
       "    </tr>\n",
       "    <tr>\n",
       "      <th>3</th>\n",
       "      <td>47-49</td>\n",
       "      <td>48-59</td>\n",
       "    </tr>\n",
       "    <tr>\n",
       "      <th>4</th>\n",
       "      <td>26-36</td>\n",
       "      <td>37-76</td>\n",
       "    </tr>\n",
       "  </tbody>\n",
       "</table>\n",
       "</div>"
      ],
      "text/plain": [
       "       0      1\n",
       "0  14-28  13-28\n",
       "1  72-81  82-91\n",
       "2    4-4   6-95\n",
       "3  47-49  48-59\n",
       "4  26-36  37-76"
      ]
     },
     "execution_count": 2,
     "metadata": {},
     "output_type": "execute_result"
    }
   ],
   "source": [
    "data_ass = pd.read_table('data/input4.txt', sep=\",\", header=None)\n",
    "data_ass.head()"
   ]
  },
  {
   "cell_type": "code",
   "execution_count": 3,
   "id": "86f68e1f",
   "metadata": {},
   "outputs": [],
   "source": [
    "def isFullContain(ass1, ass2):\n",
    "    return (ass1.start in ass2 and ass1[-1] in ass2) or (ass2.start in ass1 and ass2[-1] in ass1)\n",
    "def outSecNums(ass):\n",
    "    secStrs = str.split(ass,'-')\n",
    "    return int(secStrs[0]),int(secStrs[1])"
   ]
  },
  {
   "cell_type": "code",
   "execution_count": 4,
   "id": "1fc97f3c",
   "metadata": {},
   "outputs": [
    {
     "data": {
      "text/plain": [
       "305"
      ]
     },
     "execution_count": 4,
     "metadata": {},
     "output_type": "execute_result"
    }
   ],
   "source": [
    "total_fulloverlap = 0\n",
    "for _,row in data_ass.iterrows():\n",
    "    ass1_s, ass1_e = outSecNums(row[0])\n",
    "    ass2_s, ass2_e = outSecNums(row[1])\n",
    "    if isFullContain(range(ass1_s, ass1_e+1),range(ass2_s, ass2_e+1)):\n",
    "        total_fulloverlap += 1\n",
    "total_fulloverlap"
   ]
  },
  {
   "cell_type": "markdown",
   "id": "3ba1e959",
   "metadata": {},
   "source": [
    "#### Day 4.2\n",
    "\n",
    "In how many assignment pairs does the two ranges overlap at all?"
   ]
  },
  {
   "cell_type": "code",
   "execution_count": 5,
   "id": "55cb9753",
   "metadata": {},
   "outputs": [],
   "source": [
    "def isContain(ass1, ass2):\n",
    "    for ass in ass1:\n",
    "        if ass in ass2:\n",
    "            return True\n",
    "    return False"
   ]
  },
  {
   "cell_type": "code",
   "execution_count": 6,
   "id": "196556e2",
   "metadata": {},
   "outputs": [
    {
     "data": {
      "text/plain": [
       "811"
      ]
     },
     "execution_count": 6,
     "metadata": {},
     "output_type": "execute_result"
    }
   ],
   "source": [
    "total_overlap = 0\n",
    "for _,row in data_ass.iterrows():\n",
    "    ass1_s, ass1_e = outSecNums(row[0])\n",
    "    ass2_s, ass2_e = outSecNums(row[1])\n",
    "    if isContain(range(ass1_s, ass1_e+1),range(ass2_s, ass2_e+1)):\n",
    "        total_overlap += 1\n",
    "total_overlap"
   ]
  },
  {
   "cell_type": "code",
   "execution_count": null,
   "id": "b3639722",
   "metadata": {},
   "outputs": [],
   "source": []
  }
 ],
 "metadata": {
  "kernelspec": {
   "display_name": "Python 3 (ipykernel)",
   "language": "python",
   "name": "python3"
  },
  "language_info": {
   "codemirror_mode": {
    "name": "ipython",
    "version": 3
   },
   "file_extension": ".py",
   "mimetype": "text/x-python",
   "name": "python",
   "nbconvert_exporter": "python",
   "pygments_lexer": "ipython3",
   "version": "3.7.11"
  }
 },
 "nbformat": 4,
 "nbformat_minor": 5
}
