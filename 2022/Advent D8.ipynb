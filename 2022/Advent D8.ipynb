{
 "cells": [
  {
   "cell_type": "markdown",
   "id": "22f06383",
   "metadata": {},
   "source": [
    "### Jul AdventKalender D8\n",
    "\n",
    "https://adventofcode.com/2022/day/8"
   ]
  },
  {
   "cell_type": "code",
   "execution_count": 1,
   "id": "c62cf960",
   "metadata": {},
   "outputs": [],
   "source": [
    "import numpy as np"
   ]
  },
  {
   "cell_type": "markdown",
   "id": "8e30a121",
   "metadata": {},
   "source": [
    "#### Day 8.1  \n",
    "\n",
    "Given a layout of trees (presented as a matrix, each number-single digit from 0-9 represents the height of a tree):\n",
    "\n",
    "If a tree is not surrounded in **ALL** four directions (like the trees on the edges), or it is higher than **ALL** the trees in **ANY** of the four directions, the tree is considered as **visible**.\n",
    "\n",
    "Find the total amount of visible trees."
   ]
  },
  {
   "cell_type": "code",
   "execution_count": 2,
   "id": "1cc2bb7d",
   "metadata": {},
   "outputs": [],
   "source": [
    "def readTrees(file_name):\n",
    "    with open(file_name, 'r') as f:\n",
    "        data_trees = [[int(num) for num in line.strip()] for line in f]\n",
    "    return np.array(data_trees)"
   ]
  },
  {
   "cell_type": "code",
   "execution_count": 3,
   "id": "ac49b4ac",
   "metadata": {
    "scrolled": true
   },
   "outputs": [
    {
     "data": {
      "text/plain": [
       "array([[3, 0, 1, ..., 1, 1, 1],\n",
       "       [2, 1, 0, ..., 3, 3, 3],\n",
       "       [2, 0, 1, ..., 3, 2, 2],\n",
       "       ...,\n",
       "       [2, 2, 1, ..., 0, 3, 3],\n",
       "       [0, 0, 1, ..., 2, 0, 3],\n",
       "       [0, 1, 3, ..., 0, 0, 3]])"
      ]
     },
     "execution_count": 3,
     "metadata": {},
     "output_type": "execute_result"
    }
   ],
   "source": [
    "data_trees = readTrees(\"data/input8.txt\")\n",
    "data_trees"
   ]
  },
  {
   "cell_type": "code",
   "execution_count": 4,
   "id": "7cac1164",
   "metadata": {},
   "outputs": [],
   "source": [
    "def isVisible(pos1, pos2):\n",
    "    global data_trees\n",
    "    # check edges\n",
    "    if pos1 == 0 or pos2 == 0 or pos1 == (data_trees.shape[0]-1) or pos2 == (data_trees.shape[1]-1):\n",
    "        return True\n",
    "    #check interior\n",
    "    target = data_trees[pos1, pos2]\n",
    "    return sum(target > data_trees[pos1,:pos2])==pos2 or sum(target > data_trees[pos1,(pos2+1):])==(data_trees.shape[0]-1-pos2) or sum(target > data_trees[:pos1,pos2])==pos1 or sum(target > data_trees[(pos1+1):,pos2])==(data_trees.shape[1]-1-pos1)"
   ]
  },
  {
   "cell_type": "code",
   "execution_count": 5,
   "id": "05e4676b",
   "metadata": {},
   "outputs": [],
   "source": [
    "total_visible = 0\n",
    "for i in range(data_trees.shape[0]):\n",
    "    for j in range(data_trees.shape[1]):\n",
    "        total_visible += isVisible(i, j)"
   ]
  },
  {
   "cell_type": "code",
   "execution_count": 6,
   "id": "f74ae4fa",
   "metadata": {},
   "outputs": [
    {
     "data": {
      "text/plain": [
       "1713"
      ]
     },
     "execution_count": 6,
     "metadata": {},
     "output_type": "execute_result"
    }
   ],
   "source": [
    "total_visible"
   ]
  },
  {
   "cell_type": "markdown",
   "id": "3ba1e959",
   "metadata": {},
   "source": [
    "#### Day 7.2\n",
    "\n",
    "To measure the **viewing distance** from a given tree, look up, down, left, and right from that tree; stop if you reach an edge or at the first tree that is the same height or taller than the tree under consideration. (If a tree is right on the edge, at least one of its viewing distances will be zero. When encountering the same height or a taller tree, that tree should be included.)\n",
    "\n",
    "The **scenic score** is found by multiplying together a tree's viewing distance from all four directions.\n",
    "\n",
    "Find the  highest possible scenic score for any tree."
   ]
  },
  {
   "cell_type": "code",
   "execution_count": 7,
   "id": "3d2a4ac9",
   "metadata": {},
   "outputs": [],
   "source": [
    "def _viewingDistance(trees, target, direction): # trees are from one direction\n",
    "    distance = 0\n",
    "    if direction in ['left','up']: #flip order of trees\n",
    "        trees = trees[::-1]\n",
    "    for tree in trees:\n",
    "        distance +=1\n",
    "        if target <= tree:\n",
    "            break\n",
    "    return distance"
   ]
  },
  {
   "cell_type": "code",
   "execution_count": 8,
   "id": "978a7c48",
   "metadata": {},
   "outputs": [],
   "source": [
    "def scenicScore(pos1, pos2):\n",
    "    global data_trees\n",
    "    # check edges\n",
    "    if pos1 == 0 or pos2 == 0 or pos1 == (data_trees.shape[0]-1) or pos2 == (data_trees.shape[1]-1):\n",
    "        return 0\n",
    "    #check interior\n",
    "    target = data_trees[pos1, pos2]\n",
    "    #from inside out\n",
    "    left_sc = _viewingDistance(data_trees[pos1,:pos2], target, 'left')\n",
    "    right_sc = _viewingDistance(data_trees[pos1,(pos2+1):], target, 'right')\n",
    "    up_sc = _viewingDistance(data_trees[:pos1,pos2], target, 'up')\n",
    "    down_sc = _viewingDistance(data_trees[(pos1+1):,pos2], target, 'down')\n",
    "    return left_sc*right_sc*up_sc*down_sc"
   ]
  },
  {
   "cell_type": "code",
   "execution_count": 9,
   "id": "713fe52c",
   "metadata": {},
   "outputs": [],
   "source": [
    "highest_sc = 0\n",
    "for i in range(data_trees.shape[0]):\n",
    "    for j in range(data_trees.shape[1]):\n",
    "        highest_sc = max(highest_sc, scenicScore(i, j))"
   ]
  },
  {
   "cell_type": "code",
   "execution_count": 10,
   "id": "391ead78",
   "metadata": {},
   "outputs": [
    {
     "data": {
      "text/plain": [
       "268464"
      ]
     },
     "execution_count": 10,
     "metadata": {},
     "output_type": "execute_result"
    }
   ],
   "source": [
    "highest_sc"
   ]
  },
  {
   "cell_type": "code",
   "execution_count": null,
   "id": "a1e8d272",
   "metadata": {},
   "outputs": [],
   "source": []
  }
 ],
 "metadata": {
  "kernelspec": {
   "display_name": "Python 3 (ipykernel)",
   "language": "python",
   "name": "python3"
  },
  "language_info": {
   "codemirror_mode": {
    "name": "ipython",
    "version": 3
   },
   "file_extension": ".py",
   "mimetype": "text/x-python",
   "name": "python",
   "nbconvert_exporter": "python",
   "pygments_lexer": "ipython3",
   "version": "3.7.11"
  }
 },
 "nbformat": 4,
 "nbformat_minor": 5
}
