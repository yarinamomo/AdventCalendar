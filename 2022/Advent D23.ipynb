{
 "cells": [
  {
   "cell_type": "markdown",
   "id": "22f06383",
   "metadata": {},
   "source": [
    "## Jul AdventKalender D23\n",
    "\n",
    "https://adventofcode.com/2022/day/23"
   ]
  },
  {
   "cell_type": "code",
   "execution_count": 1,
   "id": "686bf1df",
   "metadata": {},
   "outputs": [],
   "source": [
    "import numpy as np\n",
    "from itertools import cycle\n",
    "from collections import defaultdict"
   ]
  },
  {
   "cell_type": "markdown",
   "id": "8e30a121",
   "metadata": {},
   "source": [
    "#### Day 23.1 \n",
    "\n",
    "Given a map of locations of elves(#) and empty tiles(.):\n",
    "\n",
    "    ....#..\n",
    "    ..###.#\n",
    "    #...#.#\n",
    "    .#...##\n",
    "    #.###..\n",
    "    ##.#.##\n",
    "    .#..#..\n",
    "\n",
    "For each round, there are two parts: considering where to move and actually moving.\n",
    "\n",
    "First half round, each Elf considers the **8 positions** adjacent to themself. If **no other Elves** are in one of those eight positions, the Elf does **not** do anything during this round. Otherwise, the Elf looks in each of four directions in the following order and proposes moving one step in the first valid direction:\n",
    "\n",
    "* If there is no Elf in the **N, NE, or NW** adjacent positions, the Elf proposes moving **north** one step.\n",
    "* If there is no Elf in the **S, SE, or SW** adjacent positions, the Elf proposes moving **south** one step.\n",
    "* If there is no Elf in the **W, NW, or SW** adjacent positions, the Elf proposes moving **west** one step.\n",
    "* If there is no Elf in the **E, NE, or SE** adjacent positions, the Elf proposes moving **east** one step.\n",
    "\n",
    "The second half round, each Elf moves to their proposed destination tile if they were the **only** Elf to propose moving to that position. If **two or more** Elves propose moving to the same position, **none** of those Elves move.\n",
    "\n",
    "Finally, at the end of the round, the first direction the Elves considered is moved to the end of the list of directions.\n",
    "\n",
    "Count the number of empty ground tiles contained by the smallest rectangle that contains every Elf."
   ]
  },
  {
   "cell_type": "code",
   "execution_count": 2,
   "id": "ac49b4ac",
   "metadata": {
    "scrolled": true
   },
   "outputs": [],
   "source": [
    "def readFile(file_name):\n",
    "    data_elves = {}\n",
    "    f = open(file_name, \"r\")\n",
    "    line_id = 0\n",
    "    while True:\n",
    "        line = f.readline()\n",
    "        if not line:\n",
    "            break\n",
    "        row = line.strip()\n",
    "        for i in range(len(row)):\n",
    "            if row[i] == '#':\n",
    "                data_elves[(line_id, i)] = True # dictionary to store positions, fast to search by position value\n",
    "        line_id += 1\n",
    "    f.close()\n",
    "    return data_elves"
   ]
  },
  {
   "cell_type": "code",
   "execution_count": 3,
   "id": "a568b98d",
   "metadata": {},
   "outputs": [],
   "source": [
    "# 8 directions\n",
    "directions = [(-1,0),(1,0),(0,-1),(0,1), # 0 north, 1 south, 2 west, 3 east\n",
    "              (-1,1),(1,1),(1,-1),(-1,-1)] # 4 NE, 5 SE, 6 SW, 7 NW\n",
    "check_list = [(0,4,7),(1,5,6),(2,7,6),(3,4,5)] # priority of directions to check, correspond to index in directions\n",
    "\n",
    "# N, NE, or NW => N\n",
    "# S, SE, or SW => S\n",
    "# W, NW, or SW => W\n",
    "# E, NE, or SE => E\n",
    "\n",
    "def roundFirstHalf(start_dir):\n",
    "    global position_elves\n",
    "    start_dir_id = next(start_dir)\n",
    "    propose_elves = defaultdict(list)\n",
    "    for pos_elf in position_elves:\n",
    "        pos_elf_surrounds = [(pos_elf[0]+dire[0],pos_elf[1]+dire[1]) for dire in directions]\n",
    "        # if all empty in surrounding positions\n",
    "        check_res = np.zeros(8) #0:empty, 1:elf. stored for later use\n",
    "        for s in range(8):\n",
    "            if pos_elf_surrounds[s] in position_elves:\n",
    "                check_res[s] = 1\n",
    "        if sum(check_res) == 0:  # no move\n",
    "            continue\n",
    "        # purpose moving position if all checking pos are empty, according to priority (check_list)\n",
    "        for c in range(4):\n",
    "            check_ids = check_list[(c+start_dir_id)%4]\n",
    "            if sum([check_res[cid] for cid in check_ids]) == 0:\n",
    "                pos_proposed = (pos_elf[0]+directions[check_ids[0]][0],pos_elf[1]+directions[check_ids[0]][1])\n",
    "                if pos_proposed in propose_elves:\n",
    "                    propose_elves[pos_proposed].append(pos_elf)\n",
    "                else:\n",
    "                    propose_elves[pos_proposed] = [pos_elf]\n",
    "                break\n",
    "    return propose_elves\n",
    "\n",
    "def roundSecondHalf(propose_elves):\n",
    "    global position_elves\n",
    "    for key, value in propose_elves.items():\n",
    "        if len(value) == 1: # only one elf proposed this position to move\n",
    "            position_elves[key] = True # elf moves to the porposed position\n",
    "            del position_elves[value[0]] # from its original position\n",
    "    return len(propose_elves) == 0 # no one proposed to moove\n",
    "\n",
    "def getNumEmptyTiles():\n",
    "    global position_elves\n",
    "    row_min,row_max = float('inf'),float('-inf')\n",
    "    col_min,col_max = float('inf'),float('-inf')\n",
    "    for pos in position_elves:\n",
    "        row_min = min(row_min, pos[0])\n",
    "        row_max = max(row_max, pos[0])\n",
    "        col_min = min(col_min, pos[1])\n",
    "        col_max = max(col_max, pos[1])\n",
    "    #print(row_min,row_max, col_min,col_max)\n",
    "    return (row_max-row_min+1)*(col_max-col_min+1)-len(position_elves)"
   ]
  },
  {
   "cell_type": "code",
   "execution_count": 4,
   "id": "38acdfb0",
   "metadata": {},
   "outputs": [
    {
     "data": {
      "text/plain": [
       "4181"
      ]
     },
     "execution_count": 4,
     "metadata": {},
     "output_type": "execute_result"
    }
   ],
   "source": [
    "position_elves = readFile('data/input23.txt')\n",
    "start_dir = cycle(range(4))\n",
    "for _ in range(10):\n",
    "    propose_elves = roundFirstHalf(start_dir)\n",
    "    roundSecondHalf(propose_elves)\n",
    "getNumEmptyTiles()"
   ]
  },
  {
   "cell_type": "markdown",
   "id": "4d5fa3c5",
   "metadata": {},
   "source": [
    "#### Day 23.2\n",
    "\n",
    "What is the number of the first round where no Elf moves?"
   ]
  },
  {
   "cell_type": "code",
   "execution_count": 6,
   "id": "b6c2f021",
   "metadata": {
    "scrolled": true
   },
   "outputs": [
    {
     "name": "stdout",
     "output_type": "stream",
     "text": [
      "Total rounds: 973\n",
      "Completed in: 18020.41 ms\n"
     ]
    }
   ],
   "source": [
    "from time import perf_counter\n",
    "\n",
    "position_elves = readFile('data/input23.txt')\n",
    "start_dir = cycle(range(4))\n",
    "n_round = 0\n",
    "start = perf_counter() \n",
    "while True:\n",
    "    n_round += 1\n",
    "    #print(n_round)\n",
    "    propose_elves = roundFirstHalf(start_dir)\n",
    "    if roundSecondHalf(propose_elves):\n",
    "        break\n",
    "end = perf_counter()\n",
    "print('Total rounds:', n_round)\n",
    "print('Completed in:', round((end - start) * 1000, 2), 'ms')"
   ]
  },
  {
   "cell_type": "code",
   "execution_count": null,
   "id": "f85e59ca",
   "metadata": {},
   "outputs": [],
   "source": []
  }
 ],
 "metadata": {
  "kernelspec": {
   "display_name": "Python 3 (ipykernel)",
   "language": "python",
   "name": "python3"
  },
  "language_info": {
   "codemirror_mode": {
    "name": "ipython",
    "version": 3
   },
   "file_extension": ".py",
   "mimetype": "text/x-python",
   "name": "python",
   "nbconvert_exporter": "python",
   "pygments_lexer": "ipython3",
   "version": "3.7.11"
  }
 },
 "nbformat": 4,
 "nbformat_minor": 5
}
