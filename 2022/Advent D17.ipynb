{
 "cells": [
  {
   "cell_type": "markdown",
   "id": "22f06383",
   "metadata": {},
   "source": [
    "### Jul AdventKalender D17\n",
    "\n",
    "https://adventofcode.com/2022/day/17"
   ]
  },
  {
   "cell_type": "code",
   "execution_count": 1,
   "id": "9f43b9e6",
   "metadata": {},
   "outputs": [],
   "source": [
    "import numpy as np"
   ]
  },
  {
   "cell_type": "markdown",
   "id": "8e30a121",
   "metadata": {},
   "source": [
    "#### Day 17.1 \n",
    "\n",
    "Make a Tetris!\n",
    "\n",
    "Given five types of blocks that fall in order (from left to right, 1234512345...):\n",
    "\n",
    "      1          2           3             4            5\n",
    "    ####        .#.         ..#            #            ##          \n",
    "                ###         ..#            #            ##\n",
    "                .#.         ###            #            \n",
    "                                           #\n",
    "\n",
    "The blocks don't spin like in Tetris, but they get pushed left(**<**) or right(**>**) according to the input file which looks like this:\n",
    "\n",
    "    >>><<><>><<<>><>>><<<>>><<<><<<>><>><<>>\n",
    "\n",
    "The play board is **7 units wide**. Each block appears with **2 units** away from the left wall and **3 units** above the highest block/floor.\n",
    "\n",
    "After a block appears, it alternates between being **pushed** 1 unit to the left/right and then **falling** 1 unit down. The push doesn't take effect if the block will move into the walls, floor, or a stopped block. The block **stops** when it falls on the floor or an already-fallen block, and a **new** block immediately appears.\n",
    "\n",
    "How tall will the tower of blocks be after **2022** blocks have stopped falling?"
   ]
  },
  {
   "cell_type": "code",
   "execution_count": 2,
   "id": "ac49b4ac",
   "metadata": {
    "scrolled": true
   },
   "outputs": [],
   "source": [
    "def readFile(file_name):\n",
    "    data_force = {}\n",
    "    f = open(file_name, \"r\")\n",
    "    data_force = f.read().strip()\n",
    "    f.close()\n",
    "    return data_force"
   ]
  },
  {
   "cell_type": "code",
   "execution_count": 3,
   "id": "a22a991a",
   "metadata": {},
   "outputs": [],
   "source": [
    "def _blockGeneratePos(block_arr, height_top):\n",
    "    global board\n",
    "    gen_height = (4 + height_top) * 1j\n",
    "    gen_pos = block_arr + gen_height\n",
    "    return gen_pos\n",
    "\n",
    "def _blockPushStep(force, block_pos, height_top):\n",
    "    global board\n",
    "    block_pushed = block_pos+force\n",
    "    if min(block_pushed.real) < 0 or max(block_pushed.real) > 6: # out of border, pushed into walls\n",
    "        return block_pos\n",
    "    if height_top < min(block_pushed.imag):\n",
    "        return block_pushed\n",
    "    for i in range(len(block_pushed)):\n",
    "        if board[int(block_pushed[i].imag),int(block_pushed[i].real)]==1:# pushed into block\n",
    "            return block_pos\n",
    "    return block_pushed\n",
    "\n",
    "def _blockFallStep(block_pos, height_top):\n",
    "    global board\n",
    "    block_fell = block_pos-1j\n",
    "    if min(block_fell.imag) == 0: # falls into floor\n",
    "        return True, block_pos\n",
    "    if height_top < min(block_fell.imag): # no need to check, can fall\n",
    "        return False, block_fell\n",
    "    for i in range(len(block_fell)):\n",
    "        if board[int(block_fell[i].imag),int(block_fell[i].real)]==1: # fell into block\n",
    "            return True, block_pos\n",
    "    return False, block_fell"
   ]
  },
  {
   "cell_type": "code",
   "execution_count": 4,
   "id": "1f4363cd",
   "metadata": {},
   "outputs": [],
   "source": [
    "def blockOps(total_blocks):\n",
    "    global data_force, blocks, board\n",
    "    id_b = 0\n",
    "    id_f = 0\n",
    "    height_top = 0\n",
    "    len_f = len(data_force)\n",
    "    board = np.zeros((total_blocks*2, 7))\n",
    "    pattern = {'force_id_blocks':[], 'force_id_heights':[]} # save the repeats of the same force_id\n",
    "    for i in range(total_blocks):\n",
    "        block_cur = blocks[id_b%5]\n",
    "        block_cur_pos = _blockGeneratePos(block_cur, height_top)\n",
    "        while True:\n",
    "            id_f %= len_f\n",
    "            if id_f==(len_f-1):\n",
    "                pattern['force_id_blocks'] += [i]\n",
    "                pattern['force_id_heights'] += [height_top]\n",
    "            force_cur = data_force[id_f]\n",
    "            block_cur_pos = _blockPushStep(force_cur, block_cur_pos, height_top)\n",
    "            #print('after pushed by',force_cur,':',block_cur_pos)\n",
    "            isStop, block_cur_pos = _blockFallStep(block_cur_pos, height_top)\n",
    "            #print('after falling:',block_cur_pos, 'is stopped:',isStop)\n",
    "            id_f += 1\n",
    "            if isStop: \n",
    "                board[block_cur_pos.imag.astype(int),block_cur_pos.real.astype(int)] = 1\n",
    "                height_top = max(height_top, max(block_cur_pos.imag))\n",
    "                #print(block_cur_pos, height_top)\n",
    "                break\n",
    "        id_b += 1\n",
    "    return height_top, pattern"
   ]
  },
  {
   "cell_type": "code",
   "execution_count": 5,
   "id": "d2631a13",
   "metadata": {
    "scrolled": true
   },
   "outputs": [
    {
     "data": {
      "text/plain": [
       "3055.0"
      ]
     },
     "execution_count": 5,
     "metadata": {},
     "output_type": "execute_result"
    }
   ],
   "source": [
    "total_blocks = 2022\n",
    "\n",
    "# read force\n",
    "data_force = readFile('data/input17.txt')\n",
    "data_force = [1 if push == '>' else -1 for push in data_force]\n",
    "\n",
    "# use complex number to represent space\n",
    "# real: row index (-2 to 4 : 7 units); imaginary: col index bottom up (floor=0)\n",
    "# define blocks \n",
    "blocks = [np.array([0,1,2,3])+2, np.array([1j,1,1+1j,1+2j,2+1j])+2, \n",
    "          np.array([0,1,2,2+1j,2+2j])+2, np.array([0,1j,2j,3j])+2, np.array([0,1,1j,1+1j])+2]\n",
    "# define game board\n",
    "#         gen\n",
    "#    0  1  2  3  4  5  6\n",
    "# 3  .  .  .  .  .  .  .\n",
    "# 2  .  .  .  .  .  .  .\n",
    "# 1  .  .  .  .  .  .  .\n",
    "# 0---------------------  floor\n",
    "# (nrow, 7) # bottom up, floor=0(ignore)\n",
    "\n",
    "# operate\n",
    "height_top,_ = blockOps(total_blocks)\n",
    "height_top"
   ]
  },
  {
   "cell_type": "markdown",
   "id": "3ba1e959",
   "metadata": {},
   "source": [
    "#### Day 17.2\n",
    "\n",
    "How tall will the tower be after 1000000000000 rocks have stopped?"
   ]
  },
  {
   "cell_type": "code",
   "execution_count": 6,
   "id": "68336d43",
   "metadata": {},
   "outputs": [],
   "source": [
    "# Find a repeated pattern, so that we don't need to iterate 1000000000000 times\n",
    "# thinking start with the force id\n",
    "\n",
    "max_iteration = len(data_force)*5 #n_force x n_block  (experiment showed it can be much less)\n",
    "_, pattern = blockOps(max_iteration)"
   ]
  },
  {
   "cell_type": "code",
   "execution_count": 7,
   "id": "db80ea1e",
   "metadata": {},
   "outputs": [
    {
     "name": "stdout",
     "output_type": "stream",
     "text": [
      "The last force id was excuted 29 times.\n",
      "It follows 1 pattern to repeat: every [1690] blocks\n",
      "It follows 1 pattern to repeat: every [2548.] rows\n"
     ]
    }
   ],
   "source": [
    "print('The last force id was excuted', len(pattern['force_id_blocks']), 'times.')\n",
    "rep_iters = np.unique(np.array(pattern['force_id_blocks'][1:]) - np.array(pattern['force_id_blocks'][:-1]))\n",
    "print('It follows {0} pattern to repeat: every {1} blocks'.format(len(rep_iters), rep_iters))\n",
    "rep_rows = np.unique(np.array(pattern['force_id_heights'][1:]) - np.array(pattern['force_id_heights'][:-1]))\n",
    "print('It follows {0} pattern to repeat: every {1} rows'.format(len(rep_rows), rep_rows))"
   ]
  },
  {
   "cell_type": "code",
   "execution_count": 8,
   "id": "cc83e715",
   "metadata": {},
   "outputs": [
    {
     "data": {
      "text/plain": [
       "2250"
      ]
     },
     "execution_count": 8,
     "metadata": {},
     "output_type": "execute_result"
    }
   ],
   "source": [
    "rep_iters = rep_iters[0]\n",
    "rep_rows = rep_rows[0]\n",
    "blocks_before_pattern = pattern['force_id_blocks'][0]\n",
    "total_blocks = 1000000000000\n",
    "base_iters = (total_blocks-blocks_before_pattern)%rep_iters + blocks_before_pattern\n",
    "base_iters"
   ]
  },
  {
   "cell_type": "code",
   "execution_count": 9,
   "id": "bb93b850",
   "metadata": {},
   "outputs": [
    {
     "data": {
      "text/plain": [
       "1507692307690.0"
      ]
     },
     "execution_count": 9,
     "metadata": {},
     "output_type": "execute_result"
    }
   ],
   "source": [
    "height_top,_ = blockOps(base_iters)\n",
    "assert((total_blocks-base_iters)%rep_iters==0), \"Fail, should be divisible by repeated iterations\"\n",
    "height_top += rep_rows * (total_blocks-base_iters)//rep_iters\n",
    "height_top"
   ]
  },
  {
   "cell_type": "code",
   "execution_count": null,
   "id": "56590d76",
   "metadata": {},
   "outputs": [],
   "source": []
  }
 ],
 "metadata": {
  "kernelspec": {
   "display_name": "Python 3 (ipykernel)",
   "language": "python",
   "name": "python3"
  },
  "language_info": {
   "codemirror_mode": {
    "name": "ipython",
    "version": 3
   },
   "file_extension": ".py",
   "mimetype": "text/x-python",
   "name": "python",
   "nbconvert_exporter": "python",
   "pygments_lexer": "ipython3",
   "version": "3.7.11"
  }
 },
 "nbformat": 4,
 "nbformat_minor": 5
}
