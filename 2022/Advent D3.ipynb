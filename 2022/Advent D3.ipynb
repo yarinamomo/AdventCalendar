{
 "cells": [
  {
   "cell_type": "markdown",
   "id": "22f06383",
   "metadata": {},
   "source": [
    "### Jul AdventKalender D3\n",
    "\n",
    "https://adventofcode.com/2022/day/3"
   ]
  },
  {
   "cell_type": "code",
   "execution_count": 1,
   "id": "c62cf960",
   "metadata": {},
   "outputs": [],
   "source": [
    "import pandas as pd\n",
    "import numpy as np"
   ]
  },
  {
   "cell_type": "markdown",
   "id": "8e30a121",
   "metadata": {},
   "source": [
    "#### Day 3.1  \n",
    "\n",
    "Each row represent all items in one rucksack. The first half of the characters represent items in the first compartment, while the second half of the characters represent items in the second compartment.\n",
    "\n",
    "Every item type can be converted to a priority:\n",
    "* Lowercase item types a through z have priorities 1 through 26.\n",
    "* Uppercase item types A through Z have priorities 27 through 52.\n",
    "\n",
    "There is one item in each row that appears in both compartments. Find the item type and calculate the sum of the priorities of those item types."
   ]
  },
  {
   "cell_type": "code",
   "execution_count": 2,
   "id": "72be7af9",
   "metadata": {},
   "outputs": [
    {
     "data": {
      "text/html": [
       "<div>\n",
       "<style scoped>\n",
       "    .dataframe tbody tr th:only-of-type {\n",
       "        vertical-align: middle;\n",
       "    }\n",
       "\n",
       "    .dataframe tbody tr th {\n",
       "        vertical-align: top;\n",
       "    }\n",
       "\n",
       "    .dataframe thead th {\n",
       "        text-align: right;\n",
       "    }\n",
       "</style>\n",
       "<table border=\"1\" class=\"dataframe\">\n",
       "  <thead>\n",
       "    <tr style=\"text-align: right;\">\n",
       "      <th></th>\n",
       "      <th>0</th>\n",
       "    </tr>\n",
       "  </thead>\n",
       "  <tbody>\n",
       "    <tr>\n",
       "      <th>0</th>\n",
       "      <td>NJvhJcQWTJWTNTFFMTqqGqfTmB</td>\n",
       "    </tr>\n",
       "    <tr>\n",
       "      <th>1</th>\n",
       "      <td>VwVzPldRZVLVRmfsvfjvqfmm</td>\n",
       "    </tr>\n",
       "    <tr>\n",
       "      <th>2</th>\n",
       "      <td>ZDPDHZHVcvDhbvnv</td>\n",
       "    </tr>\n",
       "    <tr>\n",
       "      <th>3</th>\n",
       "      <td>FHHwHBzzVCWWmmCzCPrVmgBwbLTtRFFbbbttRGRLjTcLpbbT</td>\n",
       "    </tr>\n",
       "    <tr>\n",
       "      <th>4</th>\n",
       "      <td>vhZZvdsNSdSMdNvjncppCLcLnGnj</td>\n",
       "    </tr>\n",
       "  </tbody>\n",
       "</table>\n",
       "</div>"
      ],
      "text/plain": [
       "                                                  0\n",
       "0                        NJvhJcQWTJWTNTFFMTqqGqfTmB\n",
       "1                          VwVzPldRZVLVRmfsvfjvqfmm\n",
       "2                                  ZDPDHZHVcvDhbvnv\n",
       "3  FHHwHBzzVCWWmmCzCPrVmgBwbLTtRFFbbbttRGRLjTcLpbbT\n",
       "4                      vhZZvdsNSdSMdNvjncppCLcLnGnj"
      ]
     },
     "execution_count": 2,
     "metadata": {},
     "output_type": "execute_result"
    }
   ],
   "source": [
    "data_rucksack = pd.read_table('data/input3.txt', sep=\" \", header=None)\n",
    "data_rucksack.head()"
   ]
  },
  {
   "cell_type": "code",
   "execution_count": 3,
   "id": "86f68e1f",
   "metadata": {},
   "outputs": [],
   "source": [
    "def _splitCompartment(items):\n",
    "    num = len(items)\n",
    "    if num%2 == 0:\n",
    "        return items[:(num//2)],items[(num//2):]\n",
    "    print('Number of items in two compartments are not the same!')\n",
    "    return 0,0\n",
    "def findDuplicate(row):\n",
    "    com1,com2 = _splitCompartment(row[0])\n",
    "    for item in com1:\n",
    "        if item in com2:\n",
    "            return item\n",
    "    print('No repeated item!')\n",
    "    return None\n",
    "def transPriority(item):\n",
    "    if pd.isnull(item):\n",
    "        return 0\n",
    "    if item.islower():\n",
    "        return ord(item)-96\n",
    "    if item.isupper():\n",
    "        return ord(item)-64+26\n",
    "    return 0"
   ]
  },
  {
   "cell_type": "code",
   "execution_count": 4,
   "id": "1fc97f3c",
   "metadata": {},
   "outputs": [
    {
     "data": {
      "text/plain": [
       "7742"
      ]
     },
     "execution_count": 4,
     "metadata": {},
     "output_type": "execute_result"
    }
   ],
   "source": [
    "total_score = 0\n",
    "for _,row in data_rucksack.iterrows():\n",
    "    total_score += transPriority(findDuplicate(row))\n",
    "total_score"
   ]
  },
  {
   "cell_type": "markdown",
   "id": "3ba1e959",
   "metadata": {},
   "source": [
    "#### Day 3.2\n",
    "\n",
    "Every three rows (rucksacks) are one group:\n",
    "* One badge (one item type) that identifies their group appears in all three rows\n",
    "\n",
    "Find the badge for all groups and calculate the total priorities for the badges"
   ]
  },
  {
   "cell_type": "code",
   "execution_count": 5,
   "id": "55cb9753",
   "metadata": {},
   "outputs": [],
   "source": [
    "def findGroupBadge(group):\n",
    "    if len(group) == 3:\n",
    "        return list(set(group[0]).intersection(group[1],group[2]))[0]\n",
    "    return None"
   ]
  },
  {
   "cell_type": "code",
   "execution_count": 6,
   "id": "196556e2",
   "metadata": {},
   "outputs": [
    {
     "data": {
      "text/plain": [
       "2276"
      ]
     },
     "execution_count": 6,
     "metadata": {},
     "output_type": "execute_result"
    }
   ],
   "source": [
    "nrow = data_rucksack.shape[0]\n",
    "data_groups = np.split(data_rucksack.to_numpy().flatten(), np.where(np.array(range(nrow))%3==0)[0])\n",
    "sum([transPriority(findGroupBadge(group)) for group in data_groups])"
   ]
  },
  {
   "cell_type": "code",
   "execution_count": null,
   "id": "b3639722",
   "metadata": {},
   "outputs": [],
   "source": []
  }
 ],
 "metadata": {
  "kernelspec": {
   "display_name": "Python 3 (ipykernel)",
   "language": "python",
   "name": "python3"
  },
  "language_info": {
   "codemirror_mode": {
    "name": "ipython",
    "version": 3
   },
   "file_extension": ".py",
   "mimetype": "text/x-python",
   "name": "python",
   "nbconvert_exporter": "python",
   "pygments_lexer": "ipython3",
   "version": "3.7.11"
  }
 },
 "nbformat": 4,
 "nbformat_minor": 5
}
