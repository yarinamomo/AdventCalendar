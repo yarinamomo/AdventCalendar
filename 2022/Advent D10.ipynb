{
 "cells": [
  {
   "cell_type": "markdown",
   "id": "22f06383",
   "metadata": {},
   "source": [
    "### Jul AdventKalender D10\n",
    "\n",
    "https://adventofcode.com/2022/day/10"
   ]
  },
  {
   "cell_type": "code",
   "execution_count": 2,
   "id": "c62cf960",
   "metadata": {},
   "outputs": [],
   "source": [
    "import numpy as np"
   ]
  },
  {
   "cell_type": "markdown",
   "id": "8e30a121",
   "metadata": {},
   "source": [
    "#### Day 10.1  \n",
    "\n",
    "There is a CPU which has a **single register X**, which starts with the value 1. It supports only two instructions:\n",
    "\n",
    "* **addx V** takes two cycles to complete. **After** two cycles, the X register is increased by the value V. (V can be negative.)\n",
    "* **noop** takes one cycle to complete. It has no other effect.\n",
    "\n",
    "The **signal strength** (the cycle number multiplied by the value of the X register) **during** the 20th cycle and every 40 cycles after that (that is, **during** the 20th, 60th, 100th, 140th, 180th, and 220th cycles).\n",
    "\n",
    "Find the signal strength during the 20th, 60th, 100th, 140th, 180th, and 220th cycles. What is the sum of these six signal strengths?"
   ]
  },
  {
   "cell_type": "code",
   "execution_count": 3,
   "id": "ac49b4ac",
   "metadata": {
    "scrolled": true
   },
   "outputs": [
    {
     "data": {
      "text/plain": [
       "[['noop'],\n",
       " ['noop'],\n",
       " ['noop'],\n",
       " ['addx', 5],\n",
       " ['noop'],\n",
       " ['addx', 1],\n",
       " ['noop'],\n",
       " ['addx', 4],\n",
       " ['addx', 25],\n",
       " ['addx', -20]]"
      ]
     },
     "execution_count": 3,
     "metadata": {},
     "output_type": "execute_result"
    }
   ],
   "source": [
    "def readTrees(file_name):\n",
    "    n_noop, n_addx = 0,0\n",
    "    data_ins = []\n",
    "    with open(file_name, 'r') as f:\n",
    "        for line in f:\n",
    "            coms = line.strip().split()\n",
    "            if len(coms) == 1:\n",
    "                data_ins.append(coms)\n",
    "                n_noop += 1\n",
    "            else:\n",
    "                data_ins.append([coms[0], int(coms[1])])\n",
    "                n_addx += 1\n",
    "    return data_ins, n_noop+2*n_addx\n",
    "data_ins, n_cycle = readTrees(\"data/input10.txt\")\n",
    "data_ins[:10]"
   ]
  },
  {
   "cell_type": "code",
   "execution_count": 4,
   "id": "614e6d54",
   "metadata": {},
   "outputs": [],
   "source": [
    "def excuteIns(ins, value=0):\n",
    "    global cycles, index_cycle\n",
    "    if index_cycle > 0:\n",
    "        cycles[index_cycle,0] = cycles[index_cycle-1,1]\n",
    "    cycles[index_cycle,1] = cycles[index_cycle,0]\n",
    "    index_cycle += 1\n",
    "    if ins == 'addx':\n",
    "        cycles[index_cycle,0] = cycles[index_cycle-1,1]\n",
    "        cycles[index_cycle,1] = cycles[index_cycle,0]+value\n",
    "        index_cycle += 1\n",
    "def singleStrength():\n",
    "    global cycles\n",
    "    cycle_id = 20\n",
    "    strength = 0\n",
    "    while (cycle_id <= n_cycle):\n",
    "        strength += cycle_id * cycles[cycle_id-1,0]\n",
    "        cycle_id += 40\n",
    "    return strength"
   ]
  },
  {
   "cell_type": "code",
   "execution_count": 5,
   "id": "8753dee1",
   "metadata": {},
   "outputs": [],
   "source": [
    "X = 1\n",
    "index_cycle = 0\n",
    "cycles = np.zeros((n_cycle, 2), dtype=int) #during, after\n",
    "cycles[0,0] = X"
   ]
  },
  {
   "cell_type": "code",
   "execution_count": 6,
   "id": "05e4676b",
   "metadata": {},
   "outputs": [
    {
     "name": "stdout",
     "output_type": "stream",
     "text": [
      "Current cycle index 240\n",
      "Current X 36\n",
      "Strength 13680\n"
     ]
    }
   ],
   "source": [
    "for insline in data_ins:\n",
    "    excuteIns(insline[0], value = insline[1] if len(insline)>1 else 0)\n",
    "\n",
    "print('Current cycle index', index_cycle)\n",
    "print('Current X', cycles[n_cycle-1][1])\n",
    "print('Strength', singleStrength())"
   ]
  },
  {
   "cell_type": "markdown",
   "id": "3ba1e959",
   "metadata": {},
   "source": [
    "#### Day 10.2\n",
    "\n",
    "The X register controls a sprite (3 continuous numbers where the middle number is X **DURING** each cycle).\n",
    "\n",
    "There is a screen (CRT) which is 40 x 6 pixels dimension (corresponding to the number of cycles). It will draw each pixel according to the sprite. Specifically, the CRT will draw a **#** if the position it is currently drawing (cycle index, but row-wise. every row is 1-40) is in the sprite (one of the three numbers), otherwise a **.** will be drawn.\n",
    "\n",
    "For example, it results in the following image:\n",
    "\n",
    "    ##..##..##..##..##..##..##..##..##..##..\n",
    "    ###...###...###...###...###...###...###.\n",
    "    ####....####....####....####....####....\n",
    "    #####.....#####.....#####.....#####.....\n",
    "    ######......######......######......####\n",
    "    #######.......#######.......#######.....\n",
    "    \n",
    "Now, render the image given by the data file. What eight capital letters appear on the CRT?"
   ]
  },
  {
   "cell_type": "code",
   "execution_count": 7,
   "id": "3d2a4ac9",
   "metadata": {},
   "outputs": [],
   "source": [
    "def drawCRT(width, height):\n",
    "    global cycles\n",
    "    image = ''\n",
    "    for h in range(height):\n",
    "        for w in range(width):\n",
    "            sprite_m = cycles[h*width+w][0]\n",
    "            if w in [sprite_m-1,sprite_m,sprite_m+1]:\n",
    "                image += '#'  \n",
    "            else:\n",
    "                image += '.'\n",
    "        image += '\\n'\n",
    "    return image"
   ]
  },
  {
   "cell_type": "code",
   "execution_count": 8,
   "id": "d57feb67",
   "metadata": {},
   "outputs": [],
   "source": [
    "width,height = 40, 6\n",
    "image = drawCRT(width, height)"
   ]
  },
  {
   "cell_type": "code",
   "execution_count": 9,
   "id": "391ead78",
   "metadata": {},
   "outputs": [
    {
     "name": "stdout",
     "output_type": "stream",
     "text": [
      "###..####..##..###..#..#.###..####.###..\n",
      "#..#....#.#..#.#..#.#.#..#..#.#....#..#.\n",
      "#..#...#..#....#..#.##...#..#.###..###..\n",
      "###...#...#.##.###..#.#..###..#....#..#.\n",
      "#....#....#..#.#....#.#..#....#....#..#.\n",
      "#....####..###.#....#..#.#....####.###..\n",
      "\n"
     ]
    }
   ],
   "source": [
    "print(image)"
   ]
  },
  {
   "cell_type": "code",
   "execution_count": 10,
   "id": "a6229fad",
   "metadata": {},
   "outputs": [],
   "source": [
    "#PZGPKPEB"
   ]
  },
  {
   "cell_type": "code",
   "execution_count": null,
   "id": "29bfac60",
   "metadata": {},
   "outputs": [],
   "source": []
  }
 ],
 "metadata": {
  "kernelspec": {
   "display_name": "Python 3 (ipykernel)",
   "language": "python",
   "name": "python3"
  },
  "language_info": {
   "codemirror_mode": {
    "name": "ipython",
    "version": 3
   },
   "file_extension": ".py",
   "mimetype": "text/x-python",
   "name": "python",
   "nbconvert_exporter": "python",
   "pygments_lexer": "ipython3",
   "version": "3.7.11"
  }
 },
 "nbformat": 4,
 "nbformat_minor": 5
}
