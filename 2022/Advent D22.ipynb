{
 "cells": [
  {
   "cell_type": "markdown",
   "id": "22f06383",
   "metadata": {},
   "source": [
    "### Jul AdventKalender D22\n",
    "\n",
    "https://adventofcode.com/2022/day/22"
   ]
  },
  {
   "cell_type": "markdown",
   "id": "8e30a121",
   "metadata": {},
   "source": [
    "#### Day 22.1 \n",
    "\n",
    "Given a file, in which the first half shows a map (open tiles '.' and solid walls '#'), and second half is a description of the path you must follow. \n",
    "\n",
    "The path consists of alternating numbers and letters:\n",
    "\n",
    "* A **number** indicates the **number of tiles to move** in the direction you are facing. If you run into a wall, you stop moving forward and continue with the next instruction.\n",
    "* A **letter** indicates whether to turn 90 degrees **clockwise (R)** or **counterclockwise (L)**. Turning happens in-place; it does not change your current tile.\n",
    "\n",
    "For example:\n",
    "\n",
    "                ...#\n",
    "                .#..\n",
    "                #...\n",
    "                ....\n",
    "        ...#.......#\n",
    "        ........#...\n",
    "        ..#....#....\n",
    "        ..........#.\n",
    "                ...#....\n",
    "                .....#..\n",
    "                .#......\n",
    "                ......#.\n",
    "\n",
    "        10R5L5R10L4R5L5\n",
    "    \n",
    "Begin the path in the leftmost open tile of the top row of tiles and facing to the right. If a movement instruction would take you off of the map, you **wrap around** to the other side of the board.\n",
    "\n",
    "Rows start from 1 at the top and count downward; columns start from 1 at the left and count rightward. Facing is 0 for right (>), 1 for down (v), 2 for left (<), and 3 for up (^). The final password is the sum of 1000 times the **row**, 4 times the **column**, and the **facing**.\n",
    "\n",
    "Follow the path given in the monkeys' notes. What is the final password?"
   ]
  },
  {
   "cell_type": "code",
   "execution_count": 1,
   "id": "ac49b4ac",
   "metadata": {
    "scrolled": true
   },
   "outputs": [],
   "source": [
    "import numpy as np\n",
    "import re\n",
    "\n",
    "def _parseMap(data_map):\n",
    "    nrow = len(data_map)\n",
    "    ncol = 0\n",
    "    for r in data_map:\n",
    "        ncol = max(ncol, len(r))\n",
    "    data_map_arr = np.zeros((nrow,ncol)) # 0 is nothing\n",
    "    for i in range(nrow):\n",
    "        for j in range(len(data_map[i])):\n",
    "            if data_map[i][j]=='.': data_map_arr[i,j] = 1    # 1 is open tile\n",
    "            elif data_map[i][j]=='#': data_map_arr[i,j] = -1 # -1 is solid wall\n",
    "    return data_map_arr\n",
    "\n",
    "def _parsePath(path):\n",
    "    steps = list(map(int, re.findall('[0-9]+', path)))\n",
    "    directions = re.findall('[A-Z]+', path)\n",
    "    return steps, directions\n",
    "\n",
    "def readFile(file_name):\n",
    "    data_map = []\n",
    "    path = ''\n",
    "    f = open(file_name, \"r\")\n",
    "    is_path = False\n",
    "    while True:\n",
    "        line = f.readline()\n",
    "        if not line:\n",
    "            break\n",
    "        if line.strip('\\n') == '':\n",
    "            is_path = True\n",
    "        if is_path: path = line.strip('\\n')\n",
    "        else: data_map.append(line.strip('\\n'))\n",
    "    f.close()\n",
    "    data_map_arr = _parseMap(data_map)\n",
    "    path_steps, path_directions = _parsePath(path)\n",
    "    return data_map_arr, path_steps, path_directions"
   ]
  },
  {
   "cell_type": "code",
   "execution_count": 2,
   "id": "7b96b92f",
   "metadata": {},
   "outputs": [],
   "source": [
    "def getStartPos():\n",
    "    global data_map_arr\n",
    "    col_id = np.where(data_map_arr[0,:] == 1)[0][0] # first/leftmost 1/opentile in the first/top row\n",
    "    return (0,col_id)"
   ]
  },
  {
   "cell_type": "code",
   "execution_count": 8,
   "id": "a568b98d",
   "metadata": {},
   "outputs": [],
   "source": [
    "dir_steps = [np.array([0,1]),np.array([1,0]),np.array([0,-1]),np.array([-1,0])] # 0 right, 1 down, 2 left, 3 up\n",
    "  \n",
    "# given a row or column and a direction, get the valid tile (not zero)\n",
    "def _getWrappedIndex1(pos_to, dir_cur):\n",
    "    global data_map_arr\n",
    "    if (dir_cur in [0,2]): target_list = data_map_arr[pos_to[0],:]\n",
    "    else: target_list = data_map_arr[:,pos_to[1]]\n",
    "    if dir_cur in [2,3]:\n",
    "        for i in range(len(target_list)-1,-1,-1):\n",
    "            if target_list[i]!=0:\n",
    "                if dir_cur == 2: pos_to[1] = i\n",
    "                else: pos_to[0] = i\n",
    "                break\n",
    "    elif dir_cur in [0,1]:\n",
    "        for i in range(len(target_list)):\n",
    "            if target_list[i]!=0:\n",
    "                if dir_cur == 1: pos_to[0] = i\n",
    "                else: pos_to[1] = i\n",
    "                break\n",
    "    return pos_to, dir_cur\n",
    "\n",
    "# turn 90 degrees based on the given direction: clockwise (R) or counterclockwise (L)\n",
    "def _takeDirection(RL_dir, dir_cur):\n",
    "    return (dir_cur+1)%4 if RL_dir == 'R' else (dir_cur-1)%4\n",
    "    \n",
    "# move n steps from current position in current direction\n",
    "def _takeMove(n_step, pos_cur, dir_cur, wrappedFunc):\n",
    "    global data_map_arr\n",
    "    for _ in range(n_step):\n",
    "        pos_to = pos_cur + dir_steps[dir_cur]\n",
    "        dir_to = dir_cur\n",
    "        # get valid pos_to (wrap if nessesary)\n",
    "        # left right => col index, pos_to[1]\n",
    "        if (dir_cur in [0,2]) and (pos_to[1]<0 or pos_to[1]>=data_map_arr.shape[1] or data_map_arr[tuple(pos_to)]==0):\n",
    "            pos_to,dir_to = wrappedFunc(pos_to, dir_cur)\n",
    "        # up down => row index, pos_to[0]\n",
    "        if dir_cur in [1,3] and (pos_to[0]<0 or pos_to[0]>=data_map_arr.shape[0] or data_map_arr[tuple(pos_to)]==0):\n",
    "            pos_to,dir_to = wrappedFunc(pos_to, dir_cur)  \n",
    "        pos_to = tuple(pos_to)\n",
    "        if data_map_arr[pos_to] == 1: # opentile can move, otherwise wall stay put\n",
    "            pos_cur = pos_to\n",
    "            dir_cur = dir_to\n",
    "    return pos_cur,dir_cur\n",
    "\n",
    "def walkPath(pos_start, dir_start, wrappedFunc = _getWrappedIndex1):\n",
    "    global data_map_arr, path_steps, path_directions\n",
    "    pos_cur, dir_cur = pos_start, dir_start\n",
    "    for i in range(max(len(path_steps),len(path_directions))):\n",
    "        if i < len(path_steps):\n",
    "            pos_cur,dir_cur = _takeMove(path_steps[i], pos_cur, dir_cur, wrappedFunc) # move steps\n",
    "        if i < len(path_directions):\n",
    "            dir_cur = _takeDirection(path_directions[i], dir_cur) # turn direction\n",
    "    return pos_cur, dir_cur\n",
    "\n",
    "def getPwd(pos_cur, dir_cur):\n",
    "    return 1000 * (pos_cur[0]+1) + 4 * (pos_cur[1]+1) + dir_cur"
   ]
  },
  {
   "cell_type": "code",
   "execution_count": 9,
   "id": "a50a7825",
   "metadata": {},
   "outputs": [],
   "source": [
    "data_map_arr, path_steps, path_directions = readFile('data/input22.txt')\n",
    "pos_start, dir_start = getStartPos(), 0 # 0 right, 1 down, 2 left, 3 up\n",
    "pos_cur, dir_cur = walkPath(pos_start, dir_start)"
   ]
  },
  {
   "cell_type": "code",
   "execution_count": 10,
   "id": "4e78fd80",
   "metadata": {},
   "outputs": [
    {
     "data": {
      "text/plain": [
       "117054"
      ]
     },
     "execution_count": 10,
     "metadata": {},
     "output_type": "execute_result"
    }
   ],
   "source": [
    "getPwd(pos_cur, dir_cur)"
   ]
  },
  {
   "cell_type": "markdown",
   "id": "4d5fa3c5",
   "metadata": {},
   "source": [
    "#### Day 22.2\n",
    "\n",
    "The wrapping rules are different now. The map is actually a cube!\n",
    "\n",
    "In the example above, the six (smaller, 4x4) faces of the cube are:\n",
    "\n",
    "                1111\n",
    "                1111\n",
    "                1111\n",
    "                1111\n",
    "        222233334444\n",
    "        22223333444A*\n",
    "        222233334444\n",
    "        2D2233334444  *\n",
    "         *      555566B6\n",
    "                55556666\n",
    "                55556666\n",
    "                55C56666\n",
    "                  *\n",
    "\n",
    "If you are at A and move to the right, you would arrive at B facing down; if you are at C and move down, you would arrive at D facing up.\n",
    "\n",
    "What is the final password now?"
   ]
  },
  {
   "cell_type": "code",
   "execution_count": 11,
   "id": "342bf9c2",
   "metadata": {},
   "outputs": [],
   "source": [
    "# For now it only works on the following pattern:\n",
    "#                 11112222\n",
    "#                 11112222\n",
    "#                 11112222\n",
    "#                 11112222\n",
    "#                 3333\n",
    "#                 3333\n",
    "#                 3333\n",
    "#                 3333 \n",
    "#             44445555\n",
    "#             44445555\n",
    "#             44445555\n",
    "#             44445555\n",
    "#             6666\n",
    "#             6666\n",
    "#             6666\n",
    "#             6666\n",
    "# The following function has not been organized yet\n",
    "def _getWrappedIndex2(pos_to, dir_cur):\n",
    "    global data_map_arr, width\n",
    "    dir_to = dir_cur\n",
    "    #print(pos_to)\n",
    "    if dir_cur in [0,2]: # right left\n",
    "        if pos_to[0]//width == 0: \n",
    "            pos_to[0] = (width-1-(pos_to[0]%width) + (pos_to[0]//width+2)*width) # row id\n",
    "            dir_to = 2 if dir_cur==0 else 0\n",
    "        elif pos_to[0]//width == 1: \n",
    "            if dir_cur==2: # left\n",
    "                pos_to[1] = (pos_to[0]%width + ((pos_to[1]+1)//width-1)*width) # col id\n",
    "                dir_to = 1 # down\n",
    "            else: # right\n",
    "                pos_to[1] = (pos_to[0]%width + ((pos_to[1]-1)//width+1)*width) # col id\n",
    "                dir_to = 3 # up\n",
    "        elif pos_to[0]//width == 2: \n",
    "            pos_to[0] = (width-1-(pos_to[0]%width) + (pos_to[0]//width-2)*width) # row id\n",
    "            dir_to = 0 if dir_cur==2 else 2\n",
    "        elif pos_to[0]//width == 3: \n",
    "            if dir_cur==2: # left\n",
    "                pos_to[1] = (pos_to[0]%width + ((pos_to[1]+1)//width+1)*width) # col id\n",
    "                dir_to = 1 # down\n",
    "            else: # right\n",
    "                pos_to[1] = (pos_to[0]%width + ((pos_to[1]-1)//width+1)*width) # col id\n",
    "                dir_to = 3 # up\n",
    "    elif dir_cur in [1,3]:\n",
    "        if pos_to[1]//width==0: \n",
    "            if dir_cur==3: # up\n",
    "                pos_to[0] = (pos_to[1]%width + ((pos_to[0]+1)//width-1)*width) # row id\n",
    "                dir_to = 0\n",
    "            else:\n",
    "                pos_to[1] = (pos_to[1]%width + (pos_to[1]//width+2)*width) # col id\n",
    "                dir_to = 1\n",
    "        elif pos_to[1]//width==1: \n",
    "            if dir_cur==3: # up\n",
    "                pos_to[0] = (pos_to[1]%width + ((pos_to[0]+1)//width+3)*width) # row id\n",
    "                dir_to = 0\n",
    "            else:\n",
    "                pos_to[0] = (pos_to[1]%width + ((pos_to[0]-1)//width+1)*width) # row id\n",
    "                dir_to = 2\n",
    "        elif pos_to[1]//width==2: \n",
    "            if dir_cur==3: # up\n",
    "                pos_to[1] = (pos_to[1]%width + (pos_to[1]//width-2)*width) # col id\n",
    "            else:\n",
    "                pos_to[0] = (pos_to[1]%width + ((pos_to[0]-1)//width+1)*width) # row id\n",
    "                dir_to = 2\n",
    "    #print(pos_to)\n",
    "    return  _getWrappedIndex1(pos_to, dir_to)"
   ]
  },
  {
   "cell_type": "code",
   "execution_count": 12,
   "id": "7167d7d1",
   "metadata": {},
   "outputs": [],
   "source": [
    "data_map_arr, path_steps, path_directions = readFile('data/input22.txt')\n",
    "pos_start, dir_start = getStartPos(), 0 # 0 right, 1 down, 2 left, 3 up\n",
    "width = 50\n",
    "pos_cur, dir_cur = walkPath(pos_start, dir_start, _getWrappedIndex2)"
   ]
  },
  {
   "cell_type": "code",
   "execution_count": 13,
   "id": "965308d9",
   "metadata": {},
   "outputs": [
    {
     "data": {
      "text/plain": [
       "162096"
      ]
     },
     "execution_count": 13,
     "metadata": {},
     "output_type": "execute_result"
    }
   ],
   "source": [
    "getPwd(pos_cur, dir_cur)"
   ]
  },
  {
   "cell_type": "code",
   "execution_count": null,
   "id": "b6c2f021",
   "metadata": {},
   "outputs": [],
   "source": []
  }
 ],
 "metadata": {
  "kernelspec": {
   "display_name": "Python 3 (ipykernel)",
   "language": "python",
   "name": "python3"
  },
  "language_info": {
   "codemirror_mode": {
    "name": "ipython",
    "version": 3
   },
   "file_extension": ".py",
   "mimetype": "text/x-python",
   "name": "python",
   "nbconvert_exporter": "python",
   "pygments_lexer": "ipython3",
   "version": "3.7.11"
  }
 },
 "nbformat": 4,
 "nbformat_minor": 5
}
