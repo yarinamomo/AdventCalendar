{
 "cells": [
  {
   "cell_type": "markdown",
   "id": "22f06383",
   "metadata": {},
   "source": [
    "### Jul AdventKalender D6\n",
    "\n",
    "https://adventofcode.com/2022/day/6"
   ]
  },
  {
   "cell_type": "code",
   "execution_count": 1,
   "id": "c62cf960",
   "metadata": {},
   "outputs": [],
   "source": [
    "import numpy as np"
   ]
  },
  {
   "cell_type": "markdown",
   "id": "8e30a121",
   "metadata": {},
   "source": [
    "#### Day 6.1  \n",
    "\n",
    "Given a string (datastream buffer), find the first occurance when four sequential characters are all different (packet marker) and output the position of the last character in the string."
   ]
  },
  {
   "cell_type": "code",
   "execution_count": 2,
   "id": "1cc2bb7d",
   "metadata": {},
   "outputs": [],
   "source": [
    "def readBuffers(file_name):\n",
    "    lines_buffer = []\n",
    "    f = open(file_name, \"r\")\n",
    "    while True:\n",
    "        line = f.readline()\n",
    "        if not line:\n",
    "            break\n",
    "        lines_buffer.append(line.strip())\n",
    "    f.close()\n",
    "    return lines_buffer"
   ]
  },
  {
   "cell_type": "code",
   "execution_count": 3,
   "id": "b8002f3b",
   "metadata": {},
   "outputs": [],
   "source": [
    "def findFirstMarker(buffer, markerL):\n",
    "    for i in range(len(buffer)):\n",
    "        if (i+markerL) > len(buffer):\n",
    "            break\n",
    "        marker_tmp = buffer[i:(i+markerL)]\n",
    "        if len(np.unique(list(marker_tmp)))==markerL:\n",
    "            return marker_tmp, i+markerL\n",
    "    print('No marker found')\n",
    "    return None, -1"
   ]
  },
  {
   "cell_type": "code",
   "execution_count": 5,
   "id": "ac49b4ac",
   "metadata": {
    "scrolled": true
   },
   "outputs": [],
   "source": [
    "lines_buffer = readBuffers(\"data/input6.txt\")"
   ]
  },
  {
   "cell_type": "code",
   "execution_count": 6,
   "id": "390986b0",
   "metadata": {},
   "outputs": [
    {
     "name": "stdout",
     "output_type": "stream",
     "text": [
      "Found marker: bdgj at position 1655\n"
     ]
    }
   ],
   "source": [
    "for buffer in lines_buffer:\n",
    "    marker, index = findFirstMarker(buffer, 4)\n",
    "    print('Found marker:', marker, 'at position', index)"
   ]
  },
  {
   "cell_type": "markdown",
   "id": "3ba1e959",
   "metadata": {},
   "source": [
    "#### Day 6.2\n",
    "\n",
    "Find a different kind of marker which consist of 14 different characters (message marker) instead of 4, and outout the position of the last character of the first encountered marker."
   ]
  },
  {
   "cell_type": "code",
   "execution_count": 7,
   "id": "b3639722",
   "metadata": {},
   "outputs": [
    {
     "name": "stdout",
     "output_type": "stream",
     "text": [
      "Found marker: mwbltcqfngdprv at position 2665\n"
     ]
    }
   ],
   "source": [
    "for buffer in lines_buffer:\n",
    "    marker, index = findFirstMarker(buffer, 14)\n",
    "    print('Found marker:', marker, 'at position', index)"
   ]
  },
  {
   "cell_type": "code",
   "execution_count": null,
   "id": "17f668c4",
   "metadata": {},
   "outputs": [],
   "source": []
  }
 ],
 "metadata": {
  "kernelspec": {
   "display_name": "Python 3 (ipykernel)",
   "language": "python",
   "name": "python3"
  },
  "language_info": {
   "codemirror_mode": {
    "name": "ipython",
    "version": 3
   },
   "file_extension": ".py",
   "mimetype": "text/x-python",
   "name": "python",
   "nbconvert_exporter": "python",
   "pygments_lexer": "ipython3",
   "version": "3.7.11"
  }
 },
 "nbformat": 4,
 "nbformat_minor": 5
}
