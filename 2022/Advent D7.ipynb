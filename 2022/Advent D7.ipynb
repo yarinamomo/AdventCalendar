{
 "cells": [
  {
   "cell_type": "markdown",
   "id": "22f06383",
   "metadata": {},
   "source": [
    "### Jul AdventKalender D7\n",
    "\n",
    "https://adventofcode.com/2022/day/7"
   ]
  },
  {
   "cell_type": "code",
   "execution_count": 1,
   "id": "c62cf960",
   "metadata": {},
   "outputs": [],
   "source": [
    "import numpy as np"
   ]
  },
  {
   "cell_type": "markdown",
   "id": "8e30a121",
   "metadata": {},
   "source": [
    "#### Day 7.1  \n",
    "\n",
    "Given a filesystem commands and outputs:\n",
    "\n",
    "Within the terminal output, lines that begin with **$** are commands you executed, very much like some modern computers:\n",
    "\n",
    "* **cd x** moves in one level: it looks in the current directory for the directory named x and makes it the current directory.\n",
    "* **cd ..** moves out one level: it finds the directory that contains the current directory, then makes that directory the current directory.\n",
    "* **cd /** switches the current directory to the outermost directory, **/**.\n",
    "* **ls** means list. It prints out all of the files and directories immediately contained by the current directory:\n",
    "    * **123 abc** means that the current directory contains a file named **abc** with size **123**.\n",
    "    * **dir xyz** means that the current directory contains a directory named **xyz**.\n",
    "\n",
    "Find all of the **directories** with a total size of at most **100000**, then calculate the sum of their total sizes."
   ]
  },
  {
   "cell_type": "code",
   "execution_count": 2,
   "id": "1cc2bb7d",
   "metadata": {},
   "outputs": [],
   "source": [
    "def readTerminal(file_name):\n",
    "    lines_terminal = []\n",
    "    f = open(file_name, \"r\")\n",
    "    while True:\n",
    "        line = f.readline()\n",
    "        if not line:\n",
    "            break\n",
    "        lines_terminal.append(line.strip())\n",
    "    f.close()\n",
    "    return lines_terminal"
   ]
  },
  {
   "cell_type": "code",
   "execution_count": 3,
   "id": "ac49b4ac",
   "metadata": {
    "scrolled": true
   },
   "outputs": [],
   "source": [
    "lines_terminal = readTerminal(\"data/input7.txt\")"
   ]
  },
  {
   "cell_type": "code",
   "execution_count": 4,
   "id": "b8002f3b",
   "metadata": {},
   "outputs": [],
   "source": [
    "data_filesystem = {}\n",
    "path_cur = '/' #current path, root, default\n",
    "\n",
    "def _addFileSystem(files):\n",
    "    global path_cur, data_filesystem\n",
    "    words = str.split(files)\n",
    "    if words[0] == 'dir':\n",
    "        pass\n",
    "    else:\n",
    "        data_filesystem[path_cur+'_'+words[1]] = int(words[0])\n",
    "def _dirOutOne(): #update par dir\n",
    "    global path_cur\n",
    "    if path_cur == '/':\n",
    "        return\n",
    "    items_tmp = str.split(path_cur,'_')\n",
    "    path_cur = '_'.join(items_tmp[:-1])\n",
    "def _dirInOne(dir_name): #update par dir\n",
    "    global path_cur\n",
    "    items_tmp = str.split(path_cur,'_')\n",
    "    items_tmp.append(dir_name)\n",
    "    path_cur = '_'.join(items_tmp)\n",
    "def buildFileSystem(terminal_line):\n",
    "    global dir_cur, dir_par, data_filesystem\n",
    "    if terminal_line.startswith('$'): #command\n",
    "        command = terminal_line[2:]\n",
    "        if command.startswith('cd'):\n",
    "            dir_com = command[3:]\n",
    "            if dir_com == '..':\n",
    "                _dirOutOne()\n",
    "            elif dir_com == '/':\n",
    "                path_cur == dir_com\n",
    "            else:\n",
    "                _dirInOne(dir_com)\n",
    "        elif command.startswith('ls'):\n",
    "            pass\n",
    "    else: #ls, list files\n",
    "        _addFileSystem(terminal_line)"
   ]
  },
  {
   "cell_type": "code",
   "execution_count": 5,
   "id": "390986b0",
   "metadata": {},
   "outputs": [],
   "source": [
    "for line in lines_terminal:\n",
    "    buildFileSystem(line)"
   ]
  },
  {
   "cell_type": "code",
   "execution_count": 6,
   "id": "8afe0980",
   "metadata": {},
   "outputs": [
    {
     "data": {
      "text/plain": [
       "{'/_gqlg_cfrdsjf': 187654,\n",
       " '/_gqlg_ntvmgbw': 100589,\n",
       " '/_gqlg_zcmfcjhf.tzw': 46922,\n",
       " '/_hchrwstr_cljjlcp.pjh': 227766,\n",
       " '/_hchrwstr_rdbrcf.pjl': 102770,\n",
       " '/_hchrwstr_rfnjn.lqn': 9887,\n",
       " '/_hchrwstr_rzsrp_rzsrp_dvzvmsjz_hvgbhm.zsc': 149823,\n",
       " '/_hchrwstr_rzsrp_rzsrp_tnflwcsn': 208001,\n",
       " '/_hchrwstr_rzsrp_rzsrp_zfn_gqlg.tzc': 292424,\n",
       " '/_hchrwstr_shlhgj_fzpzwjdt.jvl': 61753}"
      ]
     },
     "execution_count": 6,
     "metadata": {},
     "output_type": "execute_result"
    }
   ],
   "source": [
    "# to show what data_filesystem is like\n",
    "{k: data_filesystem[k] for k in sorted(data_filesystem.keys())[:10]}"
   ]
  },
  {
   "cell_type": "code",
   "execution_count": 7,
   "id": "69b61c77",
   "metadata": {},
   "outputs": [],
   "source": [
    "def findDirs():\n",
    "    sizes = {}\n",
    "    for i,item in data_filesystem.items():\n",
    "        dirs = str.split(i,'_')\n",
    "        for i in range(1, len(dirs), 1):\n",
    "            key = '_'.join(dirs[:i])\n",
    "            if key in sizes:\n",
    "                sizes[key].append(item)\n",
    "            else:\n",
    "                sizes[key] = [item]\n",
    "    return sizes\n",
    "            \n",
    "sizes = findDirs()"
   ]
  },
  {
   "cell_type": "code",
   "execution_count": 8,
   "id": "9f5f1179",
   "metadata": {},
   "outputs": [
    {
     "data": {
      "text/plain": [
       "173"
      ]
     },
     "execution_count": 8,
     "metadata": {},
     "output_type": "execute_result"
    }
   ],
   "source": [
    "len(sizes)"
   ]
  },
  {
   "cell_type": "code",
   "execution_count": 9,
   "id": "c1cbadd3",
   "metadata": {},
   "outputs": [
    {
     "data": {
      "text/plain": [
       "1749646"
      ]
     },
     "execution_count": 9,
     "metadata": {},
     "output_type": "execute_result"
    }
   ],
   "source": [
    "sum([sum(vv) if sum(vv)<=100000 else 0 for kk, vv in sizes.items()])"
   ]
  },
  {
   "cell_type": "markdown",
   "id": "3ba1e959",
   "metadata": {},
   "source": [
    "#### Day 7.2\n",
    "\n",
    "The total disk space available to the filesystem is 70000000. To run the update, you need unused space of at least 30000000. You need to find a **smallest possible** directory you can delete that will free up enough space to run the update."
   ]
  },
  {
   "cell_type": "code",
   "execution_count": 10,
   "id": "17f668c4",
   "metadata": {},
   "outputs": [
    {
     "data": {
      "text/plain": [
       "1498966"
      ]
     },
     "execution_count": 10,
     "metadata": {},
     "output_type": "execute_result"
    }
   ],
   "source": [
    "# free space = total space - occupied space\n",
    "# need space = required space - free space\n",
    "size_need = 30000000 - (70000000 - sum(sizes['/']))\n",
    "min([sum(vv) if sum(vv) > size_need else np.inf for kk, vv in sizes.items()])"
   ]
  },
  {
   "cell_type": "code",
   "execution_count": null,
   "id": "978a7c48",
   "metadata": {},
   "outputs": [],
   "source": []
  }
 ],
 "metadata": {
  "kernelspec": {
   "display_name": "Python 3 (ipykernel)",
   "language": "python",
   "name": "python3"
  },
  "language_info": {
   "codemirror_mode": {
    "name": "ipython",
    "version": 3
   },
   "file_extension": ".py",
   "mimetype": "text/x-python",
   "name": "python",
   "nbconvert_exporter": "python",
   "pygments_lexer": "ipython3",
   "version": "3.7.11"
  }
 },
 "nbformat": 4,
 "nbformat_minor": 5
}
