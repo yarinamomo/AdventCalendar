{
 "cells": [
  {
   "cell_type": "markdown",
   "id": "22f06383",
   "metadata": {},
   "source": [
    "### Jul AdventKalender D1\n",
    "\n",
    "https://adventofcode.com/2022/day/1"
   ]
  },
  {
   "cell_type": "code",
   "execution_count": 1,
   "id": "42bd404b",
   "metadata": {},
   "outputs": [],
   "source": [
    "import pandas as pd\n",
    "import numpy as np"
   ]
  },
  {
   "cell_type": "markdown",
   "id": "f1695325",
   "metadata": {},
   "source": [
    "#### Day 1.1 \n",
    "\n",
    "Read a txt file and group rows by a separater of an empty line, then output the sum of the group which gives the greatest total value"
   ]
  },
  {
   "cell_type": "code",
   "execution_count": 2,
   "id": "455999ad",
   "metadata": {},
   "outputs": [],
   "source": [
    "data_tmp = pd.read_table('data/input1.txt', sep=\"\\n\", header=None, skip_blank_lines=False)\n",
    "data_tmp = data_tmp.to_numpy().flatten()"
   ]
  },
  {
   "cell_type": "code",
   "execution_count": 3,
   "id": "1f9ab90c",
   "metadata": {},
   "outputs": [
    {
     "name": "stdout",
     "output_type": "stream",
     "text": [
      "75622.0\n"
     ]
    }
   ],
   "source": [
    "data_list = np.split(data_tmp, np.where(np.isnan(data_tmp))[0])\n",
    "data_total = [np.nansum(item) for item in data_list]\n",
    "print(max(data_total))\n",
    "#print(np.argmax(data_total))"
   ]
  },
  {
   "cell_type": "markdown",
   "id": "f74d1f86",
   "metadata": {},
   "source": [
    "#### Day 1.2\n",
    "Output the sum of the top three groups"
   ]
  },
  {
   "cell_type": "code",
   "execution_count": 4,
   "id": "50b52ed9",
   "metadata": {},
   "outputs": [
    {
     "data": {
      "text/plain": [
       "213159.0"
      ]
     },
     "execution_count": 4,
     "metadata": {},
     "output_type": "execute_result"
    }
   ],
   "source": [
    "sum(np.sort(data_total)[::-1][:3])"
   ]
  },
  {
   "cell_type": "code",
   "execution_count": null,
   "id": "94c856ed",
   "metadata": {},
   "outputs": [],
   "source": []
  }
 ],
 "metadata": {
  "kernelspec": {
   "display_name": "Python 3 (ipykernel)",
   "language": "python",
   "name": "python3"
  },
  "language_info": {
   "codemirror_mode": {
    "name": "ipython",
    "version": 3
   },
   "file_extension": ".py",
   "mimetype": "text/x-python",
   "name": "python",
   "nbconvert_exporter": "python",
   "pygments_lexer": "ipython3",
   "version": "3.9.7"
  }
 },
 "nbformat": 4,
 "nbformat_minor": 5
}
