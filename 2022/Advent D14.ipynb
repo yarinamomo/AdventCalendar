{
 "cells": [
  {
   "cell_type": "markdown",
   "id": "22f06383",
   "metadata": {},
   "source": [
    "### Jul AdventKalender D14\n",
    "\n",
    "https://adventofcode.com/2022/day/14"
   ]
  },
  {
   "cell_type": "code",
   "execution_count": 1,
   "id": "9f43b9e6",
   "metadata": {},
   "outputs": [],
   "source": [
    "import numpy as np"
   ]
  },
  {
   "cell_type": "markdown",
   "id": "8e30a121",
   "metadata": {},
   "source": [
    "#### Day 14.1 \n",
    "\n",
    "Scan traces the path of each solid rock (x represents distance to the right and y represents distance down). For example:\n",
    "\n",
    "    498,4 -> 498,6 -> 496,6\n",
    "    503,4 -> 502,4 -> 502,9 -> 494,9\n",
    "    \n",
    "This becomes (image the sand/+ pour down from **500,0**):\n",
    "\n",
    "      4     5  5\n",
    "      9     0  0\n",
    "      4     0  3\n",
    "    0 ......+...\n",
    "    1 ..........\n",
    "    2 ..........\n",
    "    3 ..........\n",
    "    4 ....#...##\n",
    "    5 ....#...#.\n",
    "    6 ..###...#.\n",
    "    7 ........#.\n",
    "    8 ........#.\n",
    "    9 #########.\n",
    "\n",
    "Then simulate the sand falling. Sand is produced **one unit at a time**, and the next unit of sand is not produced until the previous unit of sand **comes to rest**. Sand unit goes **down > down-left > down-right** and comes to rest when none of the three positions are available. Sand **stops generate** when no more sand can possibly come to rest (goes into the endless void at the bottom). The above example will eventually look like as below, with 24 units of sand being poured down:\n",
    "\n",
    "    ......+...\n",
    "    ..........\n",
    "    ......o...\n",
    "    .....ooo..\n",
    "    ....#ooo##\n",
    "    ...o#ooo#.\n",
    "    ..###ooo#.\n",
    "    ....oooo#.\n",
    "    .o.ooooo#.\n",
    "    #########.\n",
    "\n",
    "How many units of sand come to rest before sand starts flowing into the abyss below?"
   ]
  },
  {
   "cell_type": "code",
   "execution_count": 2,
   "id": "ac49b4ac",
   "metadata": {
    "scrolled": true
   },
   "outputs": [],
   "source": [
    "def readMap(file_name):\n",
    "    data_rocks = []\n",
    "    f = open(file_name, \"r\")\n",
    "    while True:\n",
    "        line = f.readline()\n",
    "        if not line:\n",
    "            break\n",
    "        rock_steps = [[int(pos.strip().split(',')[0]),int(pos.strip().split(',')[1])] for pos in line.strip().split('->')]\n",
    "        data_rocks.append(rock_steps)\n",
    "    f.close()\n",
    "    return data_rocks"
   ]
  },
  {
   "cell_type": "code",
   "execution_count": 3,
   "id": "1f575af9",
   "metadata": {},
   "outputs": [],
   "source": [
    "# get map size\n",
    "def getMapSize(data_rocks):\n",
    "    left_right_down = [500,500,0]\n",
    "    for path in data_rocks:\n",
    "        for pos in path:\n",
    "            left_right_down[0] = pos[0] if pos[0] < left_right_down[0] else left_right_down[0]\n",
    "            left_right_down[1] = pos[0] if pos[0] > left_right_down[1] else left_right_down[1]\n",
    "            left_right_down[2] = pos[1] if pos[1] > left_right_down[2] else left_right_down[2]\n",
    "    return left_right_down"
   ]
  },
  {
   "cell_type": "code",
   "execution_count": 4,
   "id": "c9ba2037",
   "metadata": {},
   "outputs": [],
   "source": [
    "# generate map\n",
    "def generateMap(width, height):\n",
    "    return np.full((height, width), '.')\n",
    "\n",
    "def drawMap(map_sim):\n",
    "    print('\\n'.join([''.join(row) for row in map_sim]))\n",
    "    print('\\n')"
   ]
  },
  {
   "cell_type": "code",
   "execution_count": 5,
   "id": "5bd6b4d5",
   "metadata": {},
   "outputs": [],
   "source": [
    "def _genList(start, end, ref = 0):\n",
    "    res = range(start-ref,end-ref+1,1) if start <= end else range(end-ref, start-ref+1, 1)\n",
    "    return list(res)\n",
    "\n",
    "def markRocks(rock_path, map_sim, left_s):\n",
    "    for i in range(1,len(rock_path),1):\n",
    "        pos_cur = rock_path[i]\n",
    "        pos_pre = rock_path[i-1]\n",
    "        map_sim[_genList(pos_pre[1], pos_cur[1]), _genList(pos_pre[0], pos_cur[0], left_s)] = '#'"
   ]
  },
  {
   "cell_type": "code",
   "execution_count": 6,
   "id": "50f98983",
   "metadata": {},
   "outputs": [],
   "source": [
    "def pourSand(pos_s, map_sim):\n",
    "    pos_sand = np.array(pos_s)\n",
    "    while pos_sand[0]+1 < map_sim.shape[0]:\n",
    "        if map_sim[pos_sand[0]+1,pos_sand[1]] == '.':\n",
    "            pos_sand[0] += 1\n",
    "        elif map_sim[pos_sand[0]+1,pos_sand[1]-1] == '.':\n",
    "            pos_sand = pos_sand + np.array([1,-1])\n",
    "        elif map_sim[pos_sand[0]+1,pos_sand[1]+1] == '.':\n",
    "            pos_sand += 1\n",
    "        else:\n",
    "            map_sim[pos_sand[0],pos_sand[1]] = 'o'\n",
    "            return True, pos_sand\n",
    "    return False, None"
   ]
  },
  {
   "cell_type": "code",
   "execution_count": 7,
   "id": "b16751d3",
   "metadata": {},
   "outputs": [
    {
     "name": "stdout",
     "output_type": "stream",
     "text": [
      "Number of poured sand: 1298\n"
     ]
    }
   ],
   "source": [
    "data_rocks = readMap(\"data/input14.txt\")\n",
    "\n",
    "# generate map\n",
    "left_right_down = getMapSize(data_rocks)\n",
    "map_sim = generateMap(left_right_down[1]-left_right_down[0]+1, left_right_down[2]+1)\n",
    "#drawMap(map_sim)\n",
    "\n",
    "# scan rocks\n",
    "for path in data_rocks:\n",
    "    markRocks(path, map_sim, left_right_down[0])\n",
    "#drawMap(map_sim)\n",
    "\n",
    "# simulate sand\n",
    "n_sand = 0\n",
    "pos_sand_start = [0,500]\n",
    "pos_sand_start[1] -= left_right_down[0]\n",
    "while True:\n",
    "    if_poured,_ = pourSand(pos_sand_start, map_sim)\n",
    "    if not if_poured: break\n",
    "    n_sand += 1\n",
    "#drawMap(map_sim)\n",
    "print('Number of poured sand:', n_sand)"
   ]
  },
  {
   "cell_type": "markdown",
   "id": "3ba1e959",
   "metadata": {},
   "source": [
    "#### Day 14.2\n",
    "\n",
    "Now there isn't an endless void at the bottom of the scan - there's floor with an **infinite horizontal line** and a y coordinate equal to **two plus the highest y** in your scan. In the example above, the highest y coordinate of any point is 9, and so the floor is at y=11. \n",
    "\n",
    "Now the sand stops generate until a sand comes to rest at the position where the sand generate (500,0). The example above looks like the following now with a total of 93 units come to rest:\n",
    "\n",
    "    ............o............\n",
    "    ...........ooo...........\n",
    "    ..........ooooo..........\n",
    "    .........ooooooo.........\n",
    "    ........oo#ooo##o........\n",
    "    .......ooo#ooo#ooo.......\n",
    "    ......oo###ooo#oooo......\n",
    "    .....oooo.oooo#ooooo.....\n",
    "    ....oooooooooo#oooooo....\n",
    "    ...ooo#########ooooooo...\n",
    "    ..ooooo.......ooooooooo..\n",
    "    #########################\n",
    "   \n",
    "How many units of sand come to rest now?"
   ]
  },
  {
   "cell_type": "code",
   "execution_count": 8,
   "id": "ed70e141",
   "metadata": {},
   "outputs": [
    {
     "name": "stdout",
     "output_type": "stream",
     "text": [
      "Number of poured sand: 25585\n"
     ]
    }
   ],
   "source": [
    "data_rocks = readMap(\"data/input14.txt\")\n",
    "\n",
    "# add floor as rocks\n",
    "left_right_down = getMapSize(data_rocks)\n",
    "floor_append_length = 150 # should be large enough\n",
    "floor = [[left_right_down[0]-floor_append_length, left_right_down[2]+2],[left_right_down[1]+floor_append_length, left_right_down[2]+2]]\n",
    "data_rocks.append(floor)\n",
    "\n",
    "# generate map\n",
    "left_right_down = getMapSize(data_rocks)\n",
    "map_sim = generateMap(left_right_down[1]-left_right_down[0]+1, left_right_down[2]+1)\n",
    "#drawMap(map_sim)\n",
    "\n",
    "# scan rocks\n",
    "for path in data_rocks:\n",
    "    markRocks(path, map_sim, left_right_down[0])\n",
    "#drawMap(map_sim)\n",
    "\n",
    "# simulate sand\n",
    "n_sand = 0\n",
    "pos_sand_start = [0,500]\n",
    "pos_sand_start[1] -= left_right_down[0]\n",
    "while True:\n",
    "    if_poured, pos_poured = pourSand(pos_sand_start, map_sim)\n",
    "    if not if_poured: break\n",
    "    n_sand += 1\n",
    "    if (pos_poured == np.array(pos_sand_start)).all(): break\n",
    "#drawMap(map_sim)\n",
    "print('Number of poured sand:', n_sand)"
   ]
  },
  {
   "cell_type": "code",
   "execution_count": null,
   "id": "d1259578",
   "metadata": {},
   "outputs": [],
   "source": []
  }
 ],
 "metadata": {
  "kernelspec": {
   "display_name": "Python 3 (ipykernel)",
   "language": "python",
   "name": "python3"
  },
  "language_info": {
   "codemirror_mode": {
    "name": "ipython",
    "version": 3
   },
   "file_extension": ".py",
   "mimetype": "text/x-python",
   "name": "python",
   "nbconvert_exporter": "python",
   "pygments_lexer": "ipython3",
   "version": "3.7.11"
  }
 },
 "nbformat": 4,
 "nbformat_minor": 5
}
