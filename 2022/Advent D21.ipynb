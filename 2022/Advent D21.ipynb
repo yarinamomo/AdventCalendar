{
 "cells": [
  {
   "cell_type": "markdown",
   "id": "22f06383",
   "metadata": {},
   "source": [
    "### Jul AdventKalender D21\n",
    "\n",
    "https://adventofcode.com/2022/day/21"
   ]
  },
  {
   "cell_type": "markdown",
   "id": "8e30a121",
   "metadata": {},
   "source": [
    "#### Day 21.1 \n",
    "\n",
    "Given a list of key-value pairs where key is the name of a monkey and value is either a number or an operation.For example:\n",
    "\n",
    "    root: pppw + sjmn\n",
    "    dbpl: 5\n",
    "    cczh: sllz + lgvd\n",
    "    zczc: 2\n",
    "    ptdq: humn - dvpt\n",
    "    dvpt: 3\n",
    "    lfqf: 4\n",
    "    humn: 5\n",
    "    ljgn: 2\n",
    "    sjmn: drzm * dbpl\n",
    "    sllz: 4\n",
    "    pppw: cczh / lfqf\n",
    "    lgvd: ljgn * ptdq\n",
    "    drzm: hmdt - zczc\n",
    "    hmdt: 32\n",
    "    \n",
    "Work out the result of the monkey named **root**."
   ]
  },
  {
   "cell_type": "code",
   "execution_count": 1,
   "id": "ac49b4ac",
   "metadata": {
    "scrolled": true
   },
   "outputs": [],
   "source": [
    "def readFile(file_name):\n",
    "    data_monkeys = {}\n",
    "    f = open(file_name, \"r\")\n",
    "    while True:\n",
    "        line = f.readline()\n",
    "        if not line:\n",
    "            break\n",
    "        pair = line.strip().split(': ')\n",
    "        name = pair[0]\n",
    "        value = int(pair[1]) if pair[1].isnumeric() else pair[1].split(' ')\n",
    "        data_monkeys[name]=value\n",
    "    f.close()\n",
    "    return data_monkeys"
   ]
  },
  {
   "cell_type": "code",
   "execution_count": 2,
   "id": "a568b98d",
   "metadata": {},
   "outputs": [],
   "source": [
    "import operator\n",
    "ops = { \"+\": operator.add, \"-\": operator.sub, \"*\": operator.mul , \"/\": operator.truediv }\n",
    "\n",
    "def _operation(num1, op, num2):\n",
    "    return ops[op](num1, num2)\n",
    "  \n",
    "def getNum(target, flip_func=None):\n",
    "    global data_monkeys\n",
    "    if target in data_monkeys: # part 1\n",
    "        if isinstance(data_monkeys[target],int):\n",
    "            return data_monkeys[target]\n",
    "        target1, op, target2 = data_monkeys[target]\n",
    "        data_monkeys[target] = _operation(getNum(target1, flip_func), op, getNum(target2, flip_func))\n",
    "        return data_monkeys[target]\n",
    "    else: # + part 2\n",
    "        for name, value in data_monkeys.items():\n",
    "            if isinstance(value,list) and target in value:\n",
    "                key, value = flip_func(target, name, value)\n",
    "                data_monkeys[key] = value\n",
    "                del data_monkeys[name]\n",
    "                break\n",
    "        return getNum(target, flip_func)"
   ]
  },
  {
   "cell_type": "code",
   "execution_count": 3,
   "id": "a50a7825",
   "metadata": {},
   "outputs": [
    {
     "data": {
      "text/plain": [
       "21120928600114.0"
      ]
     },
     "execution_count": 3,
     "metadata": {},
     "output_type": "execute_result"
    }
   ],
   "source": [
    "data_monkeys = readFile('data/input21.txt')\n",
    "getNum('root')"
   ]
  },
  {
   "cell_type": "markdown",
   "id": "4d5fa3c5",
   "metadata": {},
   "source": [
    "#### Day 21.2\n",
    "\n",
    "A few changes:\n",
    "\n",
    "* The correct operation for **monkey root** should be **=**, which means that it still listens for two numbers (from the same two monkeys as before), but now checks that the two numbers **match**.\n",
    "\n",
    "* Find out the result of **humn** (the current value is not relevant now)"
   ]
  },
  {
   "cell_type": "code",
   "execution_count": 4,
   "id": "342bf9c2",
   "metadata": {},
   "outputs": [],
   "source": [
    "def _flipOps(key, name, value): # name = value(x1/key op x2/key)\n",
    "    global data_monkeys\n",
    "    x1, op, x2 = value\n",
    "    if op == '+': # name = key + x2, or name = x1 + key => key = name - x1/x2\n",
    "        res = [name, '-', x1] if key==x2 else [name, '-', x2]\n",
    "    elif op == '*':\n",
    "        res = [name, '/', x1] if key==x2 else [name, '/', x2]\n",
    "    elif op == '-': # name = key - x2, or name = x1 - key => key = name + x2 / x1 - name\n",
    "        res = [name, '+', x2] if key==x1 else [x1, '-', name]\n",
    "    elif op == '/':\n",
    "        res = [name, '*', x2] if key==x1 else [x1, '/', name]\n",
    "    elif op == '=': # name = key = x2, or name = key = x1 => None, x1/x2\n",
    "        res = data_monkeys[x2] if key==x1 else data_monkeys[x1]\n",
    "    return key, res"
   ]
  },
  {
   "cell_type": "code",
   "execution_count": 5,
   "id": "7167d7d1",
   "metadata": {},
   "outputs": [],
   "source": [
    "data_monkeys = readFile('data/input21.txt')\n",
    "data_monkeys['root'][1] = '='\n",
    "del data_monkeys['humn']"
   ]
  },
  {
   "cell_type": "code",
   "execution_count": 6,
   "id": "09903ae0",
   "metadata": {},
   "outputs": [
    {
     "data": {
      "text/plain": [
       "3453748220116.0"
      ]
     },
     "execution_count": 6,
     "metadata": {},
     "output_type": "execute_result"
    }
   ],
   "source": [
    "getNum(target='humn', flip_func=_flipOps)"
   ]
  },
  {
   "cell_type": "code",
   "execution_count": null,
   "id": "f18ed575",
   "metadata": {},
   "outputs": [],
   "source": []
  }
 ],
 "metadata": {
  "kernelspec": {
   "display_name": "Python 3 (ipykernel)",
   "language": "python",
   "name": "python3"
  },
  "language_info": {
   "codemirror_mode": {
    "name": "ipython",
    "version": 3
   },
   "file_extension": ".py",
   "mimetype": "text/x-python",
   "name": "python",
   "nbconvert_exporter": "python",
   "pygments_lexer": "ipython3",
   "version": "3.7.11"
  }
 },
 "nbformat": 4,
 "nbformat_minor": 5
}
