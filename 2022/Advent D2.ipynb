{
 "cells": [
  {
   "cell_type": "markdown",
   "id": "22f06383",
   "metadata": {},
   "source": [
    "### Jul AdventKalender D2\n",
    "\n",
    "https://adventofcode.com/2022/day/2"
   ]
  },
  {
   "cell_type": "code",
   "execution_count": 1,
   "id": "c62cf960",
   "metadata": {},
   "outputs": [],
   "source": [
    "import pandas as pd"
   ]
  },
  {
   "cell_type": "markdown",
   "id": "8e30a121",
   "metadata": {},
   "source": [
    "#### Day 2.1  \n",
    "\n",
    "Calculate scores for a game:\n",
    "* A for Rock, B for Paper, and C for Scissors\n",
    "* X for Rock, Y for Paper, and Z for Scissors\n",
    "\n",
    "The rule is: Rock defeats Scissors, Scissors defeats Paper, and Paper defeats Rock. If the same shape, the round instead ends in a draw.\n",
    "\n",
    "The score should be calculated as:\n",
    "* 1 for Rock, 2 for Paper, and 3 for Scissors\n",
    "* 0 if you lost, 3 if the round was a draw, and 6 if you won"
   ]
  },
  {
   "cell_type": "code",
   "execution_count": 2,
   "id": "72be7af9",
   "metadata": {},
   "outputs": [
    {
     "data": {
      "text/html": [
       "<div>\n",
       "<style scoped>\n",
       "    .dataframe tbody tr th:only-of-type {\n",
       "        vertical-align: middle;\n",
       "    }\n",
       "\n",
       "    .dataframe tbody tr th {\n",
       "        vertical-align: top;\n",
       "    }\n",
       "\n",
       "    .dataframe thead th {\n",
       "        text-align: right;\n",
       "    }\n",
       "</style>\n",
       "<table border=\"1\" class=\"dataframe\">\n",
       "  <thead>\n",
       "    <tr style=\"text-align: right;\">\n",
       "      <th></th>\n",
       "      <th>0</th>\n",
       "      <th>1</th>\n",
       "    </tr>\n",
       "  </thead>\n",
       "  <tbody>\n",
       "    <tr>\n",
       "      <th>0</th>\n",
       "      <td>B</td>\n",
       "      <td>Z</td>\n",
       "    </tr>\n",
       "    <tr>\n",
       "      <th>1</th>\n",
       "      <td>B</td>\n",
       "      <td>Z</td>\n",
       "    </tr>\n",
       "    <tr>\n",
       "      <th>2</th>\n",
       "      <td>C</td>\n",
       "      <td>Z</td>\n",
       "    </tr>\n",
       "    <tr>\n",
       "      <th>3</th>\n",
       "      <td>C</td>\n",
       "      <td>Z</td>\n",
       "    </tr>\n",
       "    <tr>\n",
       "      <th>4</th>\n",
       "      <td>B</td>\n",
       "      <td>X</td>\n",
       "    </tr>\n",
       "  </tbody>\n",
       "</table>\n",
       "</div>"
      ],
      "text/plain": [
       "   0  1\n",
       "0  B  Z\n",
       "1  B  Z\n",
       "2  C  Z\n",
       "3  C  Z\n",
       "4  B  X"
      ]
     },
     "execution_count": 2,
     "metadata": {},
     "output_type": "execute_result"
    }
   ],
   "source": [
    "data_strategy = pd.read_table('data/input2.txt', sep=\" \", header=None)\n",
    "data_strategy.head()"
   ]
  },
  {
   "cell_type": "code",
   "execution_count": 3,
   "id": "86f68e1f",
   "metadata": {},
   "outputs": [],
   "source": [
    "def transSymbol(shape): # unify symbol to A B C\n",
    "    if shape == 'X':\n",
    "        return 'A'\n",
    "    if shape == 'Y':\n",
    "        return 'B'\n",
    "    if shape == 'Z':\n",
    "        return 'C'\n",
    "    print('Wrong choice!')\n",
    "    return 'W'\n",
    "def outcomeScore(opponent, me):\n",
    "    if me == opponent:\n",
    "        return 3\n",
    "    if (me == 'A'and opponent == 'C') or (me == 'C'and opponent == 'B') or (me == 'B'and opponent == 'A'):\n",
    "        return 6\n",
    "    return 0\n",
    "def choiceScore(shape):\n",
    "    if shape == 'A':\n",
    "        return 1\n",
    "    if shape == 'B':\n",
    "        return 2\n",
    "    if shape == 'C':\n",
    "        return 3\n",
    "    print('Wrong choice!')\n",
    "    return 0"
   ]
  },
  {
   "cell_type": "code",
   "execution_count": 4,
   "id": "1fc97f3c",
   "metadata": {},
   "outputs": [
    {
     "data": {
      "text/plain": [
       "15523"
      ]
     },
     "execution_count": 4,
     "metadata": {},
     "output_type": "execute_result"
    }
   ],
   "source": [
    "total_score = 0\n",
    "for _,row in data_strategy.iterrows():\n",
    "    total_score += outcomeScore(row[0],transSymbol(row[1])) + choiceScore(transSymbol(row[1]))\n",
    "total_score"
   ]
  },
  {
   "cell_type": "markdown",
   "id": "3ba1e959",
   "metadata": {},
   "source": [
    "#### Day 2.2\n",
    "\n",
    "The second column means:\n",
    "* X means you need to lose\n",
    "* Y means you need to end the round in a draw\n",
    "* and Z means you need to win\n",
    "\n",
    "Decode the second column with the correct choices and calculate the total score again"
   ]
  },
  {
   "cell_type": "code",
   "execution_count": 5,
   "id": "66a4ab33",
   "metadata": {},
   "outputs": [],
   "source": [
    "def meChoice(opponent, outcome):\n",
    "    if outcome == 'Y':\n",
    "        return opponent\n",
    "    if opponent == 'A':\n",
    "        return 'B' if outcome == 'Z' else 'C'\n",
    "    if opponent == 'B':\n",
    "        return 'C' if outcome == 'Z' else 'A'\n",
    "    if opponent == 'C':\n",
    "        return 'A' if outcome == 'Z' else 'B'\n",
    "    print('Wrong strategy or opponent choice!')\n",
    "    return 'W'"
   ]
  },
  {
   "cell_type": "code",
   "execution_count": 6,
   "id": "45e3fe19",
   "metadata": {},
   "outputs": [
    {
     "data": {
      "text/html": [
       "<div>\n",
       "<style scoped>\n",
       "    .dataframe tbody tr th:only-of-type {\n",
       "        vertical-align: middle;\n",
       "    }\n",
       "\n",
       "    .dataframe tbody tr th {\n",
       "        vertical-align: top;\n",
       "    }\n",
       "\n",
       "    .dataframe thead th {\n",
       "        text-align: right;\n",
       "    }\n",
       "</style>\n",
       "<table border=\"1\" class=\"dataframe\">\n",
       "  <thead>\n",
       "    <tr style=\"text-align: right;\">\n",
       "      <th></th>\n",
       "      <th>0</th>\n",
       "      <th>1</th>\n",
       "      <th>2</th>\n",
       "    </tr>\n",
       "  </thead>\n",
       "  <tbody>\n",
       "    <tr>\n",
       "      <th>0</th>\n",
       "      <td>B</td>\n",
       "      <td>Z</td>\n",
       "      <td>C</td>\n",
       "    </tr>\n",
       "    <tr>\n",
       "      <th>1</th>\n",
       "      <td>B</td>\n",
       "      <td>Z</td>\n",
       "      <td>C</td>\n",
       "    </tr>\n",
       "    <tr>\n",
       "      <th>2</th>\n",
       "      <td>C</td>\n",
       "      <td>Z</td>\n",
       "      <td>A</td>\n",
       "    </tr>\n",
       "    <tr>\n",
       "      <th>3</th>\n",
       "      <td>C</td>\n",
       "      <td>Z</td>\n",
       "      <td>A</td>\n",
       "    </tr>\n",
       "    <tr>\n",
       "      <th>4</th>\n",
       "      <td>B</td>\n",
       "      <td>X</td>\n",
       "      <td>A</td>\n",
       "    </tr>\n",
       "  </tbody>\n",
       "</table>\n",
       "</div>"
      ],
      "text/plain": [
       "   0  1  2\n",
       "0  B  Z  C\n",
       "1  B  Z  C\n",
       "2  C  Z  A\n",
       "3  C  Z  A\n",
       "4  B  X  A"
      ]
     },
     "execution_count": 6,
     "metadata": {},
     "output_type": "execute_result"
    }
   ],
   "source": [
    "data_strategy[2] = [meChoice(row[0], row[1]) for _,row in data_strategy.iterrows()]\n",
    "data_strategy.head()"
   ]
  },
  {
   "cell_type": "code",
   "execution_count": 7,
   "id": "c9e009ad",
   "metadata": {},
   "outputs": [
    {
     "data": {
      "text/plain": [
       "15702"
      ]
     },
     "execution_count": 7,
     "metadata": {},
     "output_type": "execute_result"
    }
   ],
   "source": [
    "total_score = 0\n",
    "for _,row in data_strategy.iterrows():\n",
    "    total_score += outcomeScore(row[0],row[2]) + choiceScore(row[2])\n",
    "total_score"
   ]
  },
  {
   "cell_type": "code",
   "execution_count": null,
   "id": "b3639722",
   "metadata": {},
   "outputs": [],
   "source": []
  }
 ],
 "metadata": {
  "kernelspec": {
   "display_name": "Python 3 (ipykernel)",
   "language": "python",
   "name": "python3"
  },
  "language_info": {
   "codemirror_mode": {
    "name": "ipython",
    "version": 3
   },
   "file_extension": ".py",
   "mimetype": "text/x-python",
   "name": "python",
   "nbconvert_exporter": "python",
   "pygments_lexer": "ipython3",
   "version": "3.7.11"
  }
 },
 "nbformat": 4,
 "nbformat_minor": 5
}
