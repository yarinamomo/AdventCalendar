{
 "cells": [
  {
   "cell_type": "markdown",
   "id": "22f06383",
   "metadata": {},
   "source": [
    "### Jul AdventKalender D5\n",
    "\n",
    "https://adventofcode.com/2022/day/5"
   ]
  },
  {
   "cell_type": "markdown",
   "id": "8e30a121",
   "metadata": {},
   "source": [
    "#### Day 5.1  \n",
    "\n",
    "First part of the file represent crates on different stacks initially.\n",
    "\n",
    "The second part is the rearrangement procedure. The craftmover will move only one item per time (from the top of one stack to the top of another stack)\n",
    "\n",
    "After the rearrangement procedure completes, what crate ends up on top of each stack?"
   ]
  },
  {
   "cell_type": "code",
   "execution_count": 1,
   "id": "1cc2bb7d",
   "metadata": {},
   "outputs": [],
   "source": [
    "def readStacksArrangements(file_name):\n",
    "    lines_crates = []\n",
    "    lines_rearrangement = []\n",
    "    is_first = True\n",
    "    f = open(file_name, \"r\")\n",
    "    while True:\n",
    "        line = f.readline()\n",
    "        if not line:\n",
    "            break\n",
    "        if len(line) == 1: \n",
    "            is_first = False\n",
    "            continue\n",
    "        if is_first:\n",
    "            lines_crates.append(line)\n",
    "        else:\n",
    "            lines_rearrangement.append(line)\n",
    "    f.close()\n",
    "    lines_crates = lines_crates[::-1]\n",
    "    return lines_crates, lines_rearrangement"
   ]
  },
  {
   "cell_type": "code",
   "execution_count": 2,
   "id": "b8002f3b",
   "metadata": {},
   "outputs": [],
   "source": [
    "def consStackListsFromLines(lines_crates):\n",
    "    data_crates = {}  #list of stack lists\n",
    "    n_stack = len(lines_crates[0])//4\n",
    "    for i in range(len(lines_crates)): \n",
    "        indices = list(range(1, len(lines_crates[i]), 4)) #indices for valid stack items, i.e. 1 5 9\n",
    "        for j in range(len(indices)):\n",
    "            if i==0:\n",
    "                data_crates[int(lines_crates[i][indices[j]])]=[]\n",
    "            else:\n",
    "                if lines_crates[i][indices[j]] != ' ':\n",
    "                    data_crates[j+1].append(lines_crates[i][indices[j]])\n",
    "    return data_crates"
   ]
  },
  {
   "cell_type": "code",
   "execution_count": 3,
   "id": "0828ceee",
   "metadata": {},
   "outputs": [],
   "source": [
    "def rearrangeStacks(c_n, c_from, c_to):\n",
    "    for i in range(c_n):\n",
    "        data_crates[c_to].append(data_crates[c_from].pop())"
   ]
  },
  {
   "cell_type": "code",
   "execution_count": 4,
   "id": "90409f26",
   "metadata": {},
   "outputs": [],
   "source": [
    "def outTopCrates(data_crates):\n",
    "    tops = ''\n",
    "    for i,item in data_crates.items():\n",
    "        tops += item.pop()\n",
    "    return tops"
   ]
  },
  {
   "cell_type": "code",
   "execution_count": 5,
   "id": "ac49b4ac",
   "metadata": {},
   "outputs": [
    {
     "data": {
      "text/plain": [
       "[' 1   2   3   4   5   6   7   8   9 \\n',\n",
       " '[B] [V] [B] [T] [W] [V] [Z] [Z] [M]\\n',\n",
       " '[Z] [H] [F] [J] [D] [Z] [S] [H] [Q]\\n',\n",
       " '[T] [T] [M] [G] [G] [Q] [N] [W] [L]\\n',\n",
       " '    [D] [D] [W] [P] [G] [R] [D] [F]\\n',\n",
       " '    [N]     [V] [V] [H] [L] [J] [D]\\n',\n",
       " '            [Q] [F] [F] [T] [N] [S]\\n',\n",
       " '            [L] [Q] [S] [C] [R]    \\n',\n",
       " '                [M]     [W] [M]    \\n']"
      ]
     },
     "execution_count": 5,
     "metadata": {},
     "output_type": "execute_result"
    }
   ],
   "source": [
    "lines_crates, lines_rearrangement = readStacksArrangements(\"data/input5.txt\")\n",
    "lines_crates"
   ]
  },
  {
   "cell_type": "code",
   "execution_count": 6,
   "id": "390986b0",
   "metadata": {},
   "outputs": [
    {
     "data": {
      "text/plain": [
       "{1: ['B', 'Z', 'T'],\n",
       " 2: ['V', 'H', 'T', 'D', 'N'],\n",
       " 3: ['B', 'F', 'M', 'D'],\n",
       " 4: ['T', 'J', 'G', 'W', 'V', 'Q', 'L'],\n",
       " 5: ['W', 'D', 'G', 'P', 'V', 'F', 'Q', 'M'],\n",
       " 6: ['V', 'Z', 'Q', 'G', 'H', 'F', 'S'],\n",
       " 7: ['Z', 'S', 'N', 'R', 'L', 'T', 'C', 'W'],\n",
       " 8: ['Z', 'H', 'W', 'D', 'J', 'N', 'R', 'M'],\n",
       " 9: ['M', 'Q', 'L', 'F', 'D', 'S']}"
      ]
     },
     "execution_count": 6,
     "metadata": {},
     "output_type": "execute_result"
    }
   ],
   "source": [
    "data_crates = consStackListsFromLines(lines_crates)\n",
    "data_crates"
   ]
  },
  {
   "cell_type": "code",
   "execution_count": 7,
   "id": "d8f66ddf",
   "metadata": {},
   "outputs": [],
   "source": [
    "for arrange in lines_rearrangement: # 1: n, 3: from, 5: to\n",
    "    arr = str.split(arrange.strip())\n",
    "    rearrangeStacks(int(arr[1]), int(arr[3]), int(arr[5]))"
   ]
  },
  {
   "cell_type": "code",
   "execution_count": 8,
   "id": "e00f8c7b",
   "metadata": {},
   "outputs": [
    {
     "data": {
      "text/plain": [
       "'NTWZZWHFV'"
      ]
     },
     "execution_count": 8,
     "metadata": {},
     "output_type": "execute_result"
    }
   ],
   "source": [
    "outTopCrates(data_crates)"
   ]
  },
  {
   "cell_type": "markdown",
   "id": "3ba1e959",
   "metadata": {},
   "source": [
    "#### Day 5.2\n",
    "\n",
    "The craftmover now can move multiple items per time (all the items being moved at the same time will retain the current order)"
   ]
  },
  {
   "cell_type": "code",
   "execution_count": 9,
   "id": "55cb9753",
   "metadata": {},
   "outputs": [],
   "source": [
    "def rearrangeStacks2(c_n, c_from, c_to):\n",
    "    data_crates2[c_to].extend(list(data_crates2[c_from])[-c_n:])\n",
    "    del data_crates2[c_from][len(data_crates2[c_from]) - c_n:]"
   ]
  },
  {
   "cell_type": "code",
   "execution_count": 10,
   "id": "11b8ddd0",
   "metadata": {},
   "outputs": [
    {
     "data": {
      "text/plain": [
       "{1: ['B', 'Z', 'T'],\n",
       " 2: ['V', 'H', 'T', 'D', 'N'],\n",
       " 3: ['B', 'F', 'M', 'D'],\n",
       " 4: ['T', 'J', 'G', 'W', 'V', 'Q', 'L'],\n",
       " 5: ['W', 'D', 'G', 'P', 'V', 'F', 'Q', 'M'],\n",
       " 6: ['V', 'Z', 'Q', 'G', 'H', 'F', 'S'],\n",
       " 7: ['Z', 'S', 'N', 'R', 'L', 'T', 'C', 'W'],\n",
       " 8: ['Z', 'H', 'W', 'D', 'J', 'N', 'R', 'M'],\n",
       " 9: ['M', 'Q', 'L', 'F', 'D', 'S']}"
      ]
     },
     "execution_count": 10,
     "metadata": {},
     "output_type": "execute_result"
    }
   ],
   "source": [
    "data_crates2 = consStackListsFromLines(lines_crates)\n",
    "data_crates2"
   ]
  },
  {
   "cell_type": "code",
   "execution_count": 11,
   "id": "185ddc46",
   "metadata": {},
   "outputs": [],
   "source": [
    "for arrange in lines_rearrangement: # 1: n, 3: from, 5: to\n",
    "    arr = str.split(arrange.strip())\n",
    "    rearrangeStacks2(int(arr[1]), int(arr[3]), int(arr[5]))"
   ]
  },
  {
   "cell_type": "code",
   "execution_count": 12,
   "id": "b3639722",
   "metadata": {},
   "outputs": [
    {
     "data": {
      "text/plain": [
       "'BRZGFVBTJ'"
      ]
     },
     "execution_count": 12,
     "metadata": {},
     "output_type": "execute_result"
    }
   ],
   "source": [
    "outTopCrates(data_crates2)"
   ]
  },
  {
   "cell_type": "code",
   "execution_count": null,
   "id": "17f668c4",
   "metadata": {},
   "outputs": [],
   "source": []
  }
 ],
 "metadata": {
  "kernelspec": {
   "display_name": "Python 3 (ipykernel)",
   "language": "python",
   "name": "python3"
  },
  "language_info": {
   "codemirror_mode": {
    "name": "ipython",
    "version": 3
   },
   "file_extension": ".py",
   "mimetype": "text/x-python",
   "name": "python",
   "nbconvert_exporter": "python",
   "pygments_lexer": "ipython3",
   "version": "3.7.11"
  }
 },
 "nbformat": 4,
 "nbformat_minor": 5
}
