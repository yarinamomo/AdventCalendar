{
 "cells": [
  {
   "cell_type": "markdown",
   "id": "22f06383",
   "metadata": {},
   "source": [
    "### Jul AdventKalender D11\n",
    "\n",
    "https://adventofcode.com/2022/day/11"
   ]
  },
  {
   "cell_type": "code",
   "execution_count": 1,
   "id": "c62cf960",
   "metadata": {},
   "outputs": [],
   "source": [
    "import numpy as np"
   ]
  },
  {
   "cell_type": "markdown",
   "id": "8e30a121",
   "metadata": {},
   "source": [
    "#### Day 11.1  \n",
    "\n",
    "There is a group of monkeys playing with your items! Monkeys operate based on how worried you are about each item (The full example is in /data/input11_test.txt):\n",
    "\n",
    "    Monkey 0:\n",
    "      Starting items: 79, 98\n",
    "      Operation: new = old * 19\n",
    "      Test: divisible by 23\n",
    "        If true: throw to monkey 2\n",
    "        If false: throw to monkey 3\n",
    "\n",
    "    Monkey 1:\n",
    "    ......\n",
    "\n",
    "1. Based on above monkey configuration, each monkey has several attributes:\n",
    "    * **Starting items** lists your worry level for each item the monkey is currently holding in the order they will be inspected.\n",
    "    * **Operation** shows how your worry level changes as that monkey inspects an item.\n",
    "    * **Test** shows how the monkey uses your worry level to decide where to throw an item next.\n",
    "        * If **true** shows what happens with an item if the Test was true.\n",
    "        * If **false** shows what happens with an item if the Test was false.\n",
    "\n",
    "2. Default worry level change:\n",
    "    * After inspection (**Operation**) and before **Test**, your worry level is **divided by 3** and **rounded down** to the nearest integer because you are relived the item is not damaged.\n",
    "\n",
    "For each round:\n",
    "\n",
    "* The monkey inspects and throws the Starting items one at a time by order. (1&2)\n",
    "* When a monkey throws an item to another monkey, the item goes on the **end** of the recipient monkey's Starting items list. \n",
    "* The turn of each monkey ends when their Starting items list is empty.\n",
    "* For each round: Monkey 0 goes first, then monkey 1, and so on until each monkey has had one turn.\n",
    "\n",
    "In the above example, the first round proceeds as follows (the full process can be found [Here](https://adventofcode.com/2022/day/11):\n",
    "\n",
    "    Monkey 0:\n",
    "      Monkey inspects an item with a worry level of 79.\n",
    "        Worry level is multiplied by 19 to 1501.\n",
    "        Monkey gets bored with item. Worry level is divided by 3 to 500.\n",
    "        Current worry level is not divisible by 23.\n",
    "        Item with worry level 500 is thrown to monkey 3.\n",
    "      Monkey inspects an item with a worry level of 98.\n",
    "        Worry level is multiplied by 19 to 1862.\n",
    "        Monkey gets bored with item. Worry level is divided by 3 to 620.\n",
    "        Current worry level is not divisible by 23.\n",
    "        Item with worry level 620 is thrown to monkey 3.\n",
    "    ......\n",
    "    \n",
    "Count the total number of times each monkey inspects items over **20** rounds, and choose **two** most active monkeys. The level of monkey business is **multiplying** the two together (10605). \n",
    "\n",
    "    Monkey 0 inspected items 101 times.*\n",
    "    Monkey 1 inspected items 95 times.\n",
    "    Monkey 2 inspected items 7 times.\n",
    "    Monkey 3 inspected items 105 times.*\n",
    "\n",
    "What is the level of monkey business after 20 rounds of stuff-slinging simian shenanigans, based on the full input data file?"
   ]
  },
  {
   "cell_type": "code",
   "execution_count": 2,
   "id": "ac49b4ac",
   "metadata": {
    "scrolled": true
   },
   "outputs": [
    {
     "data": {
      "text/plain": [
       "{'0': ['Starting items: 78, 53, 89, 51, 52, 59, 58, 85',\n",
       "  'Operation: new = old * 3',\n",
       "  'Test: divisible by 5',\n",
       "  'If true: throw to monkey 2',\n",
       "  'If false: throw to monkey 7'],\n",
       " '1': ['Starting items: 64',\n",
       "  'Operation: new = old + 7',\n",
       "  'Test: divisible by 2',\n",
       "  'If true: throw to monkey 3',\n",
       "  'If false: throw to monkey 6']}"
      ]
     },
     "execution_count": 2,
     "metadata": {},
     "output_type": "execute_result"
    }
   ],
   "source": [
    "def readMonkeyStrategies(file_name):\n",
    "    lines_monkeys = {}\n",
    "    f = open(file_name, \"r\")\n",
    "    current_key = 0\n",
    "    while True:\n",
    "        line = f.readline()\n",
    "        if not line:\n",
    "            break\n",
    "        if line.startswith('Monkey'):\n",
    "            current_key = line.split(' ')[1][0]\n",
    "            lines_monkeys[current_key]=[]\n",
    "        elif len(line.strip())>0:\n",
    "            lines_monkeys[current_key].append(line.strip())\n",
    "    f.close()\n",
    "    return lines_monkeys\n",
    "def parseMonkeyAttributes(strategy):\n",
    "    attr = {}\n",
    "    for line in strategy:\n",
    "        com = [i.strip() for i in line.split(':')]\n",
    "        if com[0] == 'Starting items':\n",
    "            attr['Starting items'] = list(map(int, com[1].split(',')))\n",
    "        elif com[0] == 'Operation':\n",
    "            attr['Operation'] = com[1].split(' ')[3:5]\n",
    "        elif com[0] == 'Test':\n",
    "            attr['Test'] = [int(com[1].split(' ')[2]), '', '']\n",
    "        elif com[0] == 'If true':\n",
    "            attr['Test'][1] = com[1].split(' ')[3]\n",
    "        elif com[0] == 'If false':\n",
    "            attr['Test'][2] = com[1].split(' ')[3]\n",
    "    return attr\n",
    "lines_monkeys = readMonkeyStrategies(\"data/input11.txt\")\n",
    "\n",
    "# to show what lines_monkeys is like\n",
    "{k: lines_monkeys[k] for k in sorted(lines_monkeys.keys())[:2]}"
   ]
  },
  {
   "cell_type": "code",
   "execution_count": 3,
   "id": "3ec65165",
   "metadata": {},
   "outputs": [],
   "source": [
    "import operator\n",
    "ops = { \"+\": operator.add, \"-\": operator.sub, \"*\": operator.mul , \"/\": operator.truediv }\n",
    "\n",
    "def _operation(op, value_str, old):\n",
    "    value = old if value_str == 'old' else int(value_str)\n",
    "    return ops[op](old, value)\n",
    "\n",
    "def excuteMonkeyRound(monkey_name):\n",
    "    global attrs_monkeys\n",
    "    items = attrs_monkeys[monkey_name]['Starting items']\n",
    "    if len(items) == 0:\n",
    "        return\n",
    "    ops = attrs_monkeys[monkey_name]['Operation']\n",
    "    test = attrs_monkeys[monkey_name]['Test']\n",
    "    if 'Inspect times' not in attrs_monkeys[monkey_name]:\n",
    "        attrs_monkeys[monkey_name]['Inspect times'] = 0\n",
    "    for old in items:\n",
    "        new = _operation(ops[0], ops[1], old)\n",
    "        new = new//3\n",
    "        monkey_next = test[1] if new%test[0] == 0 else test[2]\n",
    "        attrs_monkeys[monkey_next]['Starting items'].append(new)\n",
    "        attrs_monkeys[monkey_name]['Inspect times'] += 1\n",
    "    attrs_monkeys[monkey_name]['Starting items'].clear()\n",
    "#     for monkey_name in attrs_monkeys.keys():\n",
    "#         print('Monkey {0} start items {1}.'.format(monkey_name, attrs_monkeys[monkey_name]['Starting items']))\n",
    "\n",
    "def monkeyBusiness(top_num=2):\n",
    "    return np.prod(np.sort([attrs_monkeys[monkey_name]['Inspect times'] for monkey_name in attrs_monkeys])[::-1][:top_num])"
   ]
  },
  {
   "cell_type": "code",
   "execution_count": 4,
   "id": "fb9f0bb2",
   "metadata": {},
   "outputs": [
    {
     "data": {
      "text/plain": [
       "{'0': {'Starting items': [78, 53, 89, 51, 52, 59, 58, 85],\n",
       "  'Operation': ['*', '3'],\n",
       "  'Test': [5, '2', '7']},\n",
       " '1': {'Starting items': [64], 'Operation': ['+', '7'], 'Test': [2, '3', '6']}}"
      ]
     },
     "execution_count": 4,
     "metadata": {},
     "output_type": "execute_result"
    }
   ],
   "source": [
    "attrs_monkeys = {k: parseMonkeyAttributes(v) for k, v in lines_monkeys.items()}\n",
    "\n",
    "# to show what attrs_monkeys is like\n",
    "{k: attrs_monkeys[k] for k in sorted(attrs_monkeys.keys())[:2]}"
   ]
  },
  {
   "cell_type": "code",
   "execution_count": 5,
   "id": "05e4676b",
   "metadata": {},
   "outputs": [],
   "source": [
    "iters = 20\n",
    "for i in range(iters):\n",
    "    for monkey_name in attrs_monkeys.keys():\n",
    "        excuteMonkeyRound(monkey_name)"
   ]
  },
  {
   "cell_type": "code",
   "execution_count": 6,
   "id": "bd0e6a87",
   "metadata": {},
   "outputs": [
    {
     "name": "stdout",
     "output_type": "stream",
     "text": [
      "Monkey 0 start items 228.\n",
      "Monkey 1 start items 218.\n",
      "Monkey 2 start items 20.\n",
      "Monkey 3 start items 48.\n",
      "Monkey 4 start items 55.\n",
      "Monkey 5 start items 211.\n",
      "Monkey 6 start items 188.\n",
      "Monkey 7 start items 222.\n",
      "Money bussiness level: 50616\n"
     ]
    }
   ],
   "source": [
    "for monkey_name in attrs_monkeys.keys():\n",
    "    print('Monkey {0} start items {1}.'.format(monkey_name, attrs_monkeys[monkey_name]['Inspect times']))\n",
    "print('Money bussiness level:', monkeyBusiness())"
   ]
  },
  {
   "cell_type": "markdown",
   "id": "3ba1e959",
   "metadata": {},
   "source": [
    "#### Day 11.2\n",
    "\n",
    "Now your worry levels are **no longer** divided by 3 after each item is inspected. Figure out **another way** to avoid overflow.\n",
    "\n",
    "Starting again from the initial state in your puzzle input, what is the level of monkey business after **10000** rounds?"
   ]
  },
  {
   "cell_type": "code",
   "execution_count": 7,
   "id": "f0dbb20c",
   "metadata": {},
   "outputs": [
    {
     "data": {
      "text/plain": [
       "{'0': {'Starting items': [78, 53, 89, 51, 52, 59, 58, 85],\n",
       "  'Operation': ['*', '3'],\n",
       "  'Test': [5, '2', '7']},\n",
       " '1': {'Starting items': [64], 'Operation': ['+', '7'], 'Test': [2, '3', '6']}}"
      ]
     },
     "execution_count": 7,
     "metadata": {},
     "output_type": "execute_result"
    }
   ],
   "source": [
    "attrs_monkeys = {k: parseMonkeyAttributes(v) for k, v in lines_monkeys.items()}\n",
    "\n",
    "# to show what attrs_monkeys is like\n",
    "{k: attrs_monkeys[k] for k in sorted(attrs_monkeys.keys())[:2]}"
   ]
  },
  {
   "cell_type": "code",
   "execution_count": 8,
   "id": "85beeab5",
   "metadata": {},
   "outputs": [],
   "source": [
    "# collect all items in item_list (item index is item ID, value is initial worry value)\n",
    "# update the worry values of items in attrs_monkeys to item ids\n",
    "item_list = [] \n",
    "for monkey_name in attrs_monkeys.keys():\n",
    "    items = attrs_monkeys[monkey_name]['Starting items']\n",
    "    for i in range(len(items)):\n",
    "        item_list.append(items[i]) # init item worry value\n",
    "        attrs_monkeys[monkey_name]['Starting items'][i] = len(item_list)-1 # change starting items with item id\n",
    "\n",
    "# each monkey keeps a list of items (worry value is unique to their divisible condition)\n",
    "# worry value of each item will be updated with the final mod result \n",
    "# worry value = Operation(previous worry value) % divisible condition in Test\n",
    "# the updating value now remains small (not overflow) and robust to mod operation\n",
    "monkey_test_list = {} \n",
    "for monkey_name in attrs_monkeys.keys():\n",
    "    monkey_test_list[monkey_name]=item_list.copy()"
   ]
  },
  {
   "cell_type": "code",
   "execution_count": 9,
   "id": "1a812538",
   "metadata": {},
   "outputs": [
    {
     "data": {
      "text/plain": [
       "{'0': {'Starting items': [0, 1, 2, 3, 4, 5, 6, 7],\n",
       "  'Operation': ['*', '3'],\n",
       "  'Test': [5, '2', '7']},\n",
       " '1': {'Starting items': [8], 'Operation': ['+', '7'], 'Test': [2, '3', '6']}}"
      ]
     },
     "execution_count": 9,
     "metadata": {},
     "output_type": "execute_result"
    }
   ],
   "source": [
    "# to show what attrs_monkeys is like\n",
    "{k: attrs_monkeys[k] for k in sorted(attrs_monkeys.keys())[:2]}"
   ]
  },
  {
   "cell_type": "code",
   "execution_count": 10,
   "id": "9c4b91b2",
   "metadata": {},
   "outputs": [],
   "source": [
    "def _manageWorry(monkey_name, ops, item_id):\n",
    "    global attrs_monkeys, monkey_test_list\n",
    "    for monkey in monkey_test_list:\n",
    "        mod = attrs_monkeys[monkey]['Test'][0]\n",
    "        # do operations on all items\n",
    "        monkey_test_list[monkey][item_id] = _operation(ops[0], ops[1], monkey_test_list[monkey][item_id])\n",
    "        # update mod result (new worry value) for all monkeys\n",
    "        monkey_test_list[monkey][item_id] %= mod\n",
    "    return monkey_test_list[monkey_name][item_id]\n",
    "\n",
    "def excuteMonkeyRound2(monkey_name):\n",
    "    global attrs_monkeys\n",
    "    items = attrs_monkeys[monkey_name]['Starting items']\n",
    "    if len(items) == 0:\n",
    "        return\n",
    "    ops = attrs_monkeys[monkey_name]['Operation']\n",
    "    test = attrs_monkeys[monkey_name]['Test']\n",
    "    if 'Inspect times' not in attrs_monkeys[monkey_name]:\n",
    "        attrs_monkeys[monkey_name]['Inspect times'] = 0\n",
    "    for item_id in items:\n",
    "        test_res = _manageWorry(monkey_name, ops, item_id)\n",
    "        monkey_next = test[1] if test_res == 0 else test[2]\n",
    "        attrs_monkeys[monkey_next]['Starting items'].append(item_id)\n",
    "        attrs_monkeys[monkey_name]['Inspect times'] += 1\n",
    "    attrs_monkeys[monkey_name]['Starting items'].clear()\n",
    "#     for monkey_name in attrs_monkeys.keys():\n",
    "#         print('Monkey {0} start items {1}.'.format(monkey_name, attrs_monkeys[monkey_name]['Starting items']))"
   ]
  },
  {
   "cell_type": "code",
   "execution_count": 11,
   "id": "3d2a4ac9",
   "metadata": {
    "scrolled": false
   },
   "outputs": [
    {
     "name": "stdout",
     "output_type": "stream",
     "text": [
      "== After round 1 ==\n",
      "Monkey 0 inspect 8 times.\n",
      "Monkey 1 inspect 1 times.\n",
      "Monkey 2 inspect 5 times.\n",
      "Monkey 3 inspect 6 times.\n",
      "Monkey 4 inspect 7 times.\n",
      "Monkey 5 inspect 8 times.\n",
      "Monkey 6 inspect 6 times.\n",
      "Monkey 7 inspect 11 times.\n",
      "== After round 20 ==\n",
      "Monkey 0 inspect 197 times.\n",
      "Monkey 1 inspect 195 times.\n",
      "Monkey 2 inspect 75 times.\n",
      "Monkey 3 inspect 35 times.\n",
      "Monkey 4 inspect 192 times.\n",
      "Monkey 5 inspect 158 times.\n",
      "Monkey 6 inspect 196 times.\n",
      "Monkey 7 inspect 169 times.\n",
      "== After round 1000 ==\n",
      "Monkey 0 inspect 10617 times.\n",
      "Monkey 1 inspect 9774 times.\n",
      "Monkey 2 inspect 4848 times.\n",
      "Monkey 3 inspect 1673 times.\n",
      "Monkey 4 inspect 10613 times.\n",
      "Monkey 5 inspect 6602 times.\n",
      "Monkey 6 inspect 9776 times.\n",
      "Monkey 7 inspect 8165 times.\n",
      "== After round 4000 ==\n",
      "Monkey 0 inspect 42528 times.\n",
      "Monkey 1 inspect 39237 times.\n",
      "Monkey 2 inspect 19581 times.\n",
      "Monkey 3 inspect 6574 times.\n",
      "Monkey 4 inspect 42523 times.\n",
      "Monkey 5 inspect 26236 times.\n",
      "Monkey 6 inspect 39239 times.\n",
      "Monkey 7 inspect 32711 times.\n",
      "== After round 8000 ==\n",
      "Monkey 0 inspect 85075 times.\n",
      "Monkey 1 inspect 78507 times.\n",
      "Monkey 2 inspect 39216 times.\n",
      "Monkey 3 inspect 13124 times.\n",
      "Monkey 4 inspect 85068 times.\n",
      "Monkey 5 inspect 52417 times.\n",
      "Monkey 6 inspect 78509 times.\n",
      "Monkey 7 inspect 65437 times.\n"
     ]
    }
   ],
   "source": [
    "iters = 10000\n",
    "for i in range(iters):\n",
    "    for monkey_name in attrs_monkeys.keys():\n",
    "        excuteMonkeyRound2(monkey_name)\n",
    "    if i in np.array([1, 20, 1000, 4000, 8000])-1:\n",
    "        print('== After round {0} =='.format(i+1))\n",
    "        for monkey_name in attrs_monkeys.keys():\n",
    "            print('Monkey {0} inspect {1} times.'.format(monkey_name, attrs_monkeys[monkey_name]['Inspect times']))"
   ]
  },
  {
   "cell_type": "code",
   "execution_count": 12,
   "id": "d57feb67",
   "metadata": {},
   "outputs": [
    {
     "name": "stdout",
     "output_type": "stream",
     "text": [
      "Monkey 0 start items 106346.\n",
      "Monkey 1 start items 98133.\n",
      "Monkey 2 start items 49031.\n",
      "Monkey 3 start items 16402.\n",
      "Monkey 4 start items 106342.\n",
      "Monkey 5 start items 65512.\n",
      "Monkey 6 start items 98135.\n",
      "Monkey 7 start items 81799.\n",
      "Money bussiness level: 11309046332\n"
     ]
    }
   ],
   "source": [
    "for monkey_name in attrs_monkeys.keys():\n",
    "    print('Monkey {0} start items {1}.'.format(monkey_name, attrs_monkeys[monkey_name]['Inspect times']))\n",
    "print('Money bussiness level:', monkeyBusiness())"
   ]
  },
  {
   "cell_type": "code",
   "execution_count": null,
   "id": "84738975",
   "metadata": {},
   "outputs": [],
   "source": []
  }
 ],
 "metadata": {
  "kernelspec": {
   "display_name": "Python 3 (ipykernel)",
   "language": "python",
   "name": "python3"
  },
  "language_info": {
   "codemirror_mode": {
    "name": "ipython",
    "version": 3
   },
   "file_extension": ".py",
   "mimetype": "text/x-python",
   "name": "python",
   "nbconvert_exporter": "python",
   "pygments_lexer": "ipython3",
   "version": "3.7.11"
  }
 },
 "nbformat": 4,
 "nbformat_minor": 5
}
