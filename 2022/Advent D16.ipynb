{
 "cells": [
  {
   "cell_type": "markdown",
   "id": "22f06383",
   "metadata": {},
   "source": [
    "### Jul AdventKalender D16\n",
    "\n",
    "https://adventofcode.com/2022/day/16"
   ]
  },
  {
   "cell_type": "code",
   "execution_count": 1,
   "id": "9f43b9e6",
   "metadata": {},
   "outputs": [],
   "source": [
    "import numpy as np\n",
    "import re"
   ]
  },
  {
   "cell_type": "markdown",
   "id": "8e30a121",
   "metadata": {},
   "source": [
    "#### Day 16.1 \n",
    "\n",
    "Given a scan output of a network of pipes and pressure-release valves. It contains each valve's flow rate if it were opened (in pressure per minute) and the tunnels you could use to move between the valves. \n",
    "\n",
    "    Valve AA has flow rate=0; tunnels lead to valves DD, II, BB\n",
    "    Valve BB has flow rate=13; tunnels lead to valves CC, AA\n",
    "    Valve CC has flow rate=2; tunnels lead to valves DD, BB\n",
    "    ......\n",
    "\n",
    "Start with Valve AA, it will take **one minute to open** a single valve and **one minute to travel** from one valve to another. With a total of **30 minutes**, what is the most pressure you could release?"
   ]
  },
  {
   "cell_type": "code",
   "execution_count": 2,
   "id": "ac49b4ac",
   "metadata": {
    "scrolled": true
   },
   "outputs": [],
   "source": [
    "def readOutput(file_name):\n",
    "    data_valves = {}\n",
    "    f = open(file_name, \"r\")\n",
    "    while True:\n",
    "        line = f.readline()\n",
    "        if not line:\n",
    "            break\n",
    "        valve = re.findall(r\"^Valve (\\w+).*rate=(\\d+).*(?:valves|valve) (.*)\", line.strip())[0]\n",
    "        data_valves[valve[0]] = {'rate':int(valve[1]), 'tunnels':valve[2].split(', ')}\n",
    "    f.close()\n",
    "    return data_valves"
   ]
  },
  {
   "cell_type": "code",
   "execution_count": 3,
   "id": "d2631a13",
   "metadata": {
    "scrolled": true
   },
   "outputs": [],
   "source": [
    "# build paths from every valve to ather and save the cost(steps/minutes)\n",
    "def buildPaths(data_valves):\n",
    "    paths = {}\n",
    "    for val_start in data_valves.keys():\n",
    "        queue = [val_start]\n",
    "        distances = {val_start:0}\n",
    "        visited = set(val_start)\n",
    "        while len(queue)>0:\n",
    "            val_cur = queue.pop(0)\n",
    "            dis = distances[val_cur]\n",
    "            for tunnel in data_valves[val_cur]['tunnels']:\n",
    "                if tunnel not in visited:\n",
    "                    visited.add(tunnel)\n",
    "                    distances[tunnel] = dis + 1\n",
    "                    queue.append(tunnel)\n",
    "        paths[val_start] = distances\n",
    "    return paths"
   ]
  },
  {
   "cell_type": "code",
   "execution_count": 4,
   "id": "5f7ad271",
   "metadata": {},
   "outputs": [],
   "source": [
    "# filter the valves and keep only valves with positive rates\n",
    "def filterPosRates(data_valves):\n",
    "    return [key for key,valve in data_valves.items() if valve['rate'] > 0]"
   ]
  },
  {
   "cell_type": "code",
   "execution_count": 5,
   "id": "a22a991a",
   "metadata": {},
   "outputs": [],
   "source": [
    "# each valve with positive rate can have 2 states: open or close\n",
    "# there will then be in total 2^len(valves_pos) states (will be constructed in bit/binary representation)\n",
    "# for every minute and every current valve(positive rate), it corresponds to one combination of states\n",
    "# represented by a matrix(list) of 30 x len(valves_pos) (index of valves_pos) x 2^len(valves_pos): pressure\n",
    "def _genStates(len_pos, minutes, init_value):\n",
    "    res = []\n",
    "    for _ in range(minutes):\n",
    "        loc_states = []\n",
    "        for _ in range(len_pos):\n",
    "            loc_states.append([init_value] * (1<<len_pos))\n",
    "        res.append(loc_states)\n",
    "    return res\n",
    "\n",
    "def initialStates(valves_pos, minutes, valve_paths):\n",
    "    init_states = _genStates(len(valves_pos), minutes, init_value=float(-np.inf))\n",
    "    val_start = valve_paths\n",
    "    # distances between valves can be mapped to minutes axis, because 1 step = 1 minute\n",
    "    for i in range(len(valves_pos)):\n",
    "        # distance/minute cost between start to every positive valve\n",
    "        dist = valve_paths['AA'][valves_pos[i]]\n",
    "        minutes_cost = dist + 1 # minutes cost/steps/distance from start AA\n",
    "        init_states[minutes_cost][i][1<<i]=0 # set 0 to states when ONE positive valve is ON\n",
    "    return init_states"
   ]
  },
  {
   "cell_type": "code",
   "execution_count": 12,
   "id": "27593bb9",
   "metadata": {},
   "outputs": [],
   "source": [
    "# get pressure of input state, by index in the state list - (0,2^len(valves_pos))\n",
    "def _getPressure(state_id, valves_pos, data_valves):\n",
    "    res=0\n",
    "    for i in range(len(valves_pos)):\n",
    "        if 1<<i & state_id != 0:\n",
    "            res+= data_valves[valves_pos[i]]['rate']\n",
    "    return res\n",
    "\n",
    "def buildStatesTable(min_total, states_table, valves_pos, data_valves, valve_paths):\n",
    "    for m in range(1,min_total+1): # each minute\n",
    "        for i in range(len(valves_pos)): #  each current valve\n",
    "            for j in range(1<<len(valves_pos)): # each possible state\n",
    "                # if last or current minute is not -inf\n",
    "                if states_table[m-1][i][j] == float(-np.inf) and states_table[m][i][j] == float(-np.inf):\n",
    "                    continue\n",
    "                pres = _getPressure(j, valves_pos, data_valves) # get pressure for each state and set to a proper (min,place)\n",
    "                if states_table[m-1][i][j] != float(-np.inf): # if last minute is not -inf\n",
    "                    state_cur = states_table[m-1][i][j] + pres\n",
    "                    if state_cur > states_table[m][i][j]:\n",
    "                        states_table[m][i][j] = state_cur\n",
    "                if 1<<i & j == 0: # current valve i is not ON in the current state j\n",
    "                    continue\n",
    "                 # current valve i is ON in the current state j\n",
    "                if states_table[m][i][j] == float(-np.inf):\n",
    "                    continue\n",
    "                for p in range(len(valves_pos)): # states ps when EACH ONE of the positive valves is ON \n",
    "                    if 1<<p & j !=0: # state p is already included in the current state\n",
    "                        continue\n",
    "                    dist = valve_paths[valves_pos[i]][valves_pos[p]] # dist to all positive valves from valves_pos[i]\n",
    "                    minutes_cost = dist + 1 \n",
    "                    if m + minutes_cost >= min_total+1: # out of range\n",
    "                        continue\n",
    "                    state_cur = states_table[m][i][j] + pres*minutes_cost #generate every minute\n",
    "                    if state_cur > states_table[m+minutes_cost][p][j|(1<<p)]:\n",
    "                        states_table[m+minutes_cost][p][j|(1<<p)] = state_cur # set to next minute"
   ]
  },
  {
   "cell_type": "code",
   "execution_count": 13,
   "id": "1f575af9",
   "metadata": {},
   "outputs": [
    {
     "data": {
      "text/plain": [
       "2320"
      ]
     },
     "execution_count": 13,
     "metadata": {},
     "output_type": "execute_result"
    }
   ],
   "source": [
    "min_total = 30\n",
    "# read data\n",
    "data_valves = readOutput(\"data/input16.txt\")\n",
    "# build path using A*, only save destinations and distances\n",
    "valve_paths = buildPaths(data_valves)\n",
    "# all valves with positive rate\n",
    "valves_pos = filterPosRates(data_valves)\n",
    "# initialize state table\n",
    "states_table = initialStates(valves_pos, min_total+1, valve_paths)\n",
    "# construct state table\n",
    "buildStatesTable(min_total, states_table, valves_pos, data_valves, valve_paths)\n",
    "# state table                  \n",
    "max([max(valve) for valve in states_table[30]])"
   ]
  },
  {
   "cell_type": "markdown",
   "id": "3ba1e959",
   "metadata": {},
   "source": [
    "#### Day 16.2\n",
    "\n",
    "With you and an elephant who you taught using 4 minutes working together for **26** minutes, what is the most pressure you could release?"
   ]
  },
  {
   "cell_type": "code",
   "execution_count": 18,
   "id": "4dfbff89",
   "metadata": {},
   "outputs": [
    {
     "data": {
      "text/plain": [
       "2967"
      ]
     },
     "execution_count": 18,
     "metadata": {},
     "output_type": "execute_result"
    }
   ],
   "source": [
    "pressure_two = 0\n",
    "# can directly calculate from the resulting states_table\n",
    "for i in range(1<<len(valves_pos)): # each state\n",
    "    for j in range(1<<len(valves_pos)): # each state\n",
    "        # if ON valves in state j are not all ON in state i \n",
    "        # (when cooperating, one's state has to be a subset of another)\n",
    "        if i & j != j: \n",
    "            continue\n",
    "        person1 = float(-np.inf)\n",
    "        person2 = float(-np.inf)\n",
    "        # check each positive valve, choose the max combination\n",
    "        for p in range(len(valves_pos)):\n",
    "            person1 = max(person1, states_table[26][p][j]) # state j\n",
    "            person2 = max(person2, states_table[26][p][i&~j]) # state i but exclude state j\n",
    "        # save the larger result\n",
    "        pressure_two = max(pressure_two, person1+person2)\n",
    "pressure_two"
   ]
  },
  {
   "cell_type": "code",
   "execution_count": null,
   "id": "68336d43",
   "metadata": {},
   "outputs": [],
   "source": []
  }
 ],
 "metadata": {
  "kernelspec": {
   "display_name": "Python 3 (ipykernel)",
   "language": "python",
   "name": "python3"
  },
  "language_info": {
   "codemirror_mode": {
    "name": "ipython",
    "version": 3
   },
   "file_extension": ".py",
   "mimetype": "text/x-python",
   "name": "python",
   "nbconvert_exporter": "python",
   "pygments_lexer": "ipython3",
   "version": "3.7.11"
  }
 },
 "nbformat": 4,
 "nbformat_minor": 5
}
